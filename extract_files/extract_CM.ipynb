{
 "cells": [
  {
   "cell_type": "code",
   "execution_count": 6,
   "metadata": {},
   "outputs": [],
   "source": [
    "import requests as rq\n",
    "import os\n",
    "import zipfile\n",
    "import io\n",
    "import pandas as pd"
   ]
  },
  {
   "cell_type": "markdown",
   "metadata": {},
   "source": [
    "CM Vehículos 2023"
   ]
  },
  {
   "cell_type": "code",
   "execution_count": 7,
   "metadata": {},
   "outputs": [],
   "source": [
    "destination_path = os.path.join('..', 'raw_data', 'ConvenioMarco', 'vehiculos_2023')\n",
    "url = \"https://transparenciachc.blob.core.windows.net/maestrascm/MaestraProd_cm_2239-8-lr23.zip\"\n",
    "r = rq.get(url)\n",
    "z = zipfile.ZipFile(io.BytesIO(r.content))\n",
    "z.extractall(destination_path)"
   ]
  },
  {
   "cell_type": "markdown",
   "metadata": {},
   "source": [
    "Transacciones Mercado Público"
   ]
  },
  {
   "cell_type": "code",
   "execution_count": 8,
   "metadata": {},
   "outputs": [],
   "source": [
    "years = range(2021, 2024 + 1)\n",
    "months = range(1, 12 + 1)"
   ]
  },
  {
   "cell_type": "code",
   "execution_count": 9,
   "metadata": {},
   "outputs": [],
   "source": [
    "column_replace = {'Nro Licitaci?n P?blica' : 'Nro Licitación Pública', 'Fecha Env?o OC': 'Fecha Envío OC',\\\n",
    "                   'Especificaci?n del Comprador' : 'Especificación del Comprador', 'TotaL?nea(Neto)' : 'TotaLínea(Neto)', \\\n",
    "                    'Raz?n Social Comprador': 'Razón Social Comprador', 'Direcci?n Unidad Compra' : 'Dirección Unidad Compra', \\\n",
    "                    'Regi?n Unidad de Compra' : 'Región Unidad de Compra', 'Instituci?n' : 'Institución', 'Regi?n del Proveedor' : 'Región del Proveedor', \\\n",
    "                 'Nro Licitacion Publica' : 'Nro Licitación Pública', 'Fecha Envio OC': 'Fecha Envío OC',\\\n",
    "                   'Especificacion del Comprador' : 'Especificación del Comprador', 'TotaLinea(Neto)' : 'TotaLínea(Neto)', \\\n",
    "                    'Razon Social Comprador': 'Razón Social Comprador', 'Direccion Unidad Compra' : 'Dirección Unidad Compra', \\\n",
    "                    'Region Unidad de Compra' : 'Región Unidad de Compra', 'Institucion' : 'Institución', 'Region del Proveedor' : 'Región del Proveedor'}       "
   ]
  },
  {
   "cell_type": "code",
   "execution_count": null,
   "metadata": {},
   "outputs": [],
   "source": [
    "base_path = os.path.join('..', 'raw_data', 'ConvenioMarco', 'transacciones')\n",
    "for year in years:\n",
    "    for month in months:\n",
    "        destination_path = os.path.join(base_path, str(year))\n",
    "        url = f\"https://transparenciachc.blob.core.windows.net/planillas-cm/{year}-{month}.zip\"\n",
    "        r = rq.get(url)\n",
    "        z = zipfile.ZipFile(io.BytesIO(r.content))\n",
    "        z.extractall(destination_path)\n",
    "        try:\n",
    "            path = os.path.join('..', 'raw_data', 'ConvenioMarco', 'transacciones', str(year), f'{year}-{month}.csv')\n",
    "            df = pd.read_csv(path, sep=';', encoding='latin-1')\n",
    "            df.rename(columns=column_replace, inplace=True)\n",
    "            df.to_csv(path)\n",
    "        except:\n",
    "            continue"
   ]
  }
 ],
 "metadata": {
  "kernelspec": {
   "display_name": "Python 3",
   "language": "python",
   "name": "python3"
  },
  "language_info": {
   "codemirror_mode": {
    "name": "ipython",
    "version": 3
   },
   "file_extension": ".py",
   "mimetype": "text/x-python",
   "name": "python",
   "nbconvert_exporter": "python",
   "pygments_lexer": "ipython3",
   "version": "3.11.8"
  }
 },
 "nbformat": 4,
 "nbformat_minor": 2
}
