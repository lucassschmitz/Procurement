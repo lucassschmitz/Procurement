{
 "cells": [
  {
   "cell_type": "markdown",
   "metadata": {},
   "source": [
    "This file downloads all the 'Ordenes de Compras' from years 2021 to 2024 corresponding to FAs. "
   ]
  },
  {
   "cell_type": "code",
   "execution_count": 1,
   "metadata": {},
   "outputs": [],
   "source": [
    "import requests as rq\n",
    "import os\n",
    "import zipfile\n",
    "import io\n",
    "import pandas as pd"
   ]
  },
  {
   "cell_type": "markdown",
   "metadata": {},
   "source": [
    "CM Vehículos 2023"
   ]
  },
  {
   "cell_type": "code",
   "execution_count": 2,
   "metadata": {},
   "outputs": [],
   "source": [
    "destination_path = os.path.join('..', 'raw_data', 'ConvenioMarco', 'vehiculos_2023')\n",
    "url = \"https://transparenciachc.blob.core.windows.net/maestrascm/MaestraProd_cm_2239-8-lr23.zip\"\n",
    "r = rq.get(url)\n",
    "z = zipfile.ZipFile(io.BytesIO(r.content))\n",
    "z.extractall(destination_path)"
   ]
  },
  {
   "cell_type": "markdown",
   "metadata": {},
   "source": [
    "Transacciones Mercado Público"
   ]
  },
  {
   "cell_type": "code",
   "execution_count": 3,
   "metadata": {},
   "outputs": [],
   "source": [
    "years = range(2021, 2024 + 1)\n",
    "months = range(1, 12 + 1)"
   ]
  },
  {
   "cell_type": "code",
   "execution_count": 4,
   "metadata": {},
   "outputs": [],
   "source": [
    "column_replace = {'Nro Licitaci?n P?blica' : 'Nro Licitación Pública', 'Fecha Env?o OC': 'Fecha Envío OC',\\\n",
    "                   'Especificaci?n del Comprador' : 'Especificación del Comprador', 'TotaL?nea(Neto)' : 'TotaLínea(Neto)', \\\n",
    "                    'Raz?n Social Comprador': 'Razón Social Comprador', 'Direcci?n Unidad Compra' : 'Dirección Unidad Compra', \\\n",
    "                    'Regi?n Unidad de Compra' : 'Región Unidad de Compra', 'Instituci?n' : 'Institución', 'Regi?n del Proveedor' : 'Región del Proveedor', \\\n",
    "                 'Nro Licitacion Publica' : 'Nro Licitación Pública', 'Fecha Envio OC': 'Fecha Envío OC',\\\n",
    "                   'Especificacion del Comprador' : 'Especificación del Comprador', 'TotaLinea(Neto)' : 'TotaLínea(Neto)', \\\n",
    "                    'Razon Social Comprador': 'Razón Social Comprador', 'Direccion Unidad Compra' : 'Dirección Unidad Compra', \\\n",
    "                    'Region Unidad de Compra' : 'Región Unidad de Compra', 'Institucion' : 'Institución', 'Region del Proveedor' : 'Región del Proveedor'}       "
   ]
  },
  {
   "cell_type": "markdown",
   "metadata": {},
   "source": [
    "The following code returns an error, but it is not a problem. Because there is no file for 2024-9 hence when the ulr receives month = 9, year = 2024 it does not find the corresponding file. But at that point all the relevant files have already been downloaded"
   ]
  },
  {
   "cell_type": "code",
   "execution_count": 5,
   "metadata": {},
   "outputs": [
    {
     "name": "stderr",
     "output_type": "stream",
     "text": [
      "C:\\Users\\lucas\\AppData\\Local\\Temp\\ipykernel_40404\\4110405.py:11: DtypeWarning: Columns (17) have mixed types. Specify dtype option on import or set low_memory=False.\n",
      "  df = pd.read_csv(path, sep=';', encoding='latin-1')\n",
      "C:\\Users\\lucas\\AppData\\Local\\Temp\\ipykernel_40404\\4110405.py:11: DtypeWarning: Columns (17) have mixed types. Specify dtype option on import or set low_memory=False.\n",
      "  df = pd.read_csv(path, sep=';', encoding='latin-1')\n",
      "C:\\Users\\lucas\\AppData\\Local\\Temp\\ipykernel_40404\\4110405.py:11: DtypeWarning: Columns (22) have mixed types. Specify dtype option on import or set low_memory=False.\n",
      "  df = pd.read_csv(path, sep=';', encoding='latin-1')\n",
      "C:\\Users\\lucas\\AppData\\Local\\Temp\\ipykernel_40404\\4110405.py:11: DtypeWarning: Columns (22) have mixed types. Specify dtype option on import or set low_memory=False.\n",
      "  df = pd.read_csv(path, sep=';', encoding='latin-1')\n",
      "C:\\Users\\lucas\\AppData\\Local\\Temp\\ipykernel_40404\\4110405.py:11: DtypeWarning: Columns (22) have mixed types. Specify dtype option on import or set low_memory=False.\n",
      "  df = pd.read_csv(path, sep=';', encoding='latin-1')\n",
      "C:\\Users\\lucas\\AppData\\Local\\Temp\\ipykernel_40404\\4110405.py:11: DtypeWarning: Columns (17) have mixed types. Specify dtype option on import or set low_memory=False.\n",
      "  df = pd.read_csv(path, sep=';', encoding='latin-1')\n",
      "C:\\Users\\lucas\\AppData\\Local\\Temp\\ipykernel_40404\\4110405.py:11: DtypeWarning: Columns (17) have mixed types. Specify dtype option on import or set low_memory=False.\n",
      "  df = pd.read_csv(path, sep=';', encoding='latin-1')\n",
      "C:\\Users\\lucas\\AppData\\Local\\Temp\\ipykernel_40404\\4110405.py:11: DtypeWarning: Columns (17) have mixed types. Specify dtype option on import or set low_memory=False.\n",
      "  df = pd.read_csv(path, sep=';', encoding='latin-1')\n",
      "C:\\Users\\lucas\\AppData\\Local\\Temp\\ipykernel_40404\\4110405.py:11: DtypeWarning: Columns (17) have mixed types. Specify dtype option on import or set low_memory=False.\n",
      "  df = pd.read_csv(path, sep=';', encoding='latin-1')\n",
      "C:\\Users\\lucas\\AppData\\Local\\Temp\\ipykernel_40404\\4110405.py:11: DtypeWarning: Columns (17,22) have mixed types. Specify dtype option on import or set low_memory=False.\n",
      "  df = pd.read_csv(path, sep=';', encoding='latin-1')\n",
      "C:\\Users\\lucas\\AppData\\Local\\Temp\\ipykernel_40404\\4110405.py:11: DtypeWarning: Columns (17) have mixed types. Specify dtype option on import or set low_memory=False.\n",
      "  df = pd.read_csv(path, sep=';', encoding='latin-1')\n",
      "C:\\Users\\lucas\\AppData\\Local\\Temp\\ipykernel_40404\\4110405.py:11: DtypeWarning: Columns (17,22) have mixed types. Specify dtype option on import or set low_memory=False.\n",
      "  df = pd.read_csv(path, sep=';', encoding='latin-1')\n",
      "C:\\Users\\lucas\\AppData\\Local\\Temp\\ipykernel_40404\\4110405.py:11: DtypeWarning: Columns (17,22) have mixed types. Specify dtype option on import or set low_memory=False.\n",
      "  df = pd.read_csv(path, sep=';', encoding='latin-1')\n"
     ]
    },
    {
     "ename": "BadZipFile",
     "evalue": "File is not a zip file",
     "output_type": "error",
     "traceback": [
      "\u001b[1;31m---------------------------------------------------------------------------\u001b[0m",
      "\u001b[1;31mBadZipFile\u001b[0m                                Traceback (most recent call last)",
      "Cell \u001b[1;32mIn[5], line 7\u001b[0m\n\u001b[0;32m      5\u001b[0m url \u001b[38;5;241m=\u001b[39m \u001b[38;5;124mf\u001b[39m\u001b[38;5;124m\"\u001b[39m\u001b[38;5;124mhttps://transparenciachc.blob.core.windows.net/planillas-cm/\u001b[39m\u001b[38;5;132;01m{\u001b[39;00myear\u001b[38;5;132;01m}\u001b[39;00m\u001b[38;5;124m-\u001b[39m\u001b[38;5;132;01m{\u001b[39;00mmonth\u001b[38;5;132;01m}\u001b[39;00m\u001b[38;5;124m.zip\u001b[39m\u001b[38;5;124m\"\u001b[39m\n\u001b[0;32m      6\u001b[0m r \u001b[38;5;241m=\u001b[39m rq\u001b[38;5;241m.\u001b[39mget(url)\n\u001b[1;32m----> 7\u001b[0m z \u001b[38;5;241m=\u001b[39m \u001b[43mzipfile\u001b[49m\u001b[38;5;241;43m.\u001b[39;49m\u001b[43mZipFile\u001b[49m\u001b[43m(\u001b[49m\u001b[43mio\u001b[49m\u001b[38;5;241;43m.\u001b[39;49m\u001b[43mBytesIO\u001b[49m\u001b[43m(\u001b[49m\u001b[43mr\u001b[49m\u001b[38;5;241;43m.\u001b[39;49m\u001b[43mcontent\u001b[49m\u001b[43m)\u001b[49m\u001b[43m)\u001b[49m\n\u001b[0;32m      8\u001b[0m z\u001b[38;5;241m.\u001b[39mextractall(destination_path)\n\u001b[0;32m      9\u001b[0m \u001b[38;5;28;01mtry\u001b[39;00m:\n",
      "File \u001b[1;32mC:\\Program Files\\WindowsApps\\PythonSoftwareFoundation.Python.3.11_3.11.2544.0_x64__qbz5n2kfra8p0\\Lib\\zipfile.py:1312\u001b[0m, in \u001b[0;36mZipFile.__init__\u001b[1;34m(self, file, mode, compression, allowZip64, compresslevel, strict_timestamps, metadata_encoding)\u001b[0m\n\u001b[0;32m   1310\u001b[0m \u001b[38;5;28;01mtry\u001b[39;00m:\n\u001b[0;32m   1311\u001b[0m     \u001b[38;5;28;01mif\u001b[39;00m mode \u001b[38;5;241m==\u001b[39m \u001b[38;5;124m'\u001b[39m\u001b[38;5;124mr\u001b[39m\u001b[38;5;124m'\u001b[39m:\n\u001b[1;32m-> 1312\u001b[0m         \u001b[38;5;28;43mself\u001b[39;49m\u001b[38;5;241;43m.\u001b[39;49m\u001b[43m_RealGetContents\u001b[49m\u001b[43m(\u001b[49m\u001b[43m)\u001b[49m\n\u001b[0;32m   1313\u001b[0m     \u001b[38;5;28;01melif\u001b[39;00m mode \u001b[38;5;129;01min\u001b[39;00m (\u001b[38;5;124m'\u001b[39m\u001b[38;5;124mw\u001b[39m\u001b[38;5;124m'\u001b[39m, \u001b[38;5;124m'\u001b[39m\u001b[38;5;124mx\u001b[39m\u001b[38;5;124m'\u001b[39m):\n\u001b[0;32m   1314\u001b[0m         \u001b[38;5;66;03m# set the modified flag so central directory gets written\u001b[39;00m\n\u001b[0;32m   1315\u001b[0m         \u001b[38;5;66;03m# even if no files are added to the archive\u001b[39;00m\n\u001b[0;32m   1316\u001b[0m         \u001b[38;5;28mself\u001b[39m\u001b[38;5;241m.\u001b[39m_didModify \u001b[38;5;241m=\u001b[39m \u001b[38;5;28;01mTrue\u001b[39;00m\n",
      "File \u001b[1;32mC:\\Program Files\\WindowsApps\\PythonSoftwareFoundation.Python.3.11_3.11.2544.0_x64__qbz5n2kfra8p0\\Lib\\zipfile.py:1379\u001b[0m, in \u001b[0;36mZipFile._RealGetContents\u001b[1;34m(self)\u001b[0m\n\u001b[0;32m   1377\u001b[0m     \u001b[38;5;28;01mraise\u001b[39;00m BadZipFile(\u001b[38;5;124m\"\u001b[39m\u001b[38;5;124mFile is not a zip file\u001b[39m\u001b[38;5;124m\"\u001b[39m)\n\u001b[0;32m   1378\u001b[0m \u001b[38;5;28;01mif\u001b[39;00m \u001b[38;5;129;01mnot\u001b[39;00m endrec:\n\u001b[1;32m-> 1379\u001b[0m     \u001b[38;5;28;01mraise\u001b[39;00m BadZipFile(\u001b[38;5;124m\"\u001b[39m\u001b[38;5;124mFile is not a zip file\u001b[39m\u001b[38;5;124m\"\u001b[39m)\n\u001b[0;32m   1380\u001b[0m \u001b[38;5;28;01mif\u001b[39;00m \u001b[38;5;28mself\u001b[39m\u001b[38;5;241m.\u001b[39mdebug \u001b[38;5;241m>\u001b[39m \u001b[38;5;241m1\u001b[39m:\n\u001b[0;32m   1381\u001b[0m     \u001b[38;5;28mprint\u001b[39m(endrec)\n",
      "\u001b[1;31mBadZipFile\u001b[0m: File is not a zip file"
     ]
    }
   ],
   "source": [
    "base_path = os.path.join('..', 'raw_data', 'ConvenioMarco', 'transacciones')\n",
    "for year in years:\n",
    "    for month in months:\n",
    "        destination_path = os.path.join(base_path, str(year))\n",
    "        url = f\"https://transparenciachc.blob.core.windows.net/planillas-cm/{year}-{month}.zip\"\n",
    "        r = rq.get(url)\n",
    "        z = zipfile.ZipFile(io.BytesIO(r.content))\n",
    "        z.extractall(destination_path)\n",
    "        try:\n",
    "            path = os.path.join('..', 'raw_data', 'ConvenioMarco', 'transacciones', str(year), f'{year}-{month}.csv')\n",
    "            df = pd.read_csv(path, sep=';', encoding='latin-1')\n",
    "            df.rename(columns=column_replace, inplace=True)\n",
    "            df.to_csv(path)\n",
    "        except:\n",
    "            continue"
   ]
  }
 ],
 "metadata": {
  "kernelspec": {
   "display_name": "Python 3",
   "language": "python",
   "name": "python3"
  },
  "language_info": {
   "codemirror_mode": {
    "name": "ipython",
    "version": 3
   },
   "file_extension": ".py",
   "mimetype": "text/x-python",
   "name": "python",
   "nbconvert_exporter": "python",
   "pygments_lexer": "ipython3",
   "version": "3.11.9"
  }
 },
 "nbformat": 4,
 "nbformat_minor": 2
}
