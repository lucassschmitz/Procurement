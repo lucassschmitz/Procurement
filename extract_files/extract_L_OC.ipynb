{
 "cells": [
  {
   "cell_type": "markdown",
   "metadata": {},
   "source": [
    "Extract data from "
   ]
  },
  {
   "cell_type": "code",
   "execution_count": 3,
   "metadata": {},
   "outputs": [],
   "source": [
    "import os\n",
    "import requests as rq\n",
    "import zipfile\n",
    "import io"
   ]
  },
  {
   "cell_type": "code",
   "execution_count": 1,
   "metadata": {},
   "outputs": [],
   "source": [
    "years = [2022, 2023]\n",
    "months = range(1, 13)"
   ]
  },
  {
   "cell_type": "code",
   "execution_count": 24,
   "metadata": {},
   "outputs": [],
   "source": [
    "#Licitaciones\n",
    "base_path_L = os.path.join('..','raw_data','Licitaciones')\n",
    "for year in years:\n",
    "    for month in months:\n",
    "        destination_path = os.path.join(base_path_L, str(year))\n",
    "        r = rq.get(f'https://transparenciachc.blob.core.windows.net/lic-da/{year}-{month}.zip')\n",
    "        z = zipfile.ZipFile(io.BytesIO(r.content))\n",
    "        z.extractall(destination_path)"
   ]
  },
  {
   "cell_type": "code",
   "execution_count": 25,
   "metadata": {},
   "outputs": [],
   "source": [
    "#Órdenes de Compra\n",
    "base_path_OC = os.path.join('..', 'raw_data','OrdenesCompra')\n",
    "for year in years:\n",
    "    for month in months:\n",
    "        destination_path = os.path.join(base_path_OC, str(year))\n",
    "        r = rq.get(f'https://transparenciachc.blob.core.windows.net/oc-da/{year}-{month}.zip')\n",
    "        z = zipfile.ZipFile(io.BytesIO(r.content))\n",
    "        z.extractall(destination_path)\n",
    "\n"
   ]
  }
 ],
 "metadata": {
  "kernelspec": {
   "display_name": "Python 3",
   "language": "python",
   "name": "python3"
  },
  "language_info": {
   "codemirror_mode": {
    "name": "ipython",
    "version": 3
   },
   "file_extension": ".py",
   "mimetype": "text/x-python",
   "name": "python",
   "nbconvert_exporter": "python",
   "pygments_lexer": "ipython3",
   "version": "3.11.8"
  }
 },
 "nbformat": 4,
 "nbformat_minor": 2
}
