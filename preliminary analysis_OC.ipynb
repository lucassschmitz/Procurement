{
 "cells": [
  {
   "cell_type": "markdown",
   "metadata": {},
   "source": []
  },
  {
   "cell_type": "code",
   "execution_count": 1,
   "metadata": {},
   "outputs": [
    {
     "name": "stderr",
     "output_type": "stream",
     "text": [
      "C:\\Users\\lucas\\AppData\\Local\\Temp\\ipykernel_16444\\2403434611.py:8: DtypeWarning: Columns (21,31,73,74) have mixed types. Specify dtype option on import or set low_memory=False.\n",
      "  df1 = pd.read_csv(root_path + r\"\\Ordenes de compra\\2022-1\\2022-1.csv\", encoding='latin1', sep=';')\n",
      "PandasGUI INFO — pandasgui.gui — Opening PandasGUI\n"
     ]
    },
    {
     "data": {
      "text/plain": [
       "<pandasgui.gui.PandasGui at 0x21cfd852b00>"
      ]
     },
     "execution_count": 1,
     "metadata": {},
     "output_type": "execute_result"
    },
    {
     "ename": "",
     "evalue": "",
     "output_type": "error",
     "traceback": [
      "\u001b[1;31mThe Kernel crashed while executing code in the current cell or a previous cell. \n",
      "\u001b[1;31mPlease review the code in the cell(s) to identify a possible cause of the failure. \n",
      "\u001b[1;31mClick <a href='https://aka.ms/vscodeJupyterKernelCrash'>here</a> for more info. \n",
      "\u001b[1;31mView Jupyter <a href='command:jupyter.viewOutput'>log</a> for further details."
     ]
    }
   ],
   "source": [
    "from pandasgui import show\n",
    "import pandas as pd\n",
    "import matplotlib.pyplot as plt\n",
    "\n",
    "figure_path = r\"C:\\Users\\lucas\\OneDrive - Yale University\\2nd year paper\\Procurement\\figures\"\n",
    "root_path = r\"C:\\Users\\lucas\\OneDrive - Yale University\\2nd year paper\\Procurement\\raw_data\"\n",
    "data_path = r\"C:\\Users\\lucas\\OneDrive - Yale University\\2nd year paper\\Procurement\\data\"\n",
    "df1 = pd.read_csv(root_path + r\"\\Ordenes de compra\\2022-1\\2022-1.csv\", encoding='latin1', sep=';') \n",
    "df1\n",
    "\n",
    "show(df1)\n"
   ]
  },
  {
   "cell_type": "code",
   "execution_count": null,
   "metadata": {},
   "outputs": [],
   "source": []
  }
 ],
 "metadata": {
  "kernelspec": {
   "display_name": "Python 3",
   "language": "python",
   "name": "python3"
  },
  "language_info": {
   "codemirror_mode": {
    "name": "ipython",
    "version": 3
   },
   "file_extension": ".py",
   "mimetype": "text/x-python",
   "name": "python",
   "nbconvert_exporter": "python",
   "pygments_lexer": "ipython3",
   "version": "3.11.9"
  }
 },
 "nbformat": 4,
 "nbformat_minor": 2
}
