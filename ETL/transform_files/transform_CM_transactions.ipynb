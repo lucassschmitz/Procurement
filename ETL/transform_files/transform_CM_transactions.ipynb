{
 "cells": [
  {
   "cell_type": "markdown",
   "metadata": {},
   "source": [
    "The following notebook is to process some of the data in Convenio Marco vehículos 2021 and 2023 Transactions. Feel free to modify if needed."
   ]
  },
  {
   "cell_type": "code",
   "execution_count": 24,
   "metadata": {},
   "outputs": [],
   "source": [
    "import requests as rq\n",
    "import os\n",
    "import zipfile\n",
    "import io\n",
    "import pandas as pd"
   ]
  },
  {
   "cell_type": "code",
   "execution_count": 25,
   "metadata": {},
   "outputs": [],
   "source": [
    "years = range(2021, 2024 + 1)\n",
    "months = range(1, 12 + 1)"
   ]
  },
  {
   "cell_type": "code",
   "execution_count": 26,
   "metadata": {},
   "outputs": [],
   "source": [
    "def replace_columns(df: pd.DataFrame) -> pd.DataFrame:\n",
    "\n",
    "    \"\"\"Replace columns names in dataframe\n",
    "    \n",
    "    df : pandas dataframe\n",
    "\n",
    "    \"\"\"\n",
    "\n",
    "    column_replace = {'Nro Licitaci?n P?blica' : 'Nro Licitación Pública', 'Fecha Env?o OC': 'Fecha Envío OC',\\\n",
    "                   'Especificaci?n del Comprador' : 'Especificación del Comprador', 'TotaL?nea(Neto)' : 'TotaLínea(Neto)', \\\n",
    "                    'Raz?n Social Comprador': 'Razón Social Comprador', 'Direcci?n Unidad Compra' : 'Dirección Unidad Compra', \\\n",
    "                    'Regi?n Unidad de Compra' : 'Región Unidad de Compra', 'Instituci?n' : 'Institución', 'Regi?n del Proveedor' : 'Región del Proveedor', \\\n",
    "                 'Nro Licitacion Publica' : 'Nro Licitación Pública', 'Fecha Envio OC': 'Fecha Envío OC',\\\n",
    "                   'Especificacion del Comprador' : 'Especificación del Comprador', 'TotaLinea(Neto)' : 'TotaLínea(Neto)', \\\n",
    "                    'Razon Social Comprador': 'Razón Social Comprador', 'Direccion Unidad Compra' : 'Dirección Unidad Compra', \\\n",
    "                    'Region Unidad de Compra' : 'Región Unidad de Compra', 'Institucion' : 'Institución', 'Region del Proveedor' : 'Región del Proveedor'}    \n",
    "    df.rename(columns=column_replace, inplace=True)\n",
    "\n",
    "    return df"
   ]
  },
  {
   "cell_type": "markdown",
   "metadata": {},
   "source": [
    "## Extract CM vehículos 2021 and CM vehículos 2023"
   ]
  },
  {
   "cell_type": "code",
   "execution_count": 28,
   "metadata": {},
   "outputs": [
    {
     "name": "stderr",
     "output_type": "stream",
     "text": [
      "C:\\Users\\danie\\AppData\\Local\\Temp\\ipykernel_25016\\4177032570.py:10: DtypeWarning: Columns (17) have mixed types. Specify dtype option on import or set low_memory=False.\n",
      "  df = pd.read_csv(path, sep=';', encoding='latin-1')\n",
      "C:\\Users\\danie\\AppData\\Local\\Temp\\ipykernel_25016\\4177032570.py:10: DtypeWarning: Columns (17) have mixed types. Specify dtype option on import or set low_memory=False.\n",
      "  df = pd.read_csv(path, sep=';', encoding='latin-1')\n",
      "C:\\Users\\danie\\AppData\\Local\\Temp\\ipykernel_25016\\4177032570.py:10: DtypeWarning: Columns (22) have mixed types. Specify dtype option on import or set low_memory=False.\n",
      "  df = pd.read_csv(path, sep=';', encoding='latin-1')\n",
      "C:\\Users\\danie\\AppData\\Local\\Temp\\ipykernel_25016\\4177032570.py:10: DtypeWarning: Columns (22) have mixed types. Specify dtype option on import or set low_memory=False.\n",
      "  df = pd.read_csv(path, sep=';', encoding='latin-1')\n",
      "C:\\Users\\danie\\AppData\\Local\\Temp\\ipykernel_25016\\4177032570.py:10: DtypeWarning: Columns (22) have mixed types. Specify dtype option on import or set low_memory=False.\n",
      "  df = pd.read_csv(path, sep=';', encoding='latin-1')\n",
      "C:\\Users\\danie\\AppData\\Local\\Temp\\ipykernel_25016\\4177032570.py:10: DtypeWarning: Columns (17) have mixed types. Specify dtype option on import or set low_memory=False.\n",
      "  df = pd.read_csv(path, sep=';', encoding='latin-1')\n",
      "C:\\Users\\danie\\AppData\\Local\\Temp\\ipykernel_25016\\4177032570.py:10: DtypeWarning: Columns (17) have mixed types. Specify dtype option on import or set low_memory=False.\n",
      "  df = pd.read_csv(path, sep=';', encoding='latin-1')\n",
      "C:\\Users\\danie\\AppData\\Local\\Temp\\ipykernel_25016\\4177032570.py:10: DtypeWarning: Columns (17) have mixed types. Specify dtype option on import or set low_memory=False.\n",
      "  df = pd.read_csv(path, sep=';', encoding='latin-1')\n",
      "C:\\Users\\danie\\AppData\\Local\\Temp\\ipykernel_25016\\4177032570.py:10: DtypeWarning: Columns (17) have mixed types. Specify dtype option on import or set low_memory=False.\n",
      "  df = pd.read_csv(path, sep=';', encoding='latin-1')\n",
      "C:\\Users\\danie\\AppData\\Local\\Temp\\ipykernel_25016\\4177032570.py:10: DtypeWarning: Columns (17,22) have mixed types. Specify dtype option on import or set low_memory=False.\n",
      "  df = pd.read_csv(path, sep=';', encoding='latin-1')\n",
      "C:\\Users\\danie\\AppData\\Local\\Temp\\ipykernel_25016\\4177032570.py:10: DtypeWarning: Columns (17) have mixed types. Specify dtype option on import or set low_memory=False.\n",
      "  df = pd.read_csv(path, sep=';', encoding='latin-1')\n",
      "C:\\Users\\danie\\AppData\\Local\\Temp\\ipykernel_25016\\4177032570.py:10: DtypeWarning: Columns (17,22) have mixed types. Specify dtype option on import or set low_memory=False.\n",
      "  df = pd.read_csv(path, sep=';', encoding='latin-1')\n",
      "C:\\Users\\danie\\AppData\\Local\\Temp\\ipykernel_25016\\4177032570.py:10: DtypeWarning: Columns (17,22) have mixed types. Specify dtype option on import or set low_memory=False.\n",
      "  df = pd.read_csv(path, sep=';', encoding='latin-1')\n"
     ]
    }
   ],
   "source": [
    "base_path = os.path.join('..', '..', 'interm_data', 'yearly_data', 'Transacciones')\n",
    "destination_path_2021 = os.path.join(base_path, 'transacciones_cm_2023.csv')\n",
    "destination_path_2023 = os.path.join(base_path, 'transacciones_cm_2021.csv')\n",
    "df_transacciones_cm_2021 = pd.DataFrame()\n",
    "df_transacciones_cm_2023 = pd.DataFrame()\n",
    "for year in years:\n",
    "    for month in months:\n",
    "        try:\n",
    "            path = os.path.join('..', '..', 'raw_data', 'ConvenioMarco', 'transacciones', str(year), f'{year}-{month}.csv')\n",
    "            df = pd.read_csv(path, sep=';', encoding='latin-1')\n",
    "            df = replace_columns(df)\n",
    "            rows_2021 = df[df['Nro Licitación Pública'] == '2239-5-LR21']\n",
    "            rows_2023 = df[df['Nro Licitación Pública'] == '2239-8-LR23']\n",
    "\n",
    "            if len(rows_2021) != 0:\n",
    "                df_transacciones_cm_2021 = pd.concat([df_transacciones_cm_2021, rows_2021])\n",
    "            if len(rows_2023) != 0:\n",
    "                df_transacciones_cm_2023 = pd.concat([df_transacciones_cm_2023, rows_2023])\n",
    "        except:\n",
    "            continue\n",
    "\n",
    "df_transacciones_cm_2021.to_csv(destination_path_2021)\n",
    "df_transacciones_cm_2023.to_csv(destination_path_2023)"
   ]
  }
 ],
 "metadata": {
  "kernelspec": {
   "display_name": "Python 3",
   "language": "python",
   "name": "python3"
  },
  "language_info": {
   "codemirror_mode": {
    "name": "ipython",
    "version": 3
   },
   "file_extension": ".py",
   "mimetype": "text/x-python",
   "name": "python",
   "nbconvert_exporter": "python",
   "pygments_lexer": "ipython3",
   "version": "3.11.8"
  }
 },
 "nbformat": 4,
 "nbformat_minor": 2
}
