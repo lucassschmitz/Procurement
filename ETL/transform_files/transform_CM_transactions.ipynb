{
 "cells": [
  {
   "cell_type": "markdown",
   "metadata": {},
   "source": [
    "The following notebook is to process some of the data in Convenio Marco vehículos 2021 and 2023 Transactions\n"
   ]
  },
  {
   "cell_type": "code",
   "execution_count": 19,
   "metadata": {},
   "outputs": [],
   "source": [
    "import requests as rq\n",
    "import os\n",
    "import zipfile\n",
    "import io\n",
    "import pandas as pd\n"
   ]
  },
  {
   "cell_type": "code",
   "execution_count": 20,
   "metadata": {},
   "outputs": [],
   "source": [
    "root_path =  r\"C:\\Users\\lucas\\OneDrive - Yale University\\Documents\\GitHub\\2nd-year-paper\"\n",
    "input_path = os.path.join(root_path, 'raw_data', 'ConvenioMarco', 'transacciones') \n",
    "dest_path =  os.path.join(root_path, 'interm_data', 'transac') # destination path\n",
    "\n",
    "months = range(1, 12 + 1)"
   ]
  },
  {
   "cell_type": "code",
   "execution_count": 21,
   "metadata": {},
   "outputs": [],
   "source": [
    "def replace_columns(df: pd.DataFrame) -> pd.DataFrame:\n",
    "\n",
    "    \"\"\"Replace columns names in dataframe\n",
    "    \n",
    "    df : pandas dataframe\n",
    "\n",
    "    \"\"\"\n",
    "\n",
    "    column_replace = {'Nro Licitaci?n P?blica' : 'Nro Licitación Pública', 'Nro LicitaciÃ³n PÃºblica': 'Nro Licitación Pública', 'Fecha Env?o OC': 'Fecha Envío OC',\\\n",
    "                   'Especificaci?n del Comprador' : 'Especificación del Comprador', 'TotaL?nea(Neto)' : 'TotaLínea(Neto)', \\\n",
    "                    'Raz?n Social Comprador': 'Razón Social Comprador', 'Direcci?n Unidad Compra' : 'Dirección Unidad Compra', \\\n",
    "                    'Regi?n Unidad de Compra' : 'Región Unidad de Compra', 'Instituci?n' : 'Institución', 'Regi?n del Proveedor' : 'Región del Proveedor', \\\n",
    "                 'Nro Licitacion Publica' : 'Nro Licitación Pública', 'Fecha Envio OC': 'Fecha Envío OC',\\\n",
    "                   'Especificacion del Comprador' : 'Especificación del Comprador', 'TotaLinea(Neto)' : 'TotaLínea(Neto)', \\\n",
    "                    'Razon Social Comprador': 'Razón Social Comprador', 'Direccion Unidad Compra' : 'Dirección Unidad Compra', \\\n",
    "                    'Region Unidad de Compra' : 'Región Unidad de Compra', 'Institucion' : 'Institución', 'Region del Proveedor' : 'Región del Proveedor'}    \n",
    "    df.rename(columns=column_replace, inplace=True)\n",
    "\n",
    "    return df\n",
    "\n"
   ]
  },
  {
   "cell_type": "markdown",
   "metadata": {},
   "source": [
    "## Extract vehiculos 2013 and 2017\n",
    "\n",
    "The 2017 code is: 2239-4-LR17\n",
    "The 2013 code is: 2239-20-LP13\n",
    "\n",
    "We have to be careful because this FAs also include the subletting, not only the purchase, of vehicles "
   ]
  },
  {
   "cell_type": "code",
   "execution_count": 22,
   "metadata": {},
   "outputs": [
    {
     "name": "stderr",
     "output_type": "stream",
     "text": [
      "C:\\Users\\lucas\\AppData\\Local\\Temp\\ipykernel_29372\\1203389321.py:14: DtypeWarning: Columns (9) have mixed types. Specify dtype option on import or set low_memory=False.\n",
      "  df = pd.read_csv(path, decimal = ',')\n"
     ]
    },
    {
     "name": "stdout",
     "output_type": "stream",
     "text": [
      "2017-1 done number of 2013 columns: 0 number of 2017 columns: 0\n"
     ]
    },
    {
     "name": "stderr",
     "output_type": "stream",
     "text": [
      "C:\\Users\\lucas\\AppData\\Local\\Temp\\ipykernel_29372\\1203389321.py:14: DtypeWarning: Columns (9) have mixed types. Specify dtype option on import or set low_memory=False.\n",
      "  df = pd.read_csv(path, decimal = ',')\n"
     ]
    },
    {
     "name": "stdout",
     "output_type": "stream",
     "text": [
      "2017-2 done number of 2013 columns: 0 number of 2017 columns: 0\n"
     ]
    },
    {
     "name": "stderr",
     "output_type": "stream",
     "text": [
      "C:\\Users\\lucas\\AppData\\Local\\Temp\\ipykernel_29372\\1203389321.py:14: DtypeWarning: Columns (9) have mixed types. Specify dtype option on import or set low_memory=False.\n",
      "  df = pd.read_csv(path, decimal = ',')\n"
     ]
    },
    {
     "name": "stdout",
     "output_type": "stream",
     "text": [
      "2017-3 done number of 2013 columns: 0 number of 2017 columns: 0\n"
     ]
    },
    {
     "name": "stderr",
     "output_type": "stream",
     "text": [
      "C:\\Users\\lucas\\AppData\\Local\\Temp\\ipykernel_29372\\1203389321.py:14: DtypeWarning: Columns (18) have mixed types. Specify dtype option on import or set low_memory=False.\n",
      "  df = pd.read_csv(path, decimal = ',')\n"
     ]
    },
    {
     "name": "stdout",
     "output_type": "stream",
     "text": [
      "2017-4 done number of 2013 columns: 0 number of 2017 columns: 0\n",
      "2017-5 done number of 2013 columns: 0 number of 2017 columns: 0\n"
     ]
    },
    {
     "name": "stderr",
     "output_type": "stream",
     "text": [
      "C:\\Users\\lucas\\AppData\\Local\\Temp\\ipykernel_29372\\1203389321.py:14: DtypeWarning: Columns (9) have mixed types. Specify dtype option on import or set low_memory=False.\n",
      "  df = pd.read_csv(path, decimal = ',')\n"
     ]
    },
    {
     "name": "stdout",
     "output_type": "stream",
     "text": [
      "2017-6 done number of 2013 columns: 0 number of 2017 columns: 0\n"
     ]
    },
    {
     "name": "stderr",
     "output_type": "stream",
     "text": [
      "C:\\Users\\lucas\\AppData\\Local\\Temp\\ipykernel_29372\\1203389321.py:14: DtypeWarning: Columns (9) have mixed types. Specify dtype option on import or set low_memory=False.\n",
      "  df = pd.read_csv(path, decimal = ',')\n"
     ]
    },
    {
     "name": "stdout",
     "output_type": "stream",
     "text": [
      "2017-7 done number of 2013 columns: 0 number of 2017 columns: 0\n",
      "2017-8 not found\n",
      "C:\\Users\\lucas\\OneDrive - Yale University\\Documents\\GitHub\\2nd-year-paper\\raw_data\\ConvenioMarco\\transacciones\\2017\\2017-8.csv\n",
      "2017-9 done number of 2013 columns: 0 number of 2017 columns: 0\n"
     ]
    },
    {
     "name": "stderr",
     "output_type": "stream",
     "text": [
      "C:\\Users\\lucas\\AppData\\Local\\Temp\\ipykernel_29372\\1203389321.py:14: DtypeWarning: Columns (9) have mixed types. Specify dtype option on import or set low_memory=False.\n",
      "  df = pd.read_csv(path, decimal = ',')\n"
     ]
    },
    {
     "name": "stdout",
     "output_type": "stream",
     "text": [
      "2017-10 done number of 2013 columns: 0 number of 2017 columns: 0\n",
      "2017-11 done number of 2013 columns: 0 number of 2017 columns: 0\n",
      "2017-12 done number of 2013 columns: 0 number of 2017 columns: 0\n"
     ]
    },
    {
     "name": "stderr",
     "output_type": "stream",
     "text": [
      "C:\\Users\\lucas\\AppData\\Local\\Temp\\ipykernel_29372\\1203389321.py:14: DtypeWarning: Columns (9) have mixed types. Specify dtype option on import or set low_memory=False.\n",
      "  df = pd.read_csv(path, decimal = ',')\n"
     ]
    },
    {
     "name": "stdout",
     "output_type": "stream",
     "text": [
      "2018-1 done number of 2013 columns: 0 number of 2017 columns: 0\n"
     ]
    },
    {
     "name": "stderr",
     "output_type": "stream",
     "text": [
      "C:\\Users\\lucas\\AppData\\Local\\Temp\\ipykernel_29372\\1203389321.py:14: DtypeWarning: Columns (9) have mixed types. Specify dtype option on import or set low_memory=False.\n",
      "  df = pd.read_csv(path, decimal = ',')\n"
     ]
    },
    {
     "name": "stdout",
     "output_type": "stream",
     "text": [
      "2018-2 done number of 2013 columns: 0 number of 2017 columns: 63\n",
      "2018-3 done number of 2013 columns: 0 number of 2017 columns: 215\n"
     ]
    },
    {
     "name": "stderr",
     "output_type": "stream",
     "text": [
      "C:\\Users\\lucas\\AppData\\Local\\Temp\\ipykernel_29372\\1203389321.py:14: DtypeWarning: Columns (9,18) have mixed types. Specify dtype option on import or set low_memory=False.\n",
      "  df = pd.read_csv(path, decimal = ',')\n"
     ]
    },
    {
     "name": "stdout",
     "output_type": "stream",
     "text": [
      "2018-4 done number of 2013 columns: 0 number of 2017 columns: 274\n"
     ]
    },
    {
     "name": "stderr",
     "output_type": "stream",
     "text": [
      "C:\\Users\\lucas\\AppData\\Local\\Temp\\ipykernel_29372\\1203389321.py:14: DtypeWarning: Columns (9,18) have mixed types. Specify dtype option on import or set low_memory=False.\n",
      "  df = pd.read_csv(path, decimal = ',')\n"
     ]
    },
    {
     "name": "stdout",
     "output_type": "stream",
     "text": [
      "2018-5 done number of 2013 columns: 0 number of 2017 columns: 308\n"
     ]
    },
    {
     "name": "stderr",
     "output_type": "stream",
     "text": [
      "C:\\Users\\lucas\\AppData\\Local\\Temp\\ipykernel_29372\\1203389321.py:14: DtypeWarning: Columns (9,18) have mixed types. Specify dtype option on import or set low_memory=False.\n",
      "  df = pd.read_csv(path, decimal = ',')\n"
     ]
    },
    {
     "name": "stdout",
     "output_type": "stream",
     "text": [
      "2018-6 done number of 2013 columns: 0 number of 2017 columns: 323\n"
     ]
    },
    {
     "name": "stderr",
     "output_type": "stream",
     "text": [
      "C:\\Users\\lucas\\AppData\\Local\\Temp\\ipykernel_29372\\1203389321.py:14: DtypeWarning: Columns (9,18) have mixed types. Specify dtype option on import or set low_memory=False.\n",
      "  df = pd.read_csv(path, decimal = ',')\n"
     ]
    },
    {
     "name": "stdout",
     "output_type": "stream",
     "text": [
      "2018-7 done number of 2013 columns: 0 number of 2017 columns: 291\n"
     ]
    },
    {
     "name": "stderr",
     "output_type": "stream",
     "text": [
      "C:\\Users\\lucas\\AppData\\Local\\Temp\\ipykernel_29372\\1203389321.py:14: DtypeWarning: Columns (9,18) have mixed types. Specify dtype option on import or set low_memory=False.\n",
      "  df = pd.read_csv(path, decimal = ',')\n"
     ]
    },
    {
     "name": "stdout",
     "output_type": "stream",
     "text": [
      "2018-8 done number of 2013 columns: 0 number of 2017 columns: 373\n"
     ]
    },
    {
     "name": "stderr",
     "output_type": "stream",
     "text": [
      "C:\\Users\\lucas\\AppData\\Local\\Temp\\ipykernel_29372\\1203389321.py:14: DtypeWarning: Columns (9) have mixed types. Specify dtype option on import or set low_memory=False.\n",
      "  df = pd.read_csv(path, decimal = ',')\n"
     ]
    },
    {
     "name": "stdout",
     "output_type": "stream",
     "text": [
      "2018-9 done number of 2013 columns: 0 number of 2017 columns: 301\n"
     ]
    },
    {
     "name": "stderr",
     "output_type": "stream",
     "text": [
      "C:\\Users\\lucas\\AppData\\Local\\Temp\\ipykernel_29372\\1203389321.py:14: DtypeWarning: Columns (9) have mixed types. Specify dtype option on import or set low_memory=False.\n",
      "  df = pd.read_csv(path, decimal = ',')\n"
     ]
    },
    {
     "name": "stdout",
     "output_type": "stream",
     "text": [
      "2018-10 done number of 2013 columns: 0 number of 2017 columns: 484\n"
     ]
    },
    {
     "name": "stderr",
     "output_type": "stream",
     "text": [
      "C:\\Users\\lucas\\AppData\\Local\\Temp\\ipykernel_29372\\1203389321.py:14: DtypeWarning: Columns (9) have mixed types. Specify dtype option on import or set low_memory=False.\n",
      "  df = pd.read_csv(path, decimal = ',')\n"
     ]
    },
    {
     "name": "stdout",
     "output_type": "stream",
     "text": [
      "2018-11 done number of 2013 columns: 0 number of 2017 columns: 459\n",
      "2018-12 done number of 2013 columns: 0 number of 2017 columns: 483\n"
     ]
    },
    {
     "name": "stderr",
     "output_type": "stream",
     "text": [
      "C:\\Users\\lucas\\AppData\\Local\\Temp\\ipykernel_29372\\1203389321.py:14: DtypeWarning: Columns (9) have mixed types. Specify dtype option on import or set low_memory=False.\n",
      "  df = pd.read_csv(path, decimal = ',')\n"
     ]
    },
    {
     "name": "stdout",
     "output_type": "stream",
     "text": [
      "2019-1 done number of 2013 columns: 0 number of 2017 columns: 298\n"
     ]
    },
    {
     "name": "stderr",
     "output_type": "stream",
     "text": [
      "C:\\Users\\lucas\\AppData\\Local\\Temp\\ipykernel_29372\\1203389321.py:14: DtypeWarning: Columns (9) have mixed types. Specify dtype option on import or set low_memory=False.\n",
      "  df = pd.read_csv(path, decimal = ',')\n"
     ]
    },
    {
     "name": "stdout",
     "output_type": "stream",
     "text": [
      "2019-2 done number of 2013 columns: 0 number of 2017 columns: 323\n"
     ]
    },
    {
     "name": "stderr",
     "output_type": "stream",
     "text": [
      "C:\\Users\\lucas\\AppData\\Local\\Temp\\ipykernel_29372\\1203389321.py:14: DtypeWarning: Columns (9,18) have mixed types. Specify dtype option on import or set low_memory=False.\n",
      "  df = pd.read_csv(path, decimal = ',')\n"
     ]
    },
    {
     "name": "stdout",
     "output_type": "stream",
     "text": [
      "2019-3 done number of 2013 columns: 0 number of 2017 columns: 428\n"
     ]
    },
    {
     "name": "stderr",
     "output_type": "stream",
     "text": [
      "C:\\Users\\lucas\\AppData\\Local\\Temp\\ipykernel_29372\\1203389321.py:14: DtypeWarning: Columns (9) have mixed types. Specify dtype option on import or set low_memory=False.\n",
      "  df = pd.read_csv(path, decimal = ',')\n"
     ]
    },
    {
     "name": "stdout",
     "output_type": "stream",
     "text": [
      "2019-4 done number of 2013 columns: 0 number of 2017 columns: 492\n"
     ]
    },
    {
     "name": "stderr",
     "output_type": "stream",
     "text": [
      "C:\\Users\\lucas\\AppData\\Local\\Temp\\ipykernel_29372\\1203389321.py:14: DtypeWarning: Columns (9) have mixed types. Specify dtype option on import or set low_memory=False.\n",
      "  df = pd.read_csv(path, decimal = ',')\n"
     ]
    },
    {
     "name": "stdout",
     "output_type": "stream",
     "text": [
      "2019-5 done number of 2013 columns: 0 number of 2017 columns: 535\n",
      "2019-6 done number of 2013 columns: 0 number of 2017 columns: 504\n"
     ]
    },
    {
     "name": "stderr",
     "output_type": "stream",
     "text": [
      "C:\\Users\\lucas\\AppData\\Local\\Temp\\ipykernel_29372\\1203389321.py:14: DtypeWarning: Columns (9,18) have mixed types. Specify dtype option on import or set low_memory=False.\n",
      "  df = pd.read_csv(path, decimal = ',')\n"
     ]
    },
    {
     "name": "stdout",
     "output_type": "stream",
     "text": [
      "2019-7 done number of 2013 columns: 0 number of 2017 columns: 536\n"
     ]
    },
    {
     "name": "stderr",
     "output_type": "stream",
     "text": [
      "C:\\Users\\lucas\\AppData\\Local\\Temp\\ipykernel_29372\\1203389321.py:14: DtypeWarning: Columns (9) have mixed types. Specify dtype option on import or set low_memory=False.\n",
      "  df = pd.read_csv(path, decimal = ',')\n"
     ]
    },
    {
     "name": "stdout",
     "output_type": "stream",
     "text": [
      "2019-8 done number of 2013 columns: 0 number of 2017 columns: 561\n",
      "2019-9 done number of 2013 columns: 0 number of 2017 columns: 483\n"
     ]
    },
    {
     "name": "stderr",
     "output_type": "stream",
     "text": [
      "C:\\Users\\lucas\\AppData\\Local\\Temp\\ipykernel_29372\\1203389321.py:14: DtypeWarning: Columns (9) have mixed types. Specify dtype option on import or set low_memory=False.\n",
      "  df = pd.read_csv(path, decimal = ',')\n"
     ]
    },
    {
     "name": "stdout",
     "output_type": "stream",
     "text": [
      "2019-10 done number of 2013 columns: 0 number of 2017 columns: 661\n"
     ]
    },
    {
     "name": "stderr",
     "output_type": "stream",
     "text": [
      "C:\\Users\\lucas\\AppData\\Local\\Temp\\ipykernel_29372\\1203389321.py:14: DtypeWarning: Columns (9) have mixed types. Specify dtype option on import or set low_memory=False.\n",
      "  df = pd.read_csv(path, decimal = ',')\n"
     ]
    },
    {
     "name": "stdout",
     "output_type": "stream",
     "text": [
      "2019-11 done number of 2013 columns: 0 number of 2017 columns: 582\n"
     ]
    },
    {
     "name": "stderr",
     "output_type": "stream",
     "text": [
      "C:\\Users\\lucas\\AppData\\Local\\Temp\\ipykernel_29372\\1203389321.py:14: DtypeWarning: Columns (9) have mixed types. Specify dtype option on import or set low_memory=False.\n",
      "  df = pd.read_csv(path, decimal = ',')\n"
     ]
    },
    {
     "name": "stdout",
     "output_type": "stream",
     "text": [
      "2019-12 done number of 2013 columns: 0 number of 2017 columns: 653\n"
     ]
    },
    {
     "name": "stderr",
     "output_type": "stream",
     "text": [
      "C:\\Users\\lucas\\AppData\\Local\\Temp\\ipykernel_29372\\1203389321.py:14: DtypeWarning: Columns (9) have mixed types. Specify dtype option on import or set low_memory=False.\n",
      "  df = pd.read_csv(path, decimal = ',')\n"
     ]
    },
    {
     "name": "stdout",
     "output_type": "stream",
     "text": [
      "2020-1 done number of 2013 columns: 0 number of 2017 columns: 471\n"
     ]
    },
    {
     "name": "stderr",
     "output_type": "stream",
     "text": [
      "C:\\Users\\lucas\\AppData\\Local\\Temp\\ipykernel_29372\\1203389321.py:14: DtypeWarning: Columns (9) have mixed types. Specify dtype option on import or set low_memory=False.\n",
      "  df = pd.read_csv(path, decimal = ',')\n"
     ]
    },
    {
     "name": "stdout",
     "output_type": "stream",
     "text": [
      "2020-2 done number of 2013 columns: 0 number of 2017 columns: 486\n"
     ]
    },
    {
     "name": "stderr",
     "output_type": "stream",
     "text": [
      "C:\\Users\\lucas\\AppData\\Local\\Temp\\ipykernel_29372\\1203389321.py:14: DtypeWarning: Columns (9) have mixed types. Specify dtype option on import or set low_memory=False.\n",
      "  df = pd.read_csv(path, decimal = ',')\n"
     ]
    },
    {
     "name": "stdout",
     "output_type": "stream",
     "text": [
      "2020-3 done number of 2013 columns: 0 number of 2017 columns: 475\n"
     ]
    },
    {
     "name": "stderr",
     "output_type": "stream",
     "text": [
      "C:\\Users\\lucas\\AppData\\Local\\Temp\\ipykernel_29372\\1203389321.py:14: DtypeWarning: Columns (9) have mixed types. Specify dtype option on import or set low_memory=False.\n",
      "  df = pd.read_csv(path, decimal = ',')\n"
     ]
    },
    {
     "name": "stdout",
     "output_type": "stream",
     "text": [
      "2020-4 done number of 2013 columns: 0 number of 2017 columns: 316\n",
      "2020-5 done number of 2013 columns: 0 number of 2017 columns: 328\n"
     ]
    },
    {
     "name": "stderr",
     "output_type": "stream",
     "text": [
      "C:\\Users\\lucas\\AppData\\Local\\Temp\\ipykernel_29372\\1203389321.py:14: DtypeWarning: Columns (9,18) have mixed types. Specify dtype option on import or set low_memory=False.\n",
      "  df = pd.read_csv(path, decimal = ',')\n"
     ]
    },
    {
     "name": "stdout",
     "output_type": "stream",
     "text": [
      "2020-6 done number of 2013 columns: 0 number of 2017 columns: 369\n",
      "2020-7 done number of 2013 columns: 0 number of 2017 columns: 358\n"
     ]
    },
    {
     "name": "stderr",
     "output_type": "stream",
     "text": [
      "C:\\Users\\lucas\\AppData\\Local\\Temp\\ipykernel_29372\\1203389321.py:14: DtypeWarning: Columns (9) have mixed types. Specify dtype option on import or set low_memory=False.\n",
      "  df = pd.read_csv(path, decimal = ',')\n"
     ]
    },
    {
     "name": "stdout",
     "output_type": "stream",
     "text": [
      "2020-8 done number of 2013 columns: 0 number of 2017 columns: 416\n"
     ]
    },
    {
     "name": "stderr",
     "output_type": "stream",
     "text": [
      "C:\\Users\\lucas\\AppData\\Local\\Temp\\ipykernel_29372\\1203389321.py:14: DtypeWarning: Columns (9) have mixed types. Specify dtype option on import or set low_memory=False.\n",
      "  df = pd.read_csv(path, decimal = ',')\n"
     ]
    },
    {
     "name": "stdout",
     "output_type": "stream",
     "text": [
      "2020-9 done number of 2013 columns: 0 number of 2017 columns: 455\n",
      "2020-10 done number of 2013 columns: 0 number of 2017 columns: 486\n"
     ]
    },
    {
     "name": "stderr",
     "output_type": "stream",
     "text": [
      "C:\\Users\\lucas\\AppData\\Local\\Temp\\ipykernel_29372\\1203389321.py:14: DtypeWarning: Columns (9) have mixed types. Specify dtype option on import or set low_memory=False.\n",
      "  df = pd.read_csv(path, decimal = ',')\n"
     ]
    },
    {
     "name": "stdout",
     "output_type": "stream",
     "text": [
      "2020-11 done number of 2013 columns: 0 number of 2017 columns: 535\n",
      "2020-12 done number of 2013 columns: 0 number of 2017 columns: 479\n",
      "2021-1 done number of 2013 columns: 0 number of 2017 columns: 271\n",
      "2021-2 done number of 2013 columns: 0 number of 2017 columns: 431\n",
      "2021-3 done number of 2013 columns: 0 number of 2017 columns: 513\n",
      "2021-4 done number of 2013 columns: 0 number of 2017 columns: 477\n",
      "2021-5 done number of 2013 columns: 0 number of 2017 columns: 425\n",
      "2021-6 done number of 2013 columns: 0 number of 2017 columns: 480\n",
      "2021-7 done number of 2013 columns: 0 number of 2017 columns: 505\n",
      "2021-8 done number of 2013 columns: 0 number of 2017 columns: 541\n",
      "2021-9 done number of 2013 columns: 0 number of 2017 columns: 489\n",
      "2021-10 done number of 2013 columns: 0 number of 2017 columns: 530\n",
      "2021-11 done number of 2013 columns: 0 number of 2017 columns: 542\n",
      "2021-12 done number of 2013 columns: 0 number of 2017 columns: 366\n",
      "2022-1 done number of 2013 columns: 0 number of 2017 columns: 1\n",
      "2022-2 done number of 2013 columns: 0 number of 2017 columns: 0\n",
      "2022-3 done number of 2013 columns: 0 number of 2017 columns: 0\n",
      "2022-4 done number of 2013 columns: 0 number of 2017 columns: 0\n",
      "2022-5 done number of 2013 columns: 0 number of 2017 columns: 0\n",
      "2022-6 done number of 2013 columns: 0 number of 2017 columns: 0\n",
      "2022-7 done number of 2013 columns: 0 number of 2017 columns: 0\n",
      "2022-8 done number of 2013 columns: 0 number of 2017 columns: 0\n",
      "2022-9 done number of 2013 columns: 0 number of 2017 columns: 0\n",
      "2022-10 done number of 2013 columns: 0 number of 2017 columns: 0\n",
      "2022-11 done number of 2013 columns: 0 number of 2017 columns: 0\n",
      "2022-12 done number of 2013 columns: 0 number of 2017 columns: 1\n"
     ]
    }
   ],
   "source": [
    "destination_path_2017 = os.path.join(dest_path, 'transacciones_cm_2017.csv')\n",
    "destination_path_2013 = os.path.join(dest_path, 'transacciones_cm_2013.csv')\n",
    "\n",
    "#create empty dfs\n",
    "df_transacciones_cm_2013 = pd.DataFrame()\n",
    "df_transacciones_cm_2017 = pd.DataFrame()\n",
    "\n",
    "for year in range(2017, 2023):\n",
    "    for month in months:\n",
    "        try:\n",
    "            path = os.path.join(input_path, f'{year}', f'{year}-{month}.csv')\n",
    "\n",
    "            if year < 2021: \n",
    "                df = pd.read_csv(path, decimal = ',')\n",
    "            elif year >= 2021:\n",
    "                df = pd.read_csv(path, sep=';', encoding='latin-1',  decimal=',')\n",
    "\n",
    "            df = replace_columns(df)\n",
    "            rows_2017 = df[df['Nro Licitación Pública'] == '2239-4-LR17']\n",
    "            rows_2013 = df[df['Nro Licitación Pública'] == '2239-20-LP13']\n",
    "\n",
    "            if len(rows_2017) != 0:\n",
    "                df_transacciones_cm_2017 = pd.concat([df_transacciones_cm_2017, rows_2017])\n",
    "            if len(rows_2013) != 0:\n",
    "                df_transacciones_cm_2013 = pd.concat([df_transacciones_cm_2013, rows_2013])\n",
    "            print(f'{year}-{month} done', 'number of 2013 columns:', len(rows_2013), 'number of 2017 columns:', len(rows_2017))\n",
    "        except:\n",
    "            print(f'{year}-{month} not found')\n",
    "            print(path) \n",
    "            \n",
    "            \n"
   ]
  },
  {
   "cell_type": "markdown",
   "metadata": {},
   "source": [
    "## Extract CM vehículos 2021 and CM vehículos 2023"
   ]
  },
  {
   "cell_type": "code",
   "execution_count": 24,
   "metadata": {},
   "outputs": [
    {
     "name": "stdout",
     "output_type": "stream",
     "text": [
      "2021-1 done number of 2021 columns: 0 number of 2023 columns: 0\n",
      "2021-2 done number of 2021 columns: 0 number of 2023 columns: 0\n",
      "2021-3 done number of 2021 columns: 0 number of 2023 columns: 0\n",
      "2021-4 done number of 2021 columns: 0 number of 2023 columns: 0\n",
      "2021-5 done number of 2021 columns: 0 number of 2023 columns: 0\n",
      "2021-6 done number of 2021 columns: 0 number of 2023 columns: 0\n",
      "2021-7 done number of 2021 columns: 0 number of 2023 columns: 0\n",
      "2021-8 done number of 2021 columns: 0 number of 2023 columns: 0\n",
      "2021-9 done number of 2021 columns: 0 number of 2023 columns: 0\n",
      "2021-10 done number of 2021 columns: 1 number of 2023 columns: 0\n",
      "2021-11 done number of 2021 columns: 0 number of 2023 columns: 0\n",
      "2021-12 done number of 2021 columns: 6 number of 2023 columns: 0\n",
      "2022-1 done number of 2021 columns: 2 number of 2023 columns: 0\n",
      "2022-2 done number of 2021 columns: 4 number of 2023 columns: 0\n",
      "2022-3 done number of 2021 columns: 17 number of 2023 columns: 0\n",
      "2022-4 done number of 2021 columns: 5 number of 2023 columns: 0\n",
      "2022-5 done number of 2021 columns: 10 number of 2023 columns: 0\n",
      "2022-6 done number of 2021 columns: 6 number of 2023 columns: 0\n",
      "2022-7 done number of 2021 columns: 15 number of 2023 columns: 0\n",
      "2022-8 done number of 2021 columns: 23 number of 2023 columns: 0\n",
      "2022-9 done number of 2021 columns: 31 number of 2023 columns: 0\n",
      "2022-10 done number of 2021 columns: 28 number of 2023 columns: 0\n",
      "2022-11 done number of 2021 columns: 73 number of 2023 columns: 0\n",
      "2022-12 done number of 2021 columns: 63 number of 2023 columns: 0\n",
      "2023-1 done number of 2021 columns: 28 number of 2023 columns: 0\n",
      "2023-2 done number of 2021 columns: 28 number of 2023 columns: 0\n",
      "2023-3 done number of 2021 columns: 40 number of 2023 columns: 0\n",
      "2023-4 done number of 2021 columns: 35 number of 2023 columns: 0\n",
      "2023-5 done number of 2021 columns: 47 number of 2023 columns: 0\n",
      "2023-6 done number of 2021 columns: 53 number of 2023 columns: 0\n",
      "2023-7 done number of 2021 columns: 41 number of 2023 columns: 0\n",
      "2023-8 done number of 2021 columns: 55 number of 2023 columns: 0\n",
      "2023-9 done number of 2021 columns: 21 number of 2023 columns: 0\n",
      "2023-10 done number of 2021 columns: 80 number of 2023 columns: 0\n",
      "2023-11 done number of 2021 columns: 136 number of 2023 columns: 0\n",
      "2023-12 done number of 2021 columns: 157 number of 2023 columns: 0\n",
      "2024-1 done number of 2021 columns: 21 number of 2023 columns: 0\n",
      "2024-2 done number of 2021 columns: 38 number of 2023 columns: 0\n",
      "2024-3 done number of 2021 columns: 5 number of 2023 columns: 17\n",
      "2024-4 done number of 2021 columns: 1 number of 2023 columns: 59\n",
      "2024-5 done number of 2021 columns: 1 number of 2023 columns: 74\n",
      "2024-6 done number of 2021 columns: 0 number of 2023 columns: 83\n",
      "2024-7 done number of 2021 columns: 0 number of 2023 columns: 65\n",
      "2024-8 done number of 2021 columns: 0 number of 2023 columns: 68\n",
      "2024-9 done number of 2021 columns: 0 number of 2023 columns: 51\n",
      "2024-10 done number of 2021 columns: 0 number of 2023 columns: 66\n",
      "2024-11 done number of 2021 columns: 0 number of 2023 columns: 83\n",
      "2024-12 done number of 2021 columns: 0 number of 2023 columns: 74\n",
      "2025-1 done number of 2021 columns: 0 number of 2023 columns: 31\n",
      "2025-2 done number of 2021 columns: 0 number of 2023 columns: 46\n",
      "2025-3 done number of 2021 columns: 0 number of 2023 columns: 85\n",
      "2025-4 not found\n",
      "C:\\Users\\lucas\\OneDrive - Yale University\\Documents\\GitHub\\2nd-year-paper\\raw_data\\ConvenioMarco\\transacciones\\2025\\2025-4.csv\n",
      "2025-5 not found\n",
      "C:\\Users\\lucas\\OneDrive - Yale University\\Documents\\GitHub\\2nd-year-paper\\raw_data\\ConvenioMarco\\transacciones\\2025\\2025-5.csv\n",
      "2025-6 not found\n",
      "C:\\Users\\lucas\\OneDrive - Yale University\\Documents\\GitHub\\2nd-year-paper\\raw_data\\ConvenioMarco\\transacciones\\2025\\2025-6.csv\n",
      "2025-7 not found\n",
      "C:\\Users\\lucas\\OneDrive - Yale University\\Documents\\GitHub\\2nd-year-paper\\raw_data\\ConvenioMarco\\transacciones\\2025\\2025-7.csv\n",
      "2025-8 not found\n",
      "C:\\Users\\lucas\\OneDrive - Yale University\\Documents\\GitHub\\2nd-year-paper\\raw_data\\ConvenioMarco\\transacciones\\2025\\2025-8.csv\n",
      "2025-9 not found\n",
      "C:\\Users\\lucas\\OneDrive - Yale University\\Documents\\GitHub\\2nd-year-paper\\raw_data\\ConvenioMarco\\transacciones\\2025\\2025-9.csv\n",
      "2025-10 not found\n",
      "C:\\Users\\lucas\\OneDrive - Yale University\\Documents\\GitHub\\2nd-year-paper\\raw_data\\ConvenioMarco\\transacciones\\2025\\2025-10.csv\n",
      "2025-11 not found\n",
      "C:\\Users\\lucas\\OneDrive - Yale University\\Documents\\GitHub\\2nd-year-paper\\raw_data\\ConvenioMarco\\transacciones\\2025\\2025-11.csv\n",
      "2025-12 not found\n",
      "C:\\Users\\lucas\\OneDrive - Yale University\\Documents\\GitHub\\2nd-year-paper\\raw_data\\ConvenioMarco\\transacciones\\2025\\2025-12.csv\n"
     ]
    }
   ],
   "source": [
    "destination_path_2021 = os.path.join(dest_path, 'transacciones_cm_2021.csv')\n",
    "destination_path_2023 = os.path.join(dest_path, 'transacciones_cm_2023.csv')\n",
    "\n",
    "#create empty dfs\n",
    "df_transacciones_cm_2021 = pd.DataFrame()\n",
    "df_transacciones_cm_2023 = pd.DataFrame()\n",
    "\n",
    "for year in range(2021, 2026): #range(2015, 2025):\n",
    "    for month in range(1,13): #range(1, 13):\n",
    "        try:\n",
    "             \n",
    "            path = os.path.join(input_path, str(year), f'{year}-{month}.csv')\n",
    "            #print(f\"File exists: {os.path.exists(path)}\")\n",
    "\n",
    "            if year == 2020: \n",
    "                df = pd.read_csv(path, encoding='latin-1', decimal=',')\n",
    "\n",
    "            elif year >= 2021: \n",
    "                df = pd.read_csv(path, encoding='latin-1', sep=';', decimal=',')\n",
    "            \n",
    "            \n",
    "            df = replace_columns(df)\n",
    "            #print(f\"Raw path string: {repr(path)}\")  # This will show any hidden characters\n",
    "            rows_2021 = df[df['Nro Licitación Pública'] == '2239-5-LR21']\n",
    "            rows_2023 = df[df['Nro Licitación Pública'] == '2239-8-LR23']\n",
    "\n",
    "            if len(rows_2021) != 0:\n",
    "                df_transacciones_cm_2021 = pd.concat([df_transacciones_cm_2021, rows_2021])\n",
    "            if len(rows_2023) != 0:\n",
    "                df_transacciones_cm_2023 = pd.concat([df_transacciones_cm_2023, rows_2023])\n",
    "\n",
    "            print(f'{year}-{month} done', 'number of 2021 columns:', len(rows_2021), 'number of 2023 columns:', len(rows_2023))\n",
    "            \n",
    "        except:\n",
    "            print(f'{year}-{month} not found')\n",
    "            print(path)\n",
    "\n",
    "df_transacciones_cm_2021.to_csv(destination_path_2021)\n",
    "df_transacciones_cm_2023.to_csv(destination_path_2023)"
   ]
  },
  {
   "cell_type": "markdown",
   "metadata": {},
   "source": [
    "Check the prices are correct"
   ]
  },
  {
   "cell_type": "code",
   "execution_count": 25,
   "metadata": {},
   "outputs": [
    {
     "name": "stdout",
     "output_type": "stream",
     "text": [
      "0\n",
      "0\n",
      "count    2.037600e+04\n",
      "mean     3.039110e+06\n",
      "std      7.882446e+06\n",
      "min      1.000000e+00\n",
      "25%      2.067015e+05\n",
      "50%      3.318445e+05\n",
      "75%      7.058205e+05\n",
      "max      3.685231e+08\n",
      "Name: Precio Unitario, dtype: float64\n",
      "0\n",
      "0\n",
      "count    1.071000e+03\n",
      "mean     1.965587e+07\n",
      "std      5.451048e+06\n",
      "min      7.651600e+06\n",
      "25%      1.579042e+07\n",
      "50%      1.842240e+07\n",
      "75%      2.419873e+07\n",
      "max      3.818530e+07\n",
      "Name: Precio Unitario, dtype: float64\n",
      "0\n",
      "0\n",
      "count    8.020000e+02\n",
      "mean     2.229222e+07\n",
      "std      1.055488e+07\n",
      "min      6.844800e+06\n",
      "25%      1.720825e+07\n",
      "50%      2.087100e+07\n",
      "75%      2.656290e+07\n",
      "max      1.448000e+08\n",
      "Name: Precio Unitario, dtype: float64\n"
     ]
    }
   ],
   "source": [
    "print(df_transacciones_cm_2017['Precio Unitario'].isna().sum())\n",
    "df_transacciones_cm_2017['P unit'] = pd.to_numeric(df_transacciones_cm_2017['Precio Unitario'], errors='coerce')\n",
    "print(df_transacciones_cm_2017['P unit'].isna().sum())\n",
    "print(df_transacciones_cm_2017['Precio Unitario'].describe())\n",
    "      \n",
    "print(df_transacciones_cm_2021['Precio Unitario'].isna().sum())\n",
    "df_transacciones_cm_2021['P unit'] = pd.to_numeric(df_transacciones_cm_2021['Precio Unitario'], errors='coerce')\n",
    "print(df_transacciones_cm_2021['P unit'].isna().sum())\n",
    "print(df_transacciones_cm_2021['Precio Unitario'].describe())\n",
    "\n",
    "\n",
    "print(df_transacciones_cm_2023['Precio Unitario'].isna().sum())\n",
    "df_transacciones_cm_2023['P unit'] = pd.to_numeric(df_transacciones_cm_2023['Precio Unitario'], errors='coerce')\n",
    "print(df_transacciones_cm_2023['P unit'].isna().sum())\n",
    "print(df_transacciones_cm_2023['Precio Unitario'].describe())\n"
   ]
  }
 ],
 "metadata": {
  "kernelspec": {
   "display_name": "Python 3",
   "language": "python",
   "name": "python3"
  },
  "language_info": {
   "codemirror_mode": {
    "name": "ipython",
    "version": 3
   },
   "file_extension": ".py",
   "mimetype": "text/x-python",
   "name": "python",
   "nbconvert_exporter": "python",
   "pygments_lexer": "ipython3",
   "version": "3.11.9"
  }
 },
 "nbformat": 4,
 "nbformat_minor": 2
}
