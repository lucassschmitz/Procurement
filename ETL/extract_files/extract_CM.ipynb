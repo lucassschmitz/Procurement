{
 "cells": [
  {
   "cell_type": "markdown",
   "metadata": {},
   "source": [
    "This file downloads all the 'Ordenes de Compras' from years 2021 to 2024 corresponding to FAs. "
   ]
  },
  {
   "cell_type": "code",
   "execution_count": 1,
   "metadata": {},
   "outputs": [],
   "source": [
    "import requests as rq\n",
    "import os\n",
    "import zipfile\n",
    "import io\n",
    "import pandas as pd"
   ]
  },
  {
   "cell_type": "markdown",
   "metadata": {},
   "source": [
    "Extract files between jan 2021 - dec 2024"
   ]
  },
  {
   "cell_type": "code",
   "execution_count": 2,
   "metadata": {},
   "outputs": [],
   "source": [
    "years = range(2021, 2024 + 1)\n",
    "months = range(1, 12 + 1)\n",
    "overwrite = False #overwrite files "
   ]
  },
  {
   "cell_type": "markdown",
   "metadata": {},
   "source": [
    "## CM Vehículos 2023"
   ]
  },
  {
   "cell_type": "code",
   "execution_count": 3,
   "metadata": {},
   "outputs": [],
   "source": [
    "\n",
    "destination_path = os.path.join('..', '..', 'raw_data', 'ConvenioMarco', 'vehiculos_2023')\n",
    "if not os.path.isdir(destination_path) or overwrite:\n",
    "    url = \"https://transparenciachc.blob.core.windows.net/maestrascm/MaestraProd_cm_2239-8-lr23.zip\"\n",
    "    r = rq.get(url)\n",
    "    z = zipfile.ZipFile(io.BytesIO(r.content))\n",
    "    z.extractall(destination_path)"
   ]
  },
  {
   "cell_type": "markdown",
   "metadata": {},
   "source": [
    "## Transacciones Mercado Público"
   ]
  },
  {
   "cell_type": "markdown",
   "metadata": {},
   "source": [
    "The following code returns an error, but it is not a problem. Because there is no file for 2024-9 hence when the ulr receives month = 9, year = 2024 it does not find the corresponding file. But at that point all the relevant files have already been downloaded"
   ]
  },
  {
   "cell_type": "code",
   "execution_count": 4,
   "metadata": {},
   "outputs": [],
   "source": [
    "overwrite = False"
   ]
  },
  {
   "cell_type": "code",
   "execution_count": 5,
   "metadata": {},
   "outputs": [],
   "source": [
    "base_path = os.path.join('..', '..', 'raw_data', 'ConvenioMarco', 'transacciones')\n",
    "for year in years:\n",
    "    for month in months:\n",
    "        try:\n",
    "            destination_path = os.path.join(base_path, str(year))\n",
    "            if not os.path.isdir(os.path.join(destination_path, f'{year}-{month}.csv')) or overwrite:\n",
    "                url = f\"https://transparenciachc.blob.core.windows.net/planillas-cm/{year}-{month}.zip\"\n",
    "                r = rq.get(url)\n",
    "                z = zipfile.ZipFile(io.BytesIO(r.content))\n",
    "                z.extractall(destination_path)\n",
    "        except:\n",
    "            continue\n"
   ]
  }
 ],
 "metadata": {
  "kernelspec": {
   "display_name": "Python 3",
   "language": "python",
   "name": "python3"
  },
  "language_info": {
   "codemirror_mode": {
    "name": "ipython",
    "version": 3
   },
   "file_extension": ".py",
   "mimetype": "text/x-python",
   "name": "python",
   "nbconvert_exporter": "python",
   "pygments_lexer": "ipython3",
   "version": "3.9.6"
  }
 },
 "nbformat": 4,
 "nbformat_minor": 2
}
