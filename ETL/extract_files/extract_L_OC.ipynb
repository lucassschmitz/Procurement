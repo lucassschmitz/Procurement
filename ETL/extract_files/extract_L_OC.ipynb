{
 "cells": [
  {
   "cell_type": "markdown",
   "metadata": {},
   "source": [
    "Extract data from Licitaciones and Ordenes de Compra"
   ]
  },
  {
   "cell_type": "code",
   "execution_count": 1,
   "metadata": {},
   "outputs": [],
   "source": [
    "import os\n",
    "import requests as rq\n",
    "import zipfile\n",
    "import io"
   ]
  },
  {
   "cell_type": "code",
   "execution_count": 2,
   "metadata": {},
   "outputs": [],
   "source": [
    "years = range(2018, 2024)\n",
    "months = range(1, 13)\n",
    "\n",
    "def download_non_existent(folder : str, path: str, year : int, month : int, type): \n",
    "\n",
    "\n",
    "    if os.path.exists(path):\n",
    "        print(f\"File for {type}-{year}-{month} already exists\")\n",
    "    else: \n",
    "        print(f'Downloading {type}-{year}-{month}')\n",
    "\n",
    "        if type == 'L': \n",
    "            r = rq.get(f'https://transparenciachc.blob.core.windows.net/lic-da/{year}-{month}.zip')\n",
    "\n",
    "        if type == 'OC': \n",
    "            r = rq.get(f'https://transparenciachc.blob.core.windows.net/oc-da/{year}-{month}.zip')\n",
    "        \n",
    "        z = zipfile.ZipFile(io.BytesIO(r.content))\n",
    "        z.extractall(folder)\n",
    "        print(f\"Successfully extracted {year}-{month} to {path}\")\n",
    "\n"
   ]
  },
  {
   "cell_type": "code",
   "execution_count": 3,
   "metadata": {},
   "outputs": [
    {
     "name": "stdout",
     "output_type": "stream",
     "text": [
      "File for L-2018-1 already exists\n",
      "File for OC-2018-1 already exists\n",
      "File for L-2018-2 already exists\n",
      "File for OC-2018-2 already exists\n",
      "File for L-2018-3 already exists\n",
      "File for OC-2018-3 already exists\n",
      "File for L-2018-4 already exists\n",
      "File for OC-2018-4 already exists\n",
      "File for L-2018-5 already exists\n",
      "Downloading OC-2018-5\n"
     ]
    }
   ],
   "source": [
    "base_path_L = os.path.join('..', '..','raw_data','Licitaciones')\n",
    "base_path_OC = os.path.join('..', '..', 'raw_data','OrdenesCompra')\n",
    "\n",
    "for year in years:\n",
    "    for month in months:\n",
    "        folder_L = os.path.join(base_path_L, f'{year}')\n",
    "        path_L = os.path.join(base_path_L, f'{year}', f'lic_{year}-{month}.csv')\n",
    "        download_non_existent(folder_L, path_L, year, month, 'L')\n",
    "\n",
    "        folder_OC = os.path.join(base_path_OC, f'{year}')\n",
    "        path_OC = os.path.join(base_path_OC, f'{year}', f'{year}-{month}.csv')\n",
    "        download_non_existent(folder_OC, path_OC, year, month, 'OC')\n"
   ]
  }
 ],
 "metadata": {
  "kernelspec": {
   "display_name": "Python 3",
   "language": "python",
   "name": "python3"
  },
  "language_info": {
   "codemirror_mode": {
    "name": "ipython",
    "version": 3
   },
   "file_extension": ".py",
   "mimetype": "text/x-python",
   "name": "python",
   "nbconvert_exporter": "python",
   "pygments_lexer": "ipython3",
   "version": "3.11.8"
  }
 },
 "nbformat": 4,
 "nbformat_minor": 2
}
