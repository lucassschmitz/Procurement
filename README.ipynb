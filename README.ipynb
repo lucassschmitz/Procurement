{
 "cells": [
  {
   "cell_type": "markdown",
   "metadata": {},
   "source": [
    "# 2nd year paper\n",
    "### Here we will be uploading all the files used to analyze the procurement data\n",
    "\n",
    "The folders and they content are: \n",
    "\n",
    "- raw_data: stores the files downloaded without any processing. \n",
    "\n",
    "- interm_data: stores the data already processed \n",
    "\n",
    "- ETL: has the code to download the data from Mercado Publico. \n",
    "    - extract_CM downloads data specific to FAs (Convenios Marco) \n",
    "    - extract_L_OC: downloads the 'Ordenes de compra' and 'Licitaciones \n",
    "\n",
    "- convenio_marco: uses the data from FAs to \n",
    "\n",
    "- car_data: does the web-scrappoing to obtain product characteristics. \n",
    "\n",
    "\n"
   ]
  },
  {
   "cell_type": "markdown",
   "metadata": {},
   "source": []
  },
  {
   "cell_type": "markdown",
   "metadata": {},
   "source": [
    "Order to run the code \n",
    "1. Run code from ETL folder and first the 'extract_files' subfolder and then the 'transform_files' subfolder."
   ]
  }
 ],
 "metadata": {
  "language_info": {
   "name": "python"
  }
 },
 "nbformat": 4,
 "nbformat_minor": 2
}
