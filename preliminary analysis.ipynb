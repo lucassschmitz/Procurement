{
 "cells": [
  {
   "cell_type": "code",
   "execution_count": 1,
   "metadata": {},
   "outputs": [
    {
     "name": "stderr",
     "output_type": "stream",
     "text": [
      "C:\\Users\\lucas\\AppData\\Local\\Temp\\ipykernel_7740\\1954001689.py:8: DtypeWarning: Columns (63,87,97,101) have mixed types. Specify dtype option on import or set low_memory=False.\n",
      "  df = pd.read_csv(root_path + r\"\\Licitaciones\\2022-1\\lic_2022-1.csv\", encoding='latin1', sep=';')\n",
      "PandasGUI INFO — pandasgui.gui — Opening PandasGUI\n"
     ]
    },
    {
     "data": {
      "text/plain": [
       "<pandasgui.gui.PandasGui at 0x19efa6135b0>"
      ]
     },
     "execution_count": 1,
     "metadata": {},
     "output_type": "execute_result"
    },
    {
     "ename": "",
     "evalue": "",
     "output_type": "error",
     "traceback": [
      "\u001b[1;31mThe Kernel crashed while executing code in the current cell or a previous cell. \n",
      "\u001b[1;31mPlease review the code in the cell(s) to identify a possible cause of the failure. \n",
      "\u001b[1;31mClick <a href='https://aka.ms/vscodeJupyterKernelCrash'>here</a> for more info. \n",
      "\u001b[1;31mView Jupyter <a href='command:jupyter.viewOutput'>log</a> for further details."
     ]
    }
   ],
   "source": [
    "from pandasgui import show\n",
    "import pandas as pd\n",
    "import matplotlib.pyplot as plt\n",
    "\n",
    "figure_path = r\"C:\\Users\\lucas\\OneDrive - Yale University\\2nd year paper\\Procurement\\figures\"\n",
    "root_path = r\"C:\\Users\\lucas\\OneDrive - Yale University\\2nd year paper\\Procurement\\raw_data\"\n",
    "data_path = r\"C:\\Users\\lucas\\OneDrive - Yale University\\2nd year paper\\Procurement\\data\"\n",
    "df = pd.read_csv(root_path + r\"\\Licitaciones\\2022-1\\lic_2022-1.csv\", encoding='latin1', sep=';') \n",
    "df\n",
    "\n",
    "show(df)"
   ]
  },
  {
   "cell_type": "code",
   "execution_count": 3,
   "metadata": {},
   "outputs": [
    {
     "name": "stdout",
     "output_type": "stream",
     "text": [
      "False\n"
     ]
    }
   ],
   "source": [
    "# codigo is not unique \n",
    "is_unique = not df['Codigo'].duplicated().any()\n",
    "print(is_unique)\n",
    "\n",
    " "
   ]
  },
  {
   "cell_type": "code",
   "execution_count": 4,
   "metadata": {},
   "outputs": [
    {
     "data": {
      "text/plain": [
       "['Codigo',\n",
       " 'Link',\n",
       " 'CodigoExterno',\n",
       " 'Nombre',\n",
       " 'Descripcion',\n",
       " 'Tipo de Adquisicion',\n",
       " 'CodigoEstado',\n",
       " 'Estado',\n",
       " 'CodigoOrganismo',\n",
       " 'NombreOrganismo',\n",
       " 'sector',\n",
       " 'RutUnidad',\n",
       " 'CodigoUnidad',\n",
       " 'NombreUnidad',\n",
       " 'DireccionUnidad',\n",
       " 'ComunaUnidad',\n",
       " 'RegionUnidad',\n",
       " 'Informada',\n",
       " 'CodigoTipo',\n",
       " 'Tipo',\n",
       " 'TipoConvocatoria',\n",
       " 'CodigoMoneda',\n",
       " 'Moneda Adquisicion',\n",
       " 'Etapas',\n",
       " 'EstadoEtapas',\n",
       " 'TomaRazon',\n",
       " 'EstadoPublicidadOfertas',\n",
       " 'JustificacionPublicidad',\n",
       " 'EstadoCS',\n",
       " 'Contrato',\n",
       " 'Obras',\n",
       " 'CantidadReclamos',\n",
       " 'FechaCreacion',\n",
       " 'FechaCierre',\n",
       " 'FechaInicio',\n",
       " 'FechaFinal',\n",
       " 'FechaPubRespuestas',\n",
       " 'FechaActoAperturaTecnica',\n",
       " 'FechaActoAperturaEconomica',\n",
       " 'FechaPublicacion',\n",
       " 'FechaAdjudicacion',\n",
       " 'FechaEstimadaAdjudicacion',\n",
       " 'FechaSoporteFisico',\n",
       " 'FechaTiempoEvaluacion',\n",
       " 'UnidadTiempoEvaluacion',\n",
       " 'FechaEstimadaFirma',\n",
       " 'FechasUsuario',\n",
       " 'FechaVisitaTerreno',\n",
       " 'DireccionVisita',\n",
       " 'FechaEntregaAntecedentes',\n",
       " 'DireccionEntrega',\n",
       " 'Estimacion',\n",
       " 'FuenteFinanciamiento',\n",
       " 'VisibilidadMonto',\n",
       " 'MontoEstimado',\n",
       " 'Tiempo',\n",
       " 'UnidadTiempo',\n",
       " 'Modalidad',\n",
       " 'TipoPago',\n",
       " 'ProhibicionContratacion',\n",
       " 'SubContratacion',\n",
       " 'UnidadTiempoDuracionContrato',\n",
       " 'TiempoDuracionContrato',\n",
       " 'TipoDuracionContrato',\n",
       " 'JustificacionMontoEstimado',\n",
       " 'ObservacionContrato',\n",
       " 'ExtensionPlazo',\n",
       " 'EsBaseTipo',\n",
       " 'UnidadTiempoContratoLicitacion',\n",
       " 'ValorTiempoRenovacion',\n",
       " 'PeriodoTiempoRenovacion',\n",
       " 'EsRenovable',\n",
       " 'TipoAprobacion',\n",
       " 'NumeroAprobacion',\n",
       " 'FechaAprobacion',\n",
       " 'NumeroOferentes',\n",
       " 'Correlativo',\n",
       " 'CodigoEstadoLicitacion',\n",
       " 'Codigoitem',\n",
       " 'CodigoProductoONU',\n",
       " 'Rubro1',\n",
       " 'Rubro2',\n",
       " 'Rubro3',\n",
       " 'Nombre producto genrico',\n",
       " 'Nombre linea Adquisicion',\n",
       " 'Descripcion linea Adquisicion',\n",
       " 'UnidadMedida',\n",
       " 'Cantidad',\n",
       " 'CodigoProveedor',\n",
       " 'CodigoSucursalProveedor',\n",
       " 'RutProveedor',\n",
       " 'NombreProveedor',\n",
       " 'RazonSocialProveedor',\n",
       " 'DescripcionProveedor',\n",
       " 'Monto Estimado Adjudicado',\n",
       " 'Nombre de la Oferta',\n",
       " 'Estado Oferta',\n",
       " 'Cantidad Ofertada',\n",
       " 'Moneda de la Oferta',\n",
       " 'MontoUnitarioOferta',\n",
       " 'Valor Total Ofertado',\n",
       " 'CantidadAdjudicada',\n",
       " 'MontoLineaAdjudica',\n",
       " 'FechaEnvioOferta',\n",
       " 'Oferta seleccionada']"
      ]
     },
     "execution_count": 4,
     "metadata": {},
     "output_type": "execute_result"
    }
   ],
   "source": [
    "pd.set_option('display.max_columns', None)\n",
    "pd.set_option('display.max_colwidth', None)\n",
    "pd.set_option('display.expand_frame_repr', False)\n",
    "\n",
    "list(df.columns)"
   ]
  },
  {
   "cell_type": "code",
   "execution_count": 6,
   "metadata": {},
   "outputs": [
    {
     "name": "stdout",
     "output_type": "stream",
     "text": [
      "sector tab\n",
      "sector\n",
      "Municipalidades                78365\n",
      "Salud                          38813\n",
      "Gob. Central, Universidades    12494\n",
      "FFAA                            5960\n",
      "Otros                           1574\n",
      "Obras Públicas                   459\n",
      "Legislativo y judicial           290\n",
      "Name: count, dtype: int64\n",
      "\n",
      "NombreUnidad tab\n",
      "NombreUnidad\n",
      "Bienes y Servicios                                    9349\n",
      "Salud                                                 8365\n",
      "Departamento de Salud                                 5783\n",
      "COMPLEJO ASISTENCIAL DR. SOTERO DEL RIO               3485\n",
      "SALUD                                                 3027\n",
      "                                                      ... \n",
      "Aeropuerto Arturo Merino Benítez                         1\n",
      "Servicio de Salud del Reloncaví                          1\n",
      "Hospital de Queilen                                      1\n",
      "Operaciones, Medio Ambiente, Aseo y Ornato               1\n",
      "CENTRO DE FORMACION TECNICA DE LA REGION DE ATACAM       1\n",
      "Name: count, Length: 1404, dtype: int64\n",
      "\n",
      "RegionUnidad tab\n",
      "RegionUnidad\n",
      "Región Metropolitana de Santiago                    31847\n",
      "Región del Maule                                    17325\n",
      "Región de los Lagos                                 14451\n",
      "Región del Libertador General Bernardo O´Higgins    13931\n",
      "Región del Biobío                                   13641\n",
      "Región de Valparaíso                                12527\n",
      "Región de la Araucanía                               7625\n",
      "Región del Ñuble                                     5383\n",
      "Región de Los Ríos                                   5212\n",
      "Región de Coquimbo                                   5112\n",
      "Región de Atacama                                    2557\n",
      "Región de Antofagasta                                2102\n",
      "Región de Arica y Parinacota                         1921\n",
      "Región de Magallanes y de la Antártica               1916\n",
      "Región Aysén del General Carlos Ibáñez del Campo     1453\n",
      "Región de Tarapacá                                    952\n",
      "Name: count, dtype: int64\n",
      "\n",
      "CodigoTipo tab\n",
      "CodigoTipo\n",
      "1    137832\n",
      "3       123\n",
      "Name: count, dtype: int64\n",
      "\n",
      "CodigoEstado tab\n",
      "CodigoEstado\n",
      "8     120246\n",
      "9       6712\n",
      "7       6498\n",
      "15      2991\n",
      "6       1436\n",
      "13        39\n",
      "14        29\n",
      "16         4\n",
      "Name: count, dtype: int64\n",
      "\n"
     ]
    }
   ],
   "source": [
    "# Define the list of column names\n",
    "columns = ['sector', 'NombreUnidad', 'RegionUnidad', 'CodigoTipo', 'CodigoEstado' ]\n",
    "\n",
    "# Iterate over the columns\n",
    "for column in columns:\n",
    "    # Display the unique values and their frequencies for the column\n",
    "    column_counts = df[column].value_counts()\n",
    "    print(f\"{column} tab\")\n",
    "    print(column_counts)\n",
    "    print(\"\") # Add a blank line for spacing \n"
   ]
  },
  {
   "cell_type": "code",
   "execution_count": 7,
   "metadata": {},
   "outputs": [
    {
     "name": "stdout",
     "output_type": "stream",
     "text": [
      "CodigoEstado tab\n",
      "CodigoEstado\n",
      "8     120246\n",
      "9       6712\n",
      "7       6498\n",
      "15      2991\n",
      "6       1436\n",
      "13        39\n",
      "14        29\n",
      "16         4\n",
      "Name: count, dtype: int64\n",
      "\n",
      "Tipo de Adquisicion tab\n",
      "Tipo de Adquisicion\n",
      "Licitación Pública Entre 100 y 1000 UTM (LE)                   63270\n",
      "Licitación Pública Menor a 100 UTM (L1)                        38111\n",
      "Licitación Pública entre a 2000 y 5000 UTM (LQ)                16705\n",
      "Licitación Pública Mayor 1000 UTM (LP)                         10245\n",
      "Licitación Pública Mayor a 5000 (LR)                            9423\n",
      "Licitación Privada entre 100 y 1000 UTM.                          89\n",
      "Licitación Pública MOP (O1)                                       75\n",
      "Licitación Privada Menor a 100 UTM.                               21\n",
      "Licitación Privada Mayor a 1000 UTM                                5\n",
      "Licitación Privada entre a 2000 y 5000 UTM (H2)                    5\n",
      "Licitación Pública Servicios personales especializados (LS)        3\n",
      "Licitación Privada Mayor a 5000 (I2)                               2\n",
      "Licitación Privada MOP (O2)                                        1\n",
      "Name: count, dtype: int64\n",
      "\n",
      "Informada tab\n",
      "Informada\n",
      "0    137955\n",
      "Name: count, dtype: int64\n",
      "\n",
      "Tipo tab\n",
      "Tipo\n",
      "LE    63270\n",
      "L1    38111\n",
      "LQ    16705\n",
      "LP    10245\n",
      "LR     9423\n",
      "CO       89\n",
      "O1       75\n",
      "E2       21\n",
      "B2        5\n",
      "H2        5\n",
      "LS        3\n",
      "I2        2\n",
      "O2        1\n",
      "Name: count, dtype: int64\n",
      "\n",
      "CodigoTipo tab\n",
      "CodigoTipo\n",
      "1    137832\n",
      "3       123\n",
      "Name: count, dtype: int64\n",
      "\n",
      "TipoConvocatoria tab\n",
      "TipoConvocatoria\n",
      "1    137829\n",
      "0       126\n",
      "Name: count, dtype: int64\n",
      "\n"
     ]
    }
   ],
   "source": [
    "# Define the list of column names\n",
    "vars = ['CodigoEstado', 'Tipo de Adquisicion','Informada','Tipo', 'CodigoTipo']\n",
    "\n",
    "# Iterate over the columns\n",
    "for var in vars:\n",
    "    # Display the unique values and their frequencies for the column\n",
    "    column_counts = df[var].value_counts()\n",
    "    print(f\"{var} tab\")\n",
    "    print(column_counts)\n",
    "    print(\"\") # Add a blank line for spacing \n",
    "\n",
    "# Define the list of column names\n",
    "vars2 = ['TipoConvocatoria']\n",
    "\n",
    "# Iterate over the columns\n",
    "for var in vars2:\n",
    "    # Display the unique values and their frequencies for the column\n",
    "    column_counts = df[var].value_counts()\n",
    "    print(f\"{var} tab\")\n",
    "    print(column_counts)\n",
    "    print(\"\") # Add a blank line for spacing \n"
   ]
  },
  {
   "cell_type": "code",
   "execution_count": 8,
   "metadata": {},
   "outputs": [
    {
     "name": "stdout",
     "output_type": "stream",
     "text": [
      "   CodigoEstado                              Estado   count\n",
      "0             6                             Cerrada    1436\n",
      "1             7  Desierta (o art. 3 ó 9 Ley 19.886)    6498\n",
      "2             8                          Adjudicada  120246\n",
      "3             9                          Adjudicada    6712\n",
      "4            13                             Cerrada      39\n",
      "5            14                             Cerrada      29\n",
      "6            15                            Revocada    2991\n",
      "7            16                          Suspendida       4\n"
     ]
    }
   ],
   "source": [
    "    # Tabulate the joint distribution of CodigoEstado and Estado\n",
    "    joint_distribution = df.groupby(['CodigoEstado', 'Estado']).size().reset_index(name='count')\n",
    "    print(joint_distribution)"
   ]
  },
  {
   "cell_type": "code",
   "execution_count": 9,
   "metadata": {},
   "outputs": [
    {
     "name": "stdout",
     "output_type": "stream",
     "text": [
      "TipoPago tab\n",
      "TipoPago\n",
      " 4    49689\n",
      " 1    45661\n",
      "-1    22898\n",
      " 2    19707\n",
      "Name: count, dtype: int64\n",
      "\n"
     ]
    }
   ],
   "source": [
    "# Define the list of column names\n",
    "vars = ['TipoPago']\n",
    "\n",
    "# Iterate over the columns\n",
    "for var in vars:\n",
    "    # Display the unique values and their frequencies for the column\n",
    "    column_counts = df[var].value_counts()\n",
    "    print(f\"{var} tab\")\n",
    "    print(column_counts)\n",
    "    print(\"\") # Add a blank line for spacing \n",
    " "
   ]
  },
  {
   "cell_type": "code",
   "execution_count": 10,
   "metadata": {},
   "outputs": [
    {
     "data": {
      "image/png": "[encoded data removed]",
      "text/plain": [
       "<Figure size 640x480 with 1 Axes>"
      ]
     },
     "metadata": {},
     "output_type": "display_data"
    }
   ],
   "source": [
    " \n",
    "df['NumeroOferentes'].hist()\n",
    "plt.title('Histogram of number of offers, 2022-1')\n",
    "plt.xlabel('Number of offers')\n",
    "plt.ylabel('Frequency')\n",
    "plt.savefig(figure_path + r'\\22_offers_hist.png')\n",
    "\n",
    "\n",
    "\n",
    "df['MontoEstimado'] = pd.to_numeric(df['MontoEstimado'], errors='coerce').fillna(-1).astype(int)\n",
    "df['Monto Estimado Adjudicado'] = pd.to_numeric(df['Monto Estimado Adjudicado'], errors='coerce').fillna(-1).astype(int)\n"
   ]
  },
  {
   "cell_type": "code",
   "execution_count": 11,
   "metadata": {},
   "outputs": [
    {
     "name": "stdout",
     "output_type": "stream",
     "text": [
      "Correlation: 0.8043236631113226\n"
     ]
    },
    {
     "data": {
      "image/png": "[encoded data removed]",
      "text/plain": [
       "<Figure size 640x480 with 1 Axes>"
      ]
     },
     "metadata": {},
     "output_type": "display_data"
    }
   ],
   "source": [
    "\n",
    "# Exclude observations where either 'Monto Estimado Adjudicado' or 'MontoEstimado' is -1\n",
    "filtered_df = df[(df['Monto Estimado Adjudicado'] >= 0) & (df['MontoEstimado'] >= 0)]\n",
    "\n",
    "# Calculate the correlation between 'Monto Estimado Adjudicado' and 'MontoEstimado'\n",
    "correlation = filtered_df['Monto Estimado Adjudicado'].corr(filtered_df['MontoEstimado'])\n",
    "print(f\"Correlation: {correlation}\")\n",
    "import numpy as np\n",
    "\n",
    "# Plot the joint distribution with quadratic fit\n",
    "y = filtered_df['Monto Estimado Adjudicado']\n",
    "x = filtered_df['MontoEstimado']\n",
    "\n",
    "\n",
    "\n",
    "# Fit a quadratic curve\n",
    "coefficients = np.polyfit(x, y, 2)\n",
    "curve_x = np.linspace(x.min(), x.max(), 100)\n",
    "curve_y = np.polyval(coefficients, curve_x)\n",
    "\n",
    "# Plot the scatter plot and quadratic curve\n",
    "plt.scatter(x, y)\n",
    "plt.plot(curve_x, curve_y, color='red', label='Quadratic Fit')\n",
    "plt.ylabel('Realized amount')\n",
    "plt.xlabel('Estimated amount')\n",
    "plt.title('Miss Estimation of the amount')\n",
    "plt.legend()\n",
    "plt.savefig(figure_path + r'\\22_estimatedvsrealizedamount.png')\n",
    "plt.show()\n",
    "\n",
    "plt.close()\n"
   ]
  },
  {
   "cell_type": "code",
   "execution_count": 12,
   "metadata": {},
   "outputs": [
    {
     "name": "stdout",
     "output_type": "stream",
     "text": [
      "[156347.24557135   2846.16409566]\n"
     ]
    }
   ],
   "source": [
    "df['over_pay'] = df['Monto Estimado Adjudicado'] / df['MontoEstimado']\n",
    "\n",
    "from sklearn.linear_model import LinearRegression\n",
    "\n",
    "# Define the predictors\n",
    "predictors = ['NumeroOferentes',     'CantidadReclamos']\n",
    "\n",
    "# Create the feature matrix X\n",
    "X = pd.get_dummies(df['Tipo de Adquisicion'], drop_first=True)\n",
    "X = pd.concat([X, df[predictors]], axis=1)\n",
    "\n",
    "# Create the target variable y\n",
    "y = df['over_pay']\n",
    "\n",
    "# Create an instance of the Linear Regression model\n",
    "model = LinearRegression()\n",
    "\n",
    "# Fit the model to the data\n",
    "model.fit(X, y)\n",
    "\n",
    "# Get the coefficients\n",
    "coefficients = model.coef_\n",
    "\n",
    "# Print the coefficients\n",
    "# Print the coefficients of the variables in the list predictors\n",
    "print(coefficients[len(X.columns)-len(predictors):])"
   ]
  },
  {
   "cell_type": "code",
   "execution_count": 21,
   "metadata": {},
   "outputs": [
    {
     "ename": "IllegalCharacterError",
     "evalue": "El Servicio Local de Educación Pública Puerto Cordillera  en adelante SLEP Puerto Cordillera\u0002llama a presentar ofertas para contratar el SERVICIO DE SISTEMA DE GESTIÓN \r\r\nPEDAGÓGICA PARA EL MEJORAMIENTO DE PROCESOS Y RESULTADOS EDUCATIVOS \r\r\nEN ESTABLECIMIENTOS EDUCACIONALES DE SU DEPENDENCIA cannot be used in worksheets.",
     "output_type": "error",
     "traceback": [
      "\u001b[1;31m---------------------------------------------------------------------------\u001b[0m",
      "\u001b[1;31mIllegalCharacterError\u001b[0m                     Traceback (most recent call last)",
      "Cell \u001b[1;32mIn[21], line 3\u001b[0m\n\u001b[0;32m      1\u001b[0m df\u001b[38;5;241m.\u001b[39mto_csv(data_path \u001b[38;5;241m+\u001b[39m \u001b[38;5;124mr\u001b[39m\u001b[38;5;124m\"\u001b[39m\u001b[38;5;124m\\\u001b[39m\u001b[38;5;124mlic_2022-1.csv\u001b[39m\u001b[38;5;124m\"\u001b[39m, index\u001b[38;5;241m=\u001b[39m\u001b[38;5;28;01mFalse\u001b[39;00m)\n\u001b[1;32m----> 3\u001b[0m \u001b[43mdf\u001b[49m\u001b[38;5;241;43m.\u001b[39;49m\u001b[43mto_excel\u001b[49m\u001b[43m(\u001b[49m\u001b[43mdata_path\u001b[49m\u001b[43m \u001b[49m\u001b[38;5;241;43m+\u001b[39;49m\u001b[43m \u001b[49m\u001b[38;5;124;43mr\u001b[39;49m\u001b[38;5;124;43m\"\u001b[39;49m\u001b[38;5;124;43m\\\u001b[39;49m\u001b[38;5;124;43mlic_2022-1.xlsx\u001b[39;49m\u001b[38;5;124;43m\"\u001b[39;49m\u001b[43m,\u001b[49m\u001b[43m \u001b[49m\u001b[43mindex\u001b[49m\u001b[38;5;241;43m=\u001b[39;49m\u001b[38;5;28;43;01mFalse\u001b[39;49;00m\u001b[43m)\u001b[49m\n",
      "File \u001b[1;32m~\\AppData\\Local\\Packages\\PythonSoftwareFoundation.Python.3.11_qbz5n2kfra8p0\\LocalCache\\local-packages\\Python311\\site-packages\\pandas\\core\\generic.py:2252\u001b[0m, in \u001b[0;36mNDFrame.to_excel\u001b[1;34m(self, excel_writer, sheet_name, na_rep, float_format, columns, header, index, index_label, startrow, startcol, engine, merge_cells, inf_rep, freeze_panes, storage_options)\u001b[0m\n\u001b[0;32m   2239\u001b[0m \u001b[38;5;28;01mfrom\u001b[39;00m \u001b[38;5;21;01mpandas\u001b[39;00m\u001b[38;5;21;01m.\u001b[39;00m\u001b[38;5;21;01mio\u001b[39;00m\u001b[38;5;21;01m.\u001b[39;00m\u001b[38;5;21;01mformats\u001b[39;00m\u001b[38;5;21;01m.\u001b[39;00m\u001b[38;5;21;01mexcel\u001b[39;00m \u001b[38;5;28;01mimport\u001b[39;00m ExcelFormatter\n\u001b[0;32m   2241\u001b[0m formatter \u001b[38;5;241m=\u001b[39m ExcelFormatter(\n\u001b[0;32m   2242\u001b[0m     df,\n\u001b[0;32m   2243\u001b[0m     na_rep\u001b[38;5;241m=\u001b[39mna_rep,\n\u001b[1;32m   (...)\u001b[0m\n\u001b[0;32m   2250\u001b[0m     inf_rep\u001b[38;5;241m=\u001b[39minf_rep,\n\u001b[0;32m   2251\u001b[0m )\n\u001b[1;32m-> 2252\u001b[0m \u001b[43mformatter\u001b[49m\u001b[38;5;241;43m.\u001b[39;49m\u001b[43mwrite\u001b[49m\u001b[43m(\u001b[49m\n\u001b[0;32m   2253\u001b[0m \u001b[43m    \u001b[49m\u001b[43mexcel_writer\u001b[49m\u001b[43m,\u001b[49m\n\u001b[0;32m   2254\u001b[0m \u001b[43m    \u001b[49m\u001b[43msheet_name\u001b[49m\u001b[38;5;241;43m=\u001b[39;49m\u001b[43msheet_name\u001b[49m\u001b[43m,\u001b[49m\n\u001b[0;32m   2255\u001b[0m \u001b[43m    \u001b[49m\u001b[43mstartrow\u001b[49m\u001b[38;5;241;43m=\u001b[39;49m\u001b[43mstartrow\u001b[49m\u001b[43m,\u001b[49m\n\u001b[0;32m   2256\u001b[0m \u001b[43m    \u001b[49m\u001b[43mstartcol\u001b[49m\u001b[38;5;241;43m=\u001b[39;49m\u001b[43mstartcol\u001b[49m\u001b[43m,\u001b[49m\n\u001b[0;32m   2257\u001b[0m \u001b[43m    \u001b[49m\u001b[43mfreeze_panes\u001b[49m\u001b[38;5;241;43m=\u001b[39;49m\u001b[43mfreeze_panes\u001b[49m\u001b[43m,\u001b[49m\n\u001b[0;32m   2258\u001b[0m \u001b[43m    \u001b[49m\u001b[43mengine\u001b[49m\u001b[38;5;241;43m=\u001b[39;49m\u001b[43mengine\u001b[49m\u001b[43m,\u001b[49m\n\u001b[0;32m   2259\u001b[0m \u001b[43m    \u001b[49m\u001b[43mstorage_options\u001b[49m\u001b[38;5;241;43m=\u001b[39;49m\u001b[43mstorage_options\u001b[49m\u001b[43m,\u001b[49m\n\u001b[0;32m   2260\u001b[0m \u001b[43m\u001b[49m\u001b[43m)\u001b[49m\n",
      "File \u001b[1;32m~\\AppData\\Local\\Packages\\PythonSoftwareFoundation.Python.3.11_qbz5n2kfra8p0\\LocalCache\\local-packages\\Python311\\site-packages\\pandas\\io\\formats\\excel.py:940\u001b[0m, in \u001b[0;36mExcelFormatter.write\u001b[1;34m(self, writer, sheet_name, startrow, startcol, freeze_panes, engine, storage_options)\u001b[0m\n\u001b[0;32m    937\u001b[0m     need_save \u001b[38;5;241m=\u001b[39m \u001b[38;5;28;01mTrue\u001b[39;00m\n\u001b[0;32m    939\u001b[0m \u001b[38;5;28;01mtry\u001b[39;00m:\n\u001b[1;32m--> 940\u001b[0m     \u001b[43mwriter\u001b[49m\u001b[38;5;241;43m.\u001b[39;49m\u001b[43m_write_cells\u001b[49m\u001b[43m(\u001b[49m\n\u001b[0;32m    941\u001b[0m \u001b[43m        \u001b[49m\u001b[43mformatted_cells\u001b[49m\u001b[43m,\u001b[49m\n\u001b[0;32m    942\u001b[0m \u001b[43m        \u001b[49m\u001b[43msheet_name\u001b[49m\u001b[43m,\u001b[49m\n\u001b[0;32m    943\u001b[0m \u001b[43m        \u001b[49m\u001b[43mstartrow\u001b[49m\u001b[38;5;241;43m=\u001b[39;49m\u001b[43mstartrow\u001b[49m\u001b[43m,\u001b[49m\n\u001b[0;32m    944\u001b[0m \u001b[43m        \u001b[49m\u001b[43mstartcol\u001b[49m\u001b[38;5;241;43m=\u001b[39;49m\u001b[43mstartcol\u001b[49m\u001b[43m,\u001b[49m\n\u001b[0;32m    945\u001b[0m \u001b[43m        \u001b[49m\u001b[43mfreeze_panes\u001b[49m\u001b[38;5;241;43m=\u001b[39;49m\u001b[43mfreeze_panes\u001b[49m\u001b[43m,\u001b[49m\n\u001b[0;32m    946\u001b[0m \u001b[43m    \u001b[49m\u001b[43m)\u001b[49m\n\u001b[0;32m    947\u001b[0m \u001b[38;5;28;01mfinally\u001b[39;00m:\n\u001b[0;32m    948\u001b[0m     \u001b[38;5;66;03m# make sure to close opened file handles\u001b[39;00m\n\u001b[0;32m    949\u001b[0m     \u001b[38;5;28;01mif\u001b[39;00m need_save:\n",
      "File \u001b[1;32m~\\AppData\\Local\\Packages\\PythonSoftwareFoundation.Python.3.11_qbz5n2kfra8p0\\LocalCache\\local-packages\\Python311\\site-packages\\pandas\\io\\excel\\_openpyxl.py:489\u001b[0m, in \u001b[0;36mOpenpyxlWriter._write_cells\u001b[1;34m(self, cells, sheet_name, startrow, startcol, freeze_panes)\u001b[0m\n\u001b[0;32m    485\u001b[0m \u001b[38;5;28;01mfor\u001b[39;00m cell \u001b[38;5;129;01min\u001b[39;00m cells:\n\u001b[0;32m    486\u001b[0m     xcell \u001b[38;5;241m=\u001b[39m wks\u001b[38;5;241m.\u001b[39mcell(\n\u001b[0;32m    487\u001b[0m         row\u001b[38;5;241m=\u001b[39mstartrow \u001b[38;5;241m+\u001b[39m cell\u001b[38;5;241m.\u001b[39mrow \u001b[38;5;241m+\u001b[39m \u001b[38;5;241m1\u001b[39m, column\u001b[38;5;241m=\u001b[39mstartcol \u001b[38;5;241m+\u001b[39m cell\u001b[38;5;241m.\u001b[39mcol \u001b[38;5;241m+\u001b[39m \u001b[38;5;241m1\u001b[39m\n\u001b[0;32m    488\u001b[0m     )\n\u001b[1;32m--> 489\u001b[0m     \u001b[43mxcell\u001b[49m\u001b[38;5;241;43m.\u001b[39;49m\u001b[43mvalue\u001b[49m, fmt \u001b[38;5;241m=\u001b[39m \u001b[38;5;28mself\u001b[39m\u001b[38;5;241m.\u001b[39m_value_with_fmt(cell\u001b[38;5;241m.\u001b[39mval)\n\u001b[0;32m    490\u001b[0m     \u001b[38;5;28;01mif\u001b[39;00m fmt:\n\u001b[0;32m    491\u001b[0m         xcell\u001b[38;5;241m.\u001b[39mnumber_format \u001b[38;5;241m=\u001b[39m fmt\n",
      "File \u001b[1;32m~\\AppData\\Local\\Packages\\PythonSoftwareFoundation.Python.3.11_qbz5n2kfra8p0\\LocalCache\\local-packages\\Python311\\site-packages\\openpyxl\\cell\\cell.py:218\u001b[0m, in \u001b[0;36mCell.value\u001b[1;34m(self, value)\u001b[0m\n\u001b[0;32m    215\u001b[0m \u001b[38;5;129m@value\u001b[39m\u001b[38;5;241m.\u001b[39msetter\n\u001b[0;32m    216\u001b[0m \u001b[38;5;28;01mdef\u001b[39;00m \u001b[38;5;21mvalue\u001b[39m(\u001b[38;5;28mself\u001b[39m, value):\n\u001b[0;32m    217\u001b[0m \u001b[38;5;250m    \u001b[39m\u001b[38;5;124;03m\"\"\"Set the value and infer type and display options.\"\"\"\u001b[39;00m\n\u001b[1;32m--> 218\u001b[0m     \u001b[38;5;28;43mself\u001b[39;49m\u001b[38;5;241;43m.\u001b[39;49m\u001b[43m_bind_value\u001b[49m\u001b[43m(\u001b[49m\u001b[43mvalue\u001b[49m\u001b[43m)\u001b[49m\n",
      "File \u001b[1;32m~\\AppData\\Local\\Packages\\PythonSoftwareFoundation.Python.3.11_qbz5n2kfra8p0\\LocalCache\\local-packages\\Python311\\site-packages\\openpyxl\\cell\\cell.py:197\u001b[0m, in \u001b[0;36mCell._bind_value\u001b[1;34m(self, value)\u001b[0m\n\u001b[0;32m    194\u001b[0m         \u001b[38;5;28mself\u001b[39m\u001b[38;5;241m.\u001b[39mnumber_format \u001b[38;5;241m=\u001b[39m get_time_format(t)\n\u001b[0;32m    196\u001b[0m \u001b[38;5;28;01melif\u001b[39;00m dt \u001b[38;5;241m==\u001b[39m \u001b[38;5;124m\"\u001b[39m\u001b[38;5;124ms\u001b[39m\u001b[38;5;124m\"\u001b[39m \u001b[38;5;129;01mand\u001b[39;00m \u001b[38;5;129;01mnot\u001b[39;00m \u001b[38;5;28misinstance\u001b[39m(value, CellRichText):\n\u001b[1;32m--> 197\u001b[0m     value \u001b[38;5;241m=\u001b[39m \u001b[38;5;28;43mself\u001b[39;49m\u001b[38;5;241;43m.\u001b[39;49m\u001b[43mcheck_string\u001b[49m\u001b[43m(\u001b[49m\u001b[43mvalue\u001b[49m\u001b[43m)\u001b[49m\n\u001b[0;32m    198\u001b[0m     \u001b[38;5;28;01mif\u001b[39;00m \u001b[38;5;28mlen\u001b[39m(value) \u001b[38;5;241m>\u001b[39m \u001b[38;5;241m1\u001b[39m \u001b[38;5;129;01mand\u001b[39;00m value\u001b[38;5;241m.\u001b[39mstartswith(\u001b[38;5;124m\"\u001b[39m\u001b[38;5;124m=\u001b[39m\u001b[38;5;124m\"\u001b[39m):\n\u001b[0;32m    199\u001b[0m         \u001b[38;5;28mself\u001b[39m\u001b[38;5;241m.\u001b[39mdata_type \u001b[38;5;241m=\u001b[39m \u001b[38;5;124m'\u001b[39m\u001b[38;5;124mf\u001b[39m\u001b[38;5;124m'\u001b[39m\n",
      "File \u001b[1;32m~\\AppData\\Local\\Packages\\PythonSoftwareFoundation.Python.3.11_qbz5n2kfra8p0\\LocalCache\\local-packages\\Python311\\site-packages\\openpyxl\\cell\\cell.py:165\u001b[0m, in \u001b[0;36mCell.check_string\u001b[1;34m(self, value)\u001b[0m\n\u001b[0;32m    163\u001b[0m value \u001b[38;5;241m=\u001b[39m value[:\u001b[38;5;241m32767\u001b[39m]\n\u001b[0;32m    164\u001b[0m \u001b[38;5;28;01mif\u001b[39;00m \u001b[38;5;28mnext\u001b[39m(ILLEGAL_CHARACTERS_RE\u001b[38;5;241m.\u001b[39mfinditer(value), \u001b[38;5;28;01mNone\u001b[39;00m):\n\u001b[1;32m--> 165\u001b[0m     \u001b[38;5;28;01mraise\u001b[39;00m IllegalCharacterError(\u001b[38;5;124mf\u001b[39m\u001b[38;5;124m\"\u001b[39m\u001b[38;5;132;01m{\u001b[39;00mvalue\u001b[38;5;132;01m}\u001b[39;00m\u001b[38;5;124m cannot be used in worksheets.\u001b[39m\u001b[38;5;124m\"\u001b[39m)\n\u001b[0;32m    166\u001b[0m \u001b[38;5;28;01mreturn\u001b[39;00m value\n",
      "\u001b[1;31mIllegalCharacterError\u001b[0m: El Servicio Local de Educación Pública Puerto Cordillera  en adelante SLEP Puerto Cordillera\u0002llama a presentar ofertas para contratar el SERVICIO DE SISTEMA DE GESTIÓN \r\r\nPEDAGÓGICA PARA EL MEJORAMIENTO DE PROCESOS Y RESULTADOS EDUCATIVOS \r\r\nEN ESTABLECIMIENTOS EDUCACIONALES DE SU DEPENDENCIA cannot be used in worksheets."
     ]
    }
   ],
   "source": [
    "df.to_csv(data_path + r\"\\lic_2022-1.csv\", index=False)\n",
    "\n",
    "df.to_excel(data_path + r\"\\lic_2022-1.xlsx\", index=False)"
   ]
  },
  {
   "cell_type": "code",
   "execution_count": 22,
   "metadata": {},
   "outputs": [],
   "source": [
    "import re\n",
    "\n",
    "\n",
    "# Function to remove non-printable characters\n",
    "def remove_non_printable(text):\n",
    "    if isinstance(text, str):\n",
    "        return re.sub(r'[\\x00-\\x1F\\x7F-\\x9F]', '', text)\n",
    "    return text\n",
    "\n",
    "# Apply the function to all string columns in the DataFrame\n",
    "df = df.applymap(remove_non_printable)\n",
    "\n",
    "# Export the cleaned DataFrame to an Excel file\n",
    "df.to_excel(data_path + '\\\\lic_2022-1.xlsx', index=False)"
   ]
  },
  {
   "cell_type": "code",
   "execution_count": 1,
   "metadata": {},
   "outputs": [
    {
     "ename": "KeyboardInterrupt",
     "evalue": "",
     "output_type": "error",
     "traceback": [
      "\u001b[1;31m---------------------------------------------------------------------------\u001b[0m",
      "\u001b[1;31mKeyboardInterrupt\u001b[0m                         Traceback (most recent call last)",
      "Cell \u001b[1;32mIn[1], line 2\u001b[0m\n\u001b[0;32m      1\u001b[0m \u001b[38;5;28;01mimport\u001b[39;00m \u001b[38;5;21;01mre\u001b[39;00m\n\u001b[1;32m----> 2\u001b[0m \u001b[38;5;28;01mimport\u001b[39;00m \u001b[38;5;21;01mpandas\u001b[39;00m \u001b[38;5;28;01mas\u001b[39;00m \u001b[38;5;21;01mpd\u001b[39;00m\n\u001b[0;32m      5\u001b[0m \u001b[38;5;66;03m# Function to remove non-printable characters\u001b[39;00m\n\u001b[0;32m      6\u001b[0m \u001b[38;5;28;01mdef\u001b[39;00m \u001b[38;5;21mremove_non_printable\u001b[39m(text):\n",
      "File \u001b[1;32m~\\AppData\\Local\\Packages\\PythonSoftwareFoundation.Python.3.11_qbz5n2kfra8p0\\LocalCache\\local-packages\\Python311\\site-packages\\pandas\\__init__.py:22\u001b[0m\n\u001b[0;32m     19\u001b[0m \u001b[38;5;28;01mdel\u001b[39;00m _hard_dependencies, _dependency, _missing_dependencies\n\u001b[0;32m     21\u001b[0m \u001b[38;5;66;03m# numpy compat\u001b[39;00m\n\u001b[1;32m---> 22\u001b[0m \u001b[38;5;28;01mfrom\u001b[39;00m \u001b[38;5;21;01mpandas\u001b[39;00m\u001b[38;5;21;01m.\u001b[39;00m\u001b[38;5;21;01mcompat\u001b[39;00m \u001b[38;5;28;01mimport\u001b[39;00m is_numpy_dev \u001b[38;5;28;01mas\u001b[39;00m _is_numpy_dev  \u001b[38;5;66;03m# pyright: ignore # noqa:F401\u001b[39;00m\n\u001b[0;32m     24\u001b[0m \u001b[38;5;28;01mtry\u001b[39;00m:\n\u001b[0;32m     25\u001b[0m     \u001b[38;5;28;01mfrom\u001b[39;00m \u001b[38;5;21;01mpandas\u001b[39;00m\u001b[38;5;21;01m.\u001b[39;00m\u001b[38;5;21;01m_libs\u001b[39;00m \u001b[38;5;28;01mimport\u001b[39;00m hashtable \u001b[38;5;28;01mas\u001b[39;00m _hashtable, lib \u001b[38;5;28;01mas\u001b[39;00m _lib, tslib \u001b[38;5;28;01mas\u001b[39;00m _tslib\n",
      "File \u001b[1;32m~\\AppData\\Local\\Packages\\PythonSoftwareFoundation.Python.3.11_qbz5n2kfra8p0\\LocalCache\\local-packages\\Python311\\site-packages\\pandas\\compat\\__init__.py:25\u001b[0m\n\u001b[0;32m     17\u001b[0m \u001b[38;5;28;01mfrom\u001b[39;00m \u001b[38;5;21;01mpandas\u001b[39;00m\u001b[38;5;21;01m.\u001b[39;00m\u001b[38;5;21;01mcompat\u001b[39;00m\u001b[38;5;21;01m.\u001b[39;00m\u001b[38;5;21;01m_constants\u001b[39;00m \u001b[38;5;28;01mimport\u001b[39;00m (\n\u001b[0;32m     18\u001b[0m     IS64,\n\u001b[0;32m     19\u001b[0m     PY39,\n\u001b[1;32m   (...)\u001b[0m\n\u001b[0;32m     22\u001b[0m     PYPY,\n\u001b[0;32m     23\u001b[0m )\n\u001b[0;32m     24\u001b[0m \u001b[38;5;28;01mimport\u001b[39;00m \u001b[38;5;21;01mpandas\u001b[39;00m\u001b[38;5;21;01m.\u001b[39;00m\u001b[38;5;21;01mcompat\u001b[39;00m\u001b[38;5;21;01m.\u001b[39;00m\u001b[38;5;21;01mcompressors\u001b[39;00m\n\u001b[1;32m---> 25\u001b[0m \u001b[38;5;28;01mfrom\u001b[39;00m \u001b[38;5;21;01mpandas\u001b[39;00m\u001b[38;5;21;01m.\u001b[39;00m\u001b[38;5;21;01mcompat\u001b[39;00m\u001b[38;5;21;01m.\u001b[39;00m\u001b[38;5;21;01mnumpy\u001b[39;00m \u001b[38;5;28;01mimport\u001b[39;00m (\n\u001b[0;32m     26\u001b[0m     is_numpy_dev,\n\u001b[0;32m     27\u001b[0m     np_version_under1p21,\n\u001b[0;32m     28\u001b[0m )\n\u001b[0;32m     29\u001b[0m \u001b[38;5;28;01mfrom\u001b[39;00m \u001b[38;5;21;01mpandas\u001b[39;00m\u001b[38;5;21;01m.\u001b[39;00m\u001b[38;5;21;01mcompat\u001b[39;00m\u001b[38;5;21;01m.\u001b[39;00m\u001b[38;5;21;01mpyarrow\u001b[39;00m \u001b[38;5;28;01mimport\u001b[39;00m (\n\u001b[0;32m     30\u001b[0m     pa_version_under7p0,\n\u001b[0;32m     31\u001b[0m     pa_version_under8p0,\n\u001b[0;32m     32\u001b[0m     pa_version_under9p0,\n\u001b[0;32m     33\u001b[0m     pa_version_under11p0,\n\u001b[0;32m     34\u001b[0m )\n\u001b[0;32m     37\u001b[0m \u001b[38;5;28;01mdef\u001b[39;00m \u001b[38;5;21mset_function_name\u001b[39m(f: F, name: \u001b[38;5;28mstr\u001b[39m, \u001b[38;5;28mcls\u001b[39m) \u001b[38;5;241m-\u001b[39m\u001b[38;5;241m>\u001b[39m F:\n",
      "File \u001b[1;32m~\\AppData\\Local\\Packages\\PythonSoftwareFoundation.Python.3.11_qbz5n2kfra8p0\\LocalCache\\local-packages\\Python311\\site-packages\\pandas\\compat\\numpy\\__init__.py:4\u001b[0m\n\u001b[0;32m      1\u001b[0m \u001b[38;5;124;03m\"\"\" support numpy compatibility across versions \"\"\"\u001b[39;00m\n\u001b[0;32m      2\u001b[0m \u001b[38;5;28;01mimport\u001b[39;00m \u001b[38;5;21;01mnumpy\u001b[39;00m \u001b[38;5;28;01mas\u001b[39;00m \u001b[38;5;21;01mnp\u001b[39;00m\n\u001b[1;32m----> 4\u001b[0m \u001b[38;5;28;01mfrom\u001b[39;00m \u001b[38;5;21;01mpandas\u001b[39;00m\u001b[38;5;21;01m.\u001b[39;00m\u001b[38;5;21;01mutil\u001b[39;00m\u001b[38;5;21;01m.\u001b[39;00m\u001b[38;5;21;01mversion\u001b[39;00m \u001b[38;5;28;01mimport\u001b[39;00m Version\n\u001b[0;32m      6\u001b[0m \u001b[38;5;66;03m# numpy versioning\u001b[39;00m\n\u001b[0;32m      7\u001b[0m _np_version \u001b[38;5;241m=\u001b[39m np\u001b[38;5;241m.\u001b[39m__version__\n",
      "File \u001b[1;32m~\\AppData\\Local\\Packages\\PythonSoftwareFoundation.Python.3.11_qbz5n2kfra8p0\\LocalCache\\local-packages\\Python311\\site-packages\\pandas\\util\\__init__.py:2\u001b[0m\n\u001b[0;32m      1\u001b[0m \u001b[38;5;66;03m# pyright: reportUnusedImport = false\u001b[39;00m\n\u001b[1;32m----> 2\u001b[0m \u001b[38;5;28;01mfrom\u001b[39;00m \u001b[38;5;21;01mpandas\u001b[39;00m\u001b[38;5;21;01m.\u001b[39;00m\u001b[38;5;21;01mutil\u001b[39;00m\u001b[38;5;21;01m.\u001b[39;00m\u001b[38;5;21;01m_decorators\u001b[39;00m \u001b[38;5;28;01mimport\u001b[39;00m (  \u001b[38;5;66;03m# noqa:F401\u001b[39;00m\n\u001b[0;32m      3\u001b[0m     Appender,\n\u001b[0;32m      4\u001b[0m     Substitution,\n\u001b[0;32m      5\u001b[0m     cache_readonly,\n\u001b[0;32m      6\u001b[0m )\n\u001b[0;32m      8\u001b[0m \u001b[38;5;28;01mfrom\u001b[39;00m \u001b[38;5;21;01mpandas\u001b[39;00m\u001b[38;5;21;01m.\u001b[39;00m\u001b[38;5;21;01mcore\u001b[39;00m\u001b[38;5;21;01m.\u001b[39;00m\u001b[38;5;21;01mutil\u001b[39;00m\u001b[38;5;21;01m.\u001b[39;00m\u001b[38;5;21;01mhashing\u001b[39;00m \u001b[38;5;28;01mimport\u001b[39;00m (  \u001b[38;5;66;03m# noqa:F401\u001b[39;00m\n\u001b[0;32m      9\u001b[0m     hash_array,\n\u001b[0;32m     10\u001b[0m     hash_pandas_object,\n\u001b[0;32m     11\u001b[0m )\n",
      "File \u001b[1;32m~\\AppData\\Local\\Packages\\PythonSoftwareFoundation.Python.3.11_qbz5n2kfra8p0\\LocalCache\\local-packages\\Python311\\site-packages\\pandas\\util\\_decorators.py:14\u001b[0m\n\u001b[0;32m      6\u001b[0m \u001b[38;5;28;01mfrom\u001b[39;00m \u001b[38;5;21;01mtyping\u001b[39;00m \u001b[38;5;28;01mimport\u001b[39;00m (\n\u001b[0;32m      7\u001b[0m     Any,\n\u001b[0;32m      8\u001b[0m     Callable,\n\u001b[0;32m      9\u001b[0m     Mapping,\n\u001b[0;32m     10\u001b[0m     cast,\n\u001b[0;32m     11\u001b[0m )\n\u001b[0;32m     12\u001b[0m \u001b[38;5;28;01mimport\u001b[39;00m \u001b[38;5;21;01mwarnings\u001b[39;00m\n\u001b[1;32m---> 14\u001b[0m \u001b[38;5;28;01mfrom\u001b[39;00m \u001b[38;5;21;01mpandas\u001b[39;00m\u001b[38;5;21;01m.\u001b[39;00m\u001b[38;5;21;01m_libs\u001b[39;00m\u001b[38;5;21;01m.\u001b[39;00m\u001b[38;5;21;01mproperties\u001b[39;00m \u001b[38;5;28;01mimport\u001b[39;00m cache_readonly\n\u001b[0;32m     15\u001b[0m \u001b[38;5;28;01mfrom\u001b[39;00m \u001b[38;5;21;01mpandas\u001b[39;00m\u001b[38;5;21;01m.\u001b[39;00m\u001b[38;5;21;01m_typing\u001b[39;00m \u001b[38;5;28;01mimport\u001b[39;00m (\n\u001b[0;32m     16\u001b[0m     F,\n\u001b[0;32m     17\u001b[0m     T,\n\u001b[0;32m     18\u001b[0m )\n\u001b[0;32m     19\u001b[0m \u001b[38;5;28;01mfrom\u001b[39;00m \u001b[38;5;21;01mpandas\u001b[39;00m\u001b[38;5;21;01m.\u001b[39;00m\u001b[38;5;21;01mutil\u001b[39;00m\u001b[38;5;21;01m.\u001b[39;00m\u001b[38;5;21;01m_exceptions\u001b[39;00m \u001b[38;5;28;01mimport\u001b[39;00m find_stack_level\n",
      "File \u001b[1;32m~\\AppData\\Local\\Packages\\PythonSoftwareFoundation.Python.3.11_qbz5n2kfra8p0\\LocalCache\\local-packages\\Python311\\site-packages\\pandas\\_libs\\__init__.py:13\u001b[0m\n\u001b[0;32m      1\u001b[0m __all__ \u001b[38;5;241m=\u001b[39m [\n\u001b[0;32m      2\u001b[0m     \u001b[38;5;124m\"\u001b[39m\u001b[38;5;124mNaT\u001b[39m\u001b[38;5;124m\"\u001b[39m,\n\u001b[0;32m      3\u001b[0m     \u001b[38;5;124m\"\u001b[39m\u001b[38;5;124mNaTType\u001b[39m\u001b[38;5;124m\"\u001b[39m,\n\u001b[1;32m   (...)\u001b[0m\n\u001b[0;32m      9\u001b[0m     \u001b[38;5;124m\"\u001b[39m\u001b[38;5;124mInterval\u001b[39m\u001b[38;5;124m\"\u001b[39m,\n\u001b[0;32m     10\u001b[0m ]\n\u001b[1;32m---> 13\u001b[0m \u001b[38;5;28;01mfrom\u001b[39;00m \u001b[38;5;21;01mpandas\u001b[39;00m\u001b[38;5;21;01m.\u001b[39;00m\u001b[38;5;21;01m_libs\u001b[39;00m\u001b[38;5;21;01m.\u001b[39;00m\u001b[38;5;21;01minterval\u001b[39;00m \u001b[38;5;28;01mimport\u001b[39;00m Interval\n\u001b[0;32m     14\u001b[0m \u001b[38;5;28;01mfrom\u001b[39;00m \u001b[38;5;21;01mpandas\u001b[39;00m\u001b[38;5;21;01m.\u001b[39;00m\u001b[38;5;21;01m_libs\u001b[39;00m\u001b[38;5;21;01m.\u001b[39;00m\u001b[38;5;21;01mtslibs\u001b[39;00m \u001b[38;5;28;01mimport\u001b[39;00m (\n\u001b[0;32m     15\u001b[0m     NaT,\n\u001b[0;32m     16\u001b[0m     NaTType,\n\u001b[1;32m   (...)\u001b[0m\n\u001b[0;32m     21\u001b[0m     iNaT,\n\u001b[0;32m     22\u001b[0m )\n",
      "File \u001b[1;32m~\\AppData\\Local\\Packages\\PythonSoftwareFoundation.Python.3.11_qbz5n2kfra8p0\\LocalCache\\local-packages\\Python311\\site-packages\\pandas\\_libs\\interval.pyx:1\u001b[0m, in \u001b[0;36minit pandas._libs.interval\u001b[1;34m()\u001b[0m\n",
      "File \u001b[1;32m~\\AppData\\Local\\Packages\\PythonSoftwareFoundation.Python.3.11_qbz5n2kfra8p0\\LocalCache\\local-packages\\Python311\\site-packages\\pandas\\_libs\\hashtable.pyx:1\u001b[0m, in \u001b[0;36minit pandas._libs.hashtable\u001b[1;34m()\u001b[0m\n",
      "File \u001b[1;32m~\\AppData\\Local\\Packages\\PythonSoftwareFoundation.Python.3.11_qbz5n2kfra8p0\\LocalCache\\local-packages\\Python311\\site-packages\\pandas\\_libs\\missing.pyx:1\u001b[0m, in \u001b[0;36minit pandas._libs.missing\u001b[1;34m()\u001b[0m\n",
      "File \u001b[1;32m~\\AppData\\Local\\Packages\\PythonSoftwareFoundation.Python.3.11_qbz5n2kfra8p0\\LocalCache\\local-packages\\Python311\\site-packages\\pandas\\_libs\\tslibs\\__init__.py:39\u001b[0m\n\u001b[0;32m      1\u001b[0m __all__ \u001b[38;5;241m=\u001b[39m [\n\u001b[0;32m      2\u001b[0m     \u001b[38;5;124m\"\u001b[39m\u001b[38;5;124mdtypes\u001b[39m\u001b[38;5;124m\"\u001b[39m,\n\u001b[0;32m      3\u001b[0m     \u001b[38;5;124m\"\u001b[39m\u001b[38;5;124mlocalize_pydatetime\u001b[39m\u001b[38;5;124m\"\u001b[39m,\n\u001b[1;32m   (...)\u001b[0m\n\u001b[0;32m     35\u001b[0m     \u001b[38;5;124m\"\u001b[39m\u001b[38;5;124mget_supported_reso\u001b[39m\u001b[38;5;124m\"\u001b[39m,\n\u001b[0;32m     36\u001b[0m ]\n\u001b[0;32m     38\u001b[0m \u001b[38;5;28;01mfrom\u001b[39;00m \u001b[38;5;21;01mpandas\u001b[39;00m\u001b[38;5;21;01m.\u001b[39;00m\u001b[38;5;21;01m_libs\u001b[39;00m\u001b[38;5;21;01m.\u001b[39;00m\u001b[38;5;21;01mtslibs\u001b[39;00m \u001b[38;5;28;01mimport\u001b[39;00m dtypes\n\u001b[1;32m---> 39\u001b[0m \u001b[38;5;28;01mfrom\u001b[39;00m \u001b[38;5;21;01mpandas\u001b[39;00m\u001b[38;5;21;01m.\u001b[39;00m\u001b[38;5;21;01m_libs\u001b[39;00m\u001b[38;5;21;01m.\u001b[39;00m\u001b[38;5;21;01mtslibs\u001b[39;00m\u001b[38;5;21;01m.\u001b[39;00m\u001b[38;5;21;01mconversion\u001b[39;00m \u001b[38;5;28;01mimport\u001b[39;00m localize_pydatetime\n\u001b[0;32m     40\u001b[0m \u001b[38;5;28;01mfrom\u001b[39;00m \u001b[38;5;21;01mpandas\u001b[39;00m\u001b[38;5;21;01m.\u001b[39;00m\u001b[38;5;21;01m_libs\u001b[39;00m\u001b[38;5;21;01m.\u001b[39;00m\u001b[38;5;21;01mtslibs\u001b[39;00m\u001b[38;5;21;01m.\u001b[39;00m\u001b[38;5;21;01mdtypes\u001b[39;00m \u001b[38;5;28;01mimport\u001b[39;00m (\n\u001b[0;32m     41\u001b[0m     Resolution,\n\u001b[0;32m     42\u001b[0m     get_supported_reso,\n\u001b[1;32m   (...)\u001b[0m\n\u001b[0;32m     46\u001b[0m     periods_per_second,\n\u001b[0;32m     47\u001b[0m )\n\u001b[0;32m     48\u001b[0m \u001b[38;5;28;01mfrom\u001b[39;00m \u001b[38;5;21;01mpandas\u001b[39;00m\u001b[38;5;21;01m.\u001b[39;00m\u001b[38;5;21;01m_libs\u001b[39;00m\u001b[38;5;21;01m.\u001b[39;00m\u001b[38;5;21;01mtslibs\u001b[39;00m\u001b[38;5;21;01m.\u001b[39;00m\u001b[38;5;21;01mnattype\u001b[39;00m \u001b[38;5;28;01mimport\u001b[39;00m (\n\u001b[0;32m     49\u001b[0m     NaT,\n\u001b[0;32m     50\u001b[0m     NaTType,\n\u001b[0;32m     51\u001b[0m     iNaT,\n\u001b[0;32m     52\u001b[0m     nat_strings,\n\u001b[0;32m     53\u001b[0m )\n",
      "File \u001b[1;32m~\\AppData\\Local\\Packages\\PythonSoftwareFoundation.Python.3.11_qbz5n2kfra8p0\\LocalCache\\local-packages\\Python311\\site-packages\\pandas\\_libs\\tslibs\\conversion.pyx:1\u001b[0m, in \u001b[0;36minit pandas._libs.tslibs.conversion\u001b[1;34m()\u001b[0m\n",
      "File \u001b[1;32m~\\AppData\\Local\\Packages\\PythonSoftwareFoundation.Python.3.11_qbz5n2kfra8p0\\LocalCache\\local-packages\\Python311\\site-packages\\pandas\\_libs\\tslibs\\offsets.pyx:1\u001b[0m, in \u001b[0;36minit pandas._libs.tslibs.offsets\u001b[1;34m()\u001b[0m\n",
      "File \u001b[1;32m~\\AppData\\Local\\Packages\\PythonSoftwareFoundation.Python.3.11_qbz5n2kfra8p0\\LocalCache\\local-packages\\Python311\\site-packages\\pandas\\_libs\\tslibs\\timestamps.pyx:1\u001b[0m, in \u001b[0;36minit pandas._libs.tslibs.timestamps\u001b[1;34m()\u001b[0m\n",
      "File \u001b[1;32m~\\AppData\\Local\\Packages\\PythonSoftwareFoundation.Python.3.11_qbz5n2kfra8p0\\LocalCache\\local-packages\\Python311\\site-packages\\pandas\\_libs\\tslibs\\timedeltas.pyx:1\u001b[0m, in \u001b[0;36minit pandas._libs.tslibs.timedeltas\u001b[1;34m()\u001b[0m\n",
      "File \u001b[1;32m~\\AppData\\Local\\Packages\\PythonSoftwareFoundation.Python.3.11_qbz5n2kfra8p0\\LocalCache\\local-packages\\Python311\\site-packages\\pandas\\_libs\\tslibs\\timezones.pyx:10\u001b[0m, in \u001b[0;36minit pandas._libs.tslibs.timezones\u001b[1;34m()\u001b[0m\n",
      "File \u001b[1;32mC:\\Program Files\\WindowsApps\\PythonSoftwareFoundation.Python.3.11_3.11.2544.0_x64__qbz5n2kfra8p0\\Lib\\zoneinfo\\__init__.py:10\u001b[0m\n\u001b[0;32m      1\u001b[0m __all__ \u001b[38;5;241m=\u001b[39m [\n\u001b[0;32m      2\u001b[0m     \u001b[38;5;124m\"\u001b[39m\u001b[38;5;124mZoneInfo\u001b[39m\u001b[38;5;124m\"\u001b[39m,\n\u001b[0;32m      3\u001b[0m     \u001b[38;5;124m\"\u001b[39m\u001b[38;5;124mreset_tzpath\u001b[39m\u001b[38;5;124m\"\u001b[39m,\n\u001b[1;32m   (...)\u001b[0m\n\u001b[0;32m      7\u001b[0m     \u001b[38;5;124m\"\u001b[39m\u001b[38;5;124mInvalidTZPathWarning\u001b[39m\u001b[38;5;124m\"\u001b[39m,\n\u001b[0;32m      8\u001b[0m ]\n\u001b[1;32m---> 10\u001b[0m \u001b[38;5;28;01mfrom\u001b[39;00m \u001b[38;5;21;01m.\u001b[39;00m \u001b[38;5;28;01mimport\u001b[39;00m _tzpath\n\u001b[0;32m     11\u001b[0m \u001b[38;5;28;01mfrom\u001b[39;00m \u001b[38;5;21;01m.\u001b[39;00m\u001b[38;5;21;01m_common\u001b[39;00m \u001b[38;5;28;01mimport\u001b[39;00m ZoneInfoNotFoundError\n\u001b[0;32m     13\u001b[0m \u001b[38;5;28;01mtry\u001b[39;00m:\n",
      "File \u001b[1;32m<frozen importlib._bootstrap>:1176\u001b[0m, in \u001b[0;36m_find_and_load\u001b[1;34m(name, import_)\u001b[0m\n",
      "File \u001b[1;32m<frozen importlib._bootstrap>:1147\u001b[0m, in \u001b[0;36m_find_and_load_unlocked\u001b[1;34m(name, import_)\u001b[0m\n",
      "File \u001b[1;32m<frozen importlib._bootstrap>:690\u001b[0m, in \u001b[0;36m_load_unlocked\u001b[1;34m(spec)\u001b[0m\n",
      "File \u001b[1;32m<frozen importlib._bootstrap_external>:936\u001b[0m, in \u001b[0;36mexec_module\u001b[1;34m(self, module)\u001b[0m\n",
      "File \u001b[1;32m<frozen importlib._bootstrap_external>:1049\u001b[0m, in \u001b[0;36mget_code\u001b[1;34m(self, fullname)\u001b[0m\n",
      "File \u001b[1;32m<frozen importlib._bootstrap_external>:1130\u001b[0m, in \u001b[0;36mget_data\u001b[1;34m(self, path)\u001b[0m\n",
      "\u001b[1;31mKeyboardInterrupt\u001b[0m: "
     ]
    }
   ],
   "source": [
    "import re\n",
    "import pandas as pd\n",
    "\n",
    "\n",
    "# Function to remove non-printable characters\n",
    "def remove_non_printable(text):\n",
    "    if isinstance(text, str):\n",
    "        return re.sub(r'[\\x00-\\x1F\\x7F-\\x9F]', '', text)\n",
    "    return text\n",
    "\n",
    "# Apply the function to all string columns in the DataFrame using vectorized operations\n",
    "for col in df.select_dtypes(include=['object']).columns:\n",
    "    df[col] = df[col].apply(remove_non_printable)\n",
    "\n",
    "df.to_excel(data_path + '\\\\lic_2022-1.xlsx', index=False)"
   ]
  }
 ],
 "metadata": {
  "kernelspec": {
   "display_name": "Python 3",
   "language": "python",
   "name": "python3"
  },
  "language_info": {
   "codemirror_mode": {
    "name": "ipython",
    "version": 3
   },
   "file_extension": ".py",
   "mimetype": "text/x-python",
   "name": "python",
   "nbconvert_exporter": "python",
   "pygments_lexer": "ipython3",
   "version": "3.11.9"
  }
 },
 "nbformat": 4,
 "nbformat_minor": 2
}
