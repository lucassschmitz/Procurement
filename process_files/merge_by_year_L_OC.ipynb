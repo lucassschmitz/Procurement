{
 "cells": [
  {
   "cell_type": "code",
   "execution_count": 1,
   "metadata": {},
   "outputs": [],
   "source": [
    "import pandas as pd\n",
    "import os"
   ]
  },
  {
   "cell_type": "code",
   "execution_count": 2,
   "metadata": {},
   "outputs": [],
   "source": [
    "overwrite = False #overwrite files "
   ]
  },
  {
   "cell_type": "markdown",
   "metadata": {},
   "source": [
    "Licitaciones"
   ]
  },
  {
   "cell_type": "code",
   "execution_count": 5,
   "metadata": {},
   "outputs": [
    {
     "name": "stderr",
     "output_type": "stream",
     "text": [
      "C:\\Users\\danie\\AppData\\Local\\Temp\\ipykernel_45524\\2504824340.py:8: DtypeWarning: Columns (27,52,63,64,87,97,101) have mixed types. Specify dtype option on import or set low_memory=False.\n",
      "  df = pd.read_csv(os.path.join(year_folder_path, file), sep=';', encoding='latin-1')\n",
      "C:\\Users\\danie\\AppData\\Local\\Temp\\ipykernel_45524\\2504824340.py:8: DtypeWarning: Columns (87,97) have mixed types. Specify dtype option on import or set low_memory=False.\n",
      "  df = pd.read_csv(os.path.join(year_folder_path, file), sep=';', encoding='latin-1')\n",
      "C:\\Users\\danie\\AppData\\Local\\Temp\\ipykernel_45524\\2504824340.py:8: DtypeWarning: Columns (87,97,101) have mixed types. Specify dtype option on import or set low_memory=False.\n",
      "  df = pd.read_csv(os.path.join(year_folder_path, file), sep=';', encoding='latin-1')\n",
      "C:\\Users\\danie\\AppData\\Local\\Temp\\ipykernel_45524\\2504824340.py:8: DtypeWarning: Columns (87,97,101) have mixed types. Specify dtype option on import or set low_memory=False.\n",
      "  df = pd.read_csv(os.path.join(year_folder_path, file), sep=';', encoding='latin-1')\n",
      "C:\\Users\\danie\\AppData\\Local\\Temp\\ipykernel_45524\\2504824340.py:8: DtypeWarning: Columns (27,52,63,64,87,97,101) have mixed types. Specify dtype option on import or set low_memory=False.\n",
      "  df = pd.read_csv(os.path.join(year_folder_path, file), sep=';', encoding='latin-1')\n",
      "C:\\Users\\danie\\AppData\\Local\\Temp\\ipykernel_45524\\2504824340.py:8: DtypeWarning: Columns (27,52,63,64,87,97,101) have mixed types. Specify dtype option on import or set low_memory=False.\n",
      "  df = pd.read_csv(os.path.join(year_folder_path, file), sep=';', encoding='latin-1')\n",
      "C:\\Users\\danie\\AppData\\Local\\Temp\\ipykernel_45524\\2504824340.py:8: DtypeWarning: Columns (27,52,63,64,87,97,101) have mixed types. Specify dtype option on import or set low_memory=False.\n",
      "  df = pd.read_csv(os.path.join(year_folder_path, file), sep=';', encoding='latin-1')\n",
      "C:\\Users\\danie\\AppData\\Local\\Temp\\ipykernel_45524\\2504824340.py:8: DtypeWarning: Columns (27,52,63,64,87,97,101) have mixed types. Specify dtype option on import or set low_memory=False.\n",
      "  df = pd.read_csv(os.path.join(year_folder_path, file), sep=';', encoding='latin-1')\n",
      "C:\\Users\\danie\\AppData\\Local\\Temp\\ipykernel_45524\\2504824340.py:8: DtypeWarning: Columns (63,87,97,101) have mixed types. Specify dtype option on import or set low_memory=False.\n",
      "  df = pd.read_csv(os.path.join(year_folder_path, file), sep=';', encoding='latin-1')\n",
      "C:\\Users\\danie\\AppData\\Local\\Temp\\ipykernel_45524\\2504824340.py:8: DtypeWarning: Columns (27,52,59,63,64,65,87,97,101,102) have mixed types. Specify dtype option on import or set low_memory=False.\n",
      "  df = pd.read_csv(os.path.join(year_folder_path, file), sep=';', encoding='latin-1')\n",
      "C:\\Users\\danie\\AppData\\Local\\Temp\\ipykernel_45524\\2504824340.py:8: DtypeWarning: Columns (27,52,63,64,87,97,101) have mixed types. Specify dtype option on import or set low_memory=False.\n",
      "  df = pd.read_csv(os.path.join(year_folder_path, file), sep=';', encoding='latin-1')\n",
      "C:\\Users\\danie\\AppData\\Local\\Temp\\ipykernel_45524\\2504824340.py:8: DtypeWarning: Columns (27,52,63,64,87,97,101) have mixed types. Specify dtype option on import or set low_memory=False.\n",
      "  df = pd.read_csv(os.path.join(year_folder_path, file), sep=';', encoding='latin-1')\n",
      "C:\\Users\\danie\\AppData\\Local\\Temp\\ipykernel_45524\\2504824340.py:8: DtypeWarning: Columns (63,87,97,101) have mixed types. Specify dtype option on import or set low_memory=False.\n",
      "  df = pd.read_csv(os.path.join(year_folder_path, file), sep=';', encoding='latin-1')\n",
      "C:\\Users\\danie\\AppData\\Local\\Temp\\ipykernel_45524\\2504824340.py:8: DtypeWarning: Columns (27,52,63,64,87,94,97,101) have mixed types. Specify dtype option on import or set low_memory=False.\n",
      "  df = pd.read_csv(os.path.join(year_folder_path, file), sep=';', encoding='latin-1')\n",
      "C:\\Users\\danie\\AppData\\Local\\Temp\\ipykernel_45524\\2504824340.py:8: DtypeWarning: Columns (27,52,59,63,64,73,87,94,97,101,102) have mixed types. Specify dtype option on import or set low_memory=False.\n",
      "  df = pd.read_csv(os.path.join(year_folder_path, file), sep=';', encoding='latin-1')\n",
      "C:\\Users\\danie\\AppData\\Local\\Temp\\ipykernel_45524\\2504824340.py:8: DtypeWarning: Columns (63,87,97,101) have mixed types. Specify dtype option on import or set low_memory=False.\n",
      "  df = pd.read_csv(os.path.join(year_folder_path, file), sep=';', encoding='latin-1')\n",
      "C:\\Users\\danie\\AppData\\Local\\Temp\\ipykernel_45524\\2504824340.py:8: DtypeWarning: Columns (27,52,63,64,87,97,101,102) have mixed types. Specify dtype option on import or set low_memory=False.\n",
      "  df = pd.read_csv(os.path.join(year_folder_path, file), sep=';', encoding='latin-1')\n",
      "C:\\Users\\danie\\AppData\\Local\\Temp\\ipykernel_45524\\2504824340.py:8: DtypeWarning: Columns (27,52,63,64,87,97,101) have mixed types. Specify dtype option on import or set low_memory=False.\n",
      "  df = pd.read_csv(os.path.join(year_folder_path, file), sep=';', encoding='latin-1')\n",
      "C:\\Users\\danie\\AppData\\Local\\Temp\\ipykernel_45524\\2504824340.py:8: DtypeWarning: Columns (27,52,63,64,87,94,97,101,102) have mixed types. Specify dtype option on import or set low_memory=False.\n",
      "  df = pd.read_csv(os.path.join(year_folder_path, file), sep=';', encoding='latin-1')\n",
      "C:\\Users\\danie\\AppData\\Local\\Temp\\ipykernel_45524\\2504824340.py:8: DtypeWarning: Columns (27,52,63,64,87,97,101) have mixed types. Specify dtype option on import or set low_memory=False.\n",
      "  df = pd.read_csv(os.path.join(year_folder_path, file), sep=';', encoding='latin-1')\n",
      "C:\\Users\\danie\\AppData\\Local\\Temp\\ipykernel_45524\\2504824340.py:8: DtypeWarning: Columns (27,52,63,64,87,97,101) have mixed types. Specify dtype option on import or set low_memory=False.\n",
      "  df = pd.read_csv(os.path.join(year_folder_path, file), sep=';', encoding='latin-1')\n",
      "C:\\Users\\danie\\AppData\\Local\\Temp\\ipykernel_45524\\2504824340.py:8: DtypeWarning: Columns (27,52,63,64,73,87,94,97,101) have mixed types. Specify dtype option on import or set low_memory=False.\n",
      "  df = pd.read_csv(os.path.join(year_folder_path, file), sep=';', encoding='latin-1')\n",
      "C:\\Users\\danie\\AppData\\Local\\Temp\\ipykernel_45524\\2504824340.py:8: DtypeWarning: Columns (27,52,59,63,64,65,73,87,94,97,101) have mixed types. Specify dtype option on import or set low_memory=False.\n",
      "  df = pd.read_csv(os.path.join(year_folder_path, file), sep=';', encoding='latin-1')\n",
      "C:\\Users\\danie\\AppData\\Local\\Temp\\ipykernel_45524\\2504824340.py:8: DtypeWarning: Columns (27,52,63,64,87,97,101) have mixed types. Specify dtype option on import or set low_memory=False.\n",
      "  df = pd.read_csv(os.path.join(year_folder_path, file), sep=';', encoding='latin-1')\n",
      "C:\\Users\\danie\\AppData\\Local\\Temp\\ipykernel_45524\\2504824340.py:8: DtypeWarning: Columns (27,52,63,64,87,97,101) have mixed types. Specify dtype option on import or set low_memory=False.\n",
      "  df = pd.read_csv(os.path.join(year_folder_path, file), sep=';', encoding='latin-1')\n",
      "C:\\Users\\danie\\AppData\\Local\\Temp\\ipykernel_45524\\2504824340.py:8: DtypeWarning: Columns (27,52,64,87,97,101) have mixed types. Specify dtype option on import or set low_memory=False.\n",
      "  df = pd.read_csv(os.path.join(year_folder_path, file), sep=';', encoding='latin-1')\n",
      "C:\\Users\\danie\\AppData\\Local\\Temp\\ipykernel_45524\\2504824340.py:8: DtypeWarning: Columns (63,87,97,101) have mixed types. Specify dtype option on import or set low_memory=False.\n",
      "  df = pd.read_csv(os.path.join(year_folder_path, file), sep=';', encoding='latin-1')\n",
      "C:\\Users\\danie\\AppData\\Local\\Temp\\ipykernel_45524\\2504824340.py:8: DtypeWarning: Columns (27,52,63,64,87,94,97,101) have mixed types. Specify dtype option on import or set low_memory=False.\n",
      "  df = pd.read_csv(os.path.join(year_folder_path, file), sep=';', encoding='latin-1')\n",
      "C:\\Users\\danie\\AppData\\Local\\Temp\\ipykernel_45524\\2504824340.py:8: DtypeWarning: Columns (27,52,63,64,87,97) have mixed types. Specify dtype option on import or set low_memory=False.\n",
      "  df = pd.read_csv(os.path.join(year_folder_path, file), sep=';', encoding='latin-1')\n",
      "C:\\Users\\danie\\AppData\\Local\\Temp\\ipykernel_45524\\2504824340.py:8: DtypeWarning: Columns (27,52,63,64,87,94,97,101) have mixed types. Specify dtype option on import or set low_memory=False.\n",
      "  df = pd.read_csv(os.path.join(year_folder_path, file), sep=';', encoding='latin-1')\n",
      "C:\\Users\\danie\\AppData\\Local\\Temp\\ipykernel_45524\\2504824340.py:8: DtypeWarning: Columns (27,52,63,64,87,97,101) have mixed types. Specify dtype option on import or set low_memory=False.\n",
      "  df = pd.read_csv(os.path.join(year_folder_path, file), sep=';', encoding='latin-1')\n",
      "C:\\Users\\danie\\AppData\\Local\\Temp\\ipykernel_45524\\2504824340.py:8: DtypeWarning: Columns (27,52,63,64,87,97,101) have mixed types. Specify dtype option on import or set low_memory=False.\n",
      "  df = pd.read_csv(os.path.join(year_folder_path, file), sep=';', encoding='latin-1')\n",
      "C:\\Users\\danie\\AppData\\Local\\Temp\\ipykernel_45524\\2504824340.py:8: DtypeWarning: Columns (27,52,63,64,87,94,97,101) have mixed types. Specify dtype option on import or set low_memory=False.\n",
      "  df = pd.read_csv(os.path.join(year_folder_path, file), sep=';', encoding='latin-1')\n",
      "C:\\Users\\danie\\AppData\\Local\\Temp\\ipykernel_45524\\2504824340.py:8: DtypeWarning: Columns (27,52,63,64,87,94,97,101) have mixed types. Specify dtype option on import or set low_memory=False.\n",
      "  df = pd.read_csv(os.path.join(year_folder_path, file), sep=';', encoding='latin-1')\n",
      "C:\\Users\\danie\\AppData\\Local\\Temp\\ipykernel_45524\\2504824340.py:8: DtypeWarning: Columns (27,52,63,64,87,97,101) have mixed types. Specify dtype option on import or set low_memory=False.\n",
      "  df = pd.read_csv(os.path.join(year_folder_path, file), sep=';', encoding='latin-1')\n",
      "C:\\Users\\danie\\AppData\\Local\\Temp\\ipykernel_45524\\2504824340.py:8: DtypeWarning: Columns (27,52,63,64,87,94,97,101,102) have mixed types. Specify dtype option on import or set low_memory=False.\n",
      "  df = pd.read_csv(os.path.join(year_folder_path, file), sep=';', encoding='latin-1')\n"
     ]
    }
   ],
   "source": [
    "base_path = os.path.join('..', 'raw_data', 'Licitaciones')\n",
    "for year in os.listdir(base_path):\n",
    "    df_year = pd.DataFrame()\n",
    "    year_folder_path = os.path.join(base_path, year)\n",
    "    destination_path = os.path.join('yearly_data', 'Licitaciones', f'lic-{year}.csv')\n",
    "    if not os.path.isdir(destination_path) or overwrite:\n",
    "        for file in os.listdir(year_folder_path):\n",
    "            df = pd.read_csv(os.path.join(year_folder_path, file), sep=';', encoding='latin-1')\n",
    "            df_year = pd.concat([df_year, df])\n",
    "        df_year.to_csv(destination_path)"
   ]
  },
  {
   "cell_type": "markdown",
   "metadata": {},
   "source": [
    "Ordenes de Compra"
   ]
  },
  {
   "cell_type": "code",
   "execution_count": 3,
   "metadata": {},
   "outputs": [
    {
     "name": "stderr",
     "output_type": "stream",
     "text": [
      "C:\\Users\\danie\\AppData\\Local\\Temp\\ipykernel_15568\\558571308.py:8: DtypeWarning: Columns (21,31,73,74) have mixed types. Specify dtype option on import or set low_memory=False.\n",
      "  df = pd.read_csv(os.path.join(year_folder_path, file), sep=';', encoding='latin-1')\n",
      "C:\\Users\\danie\\AppData\\Local\\Temp\\ipykernel_15568\\558571308.py:8: DtypeWarning: Columns (21,73,74) have mixed types. Specify dtype option on import or set low_memory=False.\n",
      "  df = pd.read_csv(os.path.join(year_folder_path, file), sep=';', encoding='latin-1')\n",
      "C:\\Users\\danie\\AppData\\Local\\Temp\\ipykernel_15568\\558571308.py:8: DtypeWarning: Columns (21,31,73,74) have mixed types. Specify dtype option on import or set low_memory=False.\n",
      "  df = pd.read_csv(os.path.join(year_folder_path, file), sep=';', encoding='latin-1')\n",
      "C:\\Users\\danie\\AppData\\Local\\Temp\\ipykernel_15568\\558571308.py:8: DtypeWarning: Columns (21,31,73,74) have mixed types. Specify dtype option on import or set low_memory=False.\n",
      "  df = pd.read_csv(os.path.join(year_folder_path, file), sep=';', encoding='latin-1')\n",
      "C:\\Users\\danie\\AppData\\Local\\Temp\\ipykernel_15568\\558571308.py:8: DtypeWarning: Columns (21,30,31,73,74) have mixed types. Specify dtype option on import or set low_memory=False.\n",
      "  df = pd.read_csv(os.path.join(year_folder_path, file), sep=';', encoding='latin-1')\n",
      "C:\\Users\\danie\\AppData\\Local\\Temp\\ipykernel_15568\\558571308.py:8: DtypeWarning: Columns (21,73,74) have mixed types. Specify dtype option on import or set low_memory=False.\n",
      "  df = pd.read_csv(os.path.join(year_folder_path, file), sep=';', encoding='latin-1')\n",
      "C:\\Users\\danie\\AppData\\Local\\Temp\\ipykernel_15568\\558571308.py:8: DtypeWarning: Columns (21,73,74) have mixed types. Specify dtype option on import or set low_memory=False.\n",
      "  df = pd.read_csv(os.path.join(year_folder_path, file), sep=';', encoding='latin-1')\n",
      "C:\\Users\\danie\\AppData\\Local\\Temp\\ipykernel_15568\\558571308.py:8: DtypeWarning: Columns (21,73,74) have mixed types. Specify dtype option on import or set low_memory=False.\n",
      "  df = pd.read_csv(os.path.join(year_folder_path, file), sep=';', encoding='latin-1')\n",
      "C:\\Users\\danie\\AppData\\Local\\Temp\\ipykernel_15568\\558571308.py:8: DtypeWarning: Columns (73,74) have mixed types. Specify dtype option on import or set low_memory=False.\n",
      "  df = pd.read_csv(os.path.join(year_folder_path, file), sep=';', encoding='latin-1')\n",
      "C:\\Users\\danie\\AppData\\Local\\Temp\\ipykernel_15568\\558571308.py:8: DtypeWarning: Columns (21,31,73,74) have mixed types. Specify dtype option on import or set low_memory=False.\n",
      "  df = pd.read_csv(os.path.join(year_folder_path, file), sep=';', encoding='latin-1')\n",
      "C:\\Users\\danie\\AppData\\Local\\Temp\\ipykernel_15568\\558571308.py:8: DtypeWarning: Columns (21,31,73,74) have mixed types. Specify dtype option on import or set low_memory=False.\n",
      "  df = pd.read_csv(os.path.join(year_folder_path, file), sep=';', encoding='latin-1')\n",
      "C:\\Users\\danie\\AppData\\Local\\Temp\\ipykernel_15568\\558571308.py:8: DtypeWarning: Columns (21,73,74) have mixed types. Specify dtype option on import or set low_memory=False.\n",
      "  df = pd.read_csv(os.path.join(year_folder_path, file), sep=';', encoding='latin-1')\n",
      "C:\\Users\\danie\\AppData\\Local\\Temp\\ipykernel_15568\\558571308.py:8: DtypeWarning: Columns (21,30,31,53,73,74) have mixed types. Specify dtype option on import or set low_memory=False.\n",
      "  df = pd.read_csv(os.path.join(year_folder_path, file), sep=';', encoding='latin-1')\n",
      "C:\\Users\\danie\\AppData\\Local\\Temp\\ipykernel_15568\\558571308.py:8: DtypeWarning: Columns (21,31,53,73,74) have mixed types. Specify dtype option on import or set low_memory=False.\n",
      "  df = pd.read_csv(os.path.join(year_folder_path, file), sep=';', encoding='latin-1')\n",
      "C:\\Users\\danie\\AppData\\Local\\Temp\\ipykernel_15568\\558571308.py:8: DtypeWarning: Columns (21,31,53,73,74) have mixed types. Specify dtype option on import or set low_memory=False.\n",
      "  df = pd.read_csv(os.path.join(year_folder_path, file), sep=';', encoding='latin-1')\n",
      "C:\\Users\\danie\\AppData\\Local\\Temp\\ipykernel_15568\\558571308.py:8: DtypeWarning: Columns (21,31,53,73,74) have mixed types. Specify dtype option on import or set low_memory=False.\n",
      "  df = pd.read_csv(os.path.join(year_folder_path, file), sep=';', encoding='latin-1')\n",
      "C:\\Users\\danie\\AppData\\Local\\Temp\\ipykernel_15568\\558571308.py:8: DtypeWarning: Columns (21,31,53,73,74) have mixed types. Specify dtype option on import or set low_memory=False.\n",
      "  df = pd.read_csv(os.path.join(year_folder_path, file), sep=';', encoding='latin-1')\n",
      "C:\\Users\\danie\\AppData\\Local\\Temp\\ipykernel_15568\\558571308.py:8: DtypeWarning: Columns (21,31,53,74) have mixed types. Specify dtype option on import or set low_memory=False.\n",
      "  df = pd.read_csv(os.path.join(year_folder_path, file), sep=';', encoding='latin-1')\n",
      "C:\\Users\\danie\\AppData\\Local\\Temp\\ipykernel_15568\\558571308.py:8: DtypeWarning: Columns (21,30,31,53,69,72,73,74,76) have mixed types. Specify dtype option on import or set low_memory=False.\n",
      "  df = pd.read_csv(os.path.join(year_folder_path, file), sep=';', encoding='latin-1')\n",
      "C:\\Users\\danie\\AppData\\Local\\Temp\\ipykernel_15568\\558571308.py:8: DtypeWarning: Columns (21,31,74) have mixed types. Specify dtype option on import or set low_memory=False.\n",
      "  df = pd.read_csv(os.path.join(year_folder_path, file), sep=';', encoding='latin-1')\n",
      "C:\\Users\\danie\\AppData\\Local\\Temp\\ipykernel_15568\\558571308.py:8: DtypeWarning: Columns (21,31,53,73,74) have mixed types. Specify dtype option on import or set low_memory=False.\n",
      "  df = pd.read_csv(os.path.join(year_folder_path, file), sep=';', encoding='latin-1')\n",
      "C:\\Users\\danie\\AppData\\Local\\Temp\\ipykernel_15568\\558571308.py:8: DtypeWarning: Columns (21,31,73,74) have mixed types. Specify dtype option on import or set low_memory=False.\n",
      "  df = pd.read_csv(os.path.join(year_folder_path, file), sep=';', encoding='latin-1')\n",
      "C:\\Users\\danie\\AppData\\Local\\Temp\\ipykernel_15568\\558571308.py:8: DtypeWarning: Columns (21,30,31,73,74) have mixed types. Specify dtype option on import or set low_memory=False.\n",
      "  df = pd.read_csv(os.path.join(year_folder_path, file), sep=';', encoding='latin-1')\n",
      "C:\\Users\\danie\\AppData\\Local\\Temp\\ipykernel_15568\\558571308.py:8: DtypeWarning: Columns (21,31,73,74) have mixed types. Specify dtype option on import or set low_memory=False.\n",
      "  df = pd.read_csv(os.path.join(year_folder_path, file), sep=';', encoding='latin-1')\n"
     ]
    }
   ],
   "source": [
    "base_path = os.path.join('..', 'raw_data', 'OrdenesCompra')\n",
    "for year in os.listdir(base_path):\n",
    "    df_year = pd.DataFrame()\n",
    "    year_folder_path = os.path.join(base_path, year)\n",
    "    destination_path = os.path.join('yearly_data', 'OrdenesCompra', f'oc-{year}.csv')\n",
    "    if not os.path.isdir(destination_path) or overwrite:\n",
    "        for file in os.listdir(year_folder_path):\n",
    "            df = pd.read_csv(os.path.join(year_folder_path, file), sep=';', encoding='latin-1')\n",
    "            df_year = pd.concat([df_year, df])\n",
    "        df_year.to_csv(destination_path)"
   ]
  }
 ],
 "metadata": {
  "kernelspec": {
   "display_name": "Python 3",
   "language": "python",
   "name": "python3"
  },
  "language_info": {
   "codemirror_mode": {
    "name": "ipython",
    "version": 3
   },
   "file_extension": ".py",
   "mimetype": "text/x-python",
   "name": "python",
   "nbconvert_exporter": "python",
   "pygments_lexer": "ipython3",
   "version": "3.11.8"
  }
 },
 "nbformat": 4,
 "nbformat_minor": 2
}
