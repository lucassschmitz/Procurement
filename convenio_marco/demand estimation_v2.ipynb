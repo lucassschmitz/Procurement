{
 "cells": [
  {
   "cell_type": "markdown",
   "metadata": {},
   "source": [
    "This file useses the purchases of the four FAs that we could find (2239-5-LR21, 2239-8-LR23, 2239-4-LR17 and ID 2239-20-LP13 ) and estimates a demand model. \n",
    "\n",
    "    'IDProductoCM' -> j \n",
    "    To create product characteristics: 'Tipo de Producto', 'Marca', 'Nombre Producto ONU'\n",
    "    'Precio Unitario'-> net not including taxes, just changes the scale of the price parameter \n",
    "    'Rut Unidad de Compra' -> i \n",
    "    To create the groups (k):  'Región Unidad de Compra', 'Sector'\n",
    "     'year' -> t \n",
    "\n",
    "     'Modelo'-> to do the match with the product characteristics. \n",
    "        \n",
    "Variables not directly paired but which could be useful: \n",
    "    'Nro Licitación Pública', 'Id Convenio Marco', 'Convenio Marco', 'CodigoOC', 'Fecha Envío OC', 'Cantidad', 'Rut Proveedor', \n",
    "    'Nombre Proveedor Sucursal', 'Orgcode_Comprador', 'Entcode_Comprador', \n"
   ]
  },
  {
   "cell_type": "code",
   "execution_count": 1,
   "metadata": {},
   "outputs": [],
   "source": [
    "%reset -f"
   ]
  },
  {
   "cell_type": "code",
   "execution_count": 2,
   "metadata": {},
   "outputs": [],
   "source": [
    "import os\n",
    "import pandas as pd\n",
    "import matplotlib.pyplot as plt\n",
    "from matplotlib.ticker import MaxNLocator\n",
    "import seaborn as sns\n",
    "from pandasgui import show\n",
    "import socket\n",
    "import numpy as np\n",
    "from unidecode import unidecode\n",
    "import unicodedata\n",
    "import re\n",
    "from difflib import SequenceMatcher\n",
    "import pyblp\n"
   ]
  },
  {
   "cell_type": "markdown",
   "metadata": {},
   "source": [
    "Functions"
   ]
  },
  {
   "cell_type": "code",
   "execution_count": 3,
   "metadata": {},
   "outputs": [],
   "source": [
    "def calculate_market_shares_with_outside_good(df_transac, share_adjustment = True):\n",
    "    \"\"\"\n",
    "    Calculate market shares using market-specific N_i from the DataFrame\n",
    "    \"\"\"\n",
    "    # Group by product (j) and market (t) to count purchases\n",
    "    product_counts = df_transac.groupby(['product_ids', 'market_ids']).size().reset_index(name='purchases')\n",
    "    \n",
    "    # Get N_i for each market (taking first occurrence since it's constant within market)\n",
    "    market_populations = df_transac.groupby('market_ids')['N_i'].first().reset_index()\n",
    "    \n",
    "    # Merge N_i with product counts\n",
    "    product_counts = product_counts.merge(market_populations, on='market_ids')\n",
    "    \n",
    "    # Calculate market shares\n",
    "    if share_adjustment: \n",
    "        product_counts['shares'] = np.minimum(5*product_counts['purchases'] / product_counts['N_i'], 0.5)\n",
    "    else: \n",
    "        product_counts['shares'] = product_counts['purchases'] / product_counts['N_i']\n",
    "    \n",
    "    product_counts['shares_real'] =product_counts['purchases'] / product_counts['N_i']\n",
    "                                               \n",
    "    x_vars = [col for col in df_transac.columns if col.startswith('x')] #list of variables starting with x \n",
    "    \n",
    "    # Get product characteristics\n",
    "    product_chars = df_transac.groupby(['product_ids', 'market_ids']).agg(\n",
    "        {var: 'first' for var in x_vars} | {'prices': 'first'}\n",
    "    ).reset_index()\n",
    "    \n",
    "    # Merge market shares with product characteristics\n",
    "    final_df = product_chars.merge(product_counts[['product_ids', 'market_ids', 'shares', 'shares_real']], on=['product_ids', 'market_ids'])\n",
    "    \n",
    "    # Calculate outside good share for each market\n",
    "    market_shares = final_df.groupby('market_ids')['shares'].sum()\n",
    "    outside_shares = 1 - market_shares\n",
    "    market_shares_real = final_df.groupby('market_ids')['shares_real'].sum()\n",
    "    outside_shares_real = 1 - market_shares_real\n",
    "    \n",
    "    \n",
    "    # Create outside good rows\n",
    "    markets = df_transac['market_ids'].unique()\n",
    "    outside_goods = pd.DataFrame()\n",
    "    outside_goods['market_ids'] = markets\n",
    "    outside_goods['product_ids'] = 0\n",
    "\n",
    "    for var in x_vars:\n",
    "        if pd.api.types.is_numeric_dtype(df_transac[var]):\n",
    "            outside_goods[var] = 0  # Set numeric variables to 0\n",
    "        else:\n",
    "            outside_goods[var] = '-'  # Set categorical variables to '-'\n",
    "    \n",
    "    outside_goods['prices'] = 0\n",
    "    outside_goods['shares'] = [outside_shares[t] for t in markets]\n",
    "    outside_goods['shares_real'] = [outside_shares_real[t] for t in markets]\n",
    "\n",
    "    # Combine outside goods with other products\n",
    "    final_df = pd.concat([final_df, outside_goods])\n",
    "    \n",
    "    # Sort by market and product ID\n",
    "    final_df = final_df.sort_values(['market_ids', 'product_ids'])\n",
    "    \n",
    "    return final_df\n",
    "\n",
    "def normalize_shares(group):\n",
    "    \"\"\"\n",
    "    Function to normalize shares for each market\n",
    "    \"\"\"\n",
    "    # Fix shares that are not negative\n",
    "    total_shares = group[group['shares'] > 0.01]['shares'].sum()\n",
    "    scaling_factor = 0.99 - group[group['shares'] == 0.01]['shares'].sum()\n",
    "    if total_shares > 0:  # Avoid division by zero\n",
    "        group.loc[group['shares'] > 0.01, 'shares'] *= scaling_factor / total_shares\n",
    "    return group"
   ]
  },
  {
   "cell_type": "code",
   "execution_count": 20,
   "metadata": {},
   "outputs": [
    {
     "name": "stdout",
     "output_type": "stream",
     "text": [
      "c:\\Users\\lucas\\OneDrive - Yale University\\Documents\\GitHub\\2nd-year-paper\\car_data\\final_matched_data.csv\n"
     ]
    }
   ],
   "source": [
    "car_path = os.path.join('..', 'car_data', 'final_matched_data.csv')\n",
    "print(os.path.abspath(car_path))\n",
    "car_df_original = pd.read_csv(car_path, encoding = 'latin1')\n",
    "car_df = car_df_original.copy()"
   ]
  },
  {
   "cell_type": "markdown",
   "metadata": {},
   "source": [
    "## data cleaning"
   ]
  },
  {
   "cell_type": "markdown",
   "metadata": {},
   "source": [
    "1. select vars that could be relevant\n",
    "2. rename prod. char as x1, x2.. and do other renaming \n",
    "3.  to reduce fixed effects if a variable is categorical and has more than 5 values we remove it. "
   ]
  },
  {
   "cell_type": "code",
   "execution_count": 21,
   "metadata": {},
   "outputs": [
    {
     "name": "stdout",
     "output_type": "stream",
     "text": [
      "number of unique values in x1: 25\n",
      "number of unique values in x2: 24\n",
      "number of unique values in x3: 29\n",
      "number of unique values in x4: 28\n",
      "number of unique values in x5: 18\n",
      "number of unique values in x6: 3\n",
      "number of unique values in x7: 18\n",
      "number of unique values in x8: 5\n",
      "number of unique values in x9: 5\n",
      "number of unique values in x10: 3\n",
      "number of unique values in x11: 4\n",
      "number of unique values in x12: 10\n",
      "number of unique values in x13: 19\n",
      "number of unique values in x14: 4\n",
      "number of unique values in x15: 1\n",
      "number of unique values in x16: 3\n",
      "number of unique values in x17: 3\n",
      "number of unique values in x18: 8\n",
      "number of unique values in x19: 5\n",
      "number of unique values in x20: 3\n",
      "number of unique values in x21: 2\n"
     ]
    }
   ],
   "source": [
    "#### 1. variable selection \n",
    "char_list = [ 'Motor - Cilindrada', 'Medidas y capacidades - Ancho sin espejos', 'Medidas y capacidades - Largo', \n",
    "        'Medidas y capacidades - Alto', 'Performance - Rendimiento en ciudad', 'TransmisiÃ³n y chasis - Motor - tracciÃ³n', \n",
    "        'TransmisiÃ³n y chasis - SuspensiÃ³n trasera', 'Confort - Aire acondicionado', 'Confort - Tapizados',\n",
    "        'Confort - Cierre de puertas', 'Confort - Vidrios (del. - tras.)', 'Confort - Espejos exteriores',\n",
    "        'Confort - Faros delanteros', 'Confort - Faros antiniebla', 'Confort - Computadora de a bordo', \n",
    "        'Confort - DirecciÃ³n asistida', 'Confort - Llantas', 'Seguridad - Airbags', \n",
    "        'Seguridad - Alarma e inmovilizador de motor', 'Confort - Sensores de estacionamiento', 'Tipo de Producto']   \n",
    "            \n",
    "model_vars = ['Cargos Adicionales OC', 'Monto Total OC', 'Rut Unidad de Compra', \n",
    "        'RegiÃÂ³n Unidad de Compra', 'Sector', 'CodigoOC' , 'Marca', 'Precio Unitario',\n",
    "        'IDProductoCM',  'Modelo']\n",
    "\n",
    "extra_vars = ['Nro LicitaciÃÂ³n PÃÂºblica', 'Fecha EnvÃÂ­o OC', 'Cantidad', 'Rut Proveedor', 'Nombre Proveedor Sucursal']\n",
    "\n",
    "car_df = car_df[model_vars + extra_vars + char_list]\n",
    "\n",
    "### 2. rename vars \n",
    "for n, col in enumerate(char_list, start=1):  # Start numbering from 1\n",
    "    car_df.rename(columns={col: f'x{n}'}, inplace=True)\n",
    "\n",
    "car_df = car_df.rename(columns={\n",
    "    'Fecha EnvÃÂ­o OC': 'Fecha',\n",
    "    'RegiÃÂ³n Unidad de Compra': 'Region', \n",
    "    'IDProductoCM': 'product_ids',\n",
    "})\n",
    "\n",
    "### 3. drop vars to reduce number of parameters to estimate\n",
    "for n, col in enumerate(char_list, start=1):  # Start numbering from 1\n",
    "    print(f\"number of unique values in {f'x{n}'}: {car_df[f'x{n}'].nunique()}\")\n",
    "\n",
    "\n",
    "drop_list = ['x7', 'x9', 'x11', 'x12', 'x13', 'x18']\n",
    "car_df = car_df.drop(drop_list, axis=1)\n"
   ]
  },
  {
   "cell_type": "markdown",
   "metadata": {},
   "source": [
    "1. Create month-year \n",
    "2. create markets and number of consumers\n",
    "3. create consumer group"
   ]
  },
  {
   "cell_type": "code",
   "execution_count": null,
   "metadata": {},
   "outputs": [
    {
     "name": "stdout",
     "output_type": "stream",
     "text": [
      "74\n"
     ]
    }
   ],
   "source": [
    "#1. create month-year \n",
    "car_df['Fecha'] = pd.to_datetime(car_df['Fecha'], errors='coerce')\n",
    "car_df['month'] = car_df['Fecha'].dt.month\n",
    "car_df['year'] = car_df['Fecha'].dt.year\n",
    "car_df.drop('Fecha', axis=1, inplace=True)\n",
    "\n",
    "#2. define the market and the number of consumers in the market \n",
    "car_df['semester'] = ((car_df['month'] - 1) // 6) + 1\n",
    "car_df['market_ids'] = car_df.groupby(['year', 'semester', 'Region']).ngroup()\n",
    "print(car_df['market_ids'].nunique())\n",
    "\n",
    "region_counts = car_df.groupby('Region')['market_ids'].nunique()\n",
    "car_df['N_i'] = car_df['Region'].map(region_counts)\n",
    "\n",
    "## 3. create consumer groups based on zone-sector\n",
    "#print(car_df['Region'].unique())\n",
    "Norte = ['Arica y Parinacota', 'TarapacÃ\\x83Â\\x83Ã\\x82Â¡', 'Antofagasta', 'Atacama', 'Coquimbo']\n",
    "Centro = [\"Lib. Gral. Bdo. O'Higgins\", 'Maule', 'Metropolitana', 'ValparaÃ\\x83Â\\x83Ã\\x82Â\\xadso' ]\n",
    "Sur = ['BÃ\\x83Â\\x83Ã\\x82Â\\xado-BÃ\\x83Â\\x83Ã\\x82Â\\xado', 'Los RÃ\\x83Â\\x83Ã\\x82Â\\xados', 'Ã\\x83Â\\x83Ã\\x82Â\\x91uble',\n",
    "    'Los Lagos', 'AraucanÃ\\x83Â\\x83Ã\\x82Â\\xada', 'Magallanes y AntÃ\\x83Â\\x83Ã\\x82Â¡rtica', 'AysÃ\\x83Â\\x83Ã\\x82Â©n']\n",
    "\n",
    "\n",
    "def get_zone(region):\n",
    "    if region in Norte:\n",
    "        return 'Norte'\n",
    "    elif region in Centro:\n",
    "        return 'Centro'\n",
    "    elif region in Sur:\n",
    "        return 'Sur'\n",
    "    else:\n",
    "        return 'Other'  # For any regions not in the lists\n",
    "car_df['Zona'] = car_df['Region'].apply(get_zone)\n",
    "car_df['k'] = car_df.groupby(['Sector', 'Zona']).ngroup()\n",
    "car_df['k2'] = car_df.groupby('Sector').ngroup()"
   ]
  },
  {
   "cell_type": "markdown",
   "metadata": {},
   "source": [
    "1. convert to numeric values and drop chars with NaNs \n",
    "2. drop columns with NaNs since they can not be used.\n"
   ]
  },
  {
   "cell_type": "code",
   "execution_count": 109,
   "metadata": {},
   "outputs": [],
   "source": [
    "# 1. convert to numeric values and drop chars with NaNs \n",
    "def extract_number(value):\n",
    "    if pd.isna(value) or value == 'N/D':\n",
    "        return np.nan\n",
    "    # Extract numbers using string methods\n",
    "    if isinstance(value, str):\n",
    "        # Find first sequence of numbers (including decimals)\n",
    "        numbers = ''.join(c for c in value if c.isdigit() or c == '.')\n",
    "        return float(numbers) if numbers else value\n",
    "    return value\n",
    "\n",
    "for column in car_df.columns:\n",
    "    try:\n",
    "        car_df[column] = car_df[column].apply(extract_number)\n",
    "    except:\n",
    "        continue # If conversion fails, keep the original values\n",
    "\n",
    "\n",
    "## 2. drop rows with NaNs\n",
    "x_columns = [col for col in car_df.columns if col.startswith('x')]\n",
    "x_columns_with_missing = [col for col in x_columns if car_df[col].isna().any()] #cols start with x and have NaNs\n",
    "non_x_columns = [col for col in car_df.columns if not col.startswith('x')] # Get non-x columns \n",
    "car_df = car_df.drop(columns=x_columns_with_missing) # Drop x-columns with missing values\n",
    "\n",
    "remaining_x_columns = [col for col in car_df.columns if col.startswith('x')]\n",
    "new_x_names = [f'x{i+1}' for i in range(len(remaining_x_columns))] #rename x cols so that they dont skip numbers \n",
    "rename_dict = dict(zip(remaining_x_columns, new_x_names))\n",
    "car_df = car_df.rename(columns=rename_dict) # Rename only the x-columns"
   ]
  },
  {
   "cell_type": "code",
   "execution_count": 24,
   "metadata": {},
   "outputs": [],
   "source": [
    "car_df['Monto Total OC'] = car_df['Monto Total OC'].replace(r',.*', '', regex=True) #remove commas from numbers\n",
    "\n",
    "columns_to_convert = ['Monto Total OC'] \n",
    "\n",
    "# Convert the specified columns to numeric\n",
    "car_df[columns_to_convert] = car_df[columns_to_convert].apply(pd.to_numeric, errors='coerce')\n",
    "car_df['prices'] = car_df['Monto Total OC'] / car_df['Cantidad']"
   ]
  },
  {
   "cell_type": "code",
   "execution_count": 25,
   "metadata": {},
   "outputs": [],
   "source": [
    "product_data = calculate_market_shares_with_outside_good(car_df, share_adjustment=False)"
   ]
  },
  {
   "cell_type": "code",
   "execution_count": null,
   "metadata": {},
   "outputs": [],
   "source": [
    "show(product_data)"
   ]
  },
  {
   "cell_type": "markdown",
   "metadata": {},
   "source": [
    "check that shares 1. are positive and 2. sum upp to less than 1. "
   ]
  },
  {
   "cell_type": "code",
   "execution_count": 26,
   "metadata": {},
   "outputs": [
    {
     "name": "stdout",
     "output_type": "stream",
     "text": [
      "Percentage of negative shares: 6.53%\n",
      "count    74.000000\n",
      "mean      0.293486\n",
      "std       0.316287\n",
      "min       0.000875\n",
      "25%       0.007099\n",
      "50%       0.088711\n",
      "75%       0.634921\n",
      "max       0.793651\n",
      "Name: shares, dtype: float64\n",
      "Percentage of negative shares: 0.00%\n",
      "Series([], Name: shares, dtype: float64)\n"
     ]
    }
   ],
   "source": [
    "###1. Check for negative shares\n",
    "# percentage of neg shares. (if share is negative replace by 2%)\n",
    "negative_shares_percentage = (product_data['shares'] < 0).mean() * 100\n",
    "print(f\"Percentage of negative shares: {negative_shares_percentage:.2f}%\")\n",
    "product_data['shares'] = product_data['shares'].apply(lambda x: 0.02 if x < 0.02 else x)\n",
    "\n",
    "#shares have to sum up to 1%, normalize  by market_ids\n",
    "product_data['shares_sum'] = product_data.groupby('market_ids')['shares'].transform('sum')\n",
    "product_data['shares'] = product_data['shares'] / (product_data['shares_sum']+0.05) # add 0.05 since shares have to sum up to less than 1. \n",
    "\n",
    "# 3. check that outside shares are not too high and that there are no negative shares\n",
    "outside_good_shares = product_data[product_data['product_ids'] == 0]['shares'].describe()\n",
    "print(outside_good_shares)\n",
    "negative_shares_percentage = (product_data['shares'] < 0).mean() * 100\n",
    "print(f\"Percentage of negative shares: {negative_shares_percentage:.2f}%\")\n",
    "\n",
    "# 4. check that no share sum up to more than 1 \n",
    "sum_market_shares = product_data.groupby('market_ids')['shares'].sum()\n",
    "markets_with_high_shares = sum_market_shares[(sum_market_shares > 1) ]\n",
    "print(markets_with_high_shares)\n",
    "\n"
   ]
  },
  {
   "cell_type": "markdown",
   "metadata": {},
   "source": [
    "## PyBLP without micro-moments"
   ]
  },
  {
   "cell_type": "markdown",
   "metadata": {},
   "source": [
    "I tried to estimate the model with less variables but I do not understand why the number of moments and the # of parameters decrease, and I do not get the negative price coefficient. Hence for now this estimation is OK. "
   ]
  },
  {
   "cell_type": "code",
   "execution_count": 81,
   "metadata": {},
   "outputs": [
    {
     "data": {
      "text/plain": [
       "(1 + x1 + x2 + x3 + x4 + x5 + x6 + x7 + x9 + x10 + prices, 1 + prices)"
      ]
     },
     "execution_count": 81,
     "metadata": {},
     "output_type": "execute_result"
    }
   ],
   "source": [
    "formulation_string = '1 + ' + ' + '.join(new_x_names) + ' + prices'\n",
    "X1_formulation = pyblp.Formulation(formulation_string) # non random coefficient formulation\n",
    "X2_formulation = pyblp.Formulation('1 + prices') # variables with random coefficients. \n",
    "product_formulations = (X1_formulation, X2_formulation)\n",
    "product_formulations\n"
   ]
  },
  {
   "cell_type": "code",
   "execution_count": 82,
   "metadata": {},
   "outputs": [
    {
     "name": "stdout",
     "output_type": "stream",
     "text": [
      "Initializing the problem ...\n",
      "Initialized the problem after 00:00:00.\n",
      "\n",
      "Dimensions:\n",
      "================================\n",
      " T    N    I     K1    K2    MD \n",
      "---  ---  ----  ----  ----  ----\n",
      "74   521  3700   24    2     23 \n",
      "================================\n",
      "\n",
      "Formulations:\n",
      "=======================================================================================================================================================================================================================================================================================================================================================================================================================================================================================================================\n",
      "       Column Indices:          0     1      2    3                4                           5                           6                      7                       8                                     9                                     10                   11               12                              13                           14              15                     16                     17              18            19                20                     21            22     23  \n",
      "-----------------------------  ---  ------  ---  ---  ---------------------------  --------------------------  -------------------------  ------------------  -------------------------  -----------------------------------------------  --------------------------  ------------  ------------------  ------------------------------------------  ------------  ----------------  ---------------------------  --------------  --------------  -----------  ---------------------  --------------------  ----  ------\n",
      " X1: Linear Characteristics     1     x1    x2   x3   x4['delantero - delantera']  x4['delantero - integral']  x4['delantero - trasera']  x5['climatizador']  x5['climatizador bizona']  x5['climatizador bizona, climatizador trizona']  x5['climatizador trizona']  x5['manual']  x6['centralizado']  x6['centralizado con comando a distancia']  x6['manual']  x7['delanteros']  x7['delanteros y traseros']  x7['no tiene']  x7['traseros']  x9['acero']  x9['acero con tapas']  x9['aleaciÃ\\x83Â³n']  x10   prices\n",
      "X2: Nonlinear Characteristics   1   prices                                                                                                                                                                                                                                                                                                                                                                                                                                                                             \n",
      "=======================================================================================================================================================================================================================================================================================================================================================================================================================================================================================================================\n",
      "Initializing the problem ...\n",
      "Initialized the problem after 00:00:00.\n",
      "\n",
      "Dimensions:\n",
      "================================\n",
      " T    N    I     K1    K2    MD \n",
      "---  ---  ----  ----  ----  ----\n",
      "74   521  1850   24    2     23 \n",
      "================================\n",
      "\n",
      "Formulations:\n",
      "=======================================================================================================================================================================================================================================================================================================================================================================================================================================================================================================================\n",
      "       Column Indices:          0     1      2    3                4                           5                           6                      7                       8                                     9                                     10                   11               12                              13                           14              15                     16                     17              18            19                20                     21            22     23  \n",
      "-----------------------------  ---  ------  ---  ---  ---------------------------  --------------------------  -------------------------  ------------------  -------------------------  -----------------------------------------------  --------------------------  ------------  ------------------  ------------------------------------------  ------------  ----------------  ---------------------------  --------------  --------------  -----------  ---------------------  --------------------  ----  ------\n",
      " X1: Linear Characteristics     1     x1    x2   x3   x4['delantero - delantera']  x4['delantero - integral']  x4['delantero - trasera']  x5['climatizador']  x5['climatizador bizona']  x5['climatizador bizona, climatizador trizona']  x5['climatizador trizona']  x5['manual']  x6['centralizado']  x6['centralizado con comando a distancia']  x6['manual']  x7['delanteros']  x7['delanteros y traseros']  x7['no tiene']  x7['traseros']  x9['acero']  x9['acero con tapas']  x9['aleaciÃ\\x83Â³n']  x10   prices\n",
      "X2: Nonlinear Characteristics   1   prices                                                                                                                                                                                                                                                                                                                                                                                                                                                                             \n",
      "=======================================================================================================================================================================================================================================================================================================================================================================================================================================================================================================================\n"
     ]
    },
    {
     "name": "stderr",
     "output_type": "stream",
     "text": [
      "Detected collinearity issues with [x5['manual'], x6['manual'], x7['traseros'], x9['aleaciÃ\\x83Â³n']] and at least one other column in X1. To disable collinearity checks, set options.collinear_atol = options.collinear_rtol = 0.\n",
      "Detected collinearity issues with [x5['manual'], x6['manual'], x7['traseros'], x9['aleaciÃ\\x83Â³n']] and at least one other column in ZD. To disable collinearity checks, set options.collinear_atol = options.collinear_rtol = 0.\n",
      "Detected collinearity issues with [x5['manual'], x6['manual'], x7['traseros'], x9['aleaciÃ\\x83Â³n']] and at least one other column in X1. To disable collinearity checks, set options.collinear_atol = options.collinear_rtol = 0.\n",
      "Detected collinearity issues with [x5['manual'], x6['manual'], x7['traseros'], x9['aleaciÃ\\x83Â³n']] and at least one other column in ZD. To disable collinearity checks, set options.collinear_atol = options.collinear_rtol = 0.\n"
     ]
    }
   ],
   "source": [
    "\n",
    "mc_integration = pyblp.Integration('monte_carlo', size=50, specification_options={'seed': 0})\n",
    "mc_integration\n",
    "\n",
    "mc_problem = pyblp.Problem(product_formulations, product_data, integration=mc_integration)\n",
    "mc_problem\n",
    "\n",
    "\n",
    "\n",
    "pr_integration = pyblp.Integration('product', size=5)\n",
    "pr_integration\n",
    "\n",
    "pr_problem = pyblp.Problem(product_formulations, product_data, integration=pr_integration)\n",
    "pr_problem\n",
    "\n",
    "bfgs = pyblp.Optimization('bfgs', {'gtol': 1e-4})"
   ]
  },
  {
   "cell_type": "code",
   "execution_count": 83,
   "metadata": {},
   "outputs": [
    {
     "name": "stdout",
     "output_type": "stream",
     "text": [
      "Solving the problem ...\n",
      "\n",
      "Nonlinear Coefficient Initial Values:\n",
      "=====================================================================================\n",
      "Sigma:        1           prices      |  Sigma Squared:        1           prices    \n",
      "------  -------------  -------------  |  --------------  -------------  -------------\n",
      "  1     +1.000000E+00                 |        1         +1.000000E+00  +1.000000E+00\n",
      "prices  +1.000000E+00  +1.000000E+00  |      prices      +1.000000E+00  +2.000000E+00\n",
      "=====================================================================================\n",
      "Starting optimization ...\n",
      "\n"
     ]
    },
    {
     "name": "stderr",
     "output_type": "stream",
     "text": [
      "The model may be under-identified. The total number of unfixed parameters is 27, which is more than the total number of moments, 23. Consider checking whether instruments were properly specified when initializing the problem, and whether parameters were properly configured when solving the problem.\n",
      "Detected that the 2SLS weighting matrix is nearly singular with condition number +3.372674E+24. To disable singularity checks, set options.singular_tol = numpy.inf.\n"
     ]
    },
    {
     "name": "stdout",
     "output_type": "stream",
     "text": [
      "\n",
      "At least one error was encountered. As long as the optimization routine does not get stuck at values of theta that give rise to errors, this is not necessarily a problem. If the errors persist or seem to be impacting the optimization results, consider setting an error punishment or following any of the other suggestions below:\n",
      "The fixed point computation of delta failed to converge. This problem can sometimes be mitigated by increasing the maximum number of fixed point iterations, increasing the fixed point tolerance, choosing more reasonable initial parameter values, setting more conservative parameter or share bounds, or using different iteration or optimization configurations.\n",
      "\n",
      "GMM   Computation  Optimization   Objective   Fixed Point  Contraction  Clipped    Objective      Objective      Gradient                                                \n",
      "Step     Time       Iterations   Evaluations  Iterations   Evaluations  Shares       Value       Improvement       Norm                          Theta                   \n",
      "----  -----------  ------------  -----------  -----------  -----------  -------  -------------  -------------  -------------  -------------------------------------------\n",
      " 1     00:00:04         0             1          7080         21246       431    -3.685946E+44                 +9.883039E+19  +1.000000E+00, +1.000000E+00, +1.000000E+00\n",
      "\n",
      "The optimization routine failed to converge. This problem can sometimes be mitigated by choosing more reasonable initial parameter values, setting more conservative bounds, or configuring other optimization settings.\n",
      "\n",
      "\n",
      "Optimization failed after 00:00:04.\n",
      "Computing the Hessian and and updating the weighting matrix ...\n"
     ]
    },
    {
     "name": "stderr",
     "output_type": "stream",
     "text": [
      "Detected that the estimated covariance matrix of aggregate GMM moments is nearly singular with condition number +4.944639E+23. To disable singularity checks, set options.singular_tol = numpy.inf.\n"
     ]
    },
    {
     "name": "stdout",
     "output_type": "stream",
     "text": [
      "\n",
      "The fixed point computation of delta failed to converge. This problem can sometimes be mitigated by increasing the maximum number of fixed point iterations, increasing the fixed point tolerance, choosing more reasonable initial parameter values, setting more conservative parameter or share bounds, or using different iteration or optimization configurations.\n",
      "\n",
      "Computed results after 00:00:22.\n",
      "\n",
      "Problem Results Summary:\n",
      "=============================================================================================\n",
      "GMM     Objective      Gradient         Hessian         Hessian     Clipped  Weighting Matrix\n",
      "Step      Value          Norm       Min Eigenvalue  Max Eigenvalue  Shares   Condition Number\n",
      "----  -------------  -------------  --------------  --------------  -------  ----------------\n",
      " 1    -3.685946E+44  +9.883039E+19  -8.152938E+19   +0.000000E+00     431     +7.058805E+18  \n",
      "=============================================================================================\n",
      "\n",
      "Starting optimization ...\n",
      "\n",
      "\n",
      "At least one error was encountered. As long as the optimization routine does not get stuck at values of theta that give rise to errors, this is not necessarily a problem. If the errors persist or seem to be impacting the optimization results, consider setting an error punishment or following any of the other suggestions below:\n",
      "The fixed point computation of delta failed to converge. This problem can sometimes be mitigated by increasing the maximum number of fixed point iterations, increasing the fixed point tolerance, choosing more reasonable initial parameter values, setting more conservative parameter or share bounds, or using different iteration or optimization configurations.\n",
      "\n",
      "GMM   Computation  Optimization   Objective   Fixed Point  Contraction  Clipped    Objective      Objective      Gradient                                                \n",
      "Step     Time       Iterations   Evaluations  Iterations   Evaluations  Shares       Value       Improvement       Norm                          Theta                   \n",
      "----  -----------  ------------  -----------  -----------  -----------  -------  -------------  -------------  -------------  -------------------------------------------\n",
      " 2     00:00:03         0             1          4998         15071       431    +5.589851E+01                 +1.062294E-20  +1.000000E+00, +1.000000E+00, +1.000000E+00\n",
      "\n",
      "Optimization completed after 00:00:03.\n",
      "Computing the Hessian and estimating standard errors ...\n",
      "\n",
      "The fixed point computation of delta failed to converge. This problem can sometimes be mitigated by increasing the maximum number of fixed point iterations, increasing the fixed point tolerance, choosing more reasonable initial parameter values, setting more conservative parameter or share bounds, or using different iteration or optimization configurations.\n",
      "Failed to compute standard errors because of invalid estimated covariances of GMM parameters.\n",
      "\n",
      "Computed results after 00:00:18.\n",
      "\n",
      "Problem Results Summary:\n",
      "================================================================================================================\n",
      "GMM     Objective      Gradient         Hessian         Hessian     Clipped  Weighting Matrix  Covariance Matrix\n",
      "Step      Value          Norm       Min Eigenvalue  Max Eigenvalue  Shares   Condition Number  Condition Number \n",
      "----  -------------  -------------  --------------  --------------  -------  ----------------  -----------------\n",
      " 2    +5.589851E+01  +1.062294E-20  -9.080746E-21   +0.000000E+00     431     +5.387545E+18      +2.114768E+31  \n",
      "================================================================================================================\n",
      "\n",
      "Cumulative Statistics:\n",
      "===========================================================================\n",
      "Computation  Optimizer  Optimization   Objective   Fixed Point  Contraction\n",
      "   Time      Converged   Iterations   Evaluations  Iterations   Evaluations\n",
      "-----------  ---------  ------------  -----------  -----------  -----------\n",
      " 00:00:46       No           0             4          24156        72634   \n",
      "===========================================================================\n",
      "\n",
      "Nonlinear Coefficient Estimates (Robust SEs in Parentheses):\n",
      "=============================================================================================\n",
      "Sigma:         1             prices       |  Sigma Squared:         1             prices     \n",
      "------  ---------------  ---------------  |  --------------  ---------------  ---------------\n",
      "  1      +1.000000E+00                    |        1          +1.000000E+00    +1.000000E+00 \n",
      "        (+1.779087E+11)                   |                  (+3.558174E+11)  (+1.778917E+11)\n",
      "                                          |                                                  \n",
      "prices   +1.000000E+00    +1.000000E+00   |      prices       +1.000000E+00    +2.000000E+00 \n",
      "             (NAN)       (+4.264047E+01)  |                  (+1.778917E+11)       (NAN)     \n",
      "=============================================================================================\n",
      "\n",
      "Beta Estimates (Robust SEs in Parentheses):\n",
      "=====================================================================================================================================================================================================================================================================================================================================================================================================================================================================================================================================================================\n",
      "       1               x1               x2               x3         x4['delantero - delantera']  x4['delantero - integral']  x4['delantero - trasera']  x5['climatizador']  x5['climatizador bizona']  x5['climatizador bizona, climatizador trizona']  x5['climatizador trizona']   x5['manual']    x6['centralizado']  x6['centralizado con comando a distancia']   x6['manual']    x7['delanteros']  x7['delanteros y traseros']  x7['no tiene']   x7['traseros']     x9['acero']    x9['acero con tapas']  x9['aleaciÃ\\x83Â³n']        x10            prices     \n",
      "---------------  ---------------  ---------------  ---------------  ---------------------------  --------------------------  -------------------------  ------------------  -------------------------  -----------------------------------------------  --------------------------  ---------------  ------------------  ------------------------------------------  ---------------  ----------------  ---------------------------  ---------------  ---------------  ---------------  ---------------------  --------------------  ---------------  ---------------\n",
      " +9.345883E+13    +7.578947E+16    -2.543668E+16    -1.137699E+15          -2.605455E+13               +9.808203E+13               -7.433256E+13          -1.181563E+13           -2.842709E+13                         +9.948457E+12                         +9.563881E+11          +2.703280E+13     -1.740130E+13                   +1.645417E+13                  -1.357946E+12    -1.169157E+14           -1.825207E+13          +5.138382E+13    +8.147893E+13    -7.638951E+13       -4.671414E+11         +7.455157E+13       +1.939178E+13    -7.922573E+09 \n",
      "(+2.177866E+13)  (+1.715995E+16)  (+7.668608E+15)  (+8.477173E+14)        (+6.180963E+12)             (+2.304213E+13)             (+1.769735E+13)        (+2.813795E+12)         (+6.637821E+12)                       (+2.302921E+12)                       (+2.249812E+11)        (+6.089549E+12)   (+4.132402E+12)                 (+3.622514E+12)                (+3.235964E+11)  (+2.764914E+13)         (+4.354686E+12)        (+1.218796E+13)  (+1.898022E+13)  (+1.808074E+13)     (+1.095787E+11)       (+1.735471E+13)     (+4.269077E+12)  (+4.340691E+09)\n",
      "=====================================================================================================================================================================================================================================================================================================================================================================================================================================================================================================================================================================\n"
     ]
    },
    {
     "name": "stderr",
     "output_type": "stream",
     "text": [
      "Detected that the estimated covariance matrix of aggregate GMM moments is nearly singular with condition number +1.223445E+24. To disable singularity checks, set options.singular_tol = numpy.inf.\n",
      "Detected that the estimated covariance matrix of aggregate GMM moments is nearly singular with condition number +7.454853E+24. To disable singularity checks, set options.singular_tol = numpy.inf.\n"
     ]
    }
   ],
   "source": [
    "results1 = mc_problem.solve(sigma=np.ones((2, 2)), optimization=bfgs)\n"
   ]
  },
  {
   "cell_type": "code",
   "execution_count": 17,
   "metadata": {},
   "outputs": [
    {
     "name": "stderr",
     "output_type": "stream",
     "text": [
      "The model may be under-identified. The total number of unfixed parameters is 12, which is more than the total number of moments, 8. Consider checking whether instruments were properly specified when initializing the problem, and whether parameters were properly configured when solving the problem.\n"
     ]
    },
    {
     "name": "stdout",
     "output_type": "stream",
     "text": [
      "Initializing the problem ...\n",
      "Initialized the problem after 00:00:00.\n",
      "\n",
      "Dimensions:\n",
      "================================\n",
      " T    N    I     K1    K2    MD \n",
      "---  ---  ----  ----  ----  ----\n",
      "74   521  3700   9     2     8  \n",
      "================================\n",
      "\n",
      "Formulations:\n",
      "===============================================================================================================================================\n",
      "       Column Indices:          0     1      2    3           4                               5                            6         7     8   \n",
      "-----------------------------  ---  ------  ---  ---  ------------------  ------------------------------------------  ------------  ---  ------\n",
      " X1: Linear Characteristics     1     x1    x2   x3   x6['centralizado']  x6['centralizado con comando a distancia']  x6['manual']  x10  prices\n",
      "X2: Nonlinear Characteristics   1   prices                                                                                                     \n",
      "===============================================================================================================================================\n",
      "Solving the problem ...\n",
      "\n",
      "Nonlinear Coefficient Initial Values:\n",
      "=====================================================================================\n",
      "Sigma:        1           prices      |  Sigma Squared:        1           prices    \n",
      "------  -------------  -------------  |  --------------  -------------  -------------\n",
      "  1     +1.000000E+00                 |        1         +1.000000E+00  +1.000000E+00\n",
      "prices  +1.000000E+00  +1.000000E+00  |      prices      +1.000000E+00  +2.000000E+00\n",
      "=====================================================================================\n",
      "Starting optimization ...\n",
      "\n",
      "\n",
      "At least one error was encountered. As long as the optimization routine does not get stuck at values of theta that give rise to errors, this is not necessarily a problem. If the errors persist or seem to be impacting the optimization results, consider setting an error punishment or following any of the other suggestions below:\n",
      "The fixed point computation of delta failed to converge. This problem can sometimes be mitigated by increasing the maximum number of fixed point iterations, increasing the fixed point tolerance, choosing more reasonable initial parameter values, setting more conservative parameter or share bounds, or using different iteration or optimization configurations.\n",
      "\n",
      "GMM   Computation  Optimization   Objective   Fixed Point  Contraction  Clipped    Objective      Objective      Gradient                                                \n",
      "Step     Time       Iterations   Evaluations  Iterations   Evaluations  Shares       Value       Improvement       Norm                          Theta                   \n",
      "----  -----------  ------------  -----------  -----------  -----------  -------  -------------  -------------  -------------  -------------------------------------------\n",
      " 1     00:00:01         0             1          7080         21246       431    +5.099493E+41                 +9.882892E+19  +1.000000E+00, +1.000000E+00, +1.000000E+00\n",
      "\n",
      "The optimization routine failed to converge. This problem can sometimes be mitigated by choosing more reasonable initial parameter values, setting more conservative bounds, or configuring other optimization settings.\n",
      "\n",
      "\n",
      "Optimization failed after 00:00:01.\n",
      "Computing the Hessian and and updating the weighting matrix ...\n",
      "\n",
      "The fixed point computation of delta failed to converge. This problem can sometimes be mitigated by increasing the maximum number of fixed point iterations, increasing the fixed point tolerance, choosing more reasonable initial parameter values, setting more conservative parameter or share bounds, or using different iteration or optimization configurations.\n",
      "\n",
      "Computed results after 00:00:10.\n",
      "\n",
      "Problem Results Summary:\n",
      "=============================================================================================\n",
      "GMM     Objective      Gradient         Hessian         Hessian     Clipped  Weighting Matrix\n",
      "Step      Value          Norm       Min Eigenvalue  Max Eigenvalue  Shares   Condition Number\n",
      "----  -------------  -------------  --------------  --------------  -------  ----------------\n",
      " 1    +5.099493E+41  +9.882892E+19  -8.152826E+19   +0.000000E+00     431     +5.622866E+10  \n",
      "=============================================================================================\n",
      "\n",
      "Starting optimization ...\n",
      "\n",
      "\n",
      "At least one error was encountered. As long as the optimization routine does not get stuck at values of theta that give rise to errors, this is not necessarily a problem. If the errors persist or seem to be impacting the optimization results, consider setting an error punishment or following any of the other suggestions below:\n",
      "The fixed point computation of delta failed to converge. This problem can sometimes be mitigated by increasing the maximum number of fixed point iterations, increasing the fixed point tolerance, choosing more reasonable initial parameter values, setting more conservative parameter or share bounds, or using different iteration or optimization configurations.\n",
      "\n",
      "GMM   Computation  Optimization   Objective   Fixed Point  Contraction  Clipped    Objective      Objective      Gradient                                                \n",
      "Step     Time       Iterations   Evaluations  Iterations   Evaluations  Shares       Value       Improvement       Norm                          Theta                   \n",
      "----  -----------  ------------  -----------  -----------  -----------  -------  -------------  -------------  -------------  -------------------------------------------\n",
      " 2     00:00:01         0             1          4998         15071       431    +6.326144E+01                 +1.063313E-20  +1.000000E+00, +1.000000E+00, +1.000000E+00\n",
      "\n",
      "Optimization completed after 00:00:01.\n",
      "Computing the Hessian and estimating standard errors ...\n",
      "\n",
      "The fixed point computation of delta failed to converge. This problem can sometimes be mitigated by increasing the maximum number of fixed point iterations, increasing the fixed point tolerance, choosing more reasonable initial parameter values, setting more conservative parameter or share bounds, or using different iteration or optimization configurations.\n",
      "Failed to compute standard errors because of invalid estimated covariances of GMM parameters.\n",
      "\n",
      "Computed results after 00:00:07.\n",
      "\n",
      "Problem Results Summary:\n",
      "================================================================================================================\n",
      "GMM     Objective      Gradient         Hessian         Hessian     Clipped  Weighting Matrix  Covariance Matrix\n",
      "Step      Value          Norm       Min Eigenvalue  Max Eigenvalue  Shares   Condition Number  Condition Number \n",
      "----  -------------  -------------  --------------  --------------  -------  ----------------  -----------------\n",
      " 2    +6.326144E+01  +1.063313E-20  -9.089452E-21   +0.000000E+00     431     +6.500592E+10      +1.692847E+30  \n",
      "================================================================================================================\n",
      "\n",
      "Cumulative Statistics:\n",
      "===========================================================================\n",
      "Computation  Optimizer  Optimization   Objective   Fixed Point  Contraction\n",
      "   Time      Converged   Iterations   Evaluations  Iterations   Evaluations\n",
      "-----------  ---------  ------------  -----------  -----------  -----------\n",
      " 00:00:18       No           0             4          24156        72634   \n",
      "===========================================================================\n",
      "\n",
      "Nonlinear Coefficient Estimates (Robust SEs in Parentheses):\n",
      "=============================================================================================\n",
      "Sigma:         1             prices       |  Sigma Squared:         1             prices     \n",
      "------  ---------------  ---------------  |  --------------  ---------------  ---------------\n",
      "  1      +1.000000E+00                    |        1          +1.000000E+00    +1.000000E+00 \n",
      "        (+1.056132E+07)                   |                  (+2.112264E+07)  (+9.752528E+06)\n",
      "                                          |                                                  \n",
      "prices   +1.000000E+00    +1.000000E+00   |      prices       +1.000000E+00    +2.000000E+00 \n",
      "        (+7.863836E+03)       (NAN)       |                  (+9.752528E+06)  (+1.491515E+04)\n",
      "=============================================================================================\n",
      "\n",
      "Beta Estimates (Robust SEs in Parentheses):\n",
      "=====================================================================================================================================================================================\n",
      "       1               x1               x2               x3         x6['centralizado']  x6['centralizado con comando a distancia']   x6['manual']          x10            prices     \n",
      "---------------  ---------------  ---------------  ---------------  ------------------  ------------------------------------------  ---------------  ---------------  ---------------\n",
      " +3.043877E+12    -9.362906E+15    +1.141483E+16    +4.723915E+15     -7.221894E+11                   +3.635112E+12                  +1.432465E+11    +1.631444E+11    +6.300218E+09 \n",
      "(+7.970865E+11)  (+5.156524E+15)  (+1.973550E+15)  (+1.058338E+15)   (+2.913102E+11)                 (+1.051590E+12)                (+3.841406E+10)  (+7.518450E+11)  (+3.600721E+09)\n",
      "=====================================================================================================================================================================================\n"
     ]
    }
   ],
   "source": [
    "product_formulations = ( pyblp.Formulation('1 + x1 + x2 + x3 +  x6 + x10 + prices'), #X1:  non random coefficient formulation, \n",
    "                         pyblp.Formulation('1 + prices') #X2: variables with random coefficients. \n",
    "        )   \n",
    "\n",
    "mc_problem = pyblp.Problem(product_formulations, product_data, integration=mc_integration)\n",
    "results2 = mc_problem.solve(sigma=np.ones((2, 2)), optimization=bfgs)\n",
    "\n"
   ]
  },
  {
   "cell_type": "markdown",
   "metadata": {},
   "source": [
    "## Py-BLP with micro-moments. "
   ]
  },
  {
   "cell_type": "markdown",
   "metadata": {},
   "source": [
    "product_data is the data with the prices/shares/prod char,  in the documentation called product data\n",
    "agent_data is the data with the demographics, in our case it has the distribution of demographics. \n",
    "\n",
    "\\begin{align*}\n",
    "    &E[\\text{i purchases new vehicle} \\mid \\{\\bar{y}_i < \\bar{y}_1\\}], \\\\\n",
    "    &E[\\text{i purchases new vehicle} \\mid \\{\\bar{y}_1 \\leq \\bar{y}_i < \\bar{y}_2\\}], \\\\\n",
    "    &E[\\text{i purchases new vehicle} \\mid \\{\\bar{y}_i \\geq \\bar{y}_2\\}];\n",
    "\\end{align*}\n",
    "\n",
    "\\begin{align*}\n",
    "    &E[f_{si} \\mid \\{\\text{i purchases a minivan}\\}], \\\\\n",
    "    &E[f_{si} \\mid \\{\\text{i purchases a station wagon}\\}], \\\\\n",
    "    &E[f_{si} \\mid \\{\\text{i purchases a sport-utility}\\}], \\\\\n",
    "    &E[f_{si} \\mid \\{\\text{i purchases a full-size van}\\}].\n",
    "\\end{align*}\n"
   ]
  },
  {
   "cell_type": "markdown",
   "metadata": {},
   "source": [
    "For each market create one obs. for each local agency in the market. "
   ]
  },
  {
   "cell_type": "markdown",
   "metadata": {},
   "source": [
    "### Loading data"
   ]
  },
  {
   "cell_type": "code",
   "execution_count": 27,
   "metadata": {},
   "outputs": [],
   "source": [
    "product_data_store = product_data.copy() # to have a copy of the original data\n",
    "\n",
    "product_data['x11'] = 1* (product_data['x10'] == 'SUV')\n",
    "product_data['x10'] =  1*(product_data['x10'] == 'CAMIONETA')\n",
    " \n",
    "#product_data['clustering_ids'] = product_data['Region'] #cluster at the market level"
   ]
  },
  {
   "cell_type": "code",
   "execution_count": 29,
   "metadata": {},
   "outputs": [],
   "source": [
    "# Step 1: Map each market_id to its corresponding Region\n",
    "market_region_df = car_df[['market_ids', 'Region']].drop_duplicates()\n",
    "\n",
    "# Step 2: Count the number of observations for each region-sector pair\n",
    "region_sector_counts = car_df.groupby(['Region', 'Sector', 'k']).size().reset_index(name='count')\n",
    "\n",
    "# Step 3: Merge the counts into a combined dataset for each market_id and its region\n",
    "agent_data = (\n",
    "    market_region_df\n",
    "    .merge(region_sector_counts, on='Region', how='left')\n",
    ")\n",
    "\n",
    "agent_data = agent_data.loc[agent_data.index.repeat(agent_data['count'])]\n",
    "agent_data = agent_data.reset_index(drop=True)\n",
    "\n",
    "\n",
    "unique_k = sorted(agent_data['k'].unique()) #list of different k values\n",
    "\n",
    "dummy_vars = []\n",
    "for i, k_value in enumerate(unique_k, 1):\n",
    "    \n",
    "    var_name = f'a{i}'\n",
    "    agent_data[var_name] = (agent_data['k'] == k_value).astype(int)\n",
    "    dummy_vars.append(var_name)\n",
    "    \n",
    "# Create the formula string\n",
    "dummy_vars\n",
    "agent_formulation_string =' + '.join(dummy_vars)\n",
    "agent_data.drop(['Region', 'Sector'], axis=1, inplace=True)"
   ]
  },
  {
   "cell_type": "code",
   "execution_count": 30,
   "metadata": {},
   "outputs": [],
   "source": [
    "agent_data['N'] = agent_data['market_ids'].value_counts()[agent_data['market_ids']].values\n",
    "agent_data = agent_data.drop('count', axis=1)\n",
    "agent_data['weights'] = 1 / agent_data['N']\n",
    "m = 5 \n",
    "for i in range(0, m ): #important: nodes have to start from 0\n",
    "    agent_data[f'nodes{i}'] = np.random.chisquare(df=3, size=len(agent_data))"
   ]
  },
  {
   "cell_type": "markdown",
   "metadata": {},
   "source": [
    "### setting up the problem"
   ]
  },
  {
   "cell_type": "code",
   "execution_count": 132,
   "metadata": {},
   "outputs": [
    {
     "data": {
      "text/plain": [
       "(1 + x1 + x2 + x3 + x4 + x5 + x6 + x10 + x11 + prices, 1 + x10 + x11 + prices)"
      ]
     },
     "execution_count": 132,
     "metadata": {},
     "output_type": "execute_result"
    }
   ],
   "source": [
    "formulation_vars = new_x_names.copy() \n",
    "formulation_vars.append('x11')\n",
    "formulation_vars.remove('x7')\n",
    "formulation_vars.remove('x8')\n",
    "formulation_vars.remove('x9')\n",
    "formulation_string2 = '1 + ' + ' + '.join(formulation_vars) + ' + prices'\n",
    "product_formulations = (\n",
    "    pyblp.Formulation(formulation_string2), # can replcae the string by 'formulation_string'\n",
    "    pyblp.Formulation('1 + x10 + x11 +  prices'),\n",
    ")\n",
    "product_formulations"
   ]
  },
  {
   "cell_type": "code",
   "execution_count": 133,
   "metadata": {},
   "outputs": [
    {
     "data": {
      "text/plain": [
       "1 + a1 + a2 + a3 + a4 + a5 + a6 + a7 + a8 + a9 + a10 + a11 + a12 + a13 + a14 + a15 + a16 + a17 + a18 + a19"
      ]
     },
     "execution_count": 133,
     "metadata": {},
     "output_type": "execute_result"
    }
   ],
   "source": [
    "agent_formulation = pyblp.Formulation('1 +' + agent_formulation_string)\n",
    "agent_formulation\n"
   ]
  },
  {
   "cell_type": "code",
   "execution_count": 134,
   "metadata": {},
   "outputs": [
    {
     "name": "stdout",
     "output_type": "stream",
     "text": [
      "Initializing the problem ...\n",
      "Initialized the problem after 00:00:00.\n",
      "\n",
      "Dimensions:\n",
      "=====================================\n",
      " T    N    I     K1    K2    D    MD \n",
      "---  ---  ----  ----  ----  ---  ----\n",
      "74   521  3885   18    4    20    17 \n",
      "=====================================\n",
      "\n",
      "Formulations:\n",
      "================================================================================================================================================================================================================================================================================================================================================================================================\n",
      "       Column Indices:          0    1    2     3                  4                           5                           6                      7                       8                                     9                                     10                   11               12                              13                           14        15    16     17     18    19 \n",
      "-----------------------------  ---  ---  ---  ------  ---------------------------  --------------------------  -------------------------  ------------------  -------------------------  -----------------------------------------------  --------------------------  ------------  ------------------  ------------------------------------------  ------------  ----  ----  ------  ----  ----\n",
      " X1: Linear Characteristics     1   x1   x2     x3    x4['delantero - delantera']  x4['delantero - integral']  x4['delantero - trasera']  x5['climatizador']  x5['climatizador bizona']  x5['climatizador bizona, climatizador trizona']  x5['climatizador trizona']  x5['manual']  x6['centralizado']  x6['centralizado con comando a distancia']  x6['manual']  x10   x11   prices            \n",
      "X2: Nonlinear Characteristics   1   x10  x11  prices                                                                                                                                                                                                                                                                                                                                            \n",
      "       d: Demographics          1   a1   a2     a3                a4                           a5                         a6                      a7                     a8                                    a9                                    a10                  a11              a12                             a13                          a14       a15   a16    a17    a18   a19 \n",
      "================================================================================================================================================================================================================================================================================================================================================================================================\n"
     ]
    },
    {
     "name": "stderr",
     "output_type": "stream",
     "text": [
      "Detected collinearity issues with [x5['manual'], x6['manual'], x11] and at least one other column in X1. To disable collinearity checks, set options.collinear_atol = options.collinear_rtol = 0.\n",
      "Detected collinearity issues with [x5['manual'], x6['manual'], x11] and at least one other column in ZD. To disable collinearity checks, set options.collinear_atol = options.collinear_rtol = 0.\n"
     ]
    },
    {
     "data": {
      "text/plain": [
       "Dimensions:\n",
       "=====================================\n",
       " T    N    I     K1    K2    D    MD \n",
       "---  ---  ----  ----  ----  ---  ----\n",
       "74   521  3885   18    4    20    17 \n",
       "=====================================\n",
       "\n",
       "Formulations:\n",
       "================================================================================================================================================================================================================================================================================================================================================================================================\n",
       "       Column Indices:          0    1    2     3                  4                           5                           6                      7                       8                                     9                                     10                   11               12                              13                           14        15    16     17     18    19 \n",
       "-----------------------------  ---  ---  ---  ------  ---------------------------  --------------------------  -------------------------  ------------------  -------------------------  -----------------------------------------------  --------------------------  ------------  ------------------  ------------------------------------------  ------------  ----  ----  ------  ----  ----\n",
       " X1: Linear Characteristics     1   x1   x2     x3    x4['delantero - delantera']  x4['delantero - integral']  x4['delantero - trasera']  x5['climatizador']  x5['climatizador bizona']  x5['climatizador bizona, climatizador trizona']  x5['climatizador trizona']  x5['manual']  x6['centralizado']  x6['centralizado con comando a distancia']  x6['manual']  x10   x11   prices            \n",
       "X2: Nonlinear Characteristics   1   x10  x11  prices                                                                                                                                                                                                                                                                                                                                            \n",
       "       d: Demographics          1   a1   a2     a3                a4                           a5                         a6                      a7                     a8                                    a9                                    a10                  a11              a12                             a13                          a14       a15   a16    a17    a18   a19 \n",
       "================================================================================================================================================================================================================================================================================================================================================================================================"
      ]
     },
     "execution_count": 134,
     "metadata": {},
     "output_type": "execute_result"
    }
   ],
   "source": [
    "problem = pyblp.Problem(product_formulations, product_data, agent_formulation, agent_data, costs_type='log')\n",
    "problem\n"
   ]
  },
  {
   "cell_type": "code",
   "execution_count": 146,
   "metadata": {},
   "outputs": [],
   "source": [
    "initial_sigma = np.diag([1,1, 1,1]) # square matrix with the dimension of X2, in our case a constant and prices. \n",
    "initial_pi = np.array(np.ones((4, 1+len(unique_k)))) # dim(x2) x dim(agent formulation)\n"
   ]
  },
  {
   "cell_type": "markdown",
   "metadata": {},
   "source": [
    "### Setting up micro moments"
   ]
  },
  {
   "cell_type": "code",
   "execution_count": 98,
   "metadata": {},
   "outputs": [
    {
     "data": {
      "text/plain": [
       "transactions: 3885 Observations in All Markets"
      ]
     },
     "execution_count": 98,
     "metadata": {},
     "output_type": "execute_result"
    }
   ],
   "source": [
    "micro_dataset = pyblp.MicroDataset(\n",
    "    name=\"transactions\",\n",
    "    observations= len(agent_data),\n",
    "    compute_weights=lambda t, p, a: np.ones((a.size, 1 + p.size)), #define a function that computes the weights and will be used later \n",
    ")\n",
    "micro_dataset"
   ]
  },
  {
   "cell_type": "code",
   "execution_count": 180,
   "metadata": {},
   "outputs": [],
   "source": [
    "avg_outside_share = product_data[product_data['product_ids'] == 0]['shares'].mean() #average share of outside good\n",
    "\n",
    "micro_statistics = car_df.groupby(['k', 'x10']).size().reset_index(name='count') #count of each k, x12 combination\n",
    "\n",
    "# Add N column which is the count of k values\n",
    "micro_statistics['N'] = car_df['k'].value_counts()[micro_statistics['k']].values\n",
    "micro_statistics['share'] = micro_statistics['count'] / micro_statistics['N']\n",
    "micro_statistics['share'] = micro_statistics['share']/(1 + avg_outside_share) #normalize by the outside share\n",
    "\n",
    "for i, k_value in enumerate(unique_k, 1):    \n",
    "    micro_statistics[f'a{i}'] = (micro_statistics['k'] == k_value).astype(int)\n",
    "\n",
    "micro_statistics['x11'] = 1* (micro_statistics['x10'] == 'SUV')\n",
    "micro_statistics['x10'] =  1*(micro_statistics['x10'] == 'CAMIONETA')\n"
   ]
  },
  {
   "cell_type": "code",
   "execution_count": 181,
   "metadata": {},
   "outputs": [
    {
     "name": "stdout",
     "output_type": "stream",
     "text": [
      "k\n",
      "0     2.257999e+07\n",
      "1     1.964237e+07\n",
      "2     2.280369e+07\n",
      "3     2.087746e+07\n",
      "4     2.555011e+07\n",
      "5     2.395788e+07\n",
      "6     1.659000e+07\n",
      "7     1.836054e+07\n",
      "8     2.295087e+07\n",
      "9     2.254438e+07\n",
      "10    1.955776e+07\n",
      "11    2.393215e+07\n",
      "12    2.268234e+07\n",
      "13    1.875585e+07\n",
      "14    1.842240e+07\n",
      "15    2.257909e+07\n",
      "16    1.729412e+07\n",
      "17    2.689500e+07\n",
      "18    2.427745e+07\n",
      "Name: Precio Unitario, dtype: float64\n"
     ]
    }
   ],
   "source": [
    "# Group by 'k' and calculate mean of 'precio unitario'\n",
    "avg_prices = car_df.groupby('k')['Precio Unitario'].mean()\n",
    "print(avg_prices)\n",
    "\n",
    "\n",
    "for k, price in avg_prices.items():\n",
    "    micro_statistics.loc[micro_statistics['k'] == k, 'prices'] = price\n",
    "    micro_statistics = pd.concat([micro_statistics, pd.DataFrame({'k': [k], 'prices': [price]})], ignore_index=True)\n",
    " "
   ]
  },
  {
   "cell_type": "markdown",
   "metadata": {},
   "source": [
    "let's start with only one momnet the probability of suv given a1 = 1"
   ]
  },
  {
   "cell_type": "code",
   "execution_count": 100,
   "metadata": {},
   "outputs": [],
   "source": [
    "\n",
    "#in our case both x12 and k are categorical variables. hence we should follow the same procedure used to form the \n",
    "# moments that are in the form of E(new/income) where income is binned into categories, hence is similar to our setting. \n",
    "\n",
    "micro_parts_dict = {}\n",
    "\n",
    "for _, row in micro_statistics.iterrows():\n",
    "    part_name = f'E[{row[\"x10\"]}|k={row[\"k\"]}'  \n",
    "    \n",
    "    micro_parts_dict[part_name] = pyblp.MicroPart(\n",
    "        name= part_name,\n",
    "        dataset=micro_dataset,\n",
    "        compute_values=lambda t, p, a: np.outer(a.demographics[:, row['k'] + 1], np.r_[0, p.X1[:, 7]])  # Adjust indices as needed\n",
    "    )\n",
    "    \n",
    "\n"
   ]
  },
  {
   "cell_type": "code",
   "execution_count": 101,
   "metadata": {},
   "outputs": [],
   "source": [
    "inside_suv_a1_part = pyblp.MicroPart( #copying inside_mid_part \n",
    "    name=\"E[{x12 =1}  * {a1=1}]\",\n",
    "    dataset=micro_dataset,\n",
    "    compute_values=lambda t, p, a: np.outer(a.demographics[:, 2], np.r_[0, p.X1[:, 13]]), #the 0 before X2 is because the outside option has value 0 \n",
    ")\n",
    "\n",
    "suv_a1_part= pyblp.MicroPart( #copying mid_part\n",
    "    name=\"{a1=1}]\",\n",
    "    dataset=micro_dataset,\n",
    "    compute_values=lambda t, p, a: np.outer(a.demographics[:, 3], np.r_[1, p.X1[:, 13]]), #note the 1 in X2 \n",
    ")"
   ]
  },
  {
   "cell_type": "code",
   "execution_count": 102,
   "metadata": {},
   "outputs": [],
   "source": [
    "compute_ratio = lambda v: v[0] / v[1]\n",
    "compute_ratio_gradient = lambda v: [1 / v[1], -v[0] / v[1]**2]"
   ]
  },
  {
   "cell_type": "code",
   "execution_count": 103,
   "metadata": {},
   "outputs": [],
   "source": [
    "micro_moments = [\n",
    "    pyblp.MicroMoment(\n",
    "        name=\"E[age_i | mi_j]\",\n",
    "        value=0.783, \n",
    "        parts=[inside_suv_a1_part, suv_a1_part], \n",
    "        compute_value=compute_ratio, \n",
    "        compute_gradient=compute_ratio_gradient,\n",
    "    ),]"
   ]
  },
  {
   "cell_type": "code",
   "execution_count": 105,
   "metadata": {},
   "outputs": [
    {
     "name": "stdout",
     "output_type": "stream",
     "text": [
      "Solving the problem ...\n",
      "\n",
      "Micro Moments:\n",
      "==========================================================================================\n",
      "  Observed         Moment               Part             Dataset     Observations  Markets\n",
      "-------------  ---------------  ---------------------  ------------  ------------  -------\n",
      "+7.830000E-01  E[age_i | mi_j]  E[{x12 =1}  * {a1=1}]  transactions      3885        All  \n",
      "                                       {a1=1}]         transactions      3885        All  \n",
      "==========================================================================================\n",
      "\n",
      "Nonlinear Coefficient Initial Values:\n",
      "===========================================================================================================================================================================================================================================================================================================================================================\n",
      "Sigma:        1           prices      |   Pi:          1             a1             a2             a3             a4             a5             a6             a7             a8             a9             a10            a11            a12            a13            a14            a15            a16            a17            a18            a19     \n",
      "------  -------------  -------------  |  ------  -------------  -------------  -------------  -------------  -------------  -------------  -------------  -------------  -------------  -------------  -------------  -------------  -------------  -------------  -------------  -------------  -------------  -------------  -------------  -------------\n",
      "  1     +1.000000E+00                 |    1     +1.000000E+00  +1.000000E+00  +1.000000E+00  +1.000000E+00  +1.000000E+00  +1.000000E+00  +1.000000E+00  +1.000000E+00  +1.000000E+00  +1.000000E+00  +1.000000E+00  +1.000000E+00  +1.000000E+00  +1.000000E+00  +1.000000E+00  +1.000000E+00  +1.000000E+00  +1.000000E+00  +1.000000E+00  +1.000000E+00\n",
      "prices  +0.000000E+00  +1.000000E+00  |  prices  +1.000000E+00  +1.000000E+00  +1.000000E+00  +1.000000E+00  +1.000000E+00  +1.000000E+00  +1.000000E+00  +1.000000E+00  +1.000000E+00  +1.000000E+00  +1.000000E+00  +1.000000E+00  +1.000000E+00  +1.000000E+00  +1.000000E+00  +1.000000E+00  +1.000000E+00  +1.000000E+00  +1.000000E+00  +1.000000E+00\n",
      "===========================================================================================================================================================================================================================================================================================================================================================\n",
      "\n",
      "Nonlinear Coefficient Lower Bounds:\n",
      "===========================================================================================================================================================================================================================================================================================================================================================\n",
      "Sigma:        1           prices      |   Pi:          1             a1             a2             a3             a4             a5             a6             a7             a8             a9             a10            a11            a12            a13            a14            a15            a16            a17            a18            a19     \n",
      "------  -------------  -------------  |  ------  -------------  -------------  -------------  -------------  -------------  -------------  -------------  -------------  -------------  -------------  -------------  -------------  -------------  -------------  -------------  -------------  -------------  -------------  -------------  -------------\n",
      "  1         -INF                      |    1         -INF           -INF           -INF           -INF           -INF           -INF           -INF           -INF           -INF           -INF           -INF           -INF           -INF           -INF           -INF           -INF           -INF           -INF           -INF           -INF     \n",
      "prices  +0.000000E+00      -INF       |  prices      -INF           -INF           -INF           -INF           -INF           -INF           -INF           -INF           -INF           -INF           -INF           -INF           -INF           -INF           -INF           -INF           -INF           -INF           -INF           -INF     \n",
      "===========================================================================================================================================================================================================================================================================================================================================================\n",
      "\n",
      "Nonlinear Coefficient Upper Bounds:\n",
      "===========================================================================================================================================================================================================================================================================================================================================================\n",
      "Sigma:        1           prices      |   Pi:          1             a1             a2             a3             a4             a5             a6             a7             a8             a9             a10            a11            a12            a13            a14            a15            a16            a17            a18            a19     \n",
      "------  -------------  -------------  |  ------  -------------  -------------  -------------  -------------  -------------  -------------  -------------  -------------  -------------  -------------  -------------  -------------  -------------  -------------  -------------  -------------  -------------  -------------  -------------  -------------\n",
      "  1         +INF                      |    1         +INF           +INF           +INF           +INF           +INF           +INF           +INF           +INF           +INF           +INF           +INF           +INF           +INF           +INF           +INF           +INF           +INF           +INF           +INF           +INF     \n",
      "prices  +0.000000E+00      +INF       |  prices      +INF           +INF           +INF           +INF           +INF           +INF           +INF           +INF           +INF           +INF           +INF           +INF           +INF           +INF           +INF           +INF           +INF           +INF           +INF           +INF     \n",
      "===========================================================================================================================================================================================================================================================================================================================================================\n",
      "\n",
      "Updating starting values for the weighting matrix and delta ...\n"
     ]
    },
    {
     "name": "stderr",
     "output_type": "stream",
     "text": [
      "The model may be under-identified. The total number of unfixed parameters is 67, which is more than the total number of moments, 25. Consider checking whether instruments were properly specified when initializing the problem, and whether parameters were properly configured when solving the problem.\n",
      "Detected that the 2SLS weighting matrix is nearly singular with condition number +5.881668E+24. To disable singularity checks, set options.singular_tol = numpy.inf.\n",
      "Detected that the estimated covariance matrix of aggregate GMM moments is nearly singular with condition number +6.703106E+23. To disable singularity checks, set options.singular_tol = numpy.inf.\n"
     ]
    },
    {
     "name": "stdout",
     "output_type": "stream",
     "text": [
      "Computed results after 00:00:02.\n",
      "\n",
      "Starting optimization ...\n",
      "\n",
      "GMM   Computation  Optimization   Objective   Fixed Point  Contraction  Clipped    Objective      Objective      Gradient                                                                                                                                                                                                                                                                                                                                                                                                                                                                                                                                                                                                                                                         \n",
      "Step     Time       Iterations   Evaluations  Iterations   Evaluations  Shares       Value       Improvement       Norm                                                                                                                                                                                                                                                                                                                              Theta                                                                                                                                                                                                                                                                                                                        \n",
      "----  -----------  ------------  -----------  -----------  -----------  -------  -------------  -------------  -------------  ----------------------------------------------------------------------------------------------------------------------------------------------------------------------------------------------------------------------------------------------------------------------------------------------------------------------------------------------------------------------------------------------------------------------------------------------------------------------------------------------------------------------------------------------------------------------------------------------------------------------------------------------------\n",
      " 1     00:00:01         0             1            0           74         443    +5.504648E+01                 +0.000000E+00  +1.000000E+00, +1.000000E+00, +1.000000E+00, +1.000000E+00, +1.000000E+00, +1.000000E+00, +1.000000E+00, +1.000000E+00, +1.000000E+00, +1.000000E+00, +1.000000E+00, +1.000000E+00, +1.000000E+00, +1.000000E+00, +1.000000E+00, +1.000000E+00, +1.000000E+00, +1.000000E+00, +1.000000E+00, +1.000000E+00, +1.000000E+00, +1.000000E+00, +1.000000E+00, +1.000000E+00, +1.000000E+00, +1.000000E+00, +1.000000E+00, +1.000000E+00, +1.000000E+00, +1.000000E+00, +1.000000E+00, +1.000000E+00, +1.000000E+00, +1.000000E+00, +1.000000E+00, +1.000000E+00, +1.000000E+00, +1.000000E+00, +1.000000E+00, +1.000000E+00, +1.000000E+00, +1.000000E+00\n",
      "\n",
      "Optimization completed after 00:00:01.\n",
      "Computing the Hessian and and updating the weighting matrix ...\n"
     ]
    },
    {
     "name": "stderr",
     "output_type": "stream",
     "text": [
      "Detected that the estimated covariance matrix of aggregate GMM moments is nearly singular with condition number +4.961012E+24. To disable singularity checks, set options.singular_tol = numpy.inf.\n"
     ]
    },
    {
     "name": "stdout",
     "output_type": "stream",
     "text": [
      "Computed results after 00:01:35.\n",
      "\n",
      "Problem Results Summary:\n",
      "=============================================================================================\n",
      "GMM     Objective      Gradient         Hessian         Hessian     Clipped  Weighting Matrix\n",
      "Step      Value          Norm       Min Eigenvalue  Max Eigenvalue  Shares   Condition Number\n",
      "----  -------------  -------------  --------------  --------------  -------  ----------------\n",
      " 1    +5.504648E+01  +0.000000E+00  +0.000000E+00   +0.000000E+00     443         +INF       \n",
      "=============================================================================================\n",
      "\n",
      "Starting optimization ...\n",
      "\n",
      "GMM   Computation  Optimization   Objective   Fixed Point  Contraction  Clipped    Objective      Objective      Gradient                                                                                                                                                                                                                                                                                                                                                                                                                                                                                                                                                                                                                                                         \n",
      "Step     Time       Iterations   Evaluations  Iterations   Evaluations  Shares       Value       Improvement       Norm                                                                                                                                                                                                                                                                                                                              Theta                                                                                                                                                                                                                                                                                                                        \n",
      "----  -----------  ------------  -----------  -----------  -----------  -------  -------------  -------------  -------------  ----------------------------------------------------------------------------------------------------------------------------------------------------------------------------------------------------------------------------------------------------------------------------------------------------------------------------------------------------------------------------------------------------------------------------------------------------------------------------------------------------------------------------------------------------------------------------------------------------------------------------------------------------\n",
      " 2     00:00:01         0             1            0           74         443    +5.778962E+01                 +0.000000E+00  +1.000000E+00, +1.000000E+00, +1.000000E+00, +1.000000E+00, +1.000000E+00, +1.000000E+00, +1.000000E+00, +1.000000E+00, +1.000000E+00, +1.000000E+00, +1.000000E+00, +1.000000E+00, +1.000000E+00, +1.000000E+00, +1.000000E+00, +1.000000E+00, +1.000000E+00, +1.000000E+00, +1.000000E+00, +1.000000E+00, +1.000000E+00, +1.000000E+00, +1.000000E+00, +1.000000E+00, +1.000000E+00, +1.000000E+00, +1.000000E+00, +1.000000E+00, +1.000000E+00, +1.000000E+00, +1.000000E+00, +1.000000E+00, +1.000000E+00, +1.000000E+00, +1.000000E+00, +1.000000E+00, +1.000000E+00, +1.000000E+00, +1.000000E+00, +1.000000E+00, +1.000000E+00, +1.000000E+00\n",
      "\n",
      "Optimization completed after 00:00:01.\n",
      "Computing the Hessian and estimating standard errors ...\n",
      "\n",
      "Failed to compute standard errors because of invalid estimated covariances of GMM parameters.\n",
      "\n",
      "Computed results after 00:01:31.\n",
      "\n",
      "Problem Results Summary:\n",
      "================================================================================================================\n",
      "GMM     Objective      Gradient         Hessian         Hessian     Clipped  Weighting Matrix  Covariance Matrix\n",
      "Step      Value          Norm       Min Eigenvalue  Max Eigenvalue  Shares   Condition Number  Condition Number \n",
      "----  -------------  -------------  --------------  --------------  -------  ----------------  -----------------\n",
      " 2    +5.778962E+01  +0.000000E+00  +0.000000E+00   +0.000000E+00     443         +INF               +INF       \n",
      "================================================================================================================\n",
      "\n",
      "Cumulative Statistics:\n",
      "===========================================================================\n",
      "Computation  Optimizer  Optimization   Objective   Fixed Point  Contraction\n",
      "   Time      Converged   Iterations   Evaluations  Iterations   Evaluations\n",
      "-----------  ---------  ------------  -----------  -----------  -----------\n",
      " 00:03:10       Yes          0             5          2147         6737    \n",
      "===========================================================================\n",
      "\n",
      "Nonlinear Coefficient Estimates (Robust SEs in Parentheses):\n",
      "=======================================================================================================================================================================================================================================================================================================================================================================================================\n",
      "Sigma:         1             prices       |   Pi:           1               a1               a2               a3               a4               a5               a6               a7               a8               a9               a10              a11              a12              a13              a14              a15              a16              a17              a18              a19      \n",
      "------  ---------------  ---------------  |  ------  ---------------  ---------------  ---------------  ---------------  ---------------  ---------------  ---------------  ---------------  ---------------  ---------------  ---------------  ---------------  ---------------  ---------------  ---------------  ---------------  ---------------  ---------------  ---------------  ---------------\n",
      "  1      +1.000000E+00                    |    1      +1.000000E+00    +1.000000E+00    +1.000000E+00    +1.000000E+00    +1.000000E+00    +1.000000E+00    +1.000000E+00    +1.000000E+00    +1.000000E+00    +1.000000E+00    +1.000000E+00    +1.000000E+00    +1.000000E+00    +1.000000E+00    +1.000000E+00    +1.000000E+00    +1.000000E+00    +1.000000E+00    +1.000000E+00    +1.000000E+00 \n",
      "        (+0.000000E+00)                   |          (+0.000000E+00)  (+0.000000E+00)  (+0.000000E+00)  (+0.000000E+00)  (+0.000000E+00)  (+0.000000E+00)  (+0.000000E+00)  (+0.000000E+00)  (+0.000000E+00)  (+0.000000E+00)  (+0.000000E+00)  (+0.000000E+00)  (+0.000000E+00)  (+0.000000E+00)  (+0.000000E+00)  (+0.000000E+00)  (+0.000000E+00)  (+0.000000E+00)  (+0.000000E+00)  (+0.000000E+00)\n",
      "                                          |                                                                                                                                                                                                                                                                                                                                                            \n",
      "prices   +0.000000E+00    +1.000000E+00   |  prices   +1.000000E+00    +1.000000E+00    +1.000000E+00    +1.000000E+00    +1.000000E+00    +1.000000E+00    +1.000000E+00    +1.000000E+00    +1.000000E+00    +1.000000E+00    +1.000000E+00    +1.000000E+00    +1.000000E+00    +1.000000E+00    +1.000000E+00    +1.000000E+00    +1.000000E+00    +1.000000E+00    +1.000000E+00    +1.000000E+00 \n",
      "                         (+0.000000E+00)  |          (+0.000000E+00)  (+0.000000E+00)  (+0.000000E+00)  (+0.000000E+00)  (+0.000000E+00)  (+0.000000E+00)  (+0.000000E+00)  (+0.000000E+00)  (+0.000000E+00)  (+0.000000E+00)  (+0.000000E+00)  (+0.000000E+00)  (+0.000000E+00)  (+0.000000E+00)  (+0.000000E+00)  (+0.000000E+00)  (+0.000000E+00)  (+0.000000E+00)  (+0.000000E+00)  (+0.000000E+00)\n",
      "=======================================================================================================================================================================================================================================================================================================================================================================================================\n",
      "\n",
      "Beta Estimates (Robust SEs in Parentheses):\n",
      "======================================================================================================================================================================================================================================================================================================================================================================================================================================================================================================================================================================================\n",
      "       1               x1               x2               x3         x4['delantero - delantera']  x4['delantero - integral']  x4['delantero - trasera']  x5['climatizador']  x5['climatizador bizona']  x5['climatizador bizona, climatizador trizona']  x5['climatizador trizona']   x5['manual']    x6['centralizado']  x6['centralizado con comando a distancia']   x6['manual']    x7['delanteros']  x7['delanteros y traseros']  x7['no tiene']   x7['traseros']     x9['acero']    x9['acero con tapas']  x9['aleaciÃ\\x83Â³n']        x10              x11            prices     \n",
      "---------------  ---------------  ---------------  ---------------  ---------------------------  --------------------------  -------------------------  ------------------  -------------------------  -----------------------------------------------  --------------------------  ---------------  ------------------  ------------------------------------------  ---------------  ----------------  ---------------------------  ---------------  ---------------  ---------------  ---------------------  --------------------  ---------------  ---------------  ---------------\n",
      " +1.386341E+13    -1.852900E+16    +1.245126E+16    +7.002683E+15          +3.558331E+13               -1.684414E+13               -1.371127E+13          +5.066191E+12           -2.439104E+12                         -1.593380E+11                         -1.775276E+11          +2.737676E+12     -4.163934E+12                   +9.585085E+12                  -3.932535E+11    -9.790792E+12           +7.899498E+12          +1.618226E+10    +6.903009E+12    -8.490641E+12       +8.147126E+11         +1.270383E+13       -6.918979E+12    +1.194688E+13    +8.520791E+09 \n",
      "     (NAN)       (+7.363706E+15)  (+2.303625E+15)  (+1.752142E+15)        (+1.216612E+13)             (+5.981275E+12)             (+4.810954E+12)        (+1.469393E+12)         (+7.976465E+11)                       (+5.844741E+10)                       (+6.418981E+10)        (+8.252787E+11)   (+1.465310E+12)                 (+2.981938E+12)                (+1.421568E+11)  (+3.293715E+12)         (+2.640337E+12)        (+3.370858E+09)  (+2.019017E+12)  (+2.896111E+12)     (+2.907463E+11)       (+3.979518E+12)     (+2.891708E+12)  (+4.263580E+12)  (+1.814768E+09)\n",
      "======================================================================================================================================================================================================================================================================================================================================================================================================================================================================================================================================================================================\n",
      "\n",
      "Estimated Micro Moments:\n",
      "========================================================================================================================\n",
      "  Observed       Estimated     Difference        Moment               Part             Dataset     Observations  Markets\n",
      "-------------  -------------  -------------  ---------------  ---------------------  ------------  ------------  -------\n",
      "+7.830000E-01  +6.939810E-01  +8.901901E-02  E[age_i | mi_j]  E[{x12 =1}  * {a1=1}]  transactions      3885        All  \n",
      "                                                                     {a1=1}]         transactions      3885        All  \n",
      "========================================================================================================================\n"
     ]
    },
    {
     "name": "stderr",
     "output_type": "stream",
     "text": [
      "Detected that the estimated covariance matrix of aggregate GMM moments is nearly singular with condition number +4.109831E+23. To disable singularity checks, set options.singular_tol = numpy.inf.\n",
      "Detected that the estimated covariance matrix of aggregate GMM moments is nearly singular with condition number +2.591848E+25. To disable singularity checks, set options.singular_tol = numpy.inf.\n"
     ]
    },
    {
     "data": {
      "text/plain": [
       "Problem Results Summary:\n",
       "================================================================================================================\n",
       "GMM     Objective      Gradient         Hessian         Hessian     Clipped  Weighting Matrix  Covariance Matrix\n",
       "Step      Value          Norm       Min Eigenvalue  Max Eigenvalue  Shares   Condition Number  Condition Number \n",
       "----  -------------  -------------  --------------  --------------  -------  ----------------  -----------------\n",
       " 2    +5.778962E+01  +0.000000E+00  +0.000000E+00   +0.000000E+00     443         +INF               +INF       \n",
       "================================================================================================================\n",
       "\n",
       "Cumulative Statistics:\n",
       "===========================================================================\n",
       "Computation  Optimizer  Optimization   Objective   Fixed Point  Contraction\n",
       "   Time      Converged   Iterations   Evaluations  Iterations   Evaluations\n",
       "-----------  ---------  ------------  -----------  -----------  -----------\n",
       " 00:03:10       Yes          0             5          2147         6737    \n",
       "===========================================================================\n",
       "\n",
       "Nonlinear Coefficient Estimates (Robust SEs in Parentheses):\n",
       "=======================================================================================================================================================================================================================================================================================================================================================================================================\n",
       "Sigma:         1             prices       |   Pi:           1               a1               a2               a3               a4               a5               a6               a7               a8               a9               a10              a11              a12              a13              a14              a15              a16              a17              a18              a19      \n",
       "------  ---------------  ---------------  |  ------  ---------------  ---------------  ---------------  ---------------  ---------------  ---------------  ---------------  ---------------  ---------------  ---------------  ---------------  ---------------  ---------------  ---------------  ---------------  ---------------  ---------------  ---------------  ---------------  ---------------\n",
       "  1      +1.000000E+00                    |    1      +1.000000E+00    +1.000000E+00    +1.000000E+00    +1.000000E+00    +1.000000E+00    +1.000000E+00    +1.000000E+00    +1.000000E+00    +1.000000E+00    +1.000000E+00    +1.000000E+00    +1.000000E+00    +1.000000E+00    +1.000000E+00    +1.000000E+00    +1.000000E+00    +1.000000E+00    +1.000000E+00    +1.000000E+00    +1.000000E+00 \n",
       "        (+0.000000E+00)                   |          (+0.000000E+00)  (+0.000000E+00)  (+0.000000E+00)  (+0.000000E+00)  (+0.000000E+00)  (+0.000000E+00)  (+0.000000E+00)  (+0.000000E+00)  (+0.000000E+00)  (+0.000000E+00)  (+0.000000E+00)  (+0.000000E+00)  (+0.000000E+00)  (+0.000000E+00)  (+0.000000E+00)  (+0.000000E+00)  (+0.000000E+00)  (+0.000000E+00)  (+0.000000E+00)  (+0.000000E+00)\n",
       "                                          |                                                                                                                                                                                                                                                                                                                                                            \n",
       "prices   +0.000000E+00    +1.000000E+00   |  prices   +1.000000E+00    +1.000000E+00    +1.000000E+00    +1.000000E+00    +1.000000E+00    +1.000000E+00    +1.000000E+00    +1.000000E+00    +1.000000E+00    +1.000000E+00    +1.000000E+00    +1.000000E+00    +1.000000E+00    +1.000000E+00    +1.000000E+00    +1.000000E+00    +1.000000E+00    +1.000000E+00    +1.000000E+00    +1.000000E+00 \n",
       "                         (+0.000000E+00)  |          (+0.000000E+00)  (+0.000000E+00)  (+0.000000E+00)  (+0.000000E+00)  (+0.000000E+00)  (+0.000000E+00)  (+0.000000E+00)  (+0.000000E+00)  (+0.000000E+00)  (+0.000000E+00)  (+0.000000E+00)  (+0.000000E+00)  (+0.000000E+00)  (+0.000000E+00)  (+0.000000E+00)  (+0.000000E+00)  (+0.000000E+00)  (+0.000000E+00)  (+0.000000E+00)  (+0.000000E+00)\n",
       "=======================================================================================================================================================================================================================================================================================================================================================================================================\n",
       "\n",
       "Beta Estimates (Robust SEs in Parentheses):\n",
       "======================================================================================================================================================================================================================================================================================================================================================================================================================================================================================================================================================================================\n",
       "       1               x1               x2               x3         x4['delantero - delantera']  x4['delantero - integral']  x4['delantero - trasera']  x5['climatizador']  x5['climatizador bizona']  x5['climatizador bizona, climatizador trizona']  x5['climatizador trizona']   x5['manual']    x6['centralizado']  x6['centralizado con comando a distancia']   x6['manual']    x7['delanteros']  x7['delanteros y traseros']  x7['no tiene']   x7['traseros']     x9['acero']    x9['acero con tapas']  x9['aleaciÃ\\x83Â³n']        x10              x11            prices     \n",
       "---------------  ---------------  ---------------  ---------------  ---------------------------  --------------------------  -------------------------  ------------------  -------------------------  -----------------------------------------------  --------------------------  ---------------  ------------------  ------------------------------------------  ---------------  ----------------  ---------------------------  ---------------  ---------------  ---------------  ---------------------  --------------------  ---------------  ---------------  ---------------\n",
       " +1.386341E+13    -1.852900E+16    +1.245126E+16    +7.002683E+15          +3.558331E+13               -1.684414E+13               -1.371127E+13          +5.066191E+12           -2.439104E+12                         -1.593380E+11                         -1.775276E+11          +2.737676E+12     -4.163934E+12                   +9.585085E+12                  -3.932535E+11    -9.790792E+12           +7.899498E+12          +1.618226E+10    +6.903009E+12    -8.490641E+12       +8.147126E+11         +1.270383E+13       -6.918979E+12    +1.194688E+13    +8.520791E+09 \n",
       "     (NAN)       (+7.363706E+15)  (+2.303625E+15)  (+1.752142E+15)        (+1.216612E+13)             (+5.981275E+12)             (+4.810954E+12)        (+1.469393E+12)         (+7.976465E+11)                       (+5.844741E+10)                       (+6.418981E+10)        (+8.252787E+11)   (+1.465310E+12)                 (+2.981938E+12)                (+1.421568E+11)  (+3.293715E+12)         (+2.640337E+12)        (+3.370858E+09)  (+2.019017E+12)  (+2.896111E+12)     (+2.907463E+11)       (+3.979518E+12)     (+2.891708E+12)  (+4.263580E+12)  (+1.814768E+09)\n",
       "======================================================================================================================================================================================================================================================================================================================================================================================================================================================================================================================================================================================\n",
       "\n",
       "Estimated Micro Moments:\n",
       "========================================================================================================================\n",
       "  Observed       Estimated     Difference        Moment               Part             Dataset     Observations  Markets\n",
       "-------------  -------------  -------------  ---------------  ---------------------  ------------  ------------  -------\n",
       "+7.830000E-01  +6.939810E-01  +8.901901E-02  E[age_i | mi_j]  E[{x12 =1}  * {a1=1}]  transactions      3885        All  \n",
       "                                                                     {a1=1}]         transactions      3885        All  \n",
       "========================================================================================================================"
      ]
     },
     "execution_count": 105,
     "metadata": {},
     "output_type": "execute_result"
    }
   ],
   "source": [
    "results = problem.solve(\n",
    "    sigma=initial_sigma,\n",
    "    pi=initial_pi,\n",
    "    optimization=pyblp.Optimization('bfgs', {'gtol': 1e-4}),\n",
    "    iteration=pyblp.Iteration('squarem', {'atol': 1e-13}),\n",
    "    #se_type='clustered',\n",
    "    #W_type='clustered',\n",
    "    micro_moments=micro_moments,\n",
    ")\n",
    "results"
   ]
  },
  {
   "cell_type": "markdown",
   "metadata": {},
   "source": [
    "### setting up micro moments 2: using the probability of buying each type of car"
   ]
  },
  {
   "cell_type": "code",
   "execution_count": 194,
   "metadata": {},
   "outputs": [
    {
     "name": "stdout",
     "output_type": "stream",
     "text": [
      "['x10', 'x11']\n",
      "['a1', 'a2', 'a3', 'a4', 'a5', 'a6', 'a7', 'a8', 'a9', 'a10', 'a11', 'a12', 'a13', 'a14', 'a15', 'a16', 'a17', 'a18', 'a19']\n"
     ]
    }
   ],
   "source": [
    "x_list = [f'x{i}' for i in range(10, 12)]\n",
    "print(x_list)\n",
    "\n",
    "a_list = [f'a{i}' for i in range(1, 20)]\n",
    "print(a_list)"
   ]
  },
  {
   "cell_type": "code",
   "execution_count": 195,
   "metadata": {},
   "outputs": [],
   "source": [
    "inside_micro_parts = {}\n",
    "micro_parts = {}\n",
    "\n",
    "for num, j in enumerate(a_list, 1): \n",
    "    micro_parts[f'{j}=1'] = pyblp.MicroPart( #copying mid_part\n",
    "        name = f'E[{j}=1]',\n",
    "        dataset=micro_dataset,\n",
    "        compute_values=lambda t, p, a: np.outer(a.demographics[:, num], np.r_[0, p.X2[:, 0]]), \n",
    "        #in mid_part they use X2, \n",
    "    )\n",
    "\n",
    "    for num2, i in enumerate(x_list, 1): \n",
    "        inside_micro_parts[f'E[{j}=1*{i}=1]'] = pyblp.MicroPart( #copying inside_mid_part \n",
    "            name=f'E[{j}=1*{i}=1]',\n",
    "            dataset=micro_dataset,\n",
    "            compute_values=lambda t, p, a: np.outer(a.demographics[:, num], np.r_[1, p.X2[:, num2]]), \n",
    "        )"
   ]
  },
  {
   "cell_type": "code",
   "execution_count": null,
   "metadata": {},
   "outputs": [
    {
     "name": "stdout",
     "output_type": "stream",
     "text": [
      "works a1 x10\n",
      "works a1 x11\n",
      "works a2 x10\n",
      "works a3 x10\n",
      "works a4 x10\n",
      "works a4 x11\n",
      "works a5 x10\n",
      "works a5 x11\n",
      "works a6 x10\n",
      "works a6 x11\n",
      "works a7 x11\n",
      "works a8 x10\n",
      "works a8 x11\n",
      "works a9 x10\n",
      "works a9 x11\n",
      "works a10 x10\n",
      "works a10 x11\n",
      "works a11 x10\n",
      "works a11 x11\n",
      "works a12 x10\n",
      "works a12 x11\n",
      "works a13 x10\n",
      "works a13 x11\n",
      "works a14 x10\n",
      "works a15 x10\n",
      "works a16 x10\n",
      "works a17 x10\n",
      "works a18 x10\n",
      "works a19 x10\n",
      "works a19 x11\n"
     ]
    }
   ],
   "source": [
    "compute_ratio = lambda v: v[0] / v[1]\n",
    "compute_ratio_gradient = lambda v: [1 / v[1], -v[0] / v[1]**2]\n",
    "\n",
    "micro_moments = []\n",
    "\n",
    "for num, j  in enumerate(a_list, 1): \n",
    "    for num2, i in enumerate(x_list, 1): \n",
    "        try: \n",
    "            value = micro_statistics.loc[(micro_statistics[j] == 1) & (micro_statistics[i] == 1), 'share'].iloc[0]\n",
    "            micro_moments.append(\n",
    "                pyblp.MicroMoment(\n",
    "                    name=f'E[{i}=1|{j}=1]',\n",
    "                    value=value, \n",
    "                    parts= [inside_micro_parts[f'E[{j}=1*{i}=1]'], micro_parts[f'{j}=1'] ], \n",
    "                    compute_value=compute_ratio,\n",
    "                    compute_gradient=compute_ratio_gradient,\n",
    "                )\n",
    "            )\n",
    "            print('works', j, i)\n",
    "        except: \n",
    "            continue"
   ]
  },
  {
   "cell_type": "code",
   "execution_count": null,
   "metadata": {},
   "outputs": [
    {
     "name": "stdout",
     "output_type": "stream",
     "text": [
      "Solving the problem ...\n",
      "\n",
      "Micro Moments:\n",
      "==================================================================================\n",
      "  Observed         Moment           Part         Dataset     Observations  Markets\n",
      "-------------  --------------  --------------  ------------  ------------  -------\n",
      "+6.832086E-01  E[x10=1|a1=1]   E[a1=1*x10=1]   transactions      3885        All  \n",
      "                                  E[a1=1]      transactions      3885        All  \n",
      "+8.989586E-02  E[x11=1|a1=1]   E[a1=1*x11=1]   transactions      3885        All  \n",
      "                                  E[a1=1]      transactions      3885        All  \n",
      "+7.731044E-01  E[x10=1|a2=1]   E[a2=1*x10=1]   transactions      3885        All  \n",
      "                                  E[a2=1]      transactions      3885        All  \n",
      "+7.731044E-01  E[x10=1|a3=1]   E[a3=1*x10=1]   transactions      3885        All  \n",
      "                                  E[a3=1]      transactions      3885        All  \n",
      "+5.911975E-01  E[x10=1|a4=1]   E[a4=1*x10=1]   transactions      3885        All  \n",
      "                                  E[a4=1]      transactions      3885        All  \n",
      "+1.819069E-01  E[x11=1|a4=1]   E[a4=1*x11=1]   transactions      3885        All  \n",
      "                                  E[a4=1]      transactions      3885        All  \n",
      "+6.821510E-01  E[x10=1|a5=1]   E[a5=1*x10=1]   transactions      3885        All  \n",
      "                                  E[a5=1]      transactions      3885        All  \n",
      "+9.095346E-02  E[x11=1|a5=1]   E[a5=1*x11=1]   transactions      3885        All  \n",
      "                                  E[a5=1]      transactions      3885        All  \n",
      "+7.178827E-01  E[x10=1|a6=1]   E[a6=1*x10=1]   transactions      3885        All  \n",
      "                                  E[a6=1]      transactions      3885        All  \n",
      "+5.522174E-02  E[x11=1|a6=1]   E[a6=1*x11=1]   transactions      3885        All  \n",
      "                                  E[a6=1]      transactions      3885        All  \n",
      "+7.731044E-01  E[x11=1|a7=1]   E[a7=1*x11=1]   transactions      3885        All  \n",
      "                                  E[a7=1]      transactions      3885        All  \n",
      "+6.476573E-01  E[x10=1|a8=1]   E[a8=1*x10=1]   transactions      3885        All  \n",
      "                                  E[a8=1]      transactions      3885        All  \n",
      "+1.254471E-01  E[x11=1|a8=1]   E[a8=1*x11=1]   transactions      3885        All  \n",
      "                                  E[a8=1]      transactions      3885        All  \n",
      "+7.562978E-01  E[x10=1|a9=1]   E[a9=1*x10=1]   transactions      3885        All  \n",
      "                                  E[a9=1]      transactions      3885        All  \n",
      "+1.680662E-02  E[x11=1|a9=1]   E[a9=1*x11=1]   transactions      3885        All  \n",
      "                                  E[a9=1]      transactions      3885        All  \n",
      "+6.764664E-01  E[x10=1|a10=1]  E[a10=1*x10=1]  transactions      3885        All  \n",
      "                                  E[a10=1]     transactions      3885        All  \n",
      "+9.663805E-02  E[x11=1|a10=1]  E[a10=1*x11=1]  transactions      3885        All  \n",
      "                                  E[a10=1]     transactions      3885        All  \n",
      "+6.571388E-01  E[x10=1|a11=1]  E[a11=1*x10=1]  transactions      3885        All  \n",
      "                                  E[a11=1]     transactions      3885        All  \n",
      "+1.159657E-01  E[x11=1|a11=1]  E[a11=1*x11=1]  transactions      3885        All  \n",
      "                                  E[a11=1]     transactions      3885        All  \n",
      "+2.811289E-01  E[x10=1|a12=1]  E[a12=1*x10=1]  transactions      3885        All  \n",
      "                                  E[a12=1]     transactions      3885        All  \n",
      "+4.919755E-01  E[x11=1|a12=1]  E[a12=1*x11=1]  transactions      3885        All  \n",
      "                                  E[a12=1]     transactions      3885        All  \n",
      "+4.638627E-01  E[x10=1|a13=1]  E[a13=1*x10=1]  transactions      3885        All  \n",
      "                                  E[a13=1]     transactions      3885        All  \n",
      "+3.092418E-01  E[x11=1|a13=1]  E[a13=1*x11=1]  transactions      3885        All  \n",
      "                                  E[a13=1]     transactions      3885        All  \n",
      "+7.731044E-01  E[x10=1|a14=1]  E[a14=1*x10=1]  transactions      3885        All  \n",
      "                                  E[a14=1]     transactions      3885        All  \n",
      "+7.731044E-01  E[x10=1|a15=1]  E[a15=1*x10=1]  transactions      3885        All  \n",
      "                                  E[a15=1]     transactions      3885        All  \n",
      "+7.731044E-01  E[x10=1|a16=1]  E[a16=1*x10=1]  transactions      3885        All  \n",
      "                                  E[a16=1]     transactions      3885        All  \n",
      "+7.731044E-01  E[x10=1|a17=1]  E[a17=1*x10=1]  transactions      3885        All  \n",
      "                                  E[a17=1]     transactions      3885        All  \n",
      "+7.731044E-01  E[x10=1|a18=1]  E[a18=1*x10=1]  transactions      3885        All  \n",
      "                                  E[a18=1]     transactions      3885        All  \n",
      "+6.325400E-01  E[x10=1|a19=1]  E[a19=1*x10=1]  transactions      3885        All  \n",
      "                                  E[a19=1]     transactions      3885        All  \n",
      "+1.405644E-01  E[x11=1|a19=1]  E[a19=1*x11=1]  transactions      3885        All  \n",
      "                                  E[a19=1]     transactions      3885        All  \n",
      "==================================================================================\n",
      "\n",
      "Nonlinear Coefficient Initial Values:\n",
      "=========================================================================================================================================================================================================================================================================================================================================================================================\n",
      "Sigma:        1             x10            x11          prices      |   Pi:          1             a1             a2             a3             a4             a5             a6             a7             a8             a9             a10            a11            a12            a13            a14            a15            a16            a17            a18            a19     \n",
      "------  -------------  -------------  -------------  -------------  |  ------  -------------  -------------  -------------  -------------  -------------  -------------  -------------  -------------  -------------  -------------  -------------  -------------  -------------  -------------  -------------  -------------  -------------  -------------  -------------  -------------\n",
      "  1     +1.000000E+00                                               |    1     +1.000000E+00  +1.000000E+00  +1.000000E+00  +1.000000E+00  +1.000000E+00  +1.000000E+00  +1.000000E+00  +1.000000E+00  +1.000000E+00  +1.000000E+00  +1.000000E+00  +1.000000E+00  +1.000000E+00  +1.000000E+00  +1.000000E+00  +1.000000E+00  +1.000000E+00  +1.000000E+00  +1.000000E+00  +1.000000E+00\n",
      " x10    +0.000000E+00  +1.000000E+00                                |   x10    +1.000000E+00  +1.000000E+00  +1.000000E+00  +1.000000E+00  +1.000000E+00  +1.000000E+00  +1.000000E+00  +1.000000E+00  +1.000000E+00  +1.000000E+00  +1.000000E+00  +1.000000E+00  +1.000000E+00  +1.000000E+00  +1.000000E+00  +1.000000E+00  +1.000000E+00  +1.000000E+00  +1.000000E+00  +1.000000E+00\n",
      " x11    +0.000000E+00  +0.000000E+00  +1.000000E+00                 |   x11    +1.000000E+00  +1.000000E+00  +1.000000E+00  +1.000000E+00  +1.000000E+00  +1.000000E+00  +1.000000E+00  +1.000000E+00  +1.000000E+00  +1.000000E+00  +1.000000E+00  +1.000000E+00  +1.000000E+00  +1.000000E+00  +1.000000E+00  +1.000000E+00  +1.000000E+00  +1.000000E+00  +1.000000E+00  +1.000000E+00\n",
      "prices  +0.000000E+00  +0.000000E+00  +0.000000E+00  +1.000000E+00  |  prices  +1.000000E+00  +1.000000E+00  +1.000000E+00  +1.000000E+00  +1.000000E+00  +1.000000E+00  +1.000000E+00  +1.000000E+00  +1.000000E+00  +1.000000E+00  +1.000000E+00  +1.000000E+00  +1.000000E+00  +1.000000E+00  +1.000000E+00  +1.000000E+00  +1.000000E+00  +1.000000E+00  +1.000000E+00  +1.000000E+00\n",
      "=========================================================================================================================================================================================================================================================================================================================================================================================\n",
      "\n",
      "Nonlinear Coefficient Lower Bounds:\n",
      "=========================================================================================================================================================================================================================================================================================================================================================================================\n",
      "Sigma:        1             x10            x11          prices      |   Pi:          1             a1             a2             a3             a4             a5             a6             a7             a8             a9             a10            a11            a12            a13            a14            a15            a16            a17            a18            a19     \n",
      "------  -------------  -------------  -------------  -------------  |  ------  -------------  -------------  -------------  -------------  -------------  -------------  -------------  -------------  -------------  -------------  -------------  -------------  -------------  -------------  -------------  -------------  -------------  -------------  -------------  -------------\n",
      "  1         -INF                                                    |    1         -INF           -INF           -INF           -INF           -INF           -INF           -INF           -INF           -INF           -INF           -INF           -INF           -INF           -INF           -INF           -INF           -INF           -INF           -INF           -INF     \n",
      " x10    +0.000000E+00      -INF                                     |   x10        -INF           -INF           -INF           -INF           -INF           -INF           -INF           -INF           -INF           -INF           -INF           -INF           -INF           -INF           -INF           -INF           -INF           -INF           -INF           -INF     \n",
      " x11    +0.000000E+00  +0.000000E+00      -INF                      |   x11        -INF           -INF           -INF           -INF           -INF           -INF           -INF           -INF           -INF           -INF           -INF           -INF           -INF           -INF           -INF           -INF           -INF           -INF           -INF           -INF     \n",
      "prices  +0.000000E+00  +0.000000E+00  +0.000000E+00      -INF       |  prices      -INF           -INF           -INF           -INF           -INF           -INF           -INF           -INF           -INF           -INF           -INF           -INF           -INF           -INF           -INF           -INF           -INF           -INF           -INF           -INF     \n",
      "=========================================================================================================================================================================================================================================================================================================================================================================================\n",
      "\n",
      "Nonlinear Coefficient Upper Bounds:\n",
      "=========================================================================================================================================================================================================================================================================================================================================================================================\n",
      "Sigma:        1             x10            x11          prices      |   Pi:          1             a1             a2             a3             a4             a5             a6             a7             a8             a9             a10            a11            a12            a13            a14            a15            a16            a17            a18            a19     \n",
      "------  -------------  -------------  -------------  -------------  |  ------  -------------  -------------  -------------  -------------  -------------  -------------  -------------  -------------  -------------  -------------  -------------  -------------  -------------  -------------  -------------  -------------  -------------  -------------  -------------  -------------\n",
      "  1         +INF                                                    |    1         +INF           +INF           +INF           +INF           +INF           +INF           +INF           +INF           +INF           +INF           +INF           +INF           +INF           +INF           +INF           +INF           +INF           +INF           +INF           +INF     \n",
      " x10    +0.000000E+00      +INF                                     |   x10        +INF           +INF           +INF           +INF           +INF           +INF           +INF           +INF           +INF           +INF           +INF           +INF           +INF           +INF           +INF           +INF           +INF           +INF           +INF           +INF     \n",
      " x11    +0.000000E+00  +0.000000E+00      +INF                      |   x11        +INF           +INF           +INF           +INF           +INF           +INF           +INF           +INF           +INF           +INF           +INF           +INF           +INF           +INF           +INF           +INF           +INF           +INF           +INF           +INF     \n",
      "prices  +0.000000E+00  +0.000000E+00  +0.000000E+00      +INF       |  prices      +INF           +INF           +INF           +INF           +INF           +INF           +INF           +INF           +INF           +INF           +INF           +INF           +INF           +INF           +INF           +INF           +INF           +INF           +INF           +INF     \n",
      "=========================================================================================================================================================================================================================================================================================================================================================================================\n",
      "\n",
      "Updating starting values for the weighting matrix and delta ...\n"
     ]
    },
    {
     "name": "stderr",
     "output_type": "stream",
     "text": [
      "The model may be under-identified. The total number of unfixed parameters is 102, which is more than the total number of moments, 47. Consider checking whether instruments were properly specified when initializing the problem, and whether parameters were properly configured when solving the problem.\n",
      "Detected that the 2SLS weighting matrix is nearly singular with condition number +9.328032E+25. To disable singularity checks, set options.singular_tol = numpy.inf.\n",
      "Detected that the estimated covariance matrix of micro moments is nearly singular with condition number +5.961714E+146. To disable singularity checks, set options.singular_tol = numpy.inf.\n",
      "Detected that the estimated covariance matrix of aggregate GMM moments is nearly singular with condition number +4.415895E+23. To disable singularity checks, set options.singular_tol = numpy.inf.\n"
     ]
    },
    {
     "name": "stdout",
     "output_type": "stream",
     "text": [
      "Computed results after 00:00:12.\n",
      "\n",
      "Starting optimization ...\n",
      "\n",
      "GMM   Computation  Optimization   Objective   Fixed Point  Contraction  Clipped    Objective      Objective      Gradient                                                                                                                                                                                                                                                                                                                                                                                                                                                                                                                                                                                                                                                                                                                                                                                                                                                                                                                                                                                                                                                                                                                                                                                                                                                                                                               \n",
      "Step     Time       Iterations   Evaluations  Iterations   Evaluations  Shares       Value       Improvement       Norm                                                                                                                                                                                                                                                                                                                                                                                                                                                                                                                                                                                                                                                         Theta                                                                                                                                                                                                                                                                                                                                                                                                                                                                                                                                                                                                                                                   \n",
      "----  -----------  ------------  -----------  -----------  -----------  -------  -------------  -------------  -------------  ----------------------------------------------------------------------------------------------------------------------------------------------------------------------------------------------------------------------------------------------------------------------------------------------------------------------------------------------------------------------------------------------------------------------------------------------------------------------------------------------------------------------------------------------------------------------------------------------------------------------------------------------------------------------------------------------------------------------------------------------------------------------------------------------------------------------------------------------------------------------------------------------------------------------------------------------------------------------------------------------------------------------------------------------------------------------------------------------------------------------------------------------------------------------------------------------------------------------------------------------------------------------------------------------------------\n",
      " 1     00:00:10         0             1            0           74         444    +5.664170E+01                 +0.000000E+00  +1.000000E+00, +1.000000E+00, +1.000000E+00, +1.000000E+00, +1.000000E+00, +1.000000E+00, +1.000000E+00, +1.000000E+00, +1.000000E+00, +1.000000E+00, +1.000000E+00, +1.000000E+00, +1.000000E+00, +1.000000E+00, +1.000000E+00, +1.000000E+00, +1.000000E+00, +1.000000E+00, +1.000000E+00, +1.000000E+00, +1.000000E+00, +1.000000E+00, +1.000000E+00, +1.000000E+00, +1.000000E+00, +1.000000E+00, +1.000000E+00, +1.000000E+00, +1.000000E+00, +1.000000E+00, +1.000000E+00, +1.000000E+00, +1.000000E+00, +1.000000E+00, +1.000000E+00, +1.000000E+00, +1.000000E+00, +1.000000E+00, +1.000000E+00, +1.000000E+00, +1.000000E+00, +1.000000E+00, +1.000000E+00, +1.000000E+00, +1.000000E+00, +1.000000E+00, +1.000000E+00, +1.000000E+00, +1.000000E+00, +1.000000E+00, +1.000000E+00, +1.000000E+00, +1.000000E+00, +1.000000E+00, +1.000000E+00, +1.000000E+00, +1.000000E+00, +1.000000E+00, +1.000000E+00, +1.000000E+00, +1.000000E+00, +1.000000E+00, +1.000000E+00, +1.000000E+00, +1.000000E+00, +1.000000E+00, +1.000000E+00, +1.000000E+00, +1.000000E+00, +1.000000E+00, +1.000000E+00, +1.000000E+00, +1.000000E+00, +1.000000E+00, +1.000000E+00, +1.000000E+00, +1.000000E+00, +1.000000E+00, +1.000000E+00, +1.000000E+00, +1.000000E+00, +1.000000E+00, +1.000000E+00, +1.000000E+00\n",
      "\n",
      "Optimization completed after 00:00:10.\n",
      "Computing the Hessian and and updating the weighting matrix ...\n"
     ]
    },
    {
     "name": "stderr",
     "output_type": "stream",
     "text": [
      "Detected that the estimated covariance matrix of micro moments is nearly singular with condition number +5.961714E+146. To disable singularity checks, set options.singular_tol = numpy.inf.\n",
      "Detected that the estimated covariance matrix of aggregate GMM moments is nearly singular with condition number +1.235280E+24. To disable singularity checks, set options.singular_tol = numpy.inf.\n"
     ]
    },
    {
     "name": "stdout",
     "output_type": "stream",
     "text": [
      "Computed results after 00:17:41.\n",
      "\n",
      "Problem Results Summary:\n",
      "=============================================================================================\n",
      "GMM     Objective      Gradient         Hessian         Hessian     Clipped  Weighting Matrix\n",
      "Step      Value          Norm       Min Eigenvalue  Max Eigenvalue  Shares   Condition Number\n",
      "----  -------------  -------------  --------------  --------------  -------  ----------------\n",
      " 1    +5.664170E+01  +0.000000E+00  +0.000000E+00   +0.000000E+00     444         +INF       \n",
      "=============================================================================================\n",
      "\n",
      "Starting optimization ...\n",
      "\n",
      "GMM   Computation  Optimization   Objective   Fixed Point  Contraction  Clipped    Objective      Objective      Gradient                                                                                                                                                                                                                                                                                                                                                                                                                                                                                                                                                                                                                                                                                                                                                                                                                                                                                                                                                                                                                                                                                                                                                                                                                                                                                                               \n",
      "Step     Time       Iterations   Evaluations  Iterations   Evaluations  Shares       Value       Improvement       Norm                                                                                                                                                                                                                                                                                                                                                                                                                                                                                                                                                                                                                                                         Theta                                                                                                                                                                                                                                                                                                                                                                                                                                                                                                                                                                                                                                                   \n",
      "----  -----------  ------------  -----------  -----------  -----------  -------  -------------  -------------  -------------  ----------------------------------------------------------------------------------------------------------------------------------------------------------------------------------------------------------------------------------------------------------------------------------------------------------------------------------------------------------------------------------------------------------------------------------------------------------------------------------------------------------------------------------------------------------------------------------------------------------------------------------------------------------------------------------------------------------------------------------------------------------------------------------------------------------------------------------------------------------------------------------------------------------------------------------------------------------------------------------------------------------------------------------------------------------------------------------------------------------------------------------------------------------------------------------------------------------------------------------------------------------------------------------------------------------\n",
      " 2     00:00:06         0             1            0           74         444    +5.657477E+01                 +0.000000E+00  +1.000000E+00, +1.000000E+00, +1.000000E+00, +1.000000E+00, +1.000000E+00, +1.000000E+00, +1.000000E+00, +1.000000E+00, +1.000000E+00, +1.000000E+00, +1.000000E+00, +1.000000E+00, +1.000000E+00, +1.000000E+00, +1.000000E+00, +1.000000E+00, +1.000000E+00, +1.000000E+00, +1.000000E+00, +1.000000E+00, +1.000000E+00, +1.000000E+00, +1.000000E+00, +1.000000E+00, +1.000000E+00, +1.000000E+00, +1.000000E+00, +1.000000E+00, +1.000000E+00, +1.000000E+00, +1.000000E+00, +1.000000E+00, +1.000000E+00, +1.000000E+00, +1.000000E+00, +1.000000E+00, +1.000000E+00, +1.000000E+00, +1.000000E+00, +1.000000E+00, +1.000000E+00, +1.000000E+00, +1.000000E+00, +1.000000E+00, +1.000000E+00, +1.000000E+00, +1.000000E+00, +1.000000E+00, +1.000000E+00, +1.000000E+00, +1.000000E+00, +1.000000E+00, +1.000000E+00, +1.000000E+00, +1.000000E+00, +1.000000E+00, +1.000000E+00, +1.000000E+00, +1.000000E+00, +1.000000E+00, +1.000000E+00, +1.000000E+00, +1.000000E+00, +1.000000E+00, +1.000000E+00, +1.000000E+00, +1.000000E+00, +1.000000E+00, +1.000000E+00, +1.000000E+00, +1.000000E+00, +1.000000E+00, +1.000000E+00, +1.000000E+00, +1.000000E+00, +1.000000E+00, +1.000000E+00, +1.000000E+00, +1.000000E+00, +1.000000E+00, +1.000000E+00, +1.000000E+00, +1.000000E+00, +1.000000E+00\n",
      "\n",
      "Optimization completed after 00:00:06.\n",
      "Computing the Hessian and estimating standard errors ...\n"
     ]
    },
    {
     "name": "stderr",
     "output_type": "stream",
     "text": [
      "Detected that the estimated covariance matrix of micro moments is nearly singular with condition number +5.961714E+146. To disable singularity checks, set options.singular_tol = numpy.inf.\n"
     ]
    }
   ],
   "source": [
    "results = problem.solve(\n",
    "    sigma=initial_sigma,\n",
    "    pi=initial_pi,\n",
    "    optimization=pyblp.Optimization('bfgs', {'gtol': 1e-4}),\n",
    "    iteration=pyblp.Iteration('squarem', {'atol': 1e-13}),\n",
    "    #se_type='clustered',\n",
    "    #W_type='clustered',\n",
    "    micro_moments=micro_moments,\n",
    ")\n",
    "results"
   ]
  },
  {
   "cell_type": "markdown",
   "metadata": {},
   "source": [
    "### setting up micro moments 3: using the probability of buying each type of car and the average price paid. "
   ]
  },
  {
   "cell_type": "code",
   "execution_count": 178,
   "metadata": {},
   "outputs": [],
   "source": [
    "inside_micro_parts = {}\n",
    "inside_micro_price = {} # dictionary to store the numerator of the price moments\n",
    "micro_parts = {}\n",
    "\n",
    "for num, j in enumerate(a_list, 1): \n",
    "    micro_parts[f'{j}=1'] = pyblp.MicroPart( #copying mid_part\n",
    "        name = f'E[{j}=1]',\n",
    "        dataset=micro_dataset,\n",
    "        compute_values=lambda t, p, a: np.outer(a.demographics[:, num], np.r_[0, p.X2[:, 0]]), \n",
    "        #in mid_part they use X2, \n",
    "    )\n",
    "\n",
    "    inside_micro_price[f'E[price*{j}=1]'] = pyblp.MicroPart( #copying inside_mid_part \n",
    "        name=f'E[{j}=1*price]',\n",
    "        dataset=micro_dataset,\n",
    "        compute_values=lambda t, p, a: np.outer(a.demographics[:, num], np.r_[1, p.X2[:, 3]]), \n",
    "        )\n",
    "    \n",
    "    for num2, i in enumerate(x_list, 1): \n",
    "        inside_micro_parts[f'E[{j}=1*{i}=1]'] = pyblp.MicroPart( #copying inside_mid_part \n",
    "            name=f'E[{j}=1*{i}=1]',\n",
    "            dataset=micro_dataset,\n",
    "            compute_values=lambda t, p, a: np.outer(a.demographics[:, num], np.r_[1, p.X2[:, num2]]), \n",
    "        )"
   ]
  },
  {
   "cell_type": "code",
   "execution_count": 182,
   "metadata": {},
   "outputs": [
    {
     "ename": "IndentationError",
     "evalue": "expected an indented block after 'try' statement on line 7 (520269623.py, line 9)",
     "output_type": "error",
     "traceback": [
      "\u001b[1;36m  Cell \u001b[1;32mIn[182], line 9\u001b[1;36m\u001b[0m\n\u001b[1;33m    except:\u001b[0m\n\u001b[1;37m    ^\u001b[0m\n\u001b[1;31mIndentationError\u001b[0m\u001b[1;31m:\u001b[0m expected an indented block after 'try' statement on line 7\n"
     ]
    }
   ],
   "source": [
    "compute_ratio = lambda v: v[0] / v[1]\n",
    "compute_ratio_gradient = lambda v: [1 / v[1], -v[0] / v[1]**2]\n",
    "\n",
    "micro_moments = []\n",
    "\n",
    "for num, j  in enumerate(a_list, 1): \n",
    "    try: \n",
    "        value = micro_statistics.loc[ (micro_statistics[i] == 1), 'prices'].iloc[0]\n",
    "        micro_moments.append(\n",
    "            pyblp.MicroMoment(\n",
    "                name=f'E[prices|{j}=1]',\n",
    "                value = value,\n",
    "                \n",
    "        )\n",
    "\n",
    "        \n",
    "    except: \n",
    "        continue \n",
    "\n",
    "\n",
    "\n",
    "    for num2, i in enumerate(x_list, 1): \n",
    "        try: \n",
    "            value = micro_statistics.loc[(micro_statistics[j] == 1) & (micro_statistics[i] == 1), 'share'].iloc[0]\n",
    "            micro_moments.append(\n",
    "                pyblp.MicroMoment(\n",
    "                    name=f'E[{i}=1|{j}=1]',\n",
    "                    value=value, \n",
    "                    parts= [inside_micro_parts[f'E[{j}=1*{i}=1]'], micro_parts[f'{j}=1'] ], \n",
    "                    compute_value=compute_ratio,\n",
    "                    compute_gradient=compute_ratio_gradient,\n",
    "                )\n",
    "            )\n",
    "            print('works', j, i)\n",
    "        except: \n",
    "            continue"
   ]
  },
  {
   "cell_type": "code",
   "execution_count": null,
   "metadata": {},
   "outputs": [],
   "source": [
    "results = problem.solve(\n",
    "    sigma=initial_sigma,\n",
    "    pi=initial_pi,\n",
    "    optimization=pyblp.Optimization('bfgs', {'gtol': 1e-4}),\n",
    "    iteration=pyblp.Iteration('squarem', {'atol': 1e-13}),\n",
    "    #se_type='clustered',\n",
    "    #W_type='clustered',\n",
    "    micro_moments=micro_moments,\n",
    ")\n",
    "results"
   ]
  },
  {
   "cell_type": "markdown",
   "metadata": {},
   "source": [
    "# display"
   ]
  },
  {
   "cell_type": "code",
   "execution_count": null,
   "metadata": {},
   "outputs": [],
   "source": [
    "print(car_df.columns)\n"
   ]
  },
  {
   "cell_type": "code",
   "execution_count": null,
   "metadata": {},
   "outputs": [
    {
     "name": "stderr",
     "output_type": "stream",
     "text": [
      "PandasGUI INFO — pandasgui.gui — Opening PandasGUI\n"
     ]
    },
    {
     "data": {
      "text/plain": [
       "<pandasgui.gui.PandasGui at 0x1ea9e402290>"
      ]
     },
     "execution_count": 141,
     "metadata": {},
     "output_type": "execute_result"
    }
   ],
   "source": [
    "show(product_data_store)"
   ]
  },
  {
   "cell_type": "code",
   "execution_count": 55,
   "metadata": {},
   "outputs": [
    {
     "name": "stderr",
     "output_type": "stream",
     "text": [
      "PandasGUI INFO — pandasgui.gui — Opening PandasGUI\n",
      "PandasGUI WARNING — pandasgui.gui — PandasGUI Unsupported type: <class 'pyblp.micro.MicroDataset'>\n"
     ]
    },
    {
     "data": {
      "text/plain": [
       "<pandasgui.gui.PandasGui at 0x24ec06932e0>"
      ]
     },
     "execution_count": 55,
     "metadata": {},
     "output_type": "execute_result"
    }
   ],
   "source": [
    "show(micro_dataset)"
   ]
  },
  {
   "cell_type": "code",
   "execution_count": 51,
   "metadata": {},
   "outputs": [
    {
     "name": "stderr",
     "output_type": "stream",
     "text": [
      "PandasGUI INFO — pandasgui.gui — Opening PandasGUI\n"
     ]
    },
    {
     "data": {
      "text/plain": [
       "<pandasgui.gui.PandasGui at 0x24ec0150550>"
      ]
     },
     "execution_count": 51,
     "metadata": {},
     "output_type": "execute_result"
    }
   ],
   "source": [
    "show(micro_statistics)"
   ]
  },
  {
   "cell_type": "code",
   "execution_count": 28,
   "metadata": {},
   "outputs": [
    {
     "name": "stderr",
     "output_type": "stream",
     "text": [
      "PandasGUI INFO — pandasgui.gui — Opening PandasGUI\n"
     ]
    },
    {
     "data": {
      "text/plain": [
       "<pandasgui.gui.PandasGui at 0x24eadc4a9e0>"
      ]
     },
     "execution_count": 28,
     "metadata": {},
     "output_type": "execute_result"
    }
   ],
   "source": [
    "show(product_data)"
   ]
  },
  {
   "cell_type": "code",
   "execution_count": null,
   "metadata": {},
   "outputs": [],
   "source": [
    "show(car_df[['Rut Unidad de Compra','market_ids', 'product_ids', 'k'] ])"
   ]
  },
  {
   "cell_type": "code",
   "execution_count": 48,
   "metadata": {},
   "outputs": [
    {
     "name": "stdout",
     "output_type": "stream",
     "text": [
      "{'E[CAMIONETA|k=0': E[CAMIONETA|k=0 on transactions: 3885 Observations in All Markets, 'E[SUV|k=0': E[SUV|k=0 on transactions: 3885 Observations in All Markets, 'E[CAMIONETA|k=1': E[CAMIONETA|k=1 on transactions: 3885 Observations in All Markets, 'E[CAMIONETA|k=2': E[CAMIONETA|k=2 on transactions: 3885 Observations in All Markets, 'E[CAMIONETA|k=3': E[CAMIONETA|k=3 on transactions: 3885 Observations in All Markets, 'E[SUV|k=3': E[SUV|k=3 on transactions: 3885 Observations in All Markets, 'E[CAMIONETA|k=4': E[CAMIONETA|k=4 on transactions: 3885 Observations in All Markets, 'E[SUV|k=4': E[SUV|k=4 on transactions: 3885 Observations in All Markets, 'E[CAMIONETA|k=5': E[CAMIONETA|k=5 on transactions: 3885 Observations in All Markets, 'E[SUV|k=5': E[SUV|k=5 on transactions: 3885 Observations in All Markets, 'E[SUV|k=6': E[SUV|k=6 on transactions: 3885 Observations in All Markets, 'E[CAMIONETA|k=7': E[CAMIONETA|k=7 on transactions: 3885 Observations in All Markets, 'E[SUV|k=7': E[SUV|k=7 on transactions: 3885 Observations in All Markets, 'E[CAMIONETA|k=8': E[CAMIONETA|k=8 on transactions: 3885 Observations in All Markets, 'E[SUV|k=8': E[SUV|k=8 on transactions: 3885 Observations in All Markets, 'E[CAMIONETA|k=9': E[CAMIONETA|k=9 on transactions: 3885 Observations in All Markets, 'E[SUV|k=9': E[SUV|k=9 on transactions: 3885 Observations in All Markets, 'E[CAMIONETA|k=10': E[CAMIONETA|k=10 on transactions: 3885 Observations in All Markets, 'E[SUV|k=10': E[SUV|k=10 on transactions: 3885 Observations in All Markets, 'E[CAMIONETA|k=11': E[CAMIONETA|k=11 on transactions: 3885 Observations in All Markets, 'E[SUV|k=11': E[SUV|k=11 on transactions: 3885 Observations in All Markets, 'E[CAMIONETA|k=12': E[CAMIONETA|k=12 on transactions: 3885 Observations in All Markets, 'E[SUV|k=12': E[SUV|k=12 on transactions: 3885 Observations in All Markets, 'E[CAMIONETA|k=13': E[CAMIONETA|k=13 on transactions: 3885 Observations in All Markets, 'E[CAMIONETA|k=14': E[CAMIONETA|k=14 on transactions: 3885 Observations in All Markets, 'E[CAMIONETA|k=15': E[CAMIONETA|k=15 on transactions: 3885 Observations in All Markets, 'E[CAMIONETA|k=16': E[CAMIONETA|k=16 on transactions: 3885 Observations in All Markets, 'E[CAMIONETA|k=17': E[CAMIONETA|k=17 on transactions: 3885 Observations in All Markets, 'E[CAMIONETA|k=18': E[CAMIONETA|k=18 on transactions: 3885 Observations in All Markets, 'E[SUV|k=18': E[SUV|k=18 on transactions: 3885 Observations in All Markets}\n"
     ]
    }
   ],
   "source": [
    "print(micro_parts_dict)"
   ]
  }
 ],
 "metadata": {
  "kernelspec": {
   "display_name": "Python 3",
   "language": "python",
   "name": "python3"
  },
  "language_info": {
   "codemirror_mode": {
    "name": "ipython",
    "version": 3
   },
   "file_extension": ".py",
   "mimetype": "text/x-python",
   "name": "python",
   "nbconvert_exporter": "python",
   "pygments_lexer": "ipython3",
   "version": "3.11.9"
  }
 },
 "nbformat": 4,
 "nbformat_minor": 2
}
