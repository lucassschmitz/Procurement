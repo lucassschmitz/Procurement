{
 "cells": [
  {
   "cell_type": "markdown",
   "metadata": {},
   "source": [
    "This file useses the purchases of the four FAs that we could find (2239-5-LR21, 2239-8-LR23, 2239-4-LR17 and ID 2239-20-LP13 ) and estimates a demand model. \n",
    "\n",
    "    'IDProductoCM' -> j \n",
    "    To create product characteristics: 'Tipo de Producto', 'Marca', 'Nombre Producto ONU'\n",
    "    'Precio Unitario'-> net not including taxes, just changes the scale of the price parameter \n",
    "    'Rut Unidad de Compra' -> i \n",
    "    To create the groups (k):  'Región Unidad de Compra', 'Sector'\n",
    "     'year' -> t \n",
    "\n",
    "     'Modelo'-> to do the match with the product characteristics. \n",
    "        \n",
    "Variables not directly paired but which could be useful: \n",
    "    'Nro Licitación Pública', 'Id Convenio Marco', 'Convenio Marco', 'CodigoOC', 'Fecha Envío OC', 'Cantidad', 'Rut Proveedor', \n",
    "    'Nombre Proveedor Sucursal', 'Orgcode_Comprador', 'Entcode_Comprador', \n"
   ]
  },
  {
   "cell_type": "code",
   "execution_count": 456,
   "metadata": {},
   "outputs": [],
   "source": [
    "%reset -f"
   ]
  },
  {
   "cell_type": "code",
   "execution_count": 457,
   "metadata": {},
   "outputs": [],
   "source": [
    "import os\n",
    "import pandas as pd\n",
    "import matplotlib.pyplot as plt\n",
    "from matplotlib.ticker import MaxNLocator\n",
    "import seaborn as sns\n",
    "from pandasgui import show\n",
    "import socket\n",
    "import numpy as np\n",
    "from unidecode import unidecode\n",
    "import unicodedata\n",
    "import re\n",
    "from difflib import SequenceMatcher\n",
    "import pyblp\n"
   ]
  },
  {
   "cell_type": "code",
   "execution_count": 458,
   "metadata": {},
   "outputs": [],
   "source": [
    "def calculate_market_shares_with_outside_good(df_transac, share_adjustment = True):\n",
    "    \"\"\"\n",
    "    Calculate market shares using market-specific N_i from the DataFrame\n",
    "    \"\"\"\n",
    "    # Group by product (j) and market (t) to count purchases\n",
    "    product_counts = df_transac.groupby(['product_ids', 'market_ids']).size().reset_index(name='purchases')\n",
    "    \n",
    "    # Get N_i for each market (taking first occurrence since it's constant within market)\n",
    "    market_populations = df_transac.groupby('market_ids')['N_i'].first().reset_index()\n",
    "    \n",
    "    # Merge N_i with product counts\n",
    "    product_counts = product_counts.merge(market_populations, on='market_ids')\n",
    "    \n",
    "    # Calculate market shares\n",
    "    if share_adjustment: \n",
    "        product_counts['shares'] = np.minimum(5*product_counts['purchases'] / product_counts['N_i'], 0.5)\n",
    "    else: \n",
    "        product_counts['shares'] = product_counts['purchases'] / product_counts['N_i']\n",
    "    \n",
    "    product_counts['shares_real'] =product_counts['purchases'] / product_counts['N_i']\n",
    "                                               \n",
    "    x_vars = [col for col in df_transac.columns if col.startswith('x')] #list of variables starting with x \n",
    "    \n",
    "    # Get product characteristics\n",
    "    product_chars = df_transac.groupby(['product_ids', 'market_ids']).agg(\n",
    "        {var: 'first' for var in x_vars} | {'prices': 'first'}\n",
    "    ).reset_index()\n",
    "    \n",
    "    # Merge market shares with product characteristics\n",
    "    final_df = product_chars.merge(product_counts[['product_ids', 'market_ids', 'shares', 'shares_real']], on=['product_ids', 'market_ids'])\n",
    "    \n",
    "    # Calculate outside good share for each market\n",
    "    market_shares = final_df.groupby('market_ids')['shares'].sum()\n",
    "    outside_shares = 1 - market_shares\n",
    "    market_shares_real = final_df.groupby('market_ids')['shares_real'].sum()\n",
    "    outside_shares_real = 1 - market_shares_real\n",
    "    \n",
    "    \n",
    "    # Create outside good rows\n",
    "    markets = df_transac['market_ids'].unique()\n",
    "    outside_goods = pd.DataFrame()\n",
    "    outside_goods['market_ids'] = markets\n",
    "    outside_goods['product_ids'] = 0\n",
    "\n",
    "    for var in x_vars:\n",
    "        if pd.api.types.is_numeric_dtype(df_transac[var]):\n",
    "            outside_goods[var] = 0  # Set numeric variables to 0\n",
    "        else:\n",
    "            outside_goods[var] = '-'  # Set categorical variables to '-'\n",
    "    \n",
    "    outside_goods['prices'] = 0\n",
    "    outside_goods['shares'] = [outside_shares[t] for t in markets]\n",
    "    outside_goods['shares_real'] = [outside_shares_real[t] for t in markets]\n",
    "\n",
    "    # Combine outside goods with other products\n",
    "    final_df = pd.concat([final_df, outside_goods])\n",
    "    \n",
    "    # Sort by market and product ID\n",
    "    final_df = final_df.sort_values(['market_ids', 'product_ids'])\n",
    "    \n",
    "    return final_df\n",
    "\n",
    "def normalize_shares(group):\n",
    "    \"\"\"\n",
    "    Function to normalize shares for each market\n",
    "    \"\"\"\n",
    "    # Fix shares that are not negative\n",
    "    total_shares = group[group['shares'] > 0.01]['shares'].sum()\n",
    "    scaling_factor = 0.99 - group[group['shares'] == 0.01]['shares'].sum()\n",
    "    if total_shares > 0:  # Avoid division by zero\n",
    "        group.loc[group['shares'] > 0.01, 'shares'] *= scaling_factor / total_shares\n",
    "    return group"
   ]
  },
  {
   "cell_type": "code",
   "execution_count": 459,
   "metadata": {},
   "outputs": [
    {
     "name": "stdout",
     "output_type": "stream",
     "text": [
      "Absolute path of dest_path: c:\\Users\\lucas\\OneDrive - Yale University\\Documents\\GitHub\\2nd-year-paper\\interm_data\\yearly_data\\Transacciones\\joined_cleaned_transac.csv\n"
     ]
    }
   ],
   "source": [
    "dest_path = os.path.abspath(os.path.join('..', 'interm_data', 'yearly_data', 'Transacciones', 'joined_cleaned_transac.csv'))\n",
    "print(f\"Absolute path of dest_path: {dest_path}\")\n",
    "transac_df = pd.read_csv(dest_path) \n",
    "#show(transac_df)\n",
    "\n",
    "\n",
    "rename_dict = {\n",
    "    'Rut Unidad de Compra': 'i',\n",
    "    'IDProductoCM': 'product_ids',\n",
    "    'Tipo de Producto': 'x1',\n",
    "    'Marca' : 'x2',\n",
    "    'Nombre Proveedor Sucursal' : 'x3',\n",
    "    'Precio Unitario': 'prices',\n",
    "}\n",
    "\n",
    "transac_df.rename(columns=rename_dict, inplace=True)"
   ]
  },
  {
   "cell_type": "code",
   "execution_count": 460,
   "metadata": {},
   "outputs": [
    {
     "data": {
      "text/html": [
       "<div>\n",
       "<style scoped>\n",
       "    .dataframe tbody tr th:only-of-type {\n",
       "        vertical-align: middle;\n",
       "    }\n",
       "\n",
       "    .dataframe tbody tr th {\n",
       "        vertical-align: top;\n",
       "    }\n",
       "\n",
       "    .dataframe thead th {\n",
       "        text-align: right;\n",
       "    }\n",
       "</style>\n",
       "<table border=\"1\" class=\"dataframe\">\n",
       "  <thead>\n",
       "    <tr style=\"text-align: right;\">\n",
       "      <th></th>\n",
       "      <th>product_ids</th>\n",
       "      <th>Modelo</th>\n",
       "      <th>x1</th>\n",
       "      <th>x2</th>\n",
       "      <th>Nombre Producto ONU</th>\n",
       "      <th>prices</th>\n",
       "      <th>i</th>\n",
       "      <th>Región Unidad de Compra</th>\n",
       "      <th>Sector</th>\n",
       "      <th>year</th>\n",
       "      <th>...</th>\n",
       "      <th>Puntaje Precio_y</th>\n",
       "      <th>exact_merge_var</th>\n",
       "      <th>k</th>\n",
       "      <th>month</th>\n",
       "      <th>trimester</th>\n",
       "      <th>semester</th>\n",
       "      <th>market_ids3</th>\n",
       "      <th>market_ids2</th>\n",
       "      <th>market_ids</th>\n",
       "      <th>N_i</th>\n",
       "    </tr>\n",
       "  </thead>\n",
       "  <tbody>\n",
       "    <tr>\n",
       "      <th>0</th>\n",
       "      <td>1536899</td>\n",
       "      <td>H-1  MB 2.5 CRDI 6M/T GLS 10S AC 2AB ABS</td>\n",
       "      <td>MINIBUS</td>\n",
       "      <td>HYUNDAI</td>\n",
       "      <td>Minibuses</td>\n",
       "      <td>17098600.0</td>\n",
       "      <td>69.071.700-K</td>\n",
       "      <td>Metropolitana</td>\n",
       "      <td>Municipalidades</td>\n",
       "      <td>2018</td>\n",
       "      <td>...</td>\n",
       "      <td>NaN</td>\n",
       "      <td>NaN</td>\n",
       "      <td>48</td>\n",
       "      <td>2</td>\n",
       "      <td>1</td>\n",
       "      <td>1</td>\n",
       "      <td>6</td>\n",
       "      <td>11</td>\n",
       "      <td>12</td>\n",
       "      <td>216</td>\n",
       "    </tr>\n",
       "    <tr>\n",
       "      <th>1</th>\n",
       "      <td>1536914</td>\n",
       "      <td>SANTA FE DM  WGN 2.4 6A/T 4WD GLS FULL PE</td>\n",
       "      <td>SUV</td>\n",
       "      <td>HYUNDAI</td>\n",
       "      <td>Automóviles</td>\n",
       "      <td>19740000.0</td>\n",
       "      <td>69.073.500-8</td>\n",
       "      <td>Valparaíso</td>\n",
       "      <td>Municipalidades</td>\n",
       "      <td>2018</td>\n",
       "      <td>...</td>\n",
       "      <td>NaN</td>\n",
       "      <td>NaN</td>\n",
       "      <td>50</td>\n",
       "      <td>2</td>\n",
       "      <td>1</td>\n",
       "      <td>1</td>\n",
       "      <td>8</td>\n",
       "      <td>13</td>\n",
       "      <td>14</td>\n",
       "      <td>99</td>\n",
       "    </tr>\n",
       "    <tr>\n",
       "      <th>2</th>\n",
       "      <td>1536916</td>\n",
       "      <td>SANTA FE DM  WGN 2.4 6A/T GLS PE</td>\n",
       "      <td>SUV</td>\n",
       "      <td>HYUNDAI</td>\n",
       "      <td>Automóviles</td>\n",
       "      <td>14921513.0</td>\n",
       "      <td>65.154.016-k</td>\n",
       "      <td>Metropolitana</td>\n",
       "      <td>Gob. Central, Universidades</td>\n",
       "      <td>2018</td>\n",
       "      <td>...</td>\n",
       "      <td>NaN</td>\n",
       "      <td>NaN</td>\n",
       "      <td>24</td>\n",
       "      <td>2</td>\n",
       "      <td>1</td>\n",
       "      <td>1</td>\n",
       "      <td>6</td>\n",
       "      <td>11</td>\n",
       "      <td>12</td>\n",
       "      <td>216</td>\n",
       "    </tr>\n",
       "    <tr>\n",
       "      <th>3</th>\n",
       "      <td>1536916</td>\n",
       "      <td>SANTA FE DM  WGN 2.4 6A/T GLS PE</td>\n",
       "      <td>SUV</td>\n",
       "      <td>HYUNDAI</td>\n",
       "      <td>Automóviles</td>\n",
       "      <td>14921513.0</td>\n",
       "      <td>65.154.021-6</td>\n",
       "      <td>Metropolitana</td>\n",
       "      <td>Gob. Central, Universidades</td>\n",
       "      <td>2018</td>\n",
       "      <td>...</td>\n",
       "      <td>NaN</td>\n",
       "      <td>NaN</td>\n",
       "      <td>24</td>\n",
       "      <td>2</td>\n",
       "      <td>1</td>\n",
       "      <td>1</td>\n",
       "      <td>6</td>\n",
       "      <td>11</td>\n",
       "      <td>12</td>\n",
       "      <td>216</td>\n",
       "    </tr>\n",
       "    <tr>\n",
       "      <th>4</th>\n",
       "      <td>1536979</td>\n",
       "      <td>NEW MAHINDRA SCORPIO SUV  4X4 ABS 2AB</td>\n",
       "      <td>SUV</td>\n",
       "      <td>MAHINDRA</td>\n",
       "      <td>Automóviles</td>\n",
       "      <td>10497983.0</td>\n",
       "      <td>61.955.100-1</td>\n",
       "      <td>Araucanía</td>\n",
       "      <td>Salud</td>\n",
       "      <td>2018</td>\n",
       "      <td>...</td>\n",
       "      <td>NaN</td>\n",
       "      <td>NaN</td>\n",
       "      <td>86</td>\n",
       "      <td>2</td>\n",
       "      <td>1</td>\n",
       "      <td>1</td>\n",
       "      <td>0</td>\n",
       "      <td>1</td>\n",
       "      <td>1</td>\n",
       "      <td>62</td>\n",
       "    </tr>\n",
       "    <tr>\n",
       "      <th>...</th>\n",
       "      <td>...</td>\n",
       "      <td>...</td>\n",
       "      <td>...</td>\n",
       "      <td>...</td>\n",
       "      <td>...</td>\n",
       "      <td>...</td>\n",
       "      <td>...</td>\n",
       "      <td>...</td>\n",
       "      <td>...</td>\n",
       "      <td>...</td>\n",
       "      <td>...</td>\n",
       "      <td>...</td>\n",
       "      <td>...</td>\n",
       "      <td>...</td>\n",
       "      <td>...</td>\n",
       "      <td>...</td>\n",
       "      <td>...</td>\n",
       "      <td>...</td>\n",
       "      <td>...</td>\n",
       "      <td>...</td>\n",
       "      <td>...</td>\n",
       "    </tr>\n",
       "    <tr>\n",
       "      <th>4277</th>\n",
       "      <td>2049176</td>\n",
       "      <td>V700 RAPID 1.4L 2024</td>\n",
       "      <td>FURGÓN</td>\n",
       "      <td>RAM</td>\n",
       "      <td>Mini-furgonetas o furgonetas</td>\n",
       "      <td>12410800.0</td>\n",
       "      <td>65.154.398-3</td>\n",
       "      <td>Tarapacá</td>\n",
       "      <td>Gob. Central, Universidades</td>\n",
       "      <td>2024</td>\n",
       "      <td>...</td>\n",
       "      <td>NaN</td>\n",
       "      <td>NaN</td>\n",
       "      <td>25</td>\n",
       "      <td>8</td>\n",
       "      <td>3</td>\n",
       "      <td>2</td>\n",
       "      <td>900</td>\n",
       "      <td>388</td>\n",
       "      <td>215</td>\n",
       "      <td>26</td>\n",
       "    </tr>\n",
       "    <tr>\n",
       "      <th>4278</th>\n",
       "      <td>2054456</td>\n",
       "      <td>D60 ELITE 7DCT 4X2 AT 2024</td>\n",
       "      <td>SUV</td>\n",
       "      <td>MAXUS</td>\n",
       "      <td>Automóviles</td>\n",
       "      <td>16403950.0</td>\n",
       "      <td>69.130.600-3</td>\n",
       "      <td>Maule</td>\n",
       "      <td>Municipalidades</td>\n",
       "      <td>2024</td>\n",
       "      <td>...</td>\n",
       "      <td>NaN</td>\n",
       "      <td>NaN</td>\n",
       "      <td>47</td>\n",
       "      <td>8</td>\n",
       "      <td>3</td>\n",
       "      <td>2</td>\n",
       "      <td>898</td>\n",
       "      <td>386</td>\n",
       "      <td>213</td>\n",
       "      <td>56</td>\n",
       "    </tr>\n",
       "    <tr>\n",
       "      <th>4279</th>\n",
       "      <td>2048705</td>\n",
       "      <td>T8 CE COMFORT 2.0T 4X2 MT 2024</td>\n",
       "      <td>CAMIONETA</td>\n",
       "      <td>JAC</td>\n",
       "      <td>Automóviles</td>\n",
       "      <td>15541506.0</td>\n",
       "      <td>69.071.800-6</td>\n",
       "      <td>Metropolitana</td>\n",
       "      <td>Municipalidades</td>\n",
       "      <td>2024</td>\n",
       "      <td>...</td>\n",
       "      <td>NaN</td>\n",
       "      <td>NaN</td>\n",
       "      <td>48</td>\n",
       "      <td>8</td>\n",
       "      <td>3</td>\n",
       "      <td>2</td>\n",
       "      <td>899</td>\n",
       "      <td>387</td>\n",
       "      <td>214</td>\n",
       "      <td>216</td>\n",
       "    </tr>\n",
       "    <tr>\n",
       "      <th>4280</th>\n",
       "      <td>2048790</td>\n",
       "      <td>T8 PRO LUXURY 4X4 MT 2024</td>\n",
       "      <td>CAMIONETA</td>\n",
       "      <td>JAC</td>\n",
       "      <td>Automóviles</td>\n",
       "      <td>18481640.0</td>\n",
       "      <td>69.071.800-6</td>\n",
       "      <td>Metropolitana</td>\n",
       "      <td>Municipalidades</td>\n",
       "      <td>2024</td>\n",
       "      <td>...</td>\n",
       "      <td>NaN</td>\n",
       "      <td>NaN</td>\n",
       "      <td>48</td>\n",
       "      <td>8</td>\n",
       "      <td>3</td>\n",
       "      <td>2</td>\n",
       "      <td>899</td>\n",
       "      <td>387</td>\n",
       "      <td>214</td>\n",
       "      <td>216</td>\n",
       "    </tr>\n",
       "    <tr>\n",
       "      <th>4281</th>\n",
       "      <td>2050778</td>\n",
       "      <td>G10 MINIBUS 9+1 E6 2024</td>\n",
       "      <td>MINIBUS</td>\n",
       "      <td>MAXUS</td>\n",
       "      <td>Minibuses</td>\n",
       "      <td>22851000.0</td>\n",
       "      <td>69.190.100-9</td>\n",
       "      <td>Araucanía</td>\n",
       "      <td>Municipalidades</td>\n",
       "      <td>2024</td>\n",
       "      <td>...</td>\n",
       "      <td>NaN</td>\n",
       "      <td>NaN</td>\n",
       "      <td>37</td>\n",
       "      <td>8</td>\n",
       "      <td>3</td>\n",
       "      <td>2</td>\n",
       "      <td>893</td>\n",
       "      <td>378</td>\n",
       "      <td>205</td>\n",
       "      <td>62</td>\n",
       "    </tr>\n",
       "  </tbody>\n",
       "</table>\n",
       "<p>4281 rows × 39 columns</p>\n",
       "</div>"
      ],
      "text/plain": [
       "      product_ids                                     Modelo         x1   \n",
       "0         1536899   H-1  MB 2.5 CRDI 6M/T GLS 10S AC 2AB ABS    MINIBUS  \\\n",
       "1         1536914  SANTA FE DM  WGN 2.4 6A/T 4WD GLS FULL PE        SUV   \n",
       "2         1536916           SANTA FE DM  WGN 2.4 6A/T GLS PE        SUV   \n",
       "3         1536916           SANTA FE DM  WGN 2.4 6A/T GLS PE        SUV   \n",
       "4         1536979      NEW MAHINDRA SCORPIO SUV  4X4 ABS 2AB        SUV   \n",
       "...           ...                                        ...        ...   \n",
       "4277      2049176                       V700 RAPID 1.4L 2024     FURGÓN   \n",
       "4278      2054456                 D60 ELITE 7DCT 4X2 AT 2024        SUV   \n",
       "4279      2048705             T8 CE COMFORT 2.0T 4X2 MT 2024  CAMIONETA   \n",
       "4280      2048790                  T8 PRO LUXURY 4X4 MT 2024  CAMIONETA   \n",
       "4281      2050778                    G10 MINIBUS 9+1 E6 2024    MINIBUS   \n",
       "\n",
       "            x2           Nombre Producto ONU      prices             i   \n",
       "0     HYUNDAI                      Minibuses  17098600.0  69.071.700-K  \\\n",
       "1     HYUNDAI                    Automóviles  19740000.0  69.073.500-8   \n",
       "2     HYUNDAI                    Automóviles  14921513.0  65.154.016-k   \n",
       "3     HYUNDAI                    Automóviles  14921513.0  65.154.021-6   \n",
       "4     MAHINDRA                   Automóviles  10497983.0  61.955.100-1   \n",
       "...        ...                           ...         ...           ...   \n",
       "4277       RAM  Mini-furgonetas o furgonetas  12410800.0  65.154.398-3   \n",
       "4278     MAXUS                   Automóviles  16403950.0  69.130.600-3   \n",
       "4279       JAC                   Automóviles  15541506.0  69.071.800-6   \n",
       "4280       JAC                   Automóviles  18481640.0  69.071.800-6   \n",
       "4281     MAXUS                     Minibuses  22851000.0  69.190.100-9   \n",
       "\n",
       "     Región Unidad de Compra                       Sector  year  ...   \n",
       "0              Metropolitana              Municipalidades  2018  ...  \\\n",
       "1                 Valparaíso              Municipalidades  2018  ...   \n",
       "2              Metropolitana  Gob. Central, Universidades  2018  ...   \n",
       "3              Metropolitana  Gob. Central, Universidades  2018  ...   \n",
       "4                  Araucanía                        Salud  2018  ...   \n",
       "...                      ...                          ...   ...  ...   \n",
       "4277                Tarapacá  Gob. Central, Universidades  2024  ...   \n",
       "4278                   Maule              Municipalidades  2024  ...   \n",
       "4279           Metropolitana              Municipalidades  2024  ...   \n",
       "4280           Metropolitana              Municipalidades  2024  ...   \n",
       "4281               Araucanía              Municipalidades  2024  ...   \n",
       "\n",
       "     Puntaje Precio_y exact_merge_var   k month  trimester semester   \n",
       "0                 NaN             NaN  48     2          1        1  \\\n",
       "1                 NaN             NaN  50     2          1        1   \n",
       "2                 NaN             NaN  24     2          1        1   \n",
       "3                 NaN             NaN  24     2          1        1   \n",
       "4                 NaN             NaN  86     2          1        1   \n",
       "...               ...             ...  ..   ...        ...      ...   \n",
       "4277              NaN             NaN  25     8          3        2   \n",
       "4278              NaN             NaN  47     8          3        2   \n",
       "4279              NaN             NaN  48     8          3        2   \n",
       "4280              NaN             NaN  48     8          3        2   \n",
       "4281              NaN             NaN  37     8          3        2   \n",
       "\n",
       "     market_ids3 market_ids2 market_ids  N_i  \n",
       "0              6          11         12  216  \n",
       "1              8          13         14   99  \n",
       "2              6          11         12  216  \n",
       "3              6          11         12  216  \n",
       "4              0           1          1   62  \n",
       "...          ...         ...        ...  ...  \n",
       "4277         900         388        215   26  \n",
       "4278         898         386        213   56  \n",
       "4279         899         387        214  216  \n",
       "4280         899         387        214  216  \n",
       "4281         893         378        205   62  \n",
       "\n",
       "[4281 rows x 39 columns]"
      ]
     },
     "execution_count": 460,
     "metadata": {},
     "output_type": "execute_result"
    }
   ],
   "source": [
    "# create the k groups based on 'Region Unidad de Compra' and 'Sector' \n",
    "transac_df['k'] = transac_df.groupby(['Sector', 'Región Unidad de Compra']).ngroup()\n",
    "\n",
    "#define the market \n",
    "transac_df['month'] = pd.to_datetime(transac_df['Fecha Envío OC']).dt.month\n",
    "transac_df['trimester'] = ((transac_df['month'] - 1) // 3) + 1\n",
    "transac_df['semester'] = ((transac_df['month'] - 1) // 6) + 1\n",
    "\n",
    "\n",
    "transac_df['market_ids3'] = transac_df.groupby(['year', 'month', 'Región Unidad de Compra']).ngroup()\n",
    "transac_df['market_ids2'] = transac_df.groupby(['year', 'trimester', 'Región Unidad de Compra']).ngroup()\n",
    "transac_df['market_ids'] = transac_df.groupby(['year', 'semester', 'Región Unidad de Compra']).ngroup()\n",
    "#transac_df = transac_df.drop('Fecha Envío OC', axis=1)\n",
    "\n",
    "\n",
    "#create a number of consumers at the market level \n",
    "region_counts = transac_df.groupby('Región Unidad de Compra')['i'].nunique()\n",
    "transac_df['N_i'] = transac_df['Región Unidad de Compra'].map(region_counts)\n",
    "\n",
    "#drop obs with missing values \n",
    "transac_df = transac_df.dropna(subset=['x1', 'x2', 'x3'])\n",
    "\n",
    "\n",
    "transac_df\n",
    "#"
   ]
  },
  {
   "cell_type": "code",
   "execution_count": 461,
   "metadata": {},
   "outputs": [
    {
     "name": "stdout",
     "output_type": "stream",
     "text": [
      "Number of unique combinations (x1, x2, x3): 381\n",
      "Number of unique x1 values: 10\n",
      "Number of unique x2 values: 41\n",
      "Number of unique x3 values: 65\n"
     ]
    }
   ],
   "source": [
    "# Count unique combinations of x1, x2, x3\n",
    "unique_combinations = transac_df.groupby(['x1', 'x2', 'x3']).size().reset_index().shape[0]\n",
    "\n",
    "# Count individual unique values\n",
    "x1_unique = transac_df['x1'].nunique()\n",
    "x2_unique = transac_df['x2'].nunique()\n",
    "x3_unique = transac_df['x3'].nunique()\n",
    "\n",
    "print(f\"Number of unique combinations (x1, x2, x3): {unique_combinations}\")\n",
    "print(f\"Number of unique x1 values: {x1_unique}\")\n",
    "print(f\"Number of unique x2 values: {x2_unique}\")\n",
    "print(f\"Number of unique x3 values: {x3_unique}\")"
   ]
  },
  {
   "cell_type": "code",
   "execution_count": 462,
   "metadata": {},
   "outputs": [
    {
     "name": "stdout",
     "output_type": "stream",
     "text": [
      "x1\n",
      "CAMIONETA               2189\n",
      "SUV                      908\n",
      "MINIBUS                  380\n",
      "SEDÁN                    254\n",
      "AMBULANCIAS              184\n",
      "VEHÍCULOS POLICIALES     119\n",
      "CAMIÓN LIVIANO           103\n",
      "FURGÓN                    95\n",
      "HATCHBACK                 41\n",
      "CARGO                      8\n",
      "Name: count, dtype: int64\n",
      "Number of unique values in 'x1,x2,x3': (9, 41, 65)\n",
      "x2\n",
      "HYUNDAI          676\n",
      "TOYOTA           651\n",
      "NISSAN           648\n",
      "MAXUS            339\n",
      "-                303\n",
      "CHEVROLET        261\n",
      "MITSUBISHI       208\n",
      "GREAT WALL       141\n",
      "JMC              139\n",
      "JAC               91\n",
      "MAZDA             83\n",
      "KIA               73\n",
      "FORD              71\n",
      "VOLKSWAGEN        67\n",
      "SUZUKI            66\n",
      "PEUGEOT           49\n",
      "SSANGYONG         45\n",
      "RAM               44\n",
      "RENAULT           40\n",
      "KIA MOTORS        39\n",
      "CITROEN           37\n",
      "CHANGAN           37\n",
      "MAHINDRA          27\n",
      "HONDA             26\n",
      "GREATWALL         25\n",
      "CHERY             22\n",
      "FIAT              18\n",
      "FOTON             13\n",
      "SUBARU             7\n",
      "MG                 6\n",
      "OPEL               5\n",
      "JEEP               5\n",
      "DFSK               3\n",
      "MERCEDES BENZ      3\n",
      "HAVAL              3\n",
      "KAIYI              2\n",
      "BAIC               2\n",
      "ZNA                2\n",
      "BRILLIANCE         2\n",
      "VOLVO              1\n",
      "DODGE              1\n",
      "Name: count, dtype: int64\n",
      "Number of unique values in 'x1,x2,x3': (9, 19, 65)\n",
      "x3\n",
      "Salinas y Fabres S.A.                            629\n",
      "Automotores Gildemeister CAMIONES                520\n",
      "SALAZAR ISRAEL                                   434\n",
      "Maritano y Ebensperger Ltda.                     280\n",
      "BRUNO FRITSCH S.A.                               232\n",
      "                                                ... \n",
      "MARITANO Y EBENSPERGER LTDA                        1\n",
      "BUSES                                              1\n",
      "Salinas y Fabres S.A. - Sucursal Punta Arenas      1\n",
      "COMERCIAL AUTOMOTRIZ S A                           1\n",
      "SALAZAR ISRAEL Temuco                              1\n",
      "Name: count, Length: 65, dtype: int64\n",
      "Number of unique values in 'x1,x2,x3': (9, 19, 23)\n"
     ]
    }
   ],
   "source": [
    "for col in ['x1', 'x2', 'x3']:\n",
    "    # Calculate the value counts for the current column\n",
    "    col_counts = transac_df[col].value_counts()\n",
    "    print( col_counts)\n",
    "    # Identify values that occur in less than 10% of the observations\n",
    "    values_to_replace = col_counts[col_counts < len(transac_df) * 0.01].index\n",
    "    \n",
    "    # Replace these values with 'Other'\n",
    "    transac_df[col] = transac_df[col].replace(values_to_replace, 'Other')\n",
    "\n",
    "\n",
    "    # Count the number of unique values for 'x1', 'x2', and 'x3'\n",
    "    x1_unique_values = transac_df['x1'].nunique()\n",
    "    x2_unique_values = transac_df['x2'].nunique()\n",
    "    x3_unique_values = transac_df['x3'].nunique()\n",
    "\n",
    "    print(f\"Number of unique values in 'x1,x2,x3': {x1_unique_values, x2_unique_values, x3_unique_values}\")"
   ]
  },
  {
   "cell_type": "code",
   "execution_count": 463,
   "metadata": {},
   "outputs": [
    {
     "name": "stdout",
     "output_type": "stream",
     "text": [
      "Number of unique combinations (x1, x2, x3): 284\n",
      "Number of unique x1 values: 9\n",
      "Number of unique x2 values: 19\n",
      "Number of unique x3 values: 23\n"
     ]
    }
   ],
   "source": [
    "# Count unique combinations of x1, x2, x3\n",
    "unique_combinations = transac_df.groupby(['x1', 'x2', 'x3']).size().reset_index().shape[0]\n",
    "\n",
    "# Count individual unique values\n",
    "x1_unique = transac_df['x1'].nunique()\n",
    "x2_unique = transac_df['x2'].nunique()\n",
    "x3_unique = transac_df['x3'].nunique()\n",
    "\n",
    "print(f\"Number of unique combinations (x1, x2, x3): {unique_combinations}\")\n",
    "print(f\"Number of unique x1 values: {x1_unique}\")\n",
    "print(f\"Number of unique x2 values: {x2_unique}\")\n",
    "print(f\"Number of unique x3 values: {x3_unique}\")"
   ]
  },
  {
   "cell_type": "code",
   "execution_count": 494,
   "metadata": {},
   "outputs": [
    {
     "name": "stderr",
     "output_type": "stream",
     "text": [
      "PandasGUI INFO — pandasgui.gui — Opening PandasGUI\n"
     ]
    },
    {
     "data": {
      "text/plain": [
       "<pandasgui.gui.PandasGui at 0x14fcb5bd000>"
      ]
     },
     "execution_count": 494,
     "metadata": {},
     "output_type": "execute_result"
    }
   ],
   "source": [
    "show(transac_df)"
   ]
  },
  {
   "cell_type": "markdown",
   "metadata": {},
   "source": [
    "## market level demand\n",
    "This is without product char"
   ]
  },
  {
   "cell_type": "markdown",
   "metadata": {},
   "source": [
    "### Transform to product level data\n",
    "\n",
    "I multiplied the market shares by 5 and then renormalize in cases there were any negative shares or they summed up to more than 1."
   ]
  },
  {
   "cell_type": "code",
   "execution_count": 464,
   "metadata": {},
   "outputs": [
    {
     "name": "stdout",
     "output_type": "stream",
     "text": [
      "903\n",
      "391\n",
      "218\n"
     ]
    }
   ],
   "source": [
    "print(transac_df['market_ids3'].nunique())\n",
    "print(transac_df['market_ids2'].nunique())\n",
    "print(transac_df['market_ids'].nunique())"
   ]
  },
  {
   "cell_type": "code",
   "execution_count": 465,
   "metadata": {},
   "outputs": [
    {
     "name": "stderr",
     "output_type": "stream",
     "text": [
      "PandasGUI INFO — pandasgui.gui — Opening PandasGUI\n"
     ]
    },
    {
     "data": {
      "text/plain": [
       "<pandasgui.gui.PandasGui at 0x14e8eb7f640>"
      ]
     },
     "execution_count": 465,
     "metadata": {},
     "output_type": "execute_result"
    }
   ],
   "source": [
    "product_data = calculate_market_shares_with_outside_good(transac_df)\n",
    "show(product_data)"
   ]
  },
  {
   "cell_type": "code",
   "execution_count": 466,
   "metadata": {},
   "outputs": [
    {
     "name": "stdout",
     "output_type": "stream",
     "text": [
      "Percentage of negative shares: 4.34%\n"
     ]
    }
   ],
   "source": [
    "negative_shares_percentage = (product_data['shares'] < 0).mean() * 100\n",
    "print(f\"Percentage of negative shares: {negative_shares_percentage:.2f}%\")"
   ]
  },
  {
   "cell_type": "code",
   "execution_count": 467,
   "metadata": {},
   "outputs": [
    {
     "name": "stdout",
     "output_type": "stream",
     "text": [
      "Percentage of negative shares: 0.00%\n"
     ]
    }
   ],
   "source": [
    "product_data['shares'] = product_data['shares'].apply(lambda x: 0.01 if x < 0 else x)\n",
    "\n",
    "# Apply normalization by market_ids\n",
    "product_data = product_data.groupby('market_ids').apply(normalize_shares)\n",
    "\n",
    "# Reset index if needed\n",
    "product_data.reset_index(drop=True, inplace=True)\n",
    "\n",
    "negative_shares_percentage = (product_data['shares'] < 0).mean() * 100\n",
    "print(f\"Percentage of negative shares: {negative_shares_percentage:.2f}%\")\n"
   ]
  },
  {
   "cell_type": "code",
   "execution_count": 468,
   "metadata": {},
   "outputs": [
    {
     "name": "stdout",
     "output_type": "stream",
     "text": [
      "count    218.000000\n",
      "mean       0.179570\n",
      "std        0.269579\n",
      "min        0.010000\n",
      "25%        0.010000\n",
      "50%        0.010000\n",
      "75%        0.347337\n",
      "max        0.877500\n",
      "Name: shares, dtype: float64\n"
     ]
    }
   ],
   "source": [
    "outside_good_shares = product_data[product_data['product_ids'] == 0]['shares'].describe()\n",
    "print(outside_good_shares)"
   ]
  },
  {
   "cell_type": "code",
   "execution_count": 469,
   "metadata": {},
   "outputs": [
    {
     "name": "stdout",
     "output_type": "stream",
     "text": [
      "Series([], Name: shares, dtype: float64)\n"
     ]
    }
   ],
   "source": [
    "sum_market_shares = product_data.groupby('market_ids')['shares'].sum()\n",
    "markets_with_high_shares = sum_market_shares[sum_market_shares > 1]\n",
    "print(markets_with_high_shares)\n",
    "\n",
    "product_data.loc[product_data['product_ids'] == 0, 'shares'] -= 0.001\n"
   ]
  },
  {
   "cell_type": "code",
   "execution_count": 470,
   "metadata": {},
   "outputs": [
    {
     "data": {
      "text/plain": [
       "(1 + x1 + x2 + x3 + prices, prices)"
      ]
     },
     "execution_count": 470,
     "metadata": {},
     "output_type": "execute_result"
    }
   ],
   "source": [
    "X1_formulation = pyblp.Formulation('1 + x1 + x2 + x3 + prices') # non random coefficient formulation\n",
    "X2_formulation = pyblp.Formulation('0 + prices') # variables with random coefficients. \n",
    "product_formulations = (X1_formulation, X2_formulation)\n",
    "product_formulations"
   ]
  },
  {
   "cell_type": "code",
   "execution_count": 471,
   "metadata": {},
   "outputs": [
    {
     "name": "stdout",
     "output_type": "stream",
     "text": [
      "Initializing the problem ...\n",
      "Initialized the problem after 00:00:00.\n",
      "\n",
      "Dimensions:\n",
      "==================================\n",
      " T    N      I     K1    K2    MD \n",
      "---  ----  -----  ----  ----  ----\n",
      "218  3202  10900   52    1     51 \n",
      "==================================\n",
      "\n",
      "Formulations:\n",
      "===============================================================================================================================================================================================================================================================================================================================================================================================================================================================================================================================================================================================================================================================================================================================================================================================================================================================================================================================================================================================================================================================================================================================================================================\n",
      "       Column Indices:           0             1                 2                  3                 4              5             6            7           8                  9                     10             11             12               13           14         15         16          17           18              19              20           21             22           23            24              25            26              27                      28                           29                               30                                31                                 32                                    33                                        34                                             35                               36                  37              38             39               40                               41                                      42                                 43                      44               45                           46                             47                            48                          49                       50                 51  \n",
      "-----------------------------  ------  -----------------  ---------------  --------------------  ------------  -------------  -----------  -----------  ---------  --------------------------  ---------------  ----------  ----------------  --------------  ---------  ---------  ---------  -----------  -----------  ----------------  ------------  -----------  --------------  ---------  ---------------  ------------  ------------  ----------------  -----------------------------  ------------------------  ---------------------------------------  ------------------------  ------------------------------------------  ------------------------------  --------------------------------------------------  ----------------------------------------  ----------------------  ---------------  -------------  ------------  -------------------  ------------------------------------------  ----------------------------------  ---------------------------------  -----------  -------------------  -----------------------------------  -----------------------  --------------------------------  --------------------  ---------------------------  ------\n",
      " X1: Linear Characteristics      1     x1['AMBULANCIAS']  x1['CAMIONETA']  x1['CAMIÓN LIVIANO']  x1['FURGÓN']  x1['MINIBUS']  x1['Other']  x1['SEDÁN']  x1['SUV']  x1['VEHÍCULOS POLICIALES']  x2['CHEVROLET']  x2['FORD']  x2['GREAT WALL']  x2['HYUNDAI ']  x2['JAC']  x2['JMC']  x2['KIA']  x2['MAXUS']  x2['MAZDA']  x2['MITSUBISHI']  x2['NISSAN']  x2['Other']  x2['PEUGEOT ']  x2['RAM']  x2['SSANGYONG']  x2['SUZUKI']  x2['TOYOTA']  x2['VOLKSWAGEN']  x3['AUTOMOTORA MELHUISH SPA']  x3['Anfruns Motors SPA']  x3['Automotores Gildemeister CAMIONES']  x3['BRUNO FRITSCH S.A.']  x3['COMERCIAL ANFRUNS Y COMPAí\\x91IA SPA']  x3['COMERCIAL BERTONATI S.A.']  x3['CONVERSIONES SAN JOSE - Vehículos Especiales']  x3['Comercial Motores de los Andes SpA']  x3['Curifor Coquimbo']  x3['Derco SPA']  x3['Dercosa']  x3['HVCCSA']  x3['KIA CHILE SPA']  x3['Kovacs SpA Seminario 385 Providencia']  x3['Maritano y Ebensperger Ltda.']  x3['Mediterraneo Automotores SA']  x3['Other']  x3['PIAMONTE S.A.']  x3['POMPEYO CARRASCO Y CIA. LTDA.']  x3['PORSCHE CHILE SPA']  x3['PORTILLO S A - Casa Matriz']  x3['SALAZAR ISRAEL']  x3['Salinas y Fabres S.A.']  prices\n",
      "X2: Nonlinear Characteristics  prices                                                                                                                                                                                                                                                                                                                                                                                                                                                                                                                                                                                                                                                                                                                                                                                                                                                                                                                                                                                                                                                                                                                                          \n",
      "===============================================================================================================================================================================================================================================================================================================================================================================================================================================================================================================================================================================================================================================================================================================================================================================================================================================================================================================================================================================================================================================================================================================================================================================\n",
      "Initializing the problem ...\n",
      "Initialized the problem after 00:00:00.\n",
      "\n",
      "Dimensions:\n",
      "=================================\n",
      " T    N     I     K1    K2    MD \n",
      "---  ----  ----  ----  ----  ----\n",
      "218  3202  1090   52    1     51 \n",
      "=================================\n",
      "\n",
      "Formulations:\n",
      "===============================================================================================================================================================================================================================================================================================================================================================================================================================================================================================================================================================================================================================================================================================================================================================================================================================================================================================================================================================================================================================================================================================================================================================================\n",
      "       Column Indices:           0             1                 2                  3                 4              5             6            7           8                  9                     10             11             12               13           14         15         16          17           18              19              20           21             22           23            24              25            26              27                      28                           29                               30                                31                                 32                                    33                                        34                                             35                               36                  37              38             39               40                               41                                      42                                 43                      44               45                           46                             47                            48                          49                       50                 51  \n",
      "-----------------------------  ------  -----------------  ---------------  --------------------  ------------  -------------  -----------  -----------  ---------  --------------------------  ---------------  ----------  ----------------  --------------  ---------  ---------  ---------  -----------  -----------  ----------------  ------------  -----------  --------------  ---------  ---------------  ------------  ------------  ----------------  -----------------------------  ------------------------  ---------------------------------------  ------------------------  ------------------------------------------  ------------------------------  --------------------------------------------------  ----------------------------------------  ----------------------  ---------------  -------------  ------------  -------------------  ------------------------------------------  ----------------------------------  ---------------------------------  -----------  -------------------  -----------------------------------  -----------------------  --------------------------------  --------------------  ---------------------------  ------\n",
      " X1: Linear Characteristics      1     x1['AMBULANCIAS']  x1['CAMIONETA']  x1['CAMIÓN LIVIANO']  x1['FURGÓN']  x1['MINIBUS']  x1['Other']  x1['SEDÁN']  x1['SUV']  x1['VEHÍCULOS POLICIALES']  x2['CHEVROLET']  x2['FORD']  x2['GREAT WALL']  x2['HYUNDAI ']  x2['JAC']  x2['JMC']  x2['KIA']  x2['MAXUS']  x2['MAZDA']  x2['MITSUBISHI']  x2['NISSAN']  x2['Other']  x2['PEUGEOT ']  x2['RAM']  x2['SSANGYONG']  x2['SUZUKI']  x2['TOYOTA']  x2['VOLKSWAGEN']  x3['AUTOMOTORA MELHUISH SPA']  x3['Anfruns Motors SPA']  x3['Automotores Gildemeister CAMIONES']  x3['BRUNO FRITSCH S.A.']  x3['COMERCIAL ANFRUNS Y COMPAí\\x91IA SPA']  x3['COMERCIAL BERTONATI S.A.']  x3['CONVERSIONES SAN JOSE - Vehículos Especiales']  x3['Comercial Motores de los Andes SpA']  x3['Curifor Coquimbo']  x3['Derco SPA']  x3['Dercosa']  x3['HVCCSA']  x3['KIA CHILE SPA']  x3['Kovacs SpA Seminario 385 Providencia']  x3['Maritano y Ebensperger Ltda.']  x3['Mediterraneo Automotores SA']  x3['Other']  x3['PIAMONTE S.A.']  x3['POMPEYO CARRASCO Y CIA. LTDA.']  x3['PORSCHE CHILE SPA']  x3['PORTILLO S A - Casa Matriz']  x3['SALAZAR ISRAEL']  x3['Salinas y Fabres S.A.']  prices\n",
      "X2: Nonlinear Characteristics  prices                                                                                                                                                                                                                                                                                                                                                                                                                                                                                                                                                                                                                                                                                                                                                                                                                                                                                                                                                                                                                                                                                                                                          \n",
      "===============================================================================================================================================================================================================================================================================================================================================================================================================================================================================================================================================================================================================================================================================================================================================================================================================================================================================================================================================================================================================================================================================================================================================================================\n"
     ]
    },
    {
     "name": "stderr",
     "output_type": "stream",
     "text": [
      "Detected collinearity issues with [x2['VOLKSWAGEN'], x3['Salinas y Fabres S.A.']] and at least one other column in X1. To disable collinearity checks, set options.collinear_atol = options.collinear_rtol = 0.\n",
      "Detected collinearity issues with [x2['VOLKSWAGEN'], x3['Salinas y Fabres S.A.']] and at least one other column in ZD. To disable collinearity checks, set options.collinear_atol = options.collinear_rtol = 0.\n",
      "Detected collinearity issues with [x2['VOLKSWAGEN'], x3['Salinas y Fabres S.A.']] and at least one other column in X1. To disable collinearity checks, set options.collinear_atol = options.collinear_rtol = 0.\n",
      "Detected collinearity issues with [x2['VOLKSWAGEN'], x3['Salinas y Fabres S.A.']] and at least one other column in ZD. To disable collinearity checks, set options.collinear_atol = options.collinear_rtol = 0.\n"
     ]
    }
   ],
   "source": [
    "\n",
    "mc_integration = pyblp.Integration('monte_carlo', size=50, specification_options={'seed': 0})\n",
    "mc_integration\n",
    "pr_integration = pyblp.Integration('product', size=5)\n",
    "pr_integration\n",
    "\n",
    "mc_problem = pyblp.Problem(product_formulations, product_data, integration=mc_integration)\n",
    "mc_problem\n",
    "pr_problem = pyblp.Problem(product_formulations, product_data, integration=pr_integration)\n",
    "pr_problem\n",
    "\n",
    "bfgs = pyblp.Optimization('bfgs', {'gtol': 1e-4})\n"
   ]
  },
  {
   "cell_type": "code",
   "execution_count": 472,
   "metadata": {},
   "outputs": [
    {
     "name": "stderr",
     "output_type": "stream",
     "text": [
      "The model may be under-identified. The total number of unfixed parameters is 53, which is more than the total number of moments, 51. Consider checking whether instruments were properly specified when initializing the problem, and whether parameters were properly configured when solving the problem.\n",
      "Detected that the 2SLS weighting matrix is nearly singular with condition number +4.124298E+17. To disable singularity checks, set options.singular_tol = numpy.inf.\n"
     ]
    },
    {
     "name": "stdout",
     "output_type": "stream",
     "text": [
      "Solving the problem ...\n",
      "\n",
      "Nonlinear Coefficient Initial Values:\n",
      "=====================\n",
      "Sigma:     prices    \n",
      "------  -------------\n",
      "prices  +1.000000E+00\n",
      "=====================\n",
      "Starting optimization ...\n",
      "\n",
      "\n",
      "At least one error was encountered. As long as the optimization routine does not get stuck at values of theta that give rise to errors, this is not necessarily a problem. If the errors persist or seem to be impacting the optimization results, consider setting an error punishment or following any of the other suggestions below:\n",
      "The fixed point computation of delta failed to converge. This problem can sometimes be mitigated by increasing the maximum number of fixed point iterations, increasing the fixed point tolerance, choosing more reasonable initial parameter values, setting more conservative parameter or share bounds, or using different iteration or optimization configurations.\n",
      "\n",
      "GMM   Computation  Optimization   Objective   Fixed Point  Contraction  Clipped    Objective      Objective      Gradient                  \n",
      "Step     Time       Iterations   Evaluations  Iterations   Evaluations  Shares       Value       Improvement       Norm           Theta    \n",
      "----  -----------  ------------  -----------  -----------  -----------  -------  -------------  -------------  -------------  -------------\n",
      " 1     00:00:02         0             1          11623        34875      2943    +4.129242E+42                 +5.765426E+24  +1.000000E+00\n",
      "\n",
      "The optimization routine failed to converge. This problem can sometimes be mitigated by choosing more reasonable initial parameter values, setting more conservative bounds, or configuring other optimization settings.\n",
      "\n",
      "\n",
      "Optimization failed after 00:00:02.\n",
      "Computing the Hessian and and updating the weighting matrix ...\n"
     ]
    },
    {
     "name": "stderr",
     "output_type": "stream",
     "text": [
      "Detected that the estimated covariance matrix of aggregate GMM moments is nearly singular with condition number +6.413006E+16. To disable singularity checks, set options.singular_tol = numpy.inf.\n"
     ]
    },
    {
     "name": "stdout",
     "output_type": "stream",
     "text": [
      "\n",
      "The fixed point computation of delta failed to converge. This problem can sometimes be mitigated by increasing the maximum number of fixed point iterations, increasing the fixed point tolerance, choosing more reasonable initial parameter values, setting more conservative parameter or share bounds, or using different iteration or optimization configurations.\n",
      "\n",
      "Computed results after 00:00:08.\n",
      "\n",
      "Problem Results Summary:\n",
      "============================================================================\n",
      "GMM     Objective      Gradient                    Clipped  Weighting Matrix\n",
      "Step      Value          Norm          Hessian     Shares   Condition Number\n",
      "----  -------------  -------------  -------------  -------  ----------------\n",
      " 1    +4.129242E+42  +5.765426E+24  -8.400279E+30   2943     +1.332403E+18  \n",
      "============================================================================\n",
      "\n",
      "Starting optimization ...\n",
      "\n",
      "\n",
      "At least one error was encountered. As long as the optimization routine does not get stuck at values of theta that give rise to errors, this is not necessarily a problem. If the errors persist or seem to be impacting the optimization results, consider setting an error punishment or following any of the other suggestions below:\n",
      "The fixed point computation of delta failed to converge. This problem can sometimes be mitigated by increasing the maximum number of fixed point iterations, increasing the fixed point tolerance, choosing more reasonable initial parameter values, setting more conservative parameter or share bounds, or using different iteration or optimization configurations.\n",
      "\n",
      "GMM   Computation  Optimization   Objective   Fixed Point  Contraction  Clipped    Objective      Objective      Gradient                  \n",
      "Step     Time       Iterations   Evaluations  Iterations   Evaluations  Shares       Value       Improvement       Norm           Theta    \n",
      "----  -----------  ------------  -----------  -----------  -----------  -------  -------------  -------------  -------------  -------------\n",
      " 2     00:00:02         0             1          4998         15215      2943    +6.623659E+02                 +6.758802E-17  +1.000000E+00\n",
      "\n",
      "Optimization completed after 00:00:02.\n",
      "Computing the Hessian and estimating standard errors ...\n",
      "\n",
      "The fixed point computation of delta failed to converge. This problem can sometimes be mitigated by increasing the maximum number of fixed point iterations, increasing the fixed point tolerance, choosing more reasonable initial parameter values, setting more conservative parameter or share bounds, or using different iteration or optimization configurations.\n",
      "\n",
      "Computed results after 00:00:05.\n",
      "\n",
      "Problem Results Summary:\n",
      "===============================================================================================\n",
      "GMM     Objective      Gradient                    Clipped  Weighting Matrix  Covariance Matrix\n",
      "Step      Value          Norm          Hessian     Shares   Condition Number  Condition Number \n",
      "----  -------------  -------------  -------------  -------  ----------------  -----------------\n",
      " 2    +6.623659E+02  +6.758802E-17  +0.000000E+00   2943     +8.406958E+18      +1.334244E+29  \n",
      "===============================================================================================\n",
      "\n",
      "Cumulative Statistics:\n",
      "===========================================================================\n",
      "Computation  Optimizer  Optimization   Objective   Fixed Point  Contraction\n",
      "   Time      Converged   Iterations   Evaluations  Iterations   Evaluations\n",
      "-----------  ---------  ------------  -----------  -----------  -----------\n",
      " 00:00:17       No           0             4          33242       100180   \n",
      "===========================================================================\n",
      "\n",
      "Nonlinear Coefficient Estimates (Robust SEs in Parentheses):\n",
      "=======================\n",
      "Sigma:      prices     \n",
      "------  ---------------\n",
      "prices   +1.000000E+00 \n",
      "        (+3.182645E+15)\n",
      "=======================\n",
      "\n",
      "Beta Estimates (Robust SEs in Parentheses):\n",
      "==================================================================================================================================================================================================================================================================================================================================================================================================================================================================================================================================================================================================================================================================================================================================================================================================================================================================================================================================================================================================================================================================================================================================================================================================================================================\n",
      "       1         x1['AMBULANCIAS']  x1['CAMIONETA']  x1['CAMIÓN LIVIANO']   x1['FURGÓN']     x1['MINIBUS']     x1['Other']      x1['SEDÁN']       x1['SUV']     x1['VEHÍCULOS POLICIALES']  x2['CHEVROLET']    x2['FORD']     x2['GREAT WALL']  x2['HYUNDAI ']      x2['JAC']        x2['JMC']        x2['KIA']       x2['MAXUS']      x2['MAZDA']    x2['MITSUBISHI']   x2['NISSAN']      x2['Other']    x2['PEUGEOT ']      x2['RAM']     x2['SSANGYONG']   x2['SUZUKI']     x2['TOYOTA']    x2['VOLKSWAGEN']  x3['AUTOMOTORA MELHUISH SPA']  x3['Anfruns Motors SPA']  x3['Automotores Gildemeister CAMIONES']  x3['BRUNO FRITSCH S.A.']  x3['COMERCIAL ANFRUNS Y COMPAí\\x91IA SPA']  x3['COMERCIAL BERTONATI S.A.']  x3['CONVERSIONES SAN JOSE - Vehículos Especiales']  x3['Comercial Motores de los Andes SpA']  x3['Curifor Coquimbo']  x3['Derco SPA']   x3['Dercosa']    x3['HVCCSA']    x3['KIA CHILE SPA']  x3['Kovacs SpA Seminario 385 Providencia']  x3['Maritano y Ebensperger Ltda.']  x3['Mediterraneo Automotores SA']    x3['Other']    x3['PIAMONTE S.A.']  x3['POMPEYO CARRASCO Y CIA. LTDA.']  x3['PORSCHE CHILE SPA']  x3['PORTILLO S A - Casa Matriz']  x3['SALAZAR ISRAEL']  x3['Salinas y Fabres S.A.']      prices     \n",
      "---------------  -----------------  ---------------  --------------------  ---------------  ---------------  ---------------  ---------------  ---------------  --------------------------  ---------------  ---------------  ----------------  ---------------  ---------------  ---------------  ---------------  ---------------  ---------------  ----------------  ---------------  ---------------  ---------------  ---------------  ---------------  ---------------  ---------------  ----------------  -----------------------------  ------------------------  ---------------------------------------  ------------------------  ------------------------------------------  ------------------------------  --------------------------------------------------  ----------------------------------------  ----------------------  ---------------  ---------------  ---------------  -------------------  ------------------------------------------  ----------------------------------  ---------------------------------  ---------------  -------------------  -----------------------------------  -----------------------  --------------------------------  --------------------  ---------------------------  ---------------\n",
      " +1.691700E+05     +1.565210E+03     +9.425754E+04      +4.754065E+03       +3.338413E+03    +1.613242E+04    +1.370349E+03    +7.324120E+03    +3.779285E+04         +3.059590E+03          +1.004919E+04    +2.878802E+03    +5.415479E+03     +2.314170E+04    +4.237416E+03    +2.082924E+03    +2.256508E+03    +1.759451E+04    +2.404557E+03    +7.867172E+03     +3.298178E+04    +1.306877E+04    +1.767477E+03    +2.993529E+03    +1.880996E+03    +1.282211E+03    +2.978432E+04    +3.282423E+03            +2.880732E+03               +1.573595E+03                     +2.047650E+04                    +1.030685E+04                      +3.587315E+03                         +3.947082E+02                             +2.708057E+03                                  +9.838400E+03                    +1.745377E+03        +3.375421E+03    +6.974665E+03    +1.241128E+03      +1.406296E+03                   +9.321718E+03                           +7.591687E+03                       +1.035009E+04             +1.714607E+04      +2.331122E+03                +9.055853E+03                  +2.241324E+03                +8.174108E+03               +1.697974E+04             +1.989381E+04          +2.927502E+12 \n",
      "(+2.043438E+11)   (+4.157613E+09)   (+1.550277E+12)    (+6.485151E+10)     (+1.797769E+10)  (+7.616777E+10)  (+1.617524E+10)  (+4.161829E+11)  (+1.338276E+12)       (+1.788261E+10)        (+8.540026E+10)  (+1.445825E+10)  (+3.562759E+08)   (+6.963732E+11)  (+1.741081E+10)  (+4.348506E+09)  (+3.125632E+10)  (+7.708538E+10)  (+1.443588E+11)  (+8.100400E+10)   (+2.017419E+12)  (+7.354911E+10)  (+5.237333E+09)  (+2.095732E+10)  (+1.458114E+12)  (+5.651303E+10)  (+1.830496E+11)  (+7.836072E+09)          (+1.475948E+10)             (+4.880974E+09)                   (+7.117743E+11)                  (+1.367766E+11)                    (+2.198384E+10)                       (+3.682171E+08)                           (+5.927989E+10)                                (+6.670544E+10)                  (+3.332294E+09)      (+1.506965E+10)  (+2.539280E+11)  (+1.888783E+09)    (+5.998223E+10)                 (+7.708178E+10)                         (+1.050388E+11)                     (+1.101243E+11)           (+1.426451E+12)    (+6.195771E+08)              (+7.698019E+09)                (+1.417433E+10)              (+5.478481E+10)             (+1.750190E+11)           (+1.018280E+12)        (+3.361733E+10)\n",
      "==================================================================================================================================================================================================================================================================================================================================================================================================================================================================================================================================================================================================================================================================================================================================================================================================================================================================================================================================================================================================================================================================================================================================================================================================================================================\n"
     ]
    },
    {
     "name": "stderr",
     "output_type": "stream",
     "text": [
      "Detected that the estimated covariance matrix of aggregate GMM moments is nearly singular with condition number +2.092498E+17. To disable singularity checks, set options.singular_tol = numpy.inf.\n",
      "Detected that the estimated covariance matrix of aggregate GMM moments is nearly singular with condition number +4.082675E+18. To disable singularity checks, set options.singular_tol = numpy.inf.\n"
     ]
    }
   ],
   "source": [
    "results1 = mc_problem.solve(sigma=np.ones((1, 1)), optimization=bfgs)\n",
    "\n",
    "#results2 = pr_problem.solve(sigma=np.ones((1, 1)), optimization=bfgs)\n",
    "#results2\n"
   ]
  },
  {
   "cell_type": "code",
   "execution_count": 473,
   "metadata": {},
   "outputs": [
    {
     "name": "stdout",
     "output_type": "stream",
     "text": [
      "Solving the problem ...\n",
      "\n",
      "Nonlinear Coefficient Initial Values:\n",
      "=====================\n",
      "Sigma:     prices    \n",
      "------  -------------\n",
      "prices  +1.000000E+00\n",
      "=====================\n",
      "Starting optimization ...\n",
      "\n"
     ]
    },
    {
     "name": "stderr",
     "output_type": "stream",
     "text": [
      "The model may be under-identified. The total number of unfixed parameters is 53, which is more than the total number of moments, 51. Consider checking whether instruments were properly specified when initializing the problem, and whether parameters were properly configured when solving the problem.\n",
      "Detected that the 2SLS weighting matrix is nearly singular with condition number +4.124298E+17. To disable singularity checks, set options.singular_tol = numpy.inf.\n"
     ]
    },
    {
     "name": "stdout",
     "output_type": "stream",
     "text": [
      "\n",
      "At least one error was encountered. As long as the optimization routine does not get stuck at values of theta that give rise to errors, this is not necessarily a problem. If the errors persist or seem to be impacting the optimization results, consider setting an error punishment or following any of the other suggestions below:\n",
      "The fixed point computation of delta failed to converge. This problem can sometimes be mitigated by increasing the maximum number of fixed point iterations, increasing the fixed point tolerance, choosing more reasonable initial parameter values, setting more conservative parameter or share bounds, or using different iteration or optimization configurations.\n",
      "\n",
      "GMM   Computation  Optimization   Objective   Fixed Point  Contraction  Clipped    Objective      Objective      Gradient                  \n",
      "Step     Time       Iterations   Evaluations  Iterations   Evaluations  Shares       Value       Improvement       Norm           Theta    \n",
      "----  -----------  ------------  -----------  -----------  -----------  -------  -------------  -------------  -------------  -------------\n",
      " 1     00:00:04         0             1          11623        34875      2943    +4.129242E+42                 +5.765426E+24  +1.000000E+00\n",
      "\n",
      "The optimization routine failed to converge. This problem can sometimes be mitigated by choosing more reasonable initial parameter values, setting more conservative bounds, or configuring other optimization settings.\n",
      "\n",
      "\n",
      "Optimization failed after 00:00:04.\n",
      "Computing the Hessian and and updating the weighting matrix ...\n"
     ]
    },
    {
     "name": "stderr",
     "output_type": "stream",
     "text": [
      "Detected that the estimated covariance matrix of aggregate GMM moments is nearly singular with condition number +6.413006E+16. To disable singularity checks, set options.singular_tol = numpy.inf.\n"
     ]
    },
    {
     "name": "stdout",
     "output_type": "stream",
     "text": [
      "\n",
      "The fixed point computation of delta failed to converge. This problem can sometimes be mitigated by increasing the maximum number of fixed point iterations, increasing the fixed point tolerance, choosing more reasonable initial parameter values, setting more conservative parameter or share bounds, or using different iteration or optimization configurations.\n",
      "\n",
      "Computed results after 00:00:10.\n",
      "\n",
      "Problem Results Summary:\n",
      "============================================================================\n",
      "GMM     Objective      Gradient                    Clipped  Weighting Matrix\n",
      "Step      Value          Norm          Hessian     Shares   Condition Number\n",
      "----  -------------  -------------  -------------  -------  ----------------\n",
      " 1    +4.129242E+42  +5.765426E+24  -8.400279E+30   2943     +1.332403E+18  \n",
      "============================================================================\n",
      "\n",
      "Starting optimization ...\n",
      "\n",
      "\n",
      "At least one error was encountered. As long as the optimization routine does not get stuck at values of theta that give rise to errors, this is not necessarily a problem. If the errors persist or seem to be impacting the optimization results, consider setting an error punishment or following any of the other suggestions below:\n",
      "The fixed point computation of delta failed to converge. This problem can sometimes be mitigated by increasing the maximum number of fixed point iterations, increasing the fixed point tolerance, choosing more reasonable initial parameter values, setting more conservative parameter or share bounds, or using different iteration or optimization configurations.\n",
      "\n",
      "GMM   Computation  Optimization   Objective   Fixed Point  Contraction  Clipped    Objective      Objective      Gradient                  \n",
      "Step     Time       Iterations   Evaluations  Iterations   Evaluations  Shares       Value       Improvement       Norm           Theta    \n",
      "----  -----------  ------------  -----------  -----------  -----------  -------  -------------  -------------  -------------  -------------\n",
      " 2     00:00:02         0             1          4998         15215      2943    +6.623659E+02                 +6.758802E-17  +1.000000E+00\n",
      "\n",
      "Optimization completed after 00:00:02.\n",
      "Computing the Hessian and estimating standard errors ...\n",
      "\n",
      "The fixed point computation of delta failed to converge. This problem can sometimes be mitigated by increasing the maximum number of fixed point iterations, increasing the fixed point tolerance, choosing more reasonable initial parameter values, setting more conservative parameter or share bounds, or using different iteration or optimization configurations.\n",
      "\n",
      "Computed results after 00:00:04.\n",
      "\n",
      "Problem Results Summary:\n",
      "===============================================================================================\n",
      "GMM     Objective      Gradient                    Clipped  Weighting Matrix  Covariance Matrix\n",
      "Step      Value          Norm          Hessian     Shares   Condition Number  Condition Number \n",
      "----  -------------  -------------  -------------  -------  ----------------  -----------------\n",
      " 2    +6.623659E+02  +6.758802E-17  +0.000000E+00   2943     +8.406958E+18      +1.334244E+29  \n",
      "===============================================================================================\n",
      "\n",
      "Cumulative Statistics:\n",
      "===========================================================================\n",
      "Computation  Optimizer  Optimization   Objective   Fixed Point  Contraction\n",
      "   Time      Converged   Iterations   Evaluations  Iterations   Evaluations\n",
      "-----------  ---------  ------------  -----------  -----------  -----------\n",
      " 00:00:20       No           0             4          33242       100180   \n",
      "===========================================================================\n",
      "\n",
      "Nonlinear Coefficient Estimates (Robust SEs in Parentheses):\n",
      "=======================\n",
      "Sigma:      prices     \n",
      "------  ---------------\n",
      "prices   +1.000000E+00 \n",
      "        (+3.182645E+15)\n",
      "=======================\n",
      "\n",
      "Beta Estimates (Robust SEs in Parentheses):\n",
      "==================================================================================================================================================================================================================================================================================================================================================================================================================================================================================================================================================================================================================================================================================================================================================================================================================================================================================================================================================================================================================================================================================================================================================================================================================================================\n",
      "       1         x1['AMBULANCIAS']  x1['CAMIONETA']  x1['CAMIÓN LIVIANO']   x1['FURGÓN']     x1['MINIBUS']     x1['Other']      x1['SEDÁN']       x1['SUV']     x1['VEHÍCULOS POLICIALES']  x2['CHEVROLET']    x2['FORD']     x2['GREAT WALL']  x2['HYUNDAI ']      x2['JAC']        x2['JMC']        x2['KIA']       x2['MAXUS']      x2['MAZDA']    x2['MITSUBISHI']   x2['NISSAN']      x2['Other']    x2['PEUGEOT ']      x2['RAM']     x2['SSANGYONG']   x2['SUZUKI']     x2['TOYOTA']    x2['VOLKSWAGEN']  x3['AUTOMOTORA MELHUISH SPA']  x3['Anfruns Motors SPA']  x3['Automotores Gildemeister CAMIONES']  x3['BRUNO FRITSCH S.A.']  x3['COMERCIAL ANFRUNS Y COMPAí\\x91IA SPA']  x3['COMERCIAL BERTONATI S.A.']  x3['CONVERSIONES SAN JOSE - Vehículos Especiales']  x3['Comercial Motores de los Andes SpA']  x3['Curifor Coquimbo']  x3['Derco SPA']   x3['Dercosa']    x3['HVCCSA']    x3['KIA CHILE SPA']  x3['Kovacs SpA Seminario 385 Providencia']  x3['Maritano y Ebensperger Ltda.']  x3['Mediterraneo Automotores SA']    x3['Other']    x3['PIAMONTE S.A.']  x3['POMPEYO CARRASCO Y CIA. LTDA.']  x3['PORSCHE CHILE SPA']  x3['PORTILLO S A - Casa Matriz']  x3['SALAZAR ISRAEL']  x3['Salinas y Fabres S.A.']      prices     \n",
      "---------------  -----------------  ---------------  --------------------  ---------------  ---------------  ---------------  ---------------  ---------------  --------------------------  ---------------  ---------------  ----------------  ---------------  ---------------  ---------------  ---------------  ---------------  ---------------  ----------------  ---------------  ---------------  ---------------  ---------------  ---------------  ---------------  ---------------  ----------------  -----------------------------  ------------------------  ---------------------------------------  ------------------------  ------------------------------------------  ------------------------------  --------------------------------------------------  ----------------------------------------  ----------------------  ---------------  ---------------  ---------------  -------------------  ------------------------------------------  ----------------------------------  ---------------------------------  ---------------  -------------------  -----------------------------------  -----------------------  --------------------------------  --------------------  ---------------------------  ---------------\n",
      " +1.691700E+05     +1.565210E+03     +9.425754E+04      +4.754065E+03       +3.338413E+03    +1.613242E+04    +1.370349E+03    +7.324120E+03    +3.779285E+04         +3.059590E+03          +1.004919E+04    +2.878802E+03    +5.415479E+03     +2.314170E+04    +4.237416E+03    +2.082924E+03    +2.256508E+03    +1.759451E+04    +2.404557E+03    +7.867172E+03     +3.298178E+04    +1.306877E+04    +1.767477E+03    +2.993529E+03    +1.880996E+03    +1.282211E+03    +2.978432E+04    +3.282423E+03            +2.880732E+03               +1.573595E+03                     +2.047650E+04                    +1.030685E+04                      +3.587315E+03                         +3.947082E+02                             +2.708057E+03                                  +9.838400E+03                    +1.745377E+03        +3.375421E+03    +6.974665E+03    +1.241128E+03      +1.406296E+03                   +9.321718E+03                           +7.591687E+03                       +1.035009E+04             +1.714607E+04      +2.331122E+03                +9.055853E+03                  +2.241324E+03                +8.174108E+03               +1.697974E+04             +1.989381E+04          +2.927502E+12 \n",
      "(+2.043438E+11)   (+4.157613E+09)   (+1.550277E+12)    (+6.485151E+10)     (+1.797769E+10)  (+7.616777E+10)  (+1.617524E+10)  (+4.161829E+11)  (+1.338276E+12)       (+1.788261E+10)        (+8.540026E+10)  (+1.445825E+10)  (+3.562759E+08)   (+6.963732E+11)  (+1.741081E+10)  (+4.348506E+09)  (+3.125632E+10)  (+7.708538E+10)  (+1.443588E+11)  (+8.100400E+10)   (+2.017419E+12)  (+7.354911E+10)  (+5.237333E+09)  (+2.095732E+10)  (+1.458114E+12)  (+5.651303E+10)  (+1.830496E+11)  (+7.836072E+09)          (+1.475948E+10)             (+4.880974E+09)                   (+7.117743E+11)                  (+1.367766E+11)                    (+2.198384E+10)                       (+3.682171E+08)                           (+5.927989E+10)                                (+6.670544E+10)                  (+3.332294E+09)      (+1.506965E+10)  (+2.539280E+11)  (+1.888783E+09)    (+5.998223E+10)                 (+7.708178E+10)                         (+1.050388E+11)                     (+1.101243E+11)           (+1.426451E+12)    (+6.195771E+08)              (+7.698019E+09)                (+1.417433E+10)              (+5.478481E+10)             (+1.750190E+11)           (+1.018280E+12)        (+3.361733E+10)\n",
      "==================================================================================================================================================================================================================================================================================================================================================================================================================================================================================================================================================================================================================================================================================================================================================================================================================================================================================================================================================================================================================================================================================================================================================================================================================================================\n"
     ]
    },
    {
     "name": "stderr",
     "output_type": "stream",
     "text": [
      "Detected that the estimated covariance matrix of aggregate GMM moments is nearly singular with condition number +2.092498E+17. To disable singularity checks, set options.singular_tol = numpy.inf.\n",
      "Detected that the estimated covariance matrix of aggregate GMM moments is nearly singular with condition number +4.082675E+18. To disable singularity checks, set options.singular_tol = numpy.inf.\n"
     ]
    },
    {
     "data": {
      "text/plain": [
       "Problem Results Summary:\n",
       "===============================================================================================\n",
       "GMM     Objective      Gradient                    Clipped  Weighting Matrix  Covariance Matrix\n",
       "Step      Value          Norm          Hessian     Shares   Condition Number  Condition Number \n",
       "----  -------------  -------------  -------------  -------  ----------------  -----------------\n",
       " 2    +6.623659E+02  +6.758802E-17  +0.000000E+00   2943     +8.406958E+18      +1.334244E+29  \n",
       "===============================================================================================\n",
       "\n",
       "Cumulative Statistics:\n",
       "===========================================================================\n",
       "Computation  Optimizer  Optimization   Objective   Fixed Point  Contraction\n",
       "   Time      Converged   Iterations   Evaluations  Iterations   Evaluations\n",
       "-----------  ---------  ------------  -----------  -----------  -----------\n",
       " 00:00:20       No           0             4          33242       100180   \n",
       "===========================================================================\n",
       "\n",
       "Nonlinear Coefficient Estimates (Robust SEs in Parentheses):\n",
       "=======================\n",
       "Sigma:      prices     \n",
       "------  ---------------\n",
       "prices   +1.000000E+00 \n",
       "        (+3.182645E+15)\n",
       "=======================\n",
       "\n",
       "Beta Estimates (Robust SEs in Parentheses):\n",
       "==================================================================================================================================================================================================================================================================================================================================================================================================================================================================================================================================================================================================================================================================================================================================================================================================================================================================================================================================================================================================================================================================================================================================================================================================================================================\n",
       "       1         x1['AMBULANCIAS']  x1['CAMIONETA']  x1['CAMIÓN LIVIANO']   x1['FURGÓN']     x1['MINIBUS']     x1['Other']      x1['SEDÁN']       x1['SUV']     x1['VEHÍCULOS POLICIALES']  x2['CHEVROLET']    x2['FORD']     x2['GREAT WALL']  x2['HYUNDAI ']      x2['JAC']        x2['JMC']        x2['KIA']       x2['MAXUS']      x2['MAZDA']    x2['MITSUBISHI']   x2['NISSAN']      x2['Other']    x2['PEUGEOT ']      x2['RAM']     x2['SSANGYONG']   x2['SUZUKI']     x2['TOYOTA']    x2['VOLKSWAGEN']  x3['AUTOMOTORA MELHUISH SPA']  x3['Anfruns Motors SPA']  x3['Automotores Gildemeister CAMIONES']  x3['BRUNO FRITSCH S.A.']  x3['COMERCIAL ANFRUNS Y COMPAí\\x91IA SPA']  x3['COMERCIAL BERTONATI S.A.']  x3['CONVERSIONES SAN JOSE - Vehículos Especiales']  x3['Comercial Motores de los Andes SpA']  x3['Curifor Coquimbo']  x3['Derco SPA']   x3['Dercosa']    x3['HVCCSA']    x3['KIA CHILE SPA']  x3['Kovacs SpA Seminario 385 Providencia']  x3['Maritano y Ebensperger Ltda.']  x3['Mediterraneo Automotores SA']    x3['Other']    x3['PIAMONTE S.A.']  x3['POMPEYO CARRASCO Y CIA. LTDA.']  x3['PORSCHE CHILE SPA']  x3['PORTILLO S A - Casa Matriz']  x3['SALAZAR ISRAEL']  x3['Salinas y Fabres S.A.']      prices     \n",
       "---------------  -----------------  ---------------  --------------------  ---------------  ---------------  ---------------  ---------------  ---------------  --------------------------  ---------------  ---------------  ----------------  ---------------  ---------------  ---------------  ---------------  ---------------  ---------------  ----------------  ---------------  ---------------  ---------------  ---------------  ---------------  ---------------  ---------------  ----------------  -----------------------------  ------------------------  ---------------------------------------  ------------------------  ------------------------------------------  ------------------------------  --------------------------------------------------  ----------------------------------------  ----------------------  ---------------  ---------------  ---------------  -------------------  ------------------------------------------  ----------------------------------  ---------------------------------  ---------------  -------------------  -----------------------------------  -----------------------  --------------------------------  --------------------  ---------------------------  ---------------\n",
       " +1.691700E+05     +1.565210E+03     +9.425754E+04      +4.754065E+03       +3.338413E+03    +1.613242E+04    +1.370349E+03    +7.324120E+03    +3.779285E+04         +3.059590E+03          +1.004919E+04    +2.878802E+03    +5.415479E+03     +2.314170E+04    +4.237416E+03    +2.082924E+03    +2.256508E+03    +1.759451E+04    +2.404557E+03    +7.867172E+03     +3.298178E+04    +1.306877E+04    +1.767477E+03    +2.993529E+03    +1.880996E+03    +1.282211E+03    +2.978432E+04    +3.282423E+03            +2.880732E+03               +1.573595E+03                     +2.047650E+04                    +1.030685E+04                      +3.587315E+03                         +3.947082E+02                             +2.708057E+03                                  +9.838400E+03                    +1.745377E+03        +3.375421E+03    +6.974665E+03    +1.241128E+03      +1.406296E+03                   +9.321718E+03                           +7.591687E+03                       +1.035009E+04             +1.714607E+04      +2.331122E+03                +9.055853E+03                  +2.241324E+03                +8.174108E+03               +1.697974E+04             +1.989381E+04          +2.927502E+12 \n",
       "(+2.043438E+11)   (+4.157613E+09)   (+1.550277E+12)    (+6.485151E+10)     (+1.797769E+10)  (+7.616777E+10)  (+1.617524E+10)  (+4.161829E+11)  (+1.338276E+12)       (+1.788261E+10)        (+8.540026E+10)  (+1.445825E+10)  (+3.562759E+08)   (+6.963732E+11)  (+1.741081E+10)  (+4.348506E+09)  (+3.125632E+10)  (+7.708538E+10)  (+1.443588E+11)  (+8.100400E+10)   (+2.017419E+12)  (+7.354911E+10)  (+5.237333E+09)  (+2.095732E+10)  (+1.458114E+12)  (+5.651303E+10)  (+1.830496E+11)  (+7.836072E+09)          (+1.475948E+10)             (+4.880974E+09)                   (+7.117743E+11)                  (+1.367766E+11)                    (+2.198384E+10)                       (+3.682171E+08)                           (+5.927989E+10)                                (+6.670544E+10)                  (+3.332294E+09)      (+1.506965E+10)  (+2.539280E+11)  (+1.888783E+09)    (+5.998223E+10)                 (+7.708178E+10)                         (+1.050388E+11)                     (+1.101243E+11)           (+1.426451E+12)    (+6.195771E+08)              (+7.698019E+09)                (+1.417433E+10)              (+5.478481E+10)             (+1.750190E+11)           (+1.018280E+12)        (+3.361733E+10)\n",
       "=================================================================================================================================================================================================================================================================================================================================================================================================================================================================================================================================================================================================================================================================================================================================================================================================================================================================================================================================================================================================================================================================================================================================================================================================================================================="
      ]
     },
     "execution_count": 473,
     "metadata": {},
     "output_type": "execute_result"
    }
   ],
   "source": [
    "results3 = mc_problem.solve(sigma=np.eye(1), optimization=bfgs)\n",
    "results3"
   ]
  },
  {
   "cell_type": "markdown",
   "metadata": {},
   "source": [
    "# Market level demand (with prod char)"
   ]
  },
  {
   "cell_type": "code",
   "execution_count": 525,
   "metadata": {},
   "outputs": [
    {
     "name": "stdout",
     "output_type": "stream",
     "text": [
      "c:\\Users\\lucas\\OneDrive - Yale University\\Documents\\GitHub\\2nd-year-paper\\car_data\\final_matched_data.csv\n"
     ]
    }
   ],
   "source": [
    "car_path = os.path.join('..', 'car_data', 'final_matched_data.csv')\n",
    "print(os.path.abspath(car_path))\n",
    "car_df_original = pd.read_csv(car_path, encoding = 'latin1')\n",
    "car_df = car_df_original.copy()"
   ]
  },
  {
   "cell_type": "markdown",
   "metadata": {},
   "source": [
    "### data cleaning"
   ]
  },
  {
   "cell_type": "markdown",
   "metadata": {},
   "source": [
    "1. select vars that could be relevant, 2. to reduce fixed effects if a variable is categorical and has more than 5 values we remove it. "
   ]
  },
  {
   "cell_type": "code",
   "execution_count": 526,
   "metadata": {},
   "outputs": [
    {
     "name": "stdout",
     "output_type": "stream",
     "text": [
      "number of unique values in x1: 25\n",
      "number of unique values in x2: 24\n",
      "number of unique values in x3: 29\n",
      "number of unique values in x4: 28\n",
      "number of unique values in x5: 18\n",
      "number of unique values in x6: 3\n",
      "number of unique values in x7: 18\n",
      "number of unique values in x8: 5\n",
      "number of unique values in x9: 5\n",
      "number of unique values in x10: 3\n",
      "number of unique values in x11: 4\n",
      "number of unique values in x12: 10\n",
      "number of unique values in x13: 19\n",
      "number of unique values in x14: 4\n",
      "number of unique values in x15: 1\n",
      "number of unique values in x16: 3\n",
      "number of unique values in x17: 3\n",
      "number of unique values in x18: 8\n",
      "number of unique values in x19: 5\n",
      "number of unique values in x20: 3\n",
      "number of unique values in x21: 2\n"
     ]
    }
   ],
   "source": [
    "char_list = [ 'Motor - Cilindrada', 'Medidas y capacidades - Ancho sin espejos', 'Medidas y capacidades - Largo', \n",
    "        'Medidas y capacidades - Alto', 'Performance - Rendimiento en ciudad', 'TransmisiÃ³n y chasis - Motor - tracciÃ³n', \n",
    "        'TransmisiÃ³n y chasis - SuspensiÃ³n trasera', 'Confort - Aire acondicionado', 'Confort - Tapizados',\n",
    "        'Confort - Cierre de puertas', 'Confort - Vidrios (del. - tras.)', 'Confort - Espejos exteriores',\n",
    "        'Confort - Faros delanteros', 'Confort - Faros antiniebla', 'Confort - Computadora de a bordo', \n",
    "        'Confort - DirecciÃ³n asistida', 'Confort - Llantas', 'Seguridad - Airbags', \n",
    "        'Seguridad - Alarma e inmovilizador de motor', 'Confort - Sensores de estacionamiento', 'Tipo de Producto']   \n",
    "            \n",
    "model_vars = ['Cargos Adicionales OC', 'Monto Total OC', 'Rut Unidad de Compra', \n",
    "        'RegiÃÂ³n Unidad de Compra', 'Sector', 'CodigoOC' , 'Marca', 'Precio Unitario',\n",
    "        'IDProductoCM',  'Modelo']\n",
    "\n",
    "extra_vars = ['Nro LicitaciÃÂ³n PÃÂºblica', 'Fecha EnvÃÂ­o OC', 'Cantidad', 'Rut Proveedor', 'Nombre Proveedor Sucursal']\n",
    "\n",
    "car_df = car_df[model_vars + extra_vars + char_list]\n",
    "\n",
    "# Rename prod char as x1, x2, x3, ...\n",
    "for n, col in enumerate(char_list, start=1):  # Start numbering from 1\n",
    "    car_df.rename(columns={col: f'x{n}'}, inplace=True)\n",
    "\n",
    "\n",
    "car_df = car_df.rename(columns={\n",
    "    'Fecha EnvÃÂ­o OC': 'Fecha',\n",
    "    'RegiÃÂ³n Unidad de Compra': 'Region', \n",
    "})\n",
    "\n",
    "#######################\n",
    "for n, col in enumerate(char_list, start=1):  # Start numbering from 1\n",
    "    print(f\"number of unique values in {f'x{n}'}: {car_df[f'x{n}'].nunique()}\")\n",
    "\n",
    "\n",
    "drop_list = ['x7', 'x12', 'x13', 'x18']\n",
    "car_df = car_df.drop(drop_list, axis=1)"
   ]
  },
  {
   "cell_type": "markdown",
   "metadata": {},
   "source": [
    "create markets and number of consumers"
   ]
  },
  {
   "cell_type": "code",
   "execution_count": 527,
   "metadata": {},
   "outputs": [
    {
     "name": "stdout",
     "output_type": "stream",
     "text": [
      "74\n"
     ]
    }
   ],
   "source": [
    "car_df['k'] = car_df.groupby(['Sector', 'Region']).ngroup()\n",
    "\n",
    "# create month-year \n",
    "car_df['Fecha'] = pd.to_datetime(car_df['Fecha'], errors='coerce')\n",
    "car_df['month'] = car_df['Fecha'].dt.month\n",
    "car_df['year'] = car_df['Fecha'].dt.year\n",
    "car_df.drop('Fecha', axis=1, inplace=True)\n",
    "\n",
    "#define the market \n",
    "car_df['semester'] = ((car_df['month'] - 1) // 6) + 1\n",
    "car_df['market_ids'] = car_df.groupby(['year', 'semester', 'Region']).ngroup()\n",
    "print(car_df['market_ids'].nunique())\n",
    "\n",
    "\n",
    "#create a number of consumers at the market level \n",
    "region_counts = car_df.groupby('Region')['market_ids'].nunique()\n",
    "car_df['N_i'] = car_df['Region'].map(region_counts)\n",
    " "
   ]
  },
  {
   "cell_type": "code",
   "execution_count": 528,
   "metadata": {},
   "outputs": [
    {
     "name": "stdout",
     "output_type": "stream",
     "text": [
      "[\"Lib. Gral. Bdo. O'Higgins\"\n",
      " 'BÃ\\x83Â\\x83Ã\\x82Â\\xado-BÃ\\x83Â\\x83Ã\\x82Â\\xado'\n",
      " 'Los RÃ\\x83Â\\x83Ã\\x82Â\\xados' 'Ã\\x83Â\\x83Ã\\x82Â\\x91uble' 'Maule'\n",
      " 'Los Lagos' 'Atacama' 'ValparaÃ\\x83Â\\x83Ã\\x82Â\\xadso' 'Metropolitana'\n",
      " 'AraucanÃ\\x83Â\\x83Ã\\x82Â\\xada' 'Antofagasta'\n",
      " 'Magallanes y AntÃ\\x83Â\\x83Ã\\x82Â¡rtica' 'AysÃ\\x83Â\\x83Ã\\x82Â©n'\n",
      " 'Coquimbo' 'TarapacÃ\\x83Â\\x83Ã\\x82Â¡' 'Arica y Parinacota']\n"
     ]
    }
   ],
   "source": [
    "print(car_df['Region'].unique())\n",
    "Norte = ['Arica y Parinacota', 'TarapacÃ\\x83Â\\x83Ã\\x82Â¡', 'Antofagasta', 'Atacama', 'Coquimbo']\n",
    "Centro = [\"Lib. Gral. Bdo. O'Higgins\", 'Maule', 'Metropolitana', 'ValparaÃ\\x83Â\\x83Ã\\x82Â\\xadso' ]\n",
    "Sur = ['BÃ\\x83Â\\x83Ã\\x82Â\\xado-BÃ\\x83Â\\x83Ã\\x82Â\\xado', 'Los RÃ\\x83Â\\x83Ã\\x82Â\\xados', 'Ã\\x83Â\\x83Ã\\x82Â\\x91uble',\n",
    "    'Los Lagos', 'AraucanÃ\\x83Â\\x83Ã\\x82Â\\xada', 'Magallanes y AntÃ\\x83Â\\x83Ã\\x82Â¡rtica', 'AysÃ\\x83Â\\x83Ã\\x82Â©n']\n",
    "\n",
    "\n",
    "def get_zone(region):\n",
    "    if region in Norte:\n",
    "        return 'Norte'\n",
    "    elif region in Centro:\n",
    "        return 'Centro'\n",
    "    elif region in Sur:\n",
    "        return 'Sur'\n",
    "    else:\n",
    "        return 'Other'  # For any regions not in the lists\n",
    "\n",
    "# Add the Zona column\n",
    "car_df['Zona'] = car_df['Region'].apply(get_zone)\n",
    "\n",
    "car_df['k'] = car_df.groupby(['Sector', 'Zona']).ngroup()\n"
   ]
  },
  {
   "cell_type": "markdown",
   "metadata": {},
   "source": [
    "1. convert to numeric values and 2. drop chars with NaNs "
   ]
  },
  {
   "cell_type": "code",
   "execution_count": 529,
   "metadata": {},
   "outputs": [],
   "source": [
    "# Function to extract numbers from string and handle missing values\n",
    "def extract_number(value):\n",
    "    if pd.isna(value) or value == 'N/D':\n",
    "        return np.nan\n",
    "    # Extract numbers using string methods\n",
    "    if isinstance(value, str):\n",
    "        # Find first sequence of numbers (including decimals)\n",
    "        numbers = ''.join(c for c in value if c.isdigit() or c == '.')\n",
    "        return float(numbers) if numbers else value\n",
    "    return value\n",
    "\n",
    "\n",
    "for column in car_df.columns:\n",
    "    try:\n",
    "        car_df[column] = car_df[column].apply(extract_number)\n",
    "    except:\n",
    "        # If conversion fails, keep the original values\n",
    "        continue"
   ]
  },
  {
   "cell_type": "code",
   "execution_count": 530,
   "metadata": {},
   "outputs": [],
   "source": [
    "# Identify columns that start with 'x' and have missing values\n",
    "x_columns = [col for col in car_df.columns if col.startswith('x')]\n",
    "x_columns_with_missing = [col for col in x_columns if car_df[col].isna().any()]\n",
    "\n",
    "non_x_columns = [col for col in car_df.columns if not col.startswith('x')] # Get non-x columns \n",
    "\n",
    "\n",
    "car_df = car_df.drop(columns=x_columns_with_missing) # Drop x-columns with missing values\n",
    "\n",
    "# Get remaining x-columns after dropping\n",
    "remaining_x_columns = [col for col in car_df.columns if col.startswith('x')]\n",
    "\n",
    "# Create new names for x-columns\n",
    "new_x_names = [f'x{i+1}' for i in range(len(remaining_x_columns))]\n",
    "\n",
    "# Create rename dictionary only for x-columns\n",
    "rename_dict = dict(zip(remaining_x_columns, new_x_names))\n",
    "\n",
    "\n",
    "car_df = car_df.rename(columns=rename_dict) # Rename only the x-columns"
   ]
  },
  {
   "cell_type": "code",
   "execution_count": 531,
   "metadata": {},
   "outputs": [],
   "source": [
    "rename_dict = {\n",
    "    'IDProductoCM': 'product_ids',\n",
    "    }\n",
    "\n",
    "car_df.rename(columns=rename_dict, inplace=True)"
   ]
  },
  {
   "cell_type": "code",
   "execution_count": 532,
   "metadata": {},
   "outputs": [],
   "source": [
    "# List of columns to convert to numeric\n",
    "car_df['Monto Total OC'] = car_df['Monto Total OC'].replace(r',.*', '', regex=True)\n",
    "\n",
    "columns_to_convert = ['Monto Total OC'] \n",
    "\n",
    "# Convert the specified columns to numeric\n",
    "car_df[columns_to_convert] = car_df[columns_to_convert].apply(pd.to_numeric, errors='coerce')\n",
    "car_df['prices'] = car_df['Monto Total OC'] / car_df['Cantidad']"
   ]
  },
  {
   "cell_type": "code",
   "execution_count": 533,
   "metadata": {},
   "outputs": [],
   "source": [
    "car_df2 = calculate_market_shares_with_outside_good(car_df, share_adjustment=False)"
   ]
  },
  {
   "cell_type": "markdown",
   "metadata": {},
   "source": [
    "check that shares 1. are positive and 2. sum upp to less than 1. "
   ]
  },
  {
   "cell_type": "code",
   "execution_count": 534,
   "metadata": {},
   "outputs": [
    {
     "name": "stdout",
     "output_type": "stream",
     "text": [
      "Percentage of negative shares: 6.53%\n",
      "count    74.000000\n",
      "mean      0.293486\n",
      "std       0.316287\n",
      "min       0.000875\n",
      "25%       0.007099\n",
      "50%       0.088711\n",
      "75%       0.634921\n",
      "max       0.793651\n",
      "Name: shares, dtype: float64\n",
      "Percentage of negative shares: 0.00%\n",
      "Series([], Name: shares, dtype: float64)\n"
     ]
    }
   ],
   "source": [
    "###1. Check for negative shares\n",
    "# percentage of neg shares. (if share is negative replace by 2%)\n",
    "negative_shares_percentage = (car_df2['shares'] < 0).mean() * 100\n",
    "print(f\"Percentage of negative shares: {negative_shares_percentage:.2f}%\")\n",
    "car_df2['shares'] = car_df2['shares'].apply(lambda x: 0.02 if x < 0.02 else x)\n",
    "\n",
    "#shares have to sum up to 1%, normalize  by market_ids\n",
    "car_df2['shares_sum'] = car_df2.groupby('market_ids')['shares'].transform('sum')\n",
    "car_df2['shares'] = car_df2['shares'] / (car_df2['shares_sum']+0.05) # add 0.05 since shares have to sum up to less than 1. \n",
    "\n",
    "# 3. check that outside shares are not too high and that there are no negative shares\n",
    "outside_good_shares = car_df2[car_df2['product_ids'] == 0]['shares'].describe()\n",
    "print(outside_good_shares)\n",
    "negative_shares_percentage = (car_df2['shares'] < 0).mean() * 100\n",
    "print(f\"Percentage of negative shares: {negative_shares_percentage:.2f}%\")\n",
    "\n",
    "# 4. check that no share sum up to more than 1 \n",
    "sum_market_shares = car_df2.groupby('market_ids')['shares'].sum()\n",
    "markets_with_high_shares = sum_market_shares[(sum_market_shares > 1) ]\n",
    "print(markets_with_high_shares)\n",
    "\n"
   ]
  },
  {
   "cell_type": "markdown",
   "metadata": {},
   "source": [
    "### PyBLP without micro-moments"
   ]
  },
  {
   "cell_type": "code",
   "execution_count": 586,
   "metadata": {},
   "outputs": [
    {
     "data": {
      "text/plain": [
       "(1 + x1 + x2 + x3 + x4 + x5 + x6 + x7 + x8 + x9 + x10 + x11 + x12 + prices,\n",
       " prices)"
      ]
     },
     "execution_count": 586,
     "metadata": {},
     "output_type": "execute_result"
    }
   ],
   "source": [
    "formulation_string = '1 + ' + ' + '.join(new_x_names) + ' + prices'\n",
    "X1_formulation = pyblp.Formulation(formulation_string) # non random coefficient formulation\n",
    "X2_formulation = pyblp.Formulation('0 + prices') # variables with random coefficients. \n",
    "product_formulations = (X1_formulation, X2_formulation)\n",
    "product_formulations\n"
   ]
  },
  {
   "cell_type": "code",
   "execution_count": 587,
   "metadata": {},
   "outputs": [
    {
     "name": "stdout",
     "output_type": "stream",
     "text": [
      "Initializing the problem ...\n"
     ]
    },
    {
     "name": "stderr",
     "output_type": "stream",
     "text": [
      "Detected collinearity issues with [x5['manual'], x6['tela'], x7['manual'], x8['elÃ\\x83Â©ctricos - no tiene'], x8['manuales - manuales'], x9['traseros'], x10['elÃ\\x83Â©ctrica, hidrÃ\\x83Â¡ulica progresiva'], x10['hidrÃ\\x83Â¡ulica'], x11['acero'], x11['aleaciÃ\\x83Â³n'], x12['SUV']] and at least one other column in X1. To disable collinearity checks, set options.collinear_atol = options.collinear_rtol = 0.\n",
      "Detected collinearity issues with [x5['manual'], x6['tela'], x7['manual'], x8['elÃ\\x83Â©ctricos - no tiene'], x8['manuales - manuales'], x9['traseros'], x10['elÃ\\x83Â©ctrica, hidrÃ\\x83Â¡ulica progresiva'], x10['hidrÃ\\x83Â¡ulica'], x11['acero'], x11['aleaciÃ\\x83Â³n'], x12['SUV']] and at least one other column in ZD. To disable collinearity checks, set options.collinear_atol = options.collinear_rtol = 0.\n"
     ]
    },
    {
     "name": "stdout",
     "output_type": "stream",
     "text": [
      "Initialized the problem after 00:00:00.\n",
      "\n",
      "Dimensions:\n",
      "================================\n",
      " T    N    I     K1    K2    MD \n",
      "---  ---  ----  ----  ----  ----\n",
      "74   521  3700   37    1     36 \n",
      "================================\n",
      "\n",
      "Formulations:\n",
      "==================================================================================================================================================================================================================================================================================================================================================================================================================================================================================================================================================================================================================================================================================================================================================================================================================================================================================================================\n",
      "       Column Indices:           0      1    2    3                4                           5                           6                      7                       8                                     9                                     10                   11           12                13                       14                             15                      16              17                              18                           19                          20                                     21                                 22                             23                     24                     25                     26              27                  28                                    29                                     30                  31                 32                     33                   34             35        36  \n",
      "-----------------------------  ------  ---  ---  ---  ---------------------------  --------------------------  -------------------------  ------------------  -------------------------  -----------------------------------------------  --------------------------  ------------  -----------  --------------------  --------------------------  ---------------------------------  ----------  ------------------  ------------------------------------------  ------------  -----------------------------------------  ---------------------------------  ---------------------------------  -------------------------  ----------------  ---------------------------  --------------  --------------  ----------------------  ---------------------------------------------------  -----------------------  ------------  ----------------------  ---------------------  ----------------  ----------  ------\n",
      " X1: Linear Characteristics      1     x1   x2   x3   x4['delantero - delantera']  x4['delantero - integral']  x4['delantero - trasera']  x5['climatizador']  x5['climatizador bizona']  x5['climatizador bizona, climatizador trizona']  x5['climatizador trizona']  x5['manual']  x6['cuero']  x6['gamuza y cuero']  x6['sÃ\\x83Â\\xadmil cuero']  x6['sÃ\\x83Â\\xadmil cuero y tela']  x6['tela']  x7['centralizado']  x7['centralizado con comando a distancia']  x7['manual']  x8['elÃ\\x83Â©ctricos - elÃ\\x83Â©ctricos']  x8['elÃ\\x83Â©ctricos - manuales']  x8['elÃ\\x83Â©ctricos - no tiene']  x8['manuales - manuales']  x9['delanteros']  x9['delanteros y traseros']  x9['no tiene']  x9['traseros']  x10['elÃ\\x83Â©ctrica']  x10['elÃ\\x83Â©ctrica, hidrÃ\\x83Â¡ulica progresiva']  x10['hidrÃ\\x83Â¡ulica']  x11['acero']  x11['acero con tapas']  x11['aleaciÃ\\x83Â³n']  x12['CAMIONETA']  x12['SUV']  prices\n",
      "X2: Nonlinear Characteristics  prices                                                                                                                                                                                                                                                                                                                                                                                                                                                                                                                                                                                                                                                                                                                                                                                                                                                                             \n",
      "==================================================================================================================================================================================================================================================================================================================================================================================================================================================================================================================================================================================================================================================================================================================================================================================================================================================================================================================\n",
      "Initializing the problem ...\n",
      "Initialized the problem after 00:00:00.\n",
      "\n",
      "Dimensions:\n",
      "===============================\n",
      " T    N    I    K1    K2    MD \n",
      "---  ---  ---  ----  ----  ----\n",
      "74   521  370   37    1     36 \n",
      "===============================\n",
      "\n",
      "Formulations:\n",
      "==================================================================================================================================================================================================================================================================================================================================================================================================================================================================================================================================================================================================================================================================================================================================================================================================================================================================================================================\n",
      "       Column Indices:           0      1    2    3                4                           5                           6                      7                       8                                     9                                     10                   11           12                13                       14                             15                      16              17                              18                           19                          20                                     21                                 22                             23                     24                     25                     26              27                  28                                    29                                     30                  31                 32                     33                   34             35        36  \n",
      "-----------------------------  ------  ---  ---  ---  ---------------------------  --------------------------  -------------------------  ------------------  -------------------------  -----------------------------------------------  --------------------------  ------------  -----------  --------------------  --------------------------  ---------------------------------  ----------  ------------------  ------------------------------------------  ------------  -----------------------------------------  ---------------------------------  ---------------------------------  -------------------------  ----------------  ---------------------------  --------------  --------------  ----------------------  ---------------------------------------------------  -----------------------  ------------  ----------------------  ---------------------  ----------------  ----------  ------\n",
      " X1: Linear Characteristics      1     x1   x2   x3   x4['delantero - delantera']  x4['delantero - integral']  x4['delantero - trasera']  x5['climatizador']  x5['climatizador bizona']  x5['climatizador bizona, climatizador trizona']  x5['climatizador trizona']  x5['manual']  x6['cuero']  x6['gamuza y cuero']  x6['sÃ\\x83Â\\xadmil cuero']  x6['sÃ\\x83Â\\xadmil cuero y tela']  x6['tela']  x7['centralizado']  x7['centralizado con comando a distancia']  x7['manual']  x8['elÃ\\x83Â©ctricos - elÃ\\x83Â©ctricos']  x8['elÃ\\x83Â©ctricos - manuales']  x8['elÃ\\x83Â©ctricos - no tiene']  x8['manuales - manuales']  x9['delanteros']  x9['delanteros y traseros']  x9['no tiene']  x9['traseros']  x10['elÃ\\x83Â©ctrica']  x10['elÃ\\x83Â©ctrica, hidrÃ\\x83Â¡ulica progresiva']  x10['hidrÃ\\x83Â¡ulica']  x11['acero']  x11['acero con tapas']  x11['aleaciÃ\\x83Â³n']  x12['CAMIONETA']  x12['SUV']  prices\n",
      "X2: Nonlinear Characteristics  prices                                                                                                                                                                                                                                                                                                                                                                                                                                                                                                                                                                                                                                                                                                                                                                                                                                                                             \n",
      "==================================================================================================================================================================================================================================================================================================================================================================================================================================================================================================================================================================================================================================================================================================================================================================================================================================================================================================================\n"
     ]
    },
    {
     "name": "stderr",
     "output_type": "stream",
     "text": [
      "Detected collinearity issues with [x5['manual'], x6['tela'], x7['manual'], x8['elÃ\\x83Â©ctricos - no tiene'], x8['manuales - manuales'], x9['traseros'], x10['elÃ\\x83Â©ctrica, hidrÃ\\x83Â¡ulica progresiva'], x10['hidrÃ\\x83Â¡ulica'], x11['acero'], x11['aleaciÃ\\x83Â³n'], x12['SUV']] and at least one other column in X1. To disable collinearity checks, set options.collinear_atol = options.collinear_rtol = 0.\n",
      "Detected collinearity issues with [x5['manual'], x6['tela'], x7['manual'], x8['elÃ\\x83Â©ctricos - no tiene'], x8['manuales - manuales'], x9['traseros'], x10['elÃ\\x83Â©ctrica, hidrÃ\\x83Â¡ulica progresiva'], x10['hidrÃ\\x83Â¡ulica'], x11['acero'], x11['aleaciÃ\\x83Â³n'], x12['SUV']] and at least one other column in ZD. To disable collinearity checks, set options.collinear_atol = options.collinear_rtol = 0.\n"
     ]
    }
   ],
   "source": [
    "\n",
    "mc_integration = pyblp.Integration('monte_carlo', size=50, specification_options={'seed': 0})\n",
    "mc_integration\n",
    "\n",
    "mc_problem = pyblp.Problem(product_formulations, car_df2, integration=mc_integration)\n",
    "mc_problem\n",
    "\n",
    "\n",
    "\n",
    "pr_integration = pyblp.Integration('product', size=5)\n",
    "pr_integration\n",
    "\n",
    "pr_problem = pyblp.Problem(product_formulations, car_df2, integration=pr_integration)\n",
    "pr_problem\n",
    "\n",
    "bfgs = pyblp.Optimization('bfgs', {'gtol': 1e-4})"
   ]
  },
  {
   "cell_type": "code",
   "execution_count": 588,
   "metadata": {},
   "outputs": [
    {
     "name": "stderr",
     "output_type": "stream",
     "text": [
      "The model may be under-identified. The total number of unfixed parameters is 38, which is more than the total number of moments, 36. Consider checking whether instruments were properly specified when initializing the problem, and whether parameters were properly configured when solving the problem.\n",
      "Detected that the 2SLS weighting matrix is nearly singular with condition number +2.168993E+26. To disable singularity checks, set options.singular_tol = numpy.inf.\n"
     ]
    },
    {
     "name": "stdout",
     "output_type": "stream",
     "text": [
      "Solving the problem ...\n",
      "\n",
      "Nonlinear Coefficient Initial Values:\n",
      "=====================\n",
      "Sigma:     prices    \n",
      "------  -------------\n",
      "prices  +1.000000E+00\n",
      "=====================\n",
      "Starting optimization ...\n",
      "\n",
      "\n",
      "At least one error was encountered. As long as the optimization routine does not get stuck at values of theta that give rise to errors, this is not necessarily a problem. If the errors persist or seem to be impacting the optimization results, consider setting an error punishment or following any of the other suggestions below:\n",
      "The fixed point computation of delta failed to converge. This problem can sometimes be mitigated by increasing the maximum number of fixed point iterations, increasing the fixed point tolerance, choosing more reasonable initial parameter values, setting more conservative parameter or share bounds, or using different iteration or optimization configurations.\n",
      "\n",
      "GMM   Computation  Optimization   Objective   Fixed Point  Contraction  Clipped    Objective      Objective      Gradient                  \n",
      "Step     Time       Iterations   Evaluations  Iterations   Evaluations  Shares       Value       Improvement       Norm           Theta    \n",
      "----  -----------  ------------  -----------  -----------  -----------  -------  -------------  -------------  -------------  -------------\n",
      " 1     00:00:04         0             1          7071         21219       440    -2.925237E+42                 +0.000000E+00  +1.000000E+00\n",
      "\n",
      "Optimization completed after 00:00:04.\n",
      "Computing the Hessian and and updating the weighting matrix ...\n"
     ]
    },
    {
     "name": "stderr",
     "output_type": "stream",
     "text": [
      "Detected that the estimated covariance matrix of aggregate GMM moments is nearly singular with condition number +2.750369E+26. To disable singularity checks, set options.singular_tol = numpy.inf.\n"
     ]
    },
    {
     "name": "stdout",
     "output_type": "stream",
     "text": [
      "\n",
      "The fixed point computation of delta failed to converge. This problem can sometimes be mitigated by increasing the maximum number of fixed point iterations, increasing the fixed point tolerance, choosing more reasonable initial parameter values, setting more conservative parameter or share bounds, or using different iteration or optimization configurations.\n",
      "\n",
      "Computed results after 00:00:11.\n",
      "\n",
      "Problem Results Summary:\n",
      "============================================================================\n",
      "GMM     Objective      Gradient                    Clipped  Weighting Matrix\n",
      "Step      Value          Norm          Hessian     Shares   Condition Number\n",
      "----  -------------  -------------  -------------  -------  ----------------\n",
      " 1    -2.925237E+42  +0.000000E+00  +0.000000E+00    440     +2.324039E+20  \n",
      "============================================================================\n",
      "\n",
      "Starting optimization ...\n",
      "\n",
      "\n",
      "At least one error was encountered. As long as the optimization routine does not get stuck at values of theta that give rise to errors, this is not necessarily a problem. If the errors persist or seem to be impacting the optimization results, consider setting an error punishment or following any of the other suggestions below:\n",
      "The fixed point computation of delta failed to converge. This problem can sometimes be mitigated by increasing the maximum number of fixed point iterations, increasing the fixed point tolerance, choosing more reasonable initial parameter values, setting more conservative parameter or share bounds, or using different iteration or optimization configurations.\n",
      "\n",
      "GMM   Computation  Optimization   Objective   Fixed Point  Contraction  Clipped    Objective      Objective      Gradient                  \n",
      "Step     Time       Iterations   Evaluations  Iterations   Evaluations  Shares       Value       Improvement       Norm           Theta    \n",
      "----  -----------  ------------  -----------  -----------  -----------  -------  -------------  -------------  -------------  -------------\n",
      " 2     00:00:01         0             1          4998         15071       440    +5.522728E+01                 +0.000000E+00  +1.000000E+00\n",
      "\n",
      "Optimization completed after 00:00:01.\n",
      "Computing the Hessian and estimating standard errors ...\n",
      "\n",
      "The fixed point computation of delta failed to converge. This problem can sometimes be mitigated by increasing the maximum number of fixed point iterations, increasing the fixed point tolerance, choosing more reasonable initial parameter values, setting more conservative parameter or share bounds, or using different iteration or optimization configurations.\n",
      "\n",
      "Computed results after 00:00:04.\n",
      "\n",
      "Problem Results Summary:\n",
      "===============================================================================================\n",
      "GMM     Objective      Gradient                    Clipped  Weighting Matrix  Covariance Matrix\n",
      "Step      Value          Norm          Hessian     Shares   Condition Number  Condition Number \n",
      "----  -------------  -------------  -------------  -------  ----------------  -----------------\n",
      " 2    +5.522728E+01  +0.000000E+00  +0.000000E+00    440     +5.518280E+18          +INF       \n",
      "===============================================================================================\n",
      "\n",
      "Cumulative Statistics:\n",
      "===========================================================================\n",
      "Computation  Optimizer  Optimization   Objective   Fixed Point  Contraction\n",
      "   Time      Converged   Iterations   Evaluations  Iterations   Evaluations\n",
      "-----------  ---------  ------------  -----------  -----------  -----------\n",
      " 00:00:19       Yes          0             4          24138        72580   \n",
      "===========================================================================\n",
      "\n",
      "Nonlinear Coefficient Estimates (Robust SEs in Parentheses):\n",
      "=======================\n",
      "Sigma:      prices     \n",
      "------  ---------------\n",
      "prices   +1.000000E+00 \n",
      "        (+0.000000E+00)\n",
      "=======================\n",
      "\n",
      "Beta Estimates (Robust SEs in Parentheses):\n",
      "==================================================================================================================================================================================================================================================================================================================================================================================================================================================================================================================================================================================================================================================================================================================================================================================================================================================================================================================================================================\n",
      "       1               x1               x2               x3         x4['delantero - delantera']  x4['delantero - integral']  x4['delantero - trasera']  x5['climatizador']  x5['climatizador bizona']  x5['climatizador bizona, climatizador trizona']  x5['climatizador trizona']   x5['manual']      x6['cuero']    x6['gamuza y cuero']  x6['sÃ\\x83Â\\xadmil cuero']  x6['sÃ\\x83Â\\xadmil cuero y tela']    x6['tela']     x7['centralizado']  x7['centralizado con comando a distancia']   x7['manual']    x8['elÃ\\x83Â©ctricos - elÃ\\x83Â©ctricos']  x8['elÃ\\x83Â©ctricos - manuales']  x8['elÃ\\x83Â©ctricos - no tiene']  x8['manuales - manuales']  x9['delanteros']  x9['delanteros y traseros']  x9['no tiene']   x9['traseros']   x10['elÃ\\x83Â©ctrica']  x10['elÃ\\x83Â©ctrica, hidrÃ\\x83Â¡ulica progresiva']  x10['hidrÃ\\x83Â¡ulica']   x11['acero']    x11['acero con tapas']  x11['aleaciÃ\\x83Â³n']  x12['CAMIONETA']    x12['SUV']         prices     \n",
      "---------------  ---------------  ---------------  ---------------  ---------------------------  --------------------------  -------------------------  ------------------  -------------------------  -----------------------------------------------  --------------------------  ---------------  ---------------  --------------------  --------------------------  ---------------------------------  ---------------  ------------------  ------------------------------------------  ---------------  -----------------------------------------  ---------------------------------  ---------------------------------  -------------------------  ----------------  ---------------------------  ---------------  ---------------  ----------------------  ---------------------------------------------------  -----------------------  ---------------  ----------------------  ---------------------  ----------------  ---------------  ---------------\n",
      " +3.604462E+12    -1.022711E+16    +1.256093E+16    +4.713440E+15          +8.717017E+12               -8.868100E+12               +2.854346E+12          +6.258337E+12           +1.827880E+12                         -1.040760E+12                         -3.071925E+12          -1.270269E+12    -1.412343E+12      +1.391509E+11            +6.116835E+12                   +1.035468E+12             -3.175848E+12     -1.260133E+11                   +2.793585E+12                  +3.569046E+10                 -4.050052E+11                          +1.775900E+12                      +1.296678E+12                  +3.569046E+10         +1.769722E+12           +4.361304E+12          -4.849660E+11    -2.942798E+12       +2.281066E+12                          -3.071925E+12                          +3.494121E+12        +1.332368E+12       +1.000434E+11           +1.270851E+12       +4.917716E+12     -2.214454E+12    +9.925573E+09 \n",
      "(+6.851870E+11)  (+4.174988E+15)  (+1.675266E+15)  (+7.067454E+14)        (+2.556517E+12)             (+2.837209E+12)             (+7.022766E+11)        (+1.829270E+12)         (+6.085231E+11)                       (+3.498240E+11)                       (+9.626093E+11)        (+7.071291E+11)  (+4.364250E+11)    (+4.566520E+10)          (+1.675748E+12)                 (+3.255647E+11)           (+1.190058E+12)   (+3.038815E+10)                 (+4.482198E+11)                (+1.018194E+10)               (+5.852633E+11)                        (+5.600040E+11)                    (+4.292488E+11)                (+1.018194E+10)       (+5.924498E+11)         (+1.266255E+12)        (+1.239875E+11)  (+1.316301E+12)     (+7.053075E+11)                        (+9.626093E+11)                        (+6.823284E+11)      (+4.394266E+11)     (+3.242117E+10)         (+9.942901E+10)     (+1.091258E+12)   (+6.674614E+11)  (+2.195117E+09)\n",
      "==================================================================================================================================================================================================================================================================================================================================================================================================================================================================================================================================================================================================================================================================================================================================================================================================================================================================================================================================================================\n"
     ]
    },
    {
     "name": "stderr",
     "output_type": "stream",
     "text": [
      "Detected that the estimated covariance matrix of aggregate GMM moments is nearly singular with condition number +5.235640E+26. To disable singularity checks, set options.singular_tol = numpy.inf.\n",
      "Detected that the estimated covariance matrix of aggregate GMM moments is nearly singular with condition number +1.432643E+27. To disable singularity checks, set options.singular_tol = numpy.inf.\n"
     ]
    }
   ],
   "source": [
    "results1 = mc_problem.solve(sigma=np.ones((1, 1)), optimization=bfgs)\n"
   ]
  },
  {
   "cell_type": "markdown",
   "metadata": {},
   "source": [
    "## Py-BLP with micro-moments. "
   ]
  },
  {
   "cell_type": "markdown",
   "metadata": {},
   "source": [
    "car_df2 is the data with the prices/shares/prod char,  in the documentation called product data\n",
    "agent_data is the data with the demographics, in our case it has the distribution of demographics. \n",
    "\n",
    "\\begin{align*}\n",
    "    &E[\\text{i purchases new vehicle} \\mid \\{\\bar{y}_i < \\bar{y}_1\\}], \\\\\n",
    "    &E[\\text{i purchases new vehicle} \\mid \\{\\bar{y}_1 \\leq \\bar{y}_i < \\bar{y}_2\\}], \\\\\n",
    "    &E[\\text{i purchases new vehicle} \\mid \\{\\bar{y}_i \\geq \\bar{y}_2\\}];\n",
    "\\end{align*}\n",
    "\n",
    "\\begin{align*}\n",
    "    &E[f_{si} \\mid \\{\\text{i purchases a minivan}\\}], \\\\\n",
    "    &E[f_{si} \\mid \\{\\text{i purchases a station wagon}\\}], \\\\\n",
    "    &E[f_{si} \\mid \\{\\text{i purchases a sport-utility}\\}], \\\\\n",
    "    &E[f_{si} \\mid \\{\\text{i purchases a full-size van}\\}].\n",
    "\\end{align*}\n"
   ]
  },
  {
   "cell_type": "markdown",
   "metadata": {},
   "source": [
    "For each market create one obs. for each local agency in the market. "
   ]
  },
  {
   "cell_type": "markdown",
   "metadata": {},
   "source": [
    "### Loading data"
   ]
  },
  {
   "cell_type": "code",
   "execution_count": 664,
   "metadata": {},
   "outputs": [],
   "source": [
    "product_data = car_df2.copy()\n",
    "product_data['x13'] = 1* (product_data['x12'] == 'SUV')\n",
    "product_data['x12'] =  1*(product_data['x12'] == 'CAMIONETA')\n",
    " \n",
    "product_data['clustering_ids'] = product_data['market_ids'] #cluster at the market level"
   ]
  },
  {
   "cell_type": "code",
   "execution_count": 652,
   "metadata": {},
   "outputs": [],
   "source": [
    "# Step 1: Map each market_id to its corresponding Region\n",
    "market_region_df = car_df[['market_ids', 'Region']].drop_duplicates()\n",
    "\n",
    "# Step 2: Count the number of observations for each region-sector pair\n",
    "region_sector_counts = car_df.groupby(['Region', 'Sector', 'k']).size().reset_index(name='count')\n",
    "\n",
    "# Step 3: Merge the counts into a combined dataset for each market_id and its region\n",
    "agent_data = (\n",
    "    market_region_df\n",
    "    .merge(region_sector_counts, on='Region', how='left')\n",
    ")\n",
    "\n",
    "agent_data = agent_data.loc[agent_data.index.repeat(agent_data['count'])]\n",
    "agent_data = agent_data.reset_index(drop=True)\n",
    "\n",
    "\n",
    "unique_k = sorted(agent_data['k'].unique()) #list of different k values\n",
    "\n",
    "dummy_vars = []\n",
    "for i, k_value in enumerate(unique_k, 1):\n",
    "    \n",
    "    var_name = f'a{i}'\n",
    "    agent_data[var_name] = (agent_data['k'] == k_value).astype(int)\n",
    "    dummy_vars.append(var_name)\n",
    "    \n",
    "# Create the formula string\n",
    "agent_formulation_string =' + '.join(dummy_vars)\n",
    "agent_data.drop(['Region', 'Sector'], axis=1, inplace=True)"
   ]
  },
  {
   "cell_type": "code",
   "execution_count": 653,
   "metadata": {},
   "outputs": [],
   "source": [
    "agent_data['N'] = agent_data['market_ids'].value_counts()[agent_data['market_ids']].values\n",
    "agent_data = agent_data.drop('count', axis=1)\n",
    "agent_data['weights'] = 1 / agent_data['N']\n",
    "m = 5 \n",
    "for i in range(0, m ): #important: nodes have to start from 0\n",
    "    agent_data[f'nodes{i}'] = np.random.chisquare(df=3, size=len(agent_data))"
   ]
  },
  {
   "cell_type": "markdown",
   "metadata": {},
   "source": [
    "### setting up the problem"
   ]
  },
  {
   "cell_type": "code",
   "execution_count": 654,
   "metadata": {},
   "outputs": [
    {
     "data": {
      "text/plain": [
       "(1 + x1 + x2 + x3 + x4 + x5 + x6 + x7 + x8 + x9 + x10 + x11 + x12 + prices,\n",
       " 1 + prices)"
      ]
     },
     "execution_count": 654,
     "metadata": {},
     "output_type": "execute_result"
    }
   ],
   "source": [
    "product_formulations = (\n",
    "    pyblp.Formulation(formulation_string),\n",
    "    pyblp.Formulation('1 + prices'),\n",
    ")\n",
    "product_formulations"
   ]
  },
  {
   "cell_type": "code",
   "execution_count": 655,
   "metadata": {},
   "outputs": [
    {
     "data": {
      "text/plain": [
       "1 + a1 + a2 + a3 + a4 + a5 + a6 + a7 + a8 + a9 + a10 + a11 + a12 + a13 + a14 + a15 + a16 + a17 + a18 + a19"
      ]
     },
     "execution_count": 655,
     "metadata": {},
     "output_type": "execute_result"
    }
   ],
   "source": [
    "agent_formulation = pyblp.Formulation('1 +' + agent_formulation_string)\n",
    "agent_formulation\n"
   ]
  },
  {
   "cell_type": "code",
   "execution_count": 656,
   "metadata": {},
   "outputs": [
    {
     "name": "stdout",
     "output_type": "stream",
     "text": [
      "Initializing the problem ...\n",
      "Initialized the problem after 00:00:00.\n",
      "\n",
      "Dimensions:\n",
      "=====================================\n",
      " T    N    I     K1    K2    D    MD \n",
      "---  ---  ----  ----  ----  ---  ----\n",
      "74   521  3885   37    2    20    36 \n",
      "=====================================\n",
      "\n",
      "Formulations:\n",
      "==================================================================================================================================================================================================================================================================================================================================================================================================================================================================================================================================================================================================================================================================================================================================================================================================================================================================================================================\n",
      "       Column Indices:          0     1      2    3                4                           5                           6                      7                       8                                     9                                     10                   11           12                13                       14                             15                      16              17                              18                           19                          20                                     21                                 22                             23                     24                     25                     26              27                  28                                    29                                     30                  31                 32                     33                   34             35        36  \n",
      "-----------------------------  ---  ------  ---  ---  ---------------------------  --------------------------  -------------------------  ------------------  -------------------------  -----------------------------------------------  --------------------------  ------------  -----------  --------------------  --------------------------  ---------------------------------  ----------  ------------------  ------------------------------------------  ------------  -----------------------------------------  ---------------------------------  ---------------------------------  -------------------------  ----------------  ---------------------------  --------------  --------------  ----------------------  ---------------------------------------------------  -----------------------  ------------  ----------------------  ---------------------  ----------------  ----------  ------\n",
      " X1: Linear Characteristics     1     x1    x2   x3   x4['delantero - delantera']  x4['delantero - integral']  x4['delantero - trasera']  x5['climatizador']  x5['climatizador bizona']  x5['climatizador bizona, climatizador trizona']  x5['climatizador trizona']  x5['manual']  x6['cuero']  x6['gamuza y cuero']  x6['sÃ\\x83Â\\xadmil cuero']  x6['sÃ\\x83Â\\xadmil cuero y tela']  x6['tela']  x7['centralizado']  x7['centralizado con comando a distancia']  x7['manual']  x8['elÃ\\x83Â©ctricos - elÃ\\x83Â©ctricos']  x8['elÃ\\x83Â©ctricos - manuales']  x8['elÃ\\x83Â©ctricos - no tiene']  x8['manuales - manuales']  x9['delanteros']  x9['delanteros y traseros']  x9['no tiene']  x9['traseros']  x10['elÃ\\x83Â©ctrica']  x10['elÃ\\x83Â©ctrica, hidrÃ\\x83Â¡ulica progresiva']  x10['hidrÃ\\x83Â¡ulica']  x11['acero']  x11['acero con tapas']  x11['aleaciÃ\\x83Â³n']  x12['CAMIONETA']  x12['SUV']  prices\n",
      "X2: Nonlinear Characteristics   1   prices                                                                                                                                                                                                                                                                                                                                                                                                                                                                                                                                                                                                                                                                                                                                                                                                                                                                        \n",
      "       d: Demographics          1     a1    a2   a3               a4                           a5                         a6                      a7                     a8                                    a9                                    a10                  a11           a12              a13                      a14                             a15                    a16             a17                             a18                          a19                                                                                                                                                                                                                                                                                                                                                                                                                                         \n",
      "==================================================================================================================================================================================================================================================================================================================================================================================================================================================================================================================================================================================================================================================================================================================================================================================================================================================================================================================\n"
     ]
    },
    {
     "name": "stderr",
     "output_type": "stream",
     "text": [
      "Detected collinearity issues with [x5['manual'], x6['tela'], x7['manual'], x8['elÃ\\x83Â©ctricos - no tiene'], x8['manuales - manuales'], x9['traseros'], x10['elÃ\\x83Â©ctrica, hidrÃ\\x83Â¡ulica progresiva'], x10['hidrÃ\\x83Â¡ulica'], x11['acero'], x11['aleaciÃ\\x83Â³n'], x12['SUV']] and at least one other column in X1. To disable collinearity checks, set options.collinear_atol = options.collinear_rtol = 0.\n",
      "Detected collinearity issues with [x5['manual'], x6['tela'], x7['manual'], x8['elÃ\\x83Â©ctricos - no tiene'], x8['manuales - manuales'], x9['traseros'], x10['elÃ\\x83Â©ctrica, hidrÃ\\x83Â¡ulica progresiva'], x10['hidrÃ\\x83Â¡ulica'], x11['acero'], x11['aleaciÃ\\x83Â³n'], x12['SUV']] and at least one other column in ZD. To disable collinearity checks, set options.collinear_atol = options.collinear_rtol = 0.\n"
     ]
    },
    {
     "data": {
      "text/plain": [
       "Dimensions:\n",
       "=====================================\n",
       " T    N    I     K1    K2    D    MD \n",
       "---  ---  ----  ----  ----  ---  ----\n",
       "74   521  3885   37    2    20    36 \n",
       "=====================================\n",
       "\n",
       "Formulations:\n",
       "==================================================================================================================================================================================================================================================================================================================================================================================================================================================================================================================================================================================================================================================================================================================================================================================================================================================================================================================\n",
       "       Column Indices:          0     1      2    3                4                           5                           6                      7                       8                                     9                                     10                   11           12                13                       14                             15                      16              17                              18                           19                          20                                     21                                 22                             23                     24                     25                     26              27                  28                                    29                                     30                  31                 32                     33                   34             35        36  \n",
       "-----------------------------  ---  ------  ---  ---  ---------------------------  --------------------------  -------------------------  ------------------  -------------------------  -----------------------------------------------  --------------------------  ------------  -----------  --------------------  --------------------------  ---------------------------------  ----------  ------------------  ------------------------------------------  ------------  -----------------------------------------  ---------------------------------  ---------------------------------  -------------------------  ----------------  ---------------------------  --------------  --------------  ----------------------  ---------------------------------------------------  -----------------------  ------------  ----------------------  ---------------------  ----------------  ----------  ------\n",
       " X1: Linear Characteristics     1     x1    x2   x3   x4['delantero - delantera']  x4['delantero - integral']  x4['delantero - trasera']  x5['climatizador']  x5['climatizador bizona']  x5['climatizador bizona, climatizador trizona']  x5['climatizador trizona']  x5['manual']  x6['cuero']  x6['gamuza y cuero']  x6['sÃ\\x83Â\\xadmil cuero']  x6['sÃ\\x83Â\\xadmil cuero y tela']  x6['tela']  x7['centralizado']  x7['centralizado con comando a distancia']  x7['manual']  x8['elÃ\\x83Â©ctricos - elÃ\\x83Â©ctricos']  x8['elÃ\\x83Â©ctricos - manuales']  x8['elÃ\\x83Â©ctricos - no tiene']  x8['manuales - manuales']  x9['delanteros']  x9['delanteros y traseros']  x9['no tiene']  x9['traseros']  x10['elÃ\\x83Â©ctrica']  x10['elÃ\\x83Â©ctrica, hidrÃ\\x83Â¡ulica progresiva']  x10['hidrÃ\\x83Â¡ulica']  x11['acero']  x11['acero con tapas']  x11['aleaciÃ\\x83Â³n']  x12['CAMIONETA']  x12['SUV']  prices\n",
       "X2: Nonlinear Characteristics   1   prices                                                                                                                                                                                                                                                                                                                                                                                                                                                                                                                                                                                                                                                                                                                                                                                                                                                                        \n",
       "       d: Demographics          1     a1    a2   a3               a4                           a5                         a6                      a7                     a8                                    a9                                    a10                  a11           a12              a13                      a14                             a15                    a16             a17                             a18                          a19                                                                                                                                                                                                                                                                                                                                                                                                                                         \n",
       "=================================================================================================================================================================================================================================================================================================================================================================================================================================================================================================================================================================================================================================================================================================================================================================================================================================================================================================================="
      ]
     },
     "execution_count": 656,
     "metadata": {},
     "output_type": "execute_result"
    }
   ],
   "source": [
    "problem = pyblp.Problem(product_formulations, car_df2, agent_formulation, agent_data, costs_type='log')\n",
    "problem\n"
   ]
  },
  {
   "cell_type": "markdown",
   "metadata": {},
   "source": [
    "### Setting up micro moments"
   ]
  },
  {
   "cell_type": "code",
   "execution_count": 657,
   "metadata": {},
   "outputs": [
    {
     "data": {
      "text/plain": [
       "transactions: 3885 Observations in All Markets"
      ]
     },
     "execution_count": 657,
     "metadata": {},
     "output_type": "execute_result"
    }
   ],
   "source": [
    "micro_dataset = pyblp.MicroDataset(\n",
    "    name=\"transactions\",\n",
    "    observations= len(agent_data),\n",
    "    compute_weights=lambda t, p, a: np.ones((a.size, 1 + p.size)), #define a function that computes the weights and will be used later \n",
    ")\n",
    "micro_dataset"
   ]
  },
  {
   "cell_type": "code",
   "execution_count": 658,
   "metadata": {},
   "outputs": [],
   "source": [
    "avg_outside_share = car_df2[car_df2['product_ids'] == 0]['shares'].mean() #average share of outside good\n",
    "\n",
    "micro_statistics = car_df.groupby(['k', 'x12']).size().reset_index(name='count') #count of each k, x12 combination\n",
    "\n",
    "# Add N column which is the count of k values\n",
    "micro_statistics['N'] = car_df['k'].value_counts()[micro_statistics['k']].values\n",
    "micro_statistics['share'] = micro_statistics['count'] / micro_statistics['N']\n",
    "micro_statistics['share'] = micro_statistics['share']/(1 + avg_outside_share) #normalize by the outside share\n",
    "\n",
    "for i, k_value in enumerate(unique_k, 1):    \n",
    "    micro_statistics[f'a{i}'] = (micro_statistics['k'] == k_value).astype(int)\n",
    "    \n"
   ]
  },
  {
   "cell_type": "markdown",
   "metadata": {},
   "source": [
    "let's start with only one momnet the probability of suv given a1 = 1"
   ]
  },
  {
   "cell_type": "code",
   "execution_count": 669,
   "metadata": {},
   "outputs": [],
   "source": [
    "#in our case both x12 and k are categorical variables. hence we should follow the same procedure used to form the \n",
    "# moments that are in the form of E(new/income) where income is binned into categories, hence is similar to our setting. \n",
    "\n",
    "micro_parts_dict = {}\n",
    "\n",
    "for _, row in micro_statistics.iterrows():\n",
    "    part_name = f'E[{row[\"x12\"]}|k={row[\"k\"]}'  # Creates names like 'age_mi_part', 'age_sw_part'\n",
    "    \n",
    "    micro_parts_dict[part_name] = pyblp.MicroPart(\n",
    "        name= part_name,\n",
    "        dataset=micro_dataset,\n",
    "        compute_values=lambda t, p, a: np.outer(a.demographics[:, row['k'] + 1], np.r_[0, p.X1[:, 7]])  # Adjust indices as needed\n",
    "    )\n",
    "    \n",
    "\n"
   ]
  },
  {
   "cell_type": "code",
   "execution_count": 670,
   "metadata": {},
   "outputs": [],
   "source": [
    "inside_suv_a1_part = pyblp.MicroPart( #copying inside_mid_part \n",
    "    name=\"E[{x12 =1}  * {a1=1}]\",\n",
    "    dataset=micro_dataset,\n",
    "    compute_values=lambda t, p, a: np.outer(a.demographics[:, 2], np.r_[0, p.X1[:, 13]]), #the 0 before X2 is because the outside option has value 0 \n",
    ")\n",
    "\n",
    "suv_a1_part= pyblp.MicroPart( #copying mid_part\n",
    "    name=\"{a1=1}]\",\n",
    "    dataset=micro_dataset,\n",
    "    compute_values=lambda t, p, a: np.outer(a.demographics[:, 3], np.r_[1, p.X1[:, 13]]), #note the 1 in X2 \n",
    ")"
   ]
  },
  {
   "cell_type": "code",
   "execution_count": 671,
   "metadata": {},
   "outputs": [],
   "source": [
    "compute_ratio = lambda v: v[0] / v[1]\n",
    "compute_ratio_gradient = lambda v: [1 / v[1], -v[0] / v[1]**2]"
   ]
  },
  {
   "cell_type": "code",
   "execution_count": 672,
   "metadata": {},
   "outputs": [],
   "source": [
    "micro_moments = [\n",
    "    pyblp.MicroMoment(\n",
    "        name=\"E[age_i | mi_j]\",\n",
    "        value=0.783, \n",
    "        parts=[inside_suv_a1_part, suv_a1_part], \n",
    "        compute_value=compute_ratio, \n",
    "        compute_gradient=compute_ratio_gradient,\n",
    "    ),]"
   ]
  },
  {
   "cell_type": "code",
   "execution_count": 673,
   "metadata": {},
   "outputs": [
    {
     "data": {
      "text/plain": [
       "array([[1., 1., 1., 1., 1., 1., 1., 1., 1., 1., 1., 1., 1., 1., 1., 1.,\n",
       "        1., 1., 1., 1.],\n",
       "       [1., 1., 1., 1., 1., 1., 1., 1., 1., 1., 1., 1., 1., 1., 1., 1.,\n",
       "        1., 1., 1., 1.]])"
      ]
     },
     "execution_count": 673,
     "metadata": {},
     "output_type": "execute_result"
    }
   ],
   "source": [
    "initial_sigma = np.diag([1,1]) # square matrix with the dimension of X2, in our case a constant and prices. \n",
    "initial_pi = np.array(np.ones((2, 1+len(unique_k)))) # dim(x2) x dim(agent formulation)\n",
    "\n",
    "initial_pi"
   ]
  },
  {
   "cell_type": "code",
   "execution_count": 674,
   "metadata": {},
   "outputs": [
    {
     "name": "stdout",
     "output_type": "stream",
     "text": [
      "Solving the problem ...\n",
      "\n",
      "Micro Moments:\n",
      "==========================================================================================\n",
      "  Observed         Moment               Part             Dataset     Observations  Markets\n",
      "-------------  ---------------  ---------------------  ------------  ------------  -------\n",
      "+7.830000E-01  E[age_i | mi_j]  E[{x12 =1}  * {a1=1}]  transactions      3885        All  \n",
      "                                       {a1=1}]         transactions      3885        All  \n",
      "==========================================================================================\n",
      "\n",
      "Nonlinear Coefficient Initial Values:\n",
      "===========================================================================================================================================================================================================================================================================================================================================================\n",
      "Sigma:        1           prices      |   Pi:          1             a1             a2             a3             a4             a5             a6             a7             a8             a9             a10            a11            a12            a13            a14            a15            a16            a17            a18            a19     \n",
      "------  -------------  -------------  |  ------  -------------  -------------  -------------  -------------  -------------  -------------  -------------  -------------  -------------  -------------  -------------  -------------  -------------  -------------  -------------  -------------  -------------  -------------  -------------  -------------\n",
      "  1     +1.000000E+00                 |    1     +1.000000E+00  +1.000000E+00  +1.000000E+00  +1.000000E+00  +1.000000E+00  +1.000000E+00  +1.000000E+00  +1.000000E+00  +1.000000E+00  +1.000000E+00  +1.000000E+00  +1.000000E+00  +1.000000E+00  +1.000000E+00  +1.000000E+00  +1.000000E+00  +1.000000E+00  +1.000000E+00  +1.000000E+00  +1.000000E+00\n",
      "prices  +0.000000E+00  +1.000000E+00  |  prices  +1.000000E+00  +1.000000E+00  +1.000000E+00  +1.000000E+00  +1.000000E+00  +1.000000E+00  +1.000000E+00  +1.000000E+00  +1.000000E+00  +1.000000E+00  +1.000000E+00  +1.000000E+00  +1.000000E+00  +1.000000E+00  +1.000000E+00  +1.000000E+00  +1.000000E+00  +1.000000E+00  +1.000000E+00  +1.000000E+00\n",
      "===========================================================================================================================================================================================================================================================================================================================================================\n",
      "\n",
      "Nonlinear Coefficient Lower Bounds:\n",
      "===========================================================================================================================================================================================================================================================================================================================================================\n",
      "Sigma:        1           prices      |   Pi:          1             a1             a2             a3             a4             a5             a6             a7             a8             a9             a10            a11            a12            a13            a14            a15            a16            a17            a18            a19     \n",
      "------  -------------  -------------  |  ------  -------------  -------------  -------------  -------------  -------------  -------------  -------------  -------------  -------------  -------------  -------------  -------------  -------------  -------------  -------------  -------------  -------------  -------------  -------------  -------------\n",
      "  1         -INF                      |    1         -INF           -INF           -INF           -INF           -INF           -INF           -INF           -INF           -INF           -INF           -INF           -INF           -INF           -INF           -INF           -INF           -INF           -INF           -INF           -INF     \n",
      "prices  +0.000000E+00      -INF       |  prices      -INF           -INF           -INF           -INF           -INF           -INF           -INF           -INF           -INF           -INF           -INF           -INF           -INF           -INF           -INF           -INF           -INF           -INF           -INF           -INF     \n",
      "===========================================================================================================================================================================================================================================================================================================================================================\n",
      "\n",
      "Nonlinear Coefficient Upper Bounds:\n",
      "===========================================================================================================================================================================================================================================================================================================================================================\n",
      "Sigma:        1           prices      |   Pi:          1             a1             a2             a3             a4             a5             a6             a7             a8             a9             a10            a11            a12            a13            a14            a15            a16            a17            a18            a19     \n",
      "------  -------------  -------------  |  ------  -------------  -------------  -------------  -------------  -------------  -------------  -------------  -------------  -------------  -------------  -------------  -------------  -------------  -------------  -------------  -------------  -------------  -------------  -------------  -------------\n",
      "  1         +INF                      |    1         +INF           +INF           +INF           +INF           +INF           +INF           +INF           +INF           +INF           +INF           +INF           +INF           +INF           +INF           +INF           +INF           +INF           +INF           +INF           +INF     \n",
      "prices  +0.000000E+00      +INF       |  prices      +INF           +INF           +INF           +INF           +INF           +INF           +INF           +INF           +INF           +INF           +INF           +INF           +INF           +INF           +INF           +INF           +INF           +INF           +INF           +INF     \n",
      "===========================================================================================================================================================================================================================================================================================================================================================\n",
      "\n",
      "Updating starting values for the weighting matrix and delta ...\n"
     ]
    },
    {
     "name": "stderr",
     "output_type": "stream",
     "text": [
      "The model may be under-identified. The total number of unfixed parameters is 79, which is more than the total number of moments, 37. Consider checking whether instruments were properly specified when initializing the problem, and whether parameters were properly configured when solving the problem.\n",
      "Detected that the 2SLS weighting matrix is nearly singular with condition number +2.168993E+26. To disable singularity checks, set options.singular_tol = numpy.inf.\n",
      "compute_value of micro moment 'E[age_i | mi_j]: +7.830000E-01 (E[{x12 =1}  * {a1=1}] on transactions: 3885 Observations in All Markets; {a1=1}] on transactions: 3885 Observations in All Markets)' returned NAN.\n",
      "compute_gradient of micro moment 'E[age_i | mi_j]: +7.830000E-01 (E[{x12 =1}  * {a1=1}] on transactions: 3885 Observations in All Markets; {a1=1}] on transactions: 3885 Observations in All Markets)' returned +INF for part 'E[{x12 =1}  * {a1=1}] on transactions: 3885 Observations in All Markets'.\n",
      "compute_gradient of micro moment 'E[age_i | mi_j]: +7.830000E-01 (E[{x12 =1}  * {a1=1}] on transactions: 3885 Observations in All Markets; {a1=1}] on transactions: 3885 Observations in All Markets)' returned NAN for part '{a1=1}] on transactions: 3885 Observations in All Markets'.\n",
      "Failed to compute the condition number of the estimated covariance matrix of micro moments while checking for singularity. To disable singularity checks, set options.singular_tol = numpy.inf.\n",
      "Detected that the estimated covariance matrix of aggregate GMM moments is nearly singular with condition number +1.403554E+26. To disable singularity checks, set options.singular_tol = numpy.inf.\n"
     ]
    },
    {
     "name": "stdout",
     "output_type": "stream",
     "text": [
      "\n",
      "Reverted problematic micro moments. Number of reverted elements: 1 out of 1.\n",
      "Reverted problematic elements in the Jacobian of micro moments with respect to theta. Number of reverted elements: 42 out of 42.\n",
      "Failed to invert an estimated covariance matrix of GMM moments. One or more data matrices may be highly collinear. Condition number: NAN. The inverse was replaced with null values.\n",
      "Failed to compute a weighting matrix because of invalid estimated covariances of GMM moments.\n",
      "\n",
      "Computed results after 00:00:03.\n",
      "\n",
      "\n",
      "Failed to invert an estimated covariance matrix of linear parameters. One or more data matrices may be highly collinear. Condition number: NAN. The inverse was replaced with null values.\n",
      "\n",
      "Starting optimization ...\n",
      "\n"
     ]
    },
    {
     "name": "stderr",
     "output_type": "stream",
     "text": [
      "compute_value of micro moment 'E[age_i | mi_j]: +7.830000E-01 (E[{x12 =1}  * {a1=1}] on transactions: 3885 Observations in All Markets; {a1=1}] on transactions: 3885 Observations in All Markets)' returned NAN.\n",
      "compute_gradient of micro moment 'E[age_i | mi_j]: +7.830000E-01 (E[{x12 =1}  * {a1=1}] on transactions: 3885 Observations in All Markets; {a1=1}] on transactions: 3885 Observations in All Markets)' returned +INF for part 'E[{x12 =1}  * {a1=1}] on transactions: 3885 Observations in All Markets'.\n",
      "compute_gradient of micro moment 'E[age_i | mi_j]: +7.830000E-01 (E[{x12 =1}  * {a1=1}] on transactions: 3885 Observations in All Markets; {a1=1}] on transactions: 3885 Observations in All Markets)' returned NAN for part '{a1=1}] on transactions: 3885 Observations in All Markets'.\n"
     ]
    },
    {
     "name": "stdout",
     "output_type": "stream",
     "text": [
      "\n",
      "At least one error was encountered. As long as the optimization routine does not get stuck at values of theta that give rise to errors, this is not necessarily a problem. If the errors persist or seem to be impacting the optimization results, consider setting an error punishment or following any of the other suggestions below:\n",
      "Reverted problematic micro moments. Number of reverted elements: 1 out of 1.\n",
      "Reverted problematic elements in the Jacobian of micro moments with respect to theta. Number of reverted elements: 42 out of 42.\n",
      "Reverted a problematic GMM objective value.\n",
      "Reverted problematic elements in the GMM objective gradient. Number of reverted elements: 42 out of 42.\n",
      "\n",
      "GMM   Computation  Optimization   Objective   Fixed Point  Contraction  Clipped    Objective      Objective      Gradient                                                                                                                                                                                                                                                                                                                                                                                                                                                                                                                                                                                                                                                         \n",
      "Step     Time       Iterations   Evaluations  Iterations   Evaluations  Shares       Value       Improvement       Norm                                                                                                                                                                                                                                                                                                                              Theta                                                                                                                                                                                                                                                                                                                        \n",
      "----  -----------  ------------  -----------  -----------  -----------  -------  -------------  -------------  -------------  ----------------------------------------------------------------------------------------------------------------------------------------------------------------------------------------------------------------------------------------------------------------------------------------------------------------------------------------------------------------------------------------------------------------------------------------------------------------------------------------------------------------------------------------------------------------------------------------------------------------------------------------------------\n",
      " 1     00:00:01         0             1            0           74         442    +1.000000E+10                 +0.000000E+00  +1.000000E+00, +1.000000E+00, +1.000000E+00, +1.000000E+00, +1.000000E+00, +1.000000E+00, +1.000000E+00, +1.000000E+00, +1.000000E+00, +1.000000E+00, +1.000000E+00, +1.000000E+00, +1.000000E+00, +1.000000E+00, +1.000000E+00, +1.000000E+00, +1.000000E+00, +1.000000E+00, +1.000000E+00, +1.000000E+00, +1.000000E+00, +1.000000E+00, +1.000000E+00, +1.000000E+00, +1.000000E+00, +1.000000E+00, +1.000000E+00, +1.000000E+00, +1.000000E+00, +1.000000E+00, +1.000000E+00, +1.000000E+00, +1.000000E+00, +1.000000E+00, +1.000000E+00, +1.000000E+00, +1.000000E+00, +1.000000E+00, +1.000000E+00, +1.000000E+00, +1.000000E+00, +1.000000E+00\n",
      "\n",
      "Optimization completed after 00:00:01.\n",
      "Computing the Hessian and and updating the weighting matrix ...\n"
     ]
    },
    {
     "name": "stderr",
     "output_type": "stream",
     "text": [
      "compute_value of micro moment 'E[age_i | mi_j]: +7.830000E-01 (E[{x12 =1}  * {a1=1}] on transactions: 3885 Observations in All Markets; {a1=1}] on transactions: 3885 Observations in All Markets)' returned NAN.\n",
      "compute_gradient of micro moment 'E[age_i | mi_j]: +7.830000E-01 (E[{x12 =1}  * {a1=1}] on transactions: 3885 Observations in All Markets; {a1=1}] on transactions: 3885 Observations in All Markets)' returned +INF for part 'E[{x12 =1}  * {a1=1}] on transactions: 3885 Observations in All Markets'.\n",
      "compute_gradient of micro moment 'E[age_i | mi_j]: +7.830000E-01 (E[{x12 =1}  * {a1=1}] on transactions: 3885 Observations in All Markets; {a1=1}] on transactions: 3885 Observations in All Markets)' returned NAN for part '{a1=1}] on transactions: 3885 Observations in All Markets'.\n",
      "Failed to compute the condition number of the estimated covariance matrix of micro moments while checking for singularity. To disable singularity checks, set options.singular_tol = numpy.inf.\n",
      "compute_value of micro moment 'E[age_i | mi_j]: +7.830000E-01 (E[{x12 =1}  * {a1=1}] on transactions: 3885 Observations in All Markets; {a1=1}] on transactions: 3885 Observations in All Markets)' returned NAN.\n",
      "compute_gradient of micro moment 'E[age_i | mi_j]: +7.830000E-01 (E[{x12 =1}  * {a1=1}] on transactions: 3885 Observations in All Markets; {a1=1}] on transactions: 3885 Observations in All Markets)' returned +INF for part 'E[{x12 =1}  * {a1=1}] on transactions: 3885 Observations in All Markets'.\n",
      "compute_gradient of micro moment 'E[age_i | mi_j]: +7.830000E-01 (E[{x12 =1}  * {a1=1}] on transactions: 3885 Observations in All Markets; {a1=1}] on transactions: 3885 Observations in All Markets)' returned NAN for part '{a1=1}] on transactions: 3885 Observations in All Markets'.\n",
      "compute_value of micro moment 'E[age_i | mi_j]: +7.830000E-01 (E[{x12 =1}  * {a1=1}] on transactions: 3885 Observations in All Markets; {a1=1}] on transactions: 3885 Observations in All Markets)' returned NAN.\n",
      "compute_gradient of micro moment 'E[age_i | mi_j]: +7.830000E-01 (E[{x12 =1}  * {a1=1}] on transactions: 3885 Observations in All Markets; {a1=1}] on transactions: 3885 Observations in All Markets)' returned +INF for part 'E[{x12 =1}  * {a1=1}] on transactions: 3885 Observations in All Markets'.\n",
      "compute_gradient of micro moment 'E[age_i | mi_j]: +7.830000E-01 (E[{x12 =1}  * {a1=1}] on transactions: 3885 Observations in All Markets; {a1=1}] on transactions: 3885 Observations in All Markets)' returned NAN for part '{a1=1}] on transactions: 3885 Observations in All Markets'.\n",
      "compute_value of micro moment 'E[age_i | mi_j]: +7.830000E-01 (E[{x12 =1}  * {a1=1}] on transactions: 3885 Observations in All Markets; {a1=1}] on transactions: 3885 Observations in All Markets)' returned NAN.\n",
      "compute_gradient of micro moment 'E[age_i | mi_j]: +7.830000E-01 (E[{x12 =1}  * {a1=1}] on transactions: 3885 Observations in All Markets; {a1=1}] on transactions: 3885 Observations in All Markets)' returned +INF for part 'E[{x12 =1}  * {a1=1}] on transactions: 3885 Observations in All Markets'.\n",
      "compute_gradient of micro moment 'E[age_i | mi_j]: +7.830000E-01 (E[{x12 =1}  * {a1=1}] on transactions: 3885 Observations in All Markets; {a1=1}] on transactions: 3885 Observations in All Markets)' returned NAN for part '{a1=1}] on transactions: 3885 Observations in All Markets'.\n",
      "compute_value of micro moment 'E[age_i | mi_j]: +7.830000E-01 (E[{x12 =1}  * {a1=1}] on transactions: 3885 Observations in All Markets; {a1=1}] on transactions: 3885 Observations in All Markets)' returned NAN.\n",
      "compute_gradient of micro moment 'E[age_i | mi_j]: +7.830000E-01 (E[{x12 =1}  * {a1=1}] on transactions: 3885 Observations in All Markets; {a1=1}] on transactions: 3885 Observations in All Markets)' returned +INF for part 'E[{x12 =1}  * {a1=1}] on transactions: 3885 Observations in All Markets'.\n",
      "compute_gradient of micro moment 'E[age_i | mi_j]: +7.830000E-01 (E[{x12 =1}  * {a1=1}] on transactions: 3885 Observations in All Markets; {a1=1}] on transactions: 3885 Observations in All Markets)' returned NAN for part '{a1=1}] on transactions: 3885 Observations in All Markets'.\n",
      "compute_value of micro moment 'E[age_i | mi_j]: +7.830000E-01 (E[{x12 =1}  * {a1=1}] on transactions: 3885 Observations in All Markets; {a1=1}] on transactions: 3885 Observations in All Markets)' returned NAN.\n",
      "compute_gradient of micro moment 'E[age_i | mi_j]: +7.830000E-01 (E[{x12 =1}  * {a1=1}] on transactions: 3885 Observations in All Markets; {a1=1}] on transactions: 3885 Observations in All Markets)' returned +INF for part 'E[{x12 =1}  * {a1=1}] on transactions: 3885 Observations in All Markets'.\n",
      "compute_gradient of micro moment 'E[age_i | mi_j]: +7.830000E-01 (E[{x12 =1}  * {a1=1}] on transactions: 3885 Observations in All Markets; {a1=1}] on transactions: 3885 Observations in All Markets)' returned NAN for part '{a1=1}] on transactions: 3885 Observations in All Markets'.\n",
      "compute_value of micro moment 'E[age_i | mi_j]: +7.830000E-01 (E[{x12 =1}  * {a1=1}] on transactions: 3885 Observations in All Markets; {a1=1}] on transactions: 3885 Observations in All Markets)' returned NAN.\n",
      "compute_gradient of micro moment 'E[age_i | mi_j]: +7.830000E-01 (E[{x12 =1}  * {a1=1}] on transactions: 3885 Observations in All Markets; {a1=1}] on transactions: 3885 Observations in All Markets)' returned +INF for part 'E[{x12 =1}  * {a1=1}] on transactions: 3885 Observations in All Markets'.\n",
      "compute_gradient of micro moment 'E[age_i | mi_j]: +7.830000E-01 (E[{x12 =1}  * {a1=1}] on transactions: 3885 Observations in All Markets; {a1=1}] on transactions: 3885 Observations in All Markets)' returned NAN for part '{a1=1}] on transactions: 3885 Observations in All Markets'.\n",
      "compute_value of micro moment 'E[age_i | mi_j]: +7.830000E-01 (E[{x12 =1}  * {a1=1}] on transactions: 3885 Observations in All Markets; {a1=1}] on transactions: 3885 Observations in All Markets)' returned NAN.\n",
      "compute_gradient of micro moment 'E[age_i | mi_j]: +7.830000E-01 (E[{x12 =1}  * {a1=1}] on transactions: 3885 Observations in All Markets; {a1=1}] on transactions: 3885 Observations in All Markets)' returned +INF for part 'E[{x12 =1}  * {a1=1}] on transactions: 3885 Observations in All Markets'.\n",
      "compute_gradient of micro moment 'E[age_i | mi_j]: +7.830000E-01 (E[{x12 =1}  * {a1=1}] on transactions: 3885 Observations in All Markets; {a1=1}] on transactions: 3885 Observations in All Markets)' returned NAN for part '{a1=1}] on transactions: 3885 Observations in All Markets'.\n",
      "compute_value of micro moment 'E[age_i | mi_j]: +7.830000E-01 (E[{x12 =1}  * {a1=1}] on transactions: 3885 Observations in All Markets; {a1=1}] on transactions: 3885 Observations in All Markets)' returned NAN.\n",
      "compute_gradient of micro moment 'E[age_i | mi_j]: +7.830000E-01 (E[{x12 =1}  * {a1=1}] on transactions: 3885 Observations in All Markets; {a1=1}] on transactions: 3885 Observations in All Markets)' returned +INF for part 'E[{x12 =1}  * {a1=1}] on transactions: 3885 Observations in All Markets'.\n",
      "compute_gradient of micro moment 'E[age_i | mi_j]: +7.830000E-01 (E[{x12 =1}  * {a1=1}] on transactions: 3885 Observations in All Markets; {a1=1}] on transactions: 3885 Observations in All Markets)' returned NAN for part '{a1=1}] on transactions: 3885 Observations in All Markets'.\n",
      "compute_value of micro moment 'E[age_i | mi_j]: +7.830000E-01 (E[{x12 =1}  * {a1=1}] on transactions: 3885 Observations in All Markets; {a1=1}] on transactions: 3885 Observations in All Markets)' returned NAN.\n",
      "compute_gradient of micro moment 'E[age_i | mi_j]: +7.830000E-01 (E[{x12 =1}  * {a1=1}] on transactions: 3885 Observations in All Markets; {a1=1}] on transactions: 3885 Observations in All Markets)' returned +INF for part 'E[{x12 =1}  * {a1=1}] on transactions: 3885 Observations in All Markets'.\n",
      "compute_gradient of micro moment 'E[age_i | mi_j]: +7.830000E-01 (E[{x12 =1}  * {a1=1}] on transactions: 3885 Observations in All Markets; {a1=1}] on transactions: 3885 Observations in All Markets)' returned NAN for part '{a1=1}] on transactions: 3885 Observations in All Markets'.\n",
      "compute_value of micro moment 'E[age_i | mi_j]: +7.830000E-01 (E[{x12 =1}  * {a1=1}] on transactions: 3885 Observations in All Markets; {a1=1}] on transactions: 3885 Observations in All Markets)' returned NAN.\n",
      "compute_gradient of micro moment 'E[age_i | mi_j]: +7.830000E-01 (E[{x12 =1}  * {a1=1}] on transactions: 3885 Observations in All Markets; {a1=1}] on transactions: 3885 Observations in All Markets)' returned +INF for part 'E[{x12 =1}  * {a1=1}] on transactions: 3885 Observations in All Markets'.\n",
      "compute_gradient of micro moment 'E[age_i | mi_j]: +7.830000E-01 (E[{x12 =1}  * {a1=1}] on transactions: 3885 Observations in All Markets; {a1=1}] on transactions: 3885 Observations in All Markets)' returned NAN for part '{a1=1}] on transactions: 3885 Observations in All Markets'.\n",
      "compute_value of micro moment 'E[age_i | mi_j]: +7.830000E-01 (E[{x12 =1}  * {a1=1}] on transactions: 3885 Observations in All Markets; {a1=1}] on transactions: 3885 Observations in All Markets)' returned NAN.\n",
      "compute_gradient of micro moment 'E[age_i | mi_j]: +7.830000E-01 (E[{x12 =1}  * {a1=1}] on transactions: 3885 Observations in All Markets; {a1=1}] on transactions: 3885 Observations in All Markets)' returned +INF for part 'E[{x12 =1}  * {a1=1}] on transactions: 3885 Observations in All Markets'.\n",
      "compute_gradient of micro moment 'E[age_i | mi_j]: +7.830000E-01 (E[{x12 =1}  * {a1=1}] on transactions: 3885 Observations in All Markets; {a1=1}] on transactions: 3885 Observations in All Markets)' returned NAN for part '{a1=1}] on transactions: 3885 Observations in All Markets'.\n",
      "compute_value of micro moment 'E[age_i | mi_j]: +7.830000E-01 (E[{x12 =1}  * {a1=1}] on transactions: 3885 Observations in All Markets; {a1=1}] on transactions: 3885 Observations in All Markets)' returned NAN.\n",
      "compute_gradient of micro moment 'E[age_i | mi_j]: +7.830000E-01 (E[{x12 =1}  * {a1=1}] on transactions: 3885 Observations in All Markets; {a1=1}] on transactions: 3885 Observations in All Markets)' returned +INF for part 'E[{x12 =1}  * {a1=1}] on transactions: 3885 Observations in All Markets'.\n",
      "compute_gradient of micro moment 'E[age_i | mi_j]: +7.830000E-01 (E[{x12 =1}  * {a1=1}] on transactions: 3885 Observations in All Markets; {a1=1}] on transactions: 3885 Observations in All Markets)' returned NAN for part '{a1=1}] on transactions: 3885 Observations in All Markets'.\n",
      "compute_value of micro moment 'E[age_i | mi_j]: +7.830000E-01 (E[{x12 =1}  * {a1=1}] on transactions: 3885 Observations in All Markets; {a1=1}] on transactions: 3885 Observations in All Markets)' returned NAN.\n",
      "compute_gradient of micro moment 'E[age_i | mi_j]: +7.830000E-01 (E[{x12 =1}  * {a1=1}] on transactions: 3885 Observations in All Markets; {a1=1}] on transactions: 3885 Observations in All Markets)' returned +INF for part 'E[{x12 =1}  * {a1=1}] on transactions: 3885 Observations in All Markets'.\n",
      "compute_gradient of micro moment 'E[age_i | mi_j]: +7.830000E-01 (E[{x12 =1}  * {a1=1}] on transactions: 3885 Observations in All Markets; {a1=1}] on transactions: 3885 Observations in All Markets)' returned NAN for part '{a1=1}] on transactions: 3885 Observations in All Markets'.\n",
      "compute_value of micro moment 'E[age_i | mi_j]: +7.830000E-01 (E[{x12 =1}  * {a1=1}] on transactions: 3885 Observations in All Markets; {a1=1}] on transactions: 3885 Observations in All Markets)' returned NAN.\n",
      "compute_gradient of micro moment 'E[age_i | mi_j]: +7.830000E-01 (E[{x12 =1}  * {a1=1}] on transactions: 3885 Observations in All Markets; {a1=1}] on transactions: 3885 Observations in All Markets)' returned +INF for part 'E[{x12 =1}  * {a1=1}] on transactions: 3885 Observations in All Markets'.\n",
      "compute_gradient of micro moment 'E[age_i | mi_j]: +7.830000E-01 (E[{x12 =1}  * {a1=1}] on transactions: 3885 Observations in All Markets; {a1=1}] on transactions: 3885 Observations in All Markets)' returned NAN for part '{a1=1}] on transactions: 3885 Observations in All Markets'.\n",
      "compute_value of micro moment 'E[age_i | mi_j]: +7.830000E-01 (E[{x12 =1}  * {a1=1}] on transactions: 3885 Observations in All Markets; {a1=1}] on transactions: 3885 Observations in All Markets)' returned NAN.\n",
      "compute_gradient of micro moment 'E[age_i | mi_j]: +7.830000E-01 (E[{x12 =1}  * {a1=1}] on transactions: 3885 Observations in All Markets; {a1=1}] on transactions: 3885 Observations in All Markets)' returned +INF for part 'E[{x12 =1}  * {a1=1}] on transactions: 3885 Observations in All Markets'.\n",
      "compute_gradient of micro moment 'E[age_i | mi_j]: +7.830000E-01 (E[{x12 =1}  * {a1=1}] on transactions: 3885 Observations in All Markets; {a1=1}] on transactions: 3885 Observations in All Markets)' returned NAN for part '{a1=1}] on transactions: 3885 Observations in All Markets'.\n",
      "compute_value of micro moment 'E[age_i | mi_j]: +7.830000E-01 (E[{x12 =1}  * {a1=1}] on transactions: 3885 Observations in All Markets; {a1=1}] on transactions: 3885 Observations in All Markets)' returned NAN.\n",
      "compute_gradient of micro moment 'E[age_i | mi_j]: +7.830000E-01 (E[{x12 =1}  * {a1=1}] on transactions: 3885 Observations in All Markets; {a1=1}] on transactions: 3885 Observations in All Markets)' returned +INF for part 'E[{x12 =1}  * {a1=1}] on transactions: 3885 Observations in All Markets'.\n",
      "compute_gradient of micro moment 'E[age_i | mi_j]: +7.830000E-01 (E[{x12 =1}  * {a1=1}] on transactions: 3885 Observations in All Markets; {a1=1}] on transactions: 3885 Observations in All Markets)' returned NAN for part '{a1=1}] on transactions: 3885 Observations in All Markets'.\n",
      "compute_value of micro moment 'E[age_i | mi_j]: +7.830000E-01 (E[{x12 =1}  * {a1=1}] on transactions: 3885 Observations in All Markets; {a1=1}] on transactions: 3885 Observations in All Markets)' returned NAN.\n",
      "compute_gradient of micro moment 'E[age_i | mi_j]: +7.830000E-01 (E[{x12 =1}  * {a1=1}] on transactions: 3885 Observations in All Markets; {a1=1}] on transactions: 3885 Observations in All Markets)' returned +INF for part 'E[{x12 =1}  * {a1=1}] on transactions: 3885 Observations in All Markets'.\n",
      "compute_gradient of micro moment 'E[age_i | mi_j]: +7.830000E-01 (E[{x12 =1}  * {a1=1}] on transactions: 3885 Observations in All Markets; {a1=1}] on transactions: 3885 Observations in All Markets)' returned NAN for part '{a1=1}] on transactions: 3885 Observations in All Markets'.\n",
      "compute_value of micro moment 'E[age_i | mi_j]: +7.830000E-01 (E[{x12 =1}  * {a1=1}] on transactions: 3885 Observations in All Markets; {a1=1}] on transactions: 3885 Observations in All Markets)' returned NAN.\n",
      "compute_gradient of micro moment 'E[age_i | mi_j]: +7.830000E-01 (E[{x12 =1}  * {a1=1}] on transactions: 3885 Observations in All Markets; {a1=1}] on transactions: 3885 Observations in All Markets)' returned +INF for part 'E[{x12 =1}  * {a1=1}] on transactions: 3885 Observations in All Markets'.\n",
      "compute_gradient of micro moment 'E[age_i | mi_j]: +7.830000E-01 (E[{x12 =1}  * {a1=1}] on transactions: 3885 Observations in All Markets; {a1=1}] on transactions: 3885 Observations in All Markets)' returned NAN for part '{a1=1}] on transactions: 3885 Observations in All Markets'.\n",
      "compute_value of micro moment 'E[age_i | mi_j]: +7.830000E-01 (E[{x12 =1}  * {a1=1}] on transactions: 3885 Observations in All Markets; {a1=1}] on transactions: 3885 Observations in All Markets)' returned NAN.\n",
      "compute_gradient of micro moment 'E[age_i | mi_j]: +7.830000E-01 (E[{x12 =1}  * {a1=1}] on transactions: 3885 Observations in All Markets; {a1=1}] on transactions: 3885 Observations in All Markets)' returned +INF for part 'E[{x12 =1}  * {a1=1}] on transactions: 3885 Observations in All Markets'.\n",
      "compute_gradient of micro moment 'E[age_i | mi_j]: +7.830000E-01 (E[{x12 =1}  * {a1=1}] on transactions: 3885 Observations in All Markets; {a1=1}] on transactions: 3885 Observations in All Markets)' returned NAN for part '{a1=1}] on transactions: 3885 Observations in All Markets'.\n",
      "compute_value of micro moment 'E[age_i | mi_j]: +7.830000E-01 (E[{x12 =1}  * {a1=1}] on transactions: 3885 Observations in All Markets; {a1=1}] on transactions: 3885 Observations in All Markets)' returned NAN.\n",
      "compute_gradient of micro moment 'E[age_i | mi_j]: +7.830000E-01 (E[{x12 =1}  * {a1=1}] on transactions: 3885 Observations in All Markets; {a1=1}] on transactions: 3885 Observations in All Markets)' returned +INF for part 'E[{x12 =1}  * {a1=1}] on transactions: 3885 Observations in All Markets'.\n",
      "compute_gradient of micro moment 'E[age_i | mi_j]: +7.830000E-01 (E[{x12 =1}  * {a1=1}] on transactions: 3885 Observations in All Markets; {a1=1}] on transactions: 3885 Observations in All Markets)' returned NAN for part '{a1=1}] on transactions: 3885 Observations in All Markets'.\n",
      "compute_value of micro moment 'E[age_i | mi_j]: +7.830000E-01 (E[{x12 =1}  * {a1=1}] on transactions: 3885 Observations in All Markets; {a1=1}] on transactions: 3885 Observations in All Markets)' returned NAN.\n",
      "compute_gradient of micro moment 'E[age_i | mi_j]: +7.830000E-01 (E[{x12 =1}  * {a1=1}] on transactions: 3885 Observations in All Markets; {a1=1}] on transactions: 3885 Observations in All Markets)' returned +INF for part 'E[{x12 =1}  * {a1=1}] on transactions: 3885 Observations in All Markets'.\n",
      "compute_gradient of micro moment 'E[age_i | mi_j]: +7.830000E-01 (E[{x12 =1}  * {a1=1}] on transactions: 3885 Observations in All Markets; {a1=1}] on transactions: 3885 Observations in All Markets)' returned NAN for part '{a1=1}] on transactions: 3885 Observations in All Markets'.\n",
      "compute_value of micro moment 'E[age_i | mi_j]: +7.830000E-01 (E[{x12 =1}  * {a1=1}] on transactions: 3885 Observations in All Markets; {a1=1}] on transactions: 3885 Observations in All Markets)' returned NAN.\n",
      "compute_gradient of micro moment 'E[age_i | mi_j]: +7.830000E-01 (E[{x12 =1}  * {a1=1}] on transactions: 3885 Observations in All Markets; {a1=1}] on transactions: 3885 Observations in All Markets)' returned +INF for part 'E[{x12 =1}  * {a1=1}] on transactions: 3885 Observations in All Markets'.\n",
      "compute_gradient of micro moment 'E[age_i | mi_j]: +7.830000E-01 (E[{x12 =1}  * {a1=1}] on transactions: 3885 Observations in All Markets; {a1=1}] on transactions: 3885 Observations in All Markets)' returned NAN for part '{a1=1}] on transactions: 3885 Observations in All Markets'.\n",
      "compute_value of micro moment 'E[age_i | mi_j]: +7.830000E-01 (E[{x12 =1}  * {a1=1}] on transactions: 3885 Observations in All Markets; {a1=1}] on transactions: 3885 Observations in All Markets)' returned NAN.\n",
      "compute_gradient of micro moment 'E[age_i | mi_j]: +7.830000E-01 (E[{x12 =1}  * {a1=1}] on transactions: 3885 Observations in All Markets; {a1=1}] on transactions: 3885 Observations in All Markets)' returned +INF for part 'E[{x12 =1}  * {a1=1}] on transactions: 3885 Observations in All Markets'.\n",
      "compute_gradient of micro moment 'E[age_i | mi_j]: +7.830000E-01 (E[{x12 =1}  * {a1=1}] on transactions: 3885 Observations in All Markets; {a1=1}] on transactions: 3885 Observations in All Markets)' returned NAN for part '{a1=1}] on transactions: 3885 Observations in All Markets'.\n",
      "compute_value of micro moment 'E[age_i | mi_j]: +7.830000E-01 (E[{x12 =1}  * {a1=1}] on transactions: 3885 Observations in All Markets; {a1=1}] on transactions: 3885 Observations in All Markets)' returned NAN.\n",
      "compute_gradient of micro moment 'E[age_i | mi_j]: +7.830000E-01 (E[{x12 =1}  * {a1=1}] on transactions: 3885 Observations in All Markets; {a1=1}] on transactions: 3885 Observations in All Markets)' returned +INF for part 'E[{x12 =1}  * {a1=1}] on transactions: 3885 Observations in All Markets'.\n",
      "compute_gradient of micro moment 'E[age_i | mi_j]: +7.830000E-01 (E[{x12 =1}  * {a1=1}] on transactions: 3885 Observations in All Markets; {a1=1}] on transactions: 3885 Observations in All Markets)' returned NAN for part '{a1=1}] on transactions: 3885 Observations in All Markets'.\n",
      "compute_value of micro moment 'E[age_i | mi_j]: +7.830000E-01 (E[{x12 =1}  * {a1=1}] on transactions: 3885 Observations in All Markets; {a1=1}] on transactions: 3885 Observations in All Markets)' returned NAN.\n",
      "compute_gradient of micro moment 'E[age_i | mi_j]: +7.830000E-01 (E[{x12 =1}  * {a1=1}] on transactions: 3885 Observations in All Markets; {a1=1}] on transactions: 3885 Observations in All Markets)' returned +INF for part 'E[{x12 =1}  * {a1=1}] on transactions: 3885 Observations in All Markets'.\n",
      "compute_gradient of micro moment 'E[age_i | mi_j]: +7.830000E-01 (E[{x12 =1}  * {a1=1}] on transactions: 3885 Observations in All Markets; {a1=1}] on transactions: 3885 Observations in All Markets)' returned NAN for part '{a1=1}] on transactions: 3885 Observations in All Markets'.\n",
      "compute_value of micro moment 'E[age_i | mi_j]: +7.830000E-01 (E[{x12 =1}  * {a1=1}] on transactions: 3885 Observations in All Markets; {a1=1}] on transactions: 3885 Observations in All Markets)' returned NAN.\n",
      "compute_gradient of micro moment 'E[age_i | mi_j]: +7.830000E-01 (E[{x12 =1}  * {a1=1}] on transactions: 3885 Observations in All Markets; {a1=1}] on transactions: 3885 Observations in All Markets)' returned +INF for part 'E[{x12 =1}  * {a1=1}] on transactions: 3885 Observations in All Markets'.\n",
      "compute_gradient of micro moment 'E[age_i | mi_j]: +7.830000E-01 (E[{x12 =1}  * {a1=1}] on transactions: 3885 Observations in All Markets; {a1=1}] on transactions: 3885 Observations in All Markets)' returned NAN for part '{a1=1}] on transactions: 3885 Observations in All Markets'.\n",
      "compute_value of micro moment 'E[age_i | mi_j]: +7.830000E-01 (E[{x12 =1}  * {a1=1}] on transactions: 3885 Observations in All Markets; {a1=1}] on transactions: 3885 Observations in All Markets)' returned NAN.\n",
      "compute_gradient of micro moment 'E[age_i | mi_j]: +7.830000E-01 (E[{x12 =1}  * {a1=1}] on transactions: 3885 Observations in All Markets; {a1=1}] on transactions: 3885 Observations in All Markets)' returned +INF for part 'E[{x12 =1}  * {a1=1}] on transactions: 3885 Observations in All Markets'.\n",
      "compute_gradient of micro moment 'E[age_i | mi_j]: +7.830000E-01 (E[{x12 =1}  * {a1=1}] on transactions: 3885 Observations in All Markets; {a1=1}] on transactions: 3885 Observations in All Markets)' returned NAN for part '{a1=1}] on transactions: 3885 Observations in All Markets'.\n",
      "compute_value of micro moment 'E[age_i | mi_j]: +7.830000E-01 (E[{x12 =1}  * {a1=1}] on transactions: 3885 Observations in All Markets; {a1=1}] on transactions: 3885 Observations in All Markets)' returned NAN.\n",
      "compute_gradient of micro moment 'E[age_i | mi_j]: +7.830000E-01 (E[{x12 =1}  * {a1=1}] on transactions: 3885 Observations in All Markets; {a1=1}] on transactions: 3885 Observations in All Markets)' returned +INF for part 'E[{x12 =1}  * {a1=1}] on transactions: 3885 Observations in All Markets'.\n",
      "compute_gradient of micro moment 'E[age_i | mi_j]: +7.830000E-01 (E[{x12 =1}  * {a1=1}] on transactions: 3885 Observations in All Markets; {a1=1}] on transactions: 3885 Observations in All Markets)' returned NAN for part '{a1=1}] on transactions: 3885 Observations in All Markets'.\n",
      "compute_value of micro moment 'E[age_i | mi_j]: +7.830000E-01 (E[{x12 =1}  * {a1=1}] on transactions: 3885 Observations in All Markets; {a1=1}] on transactions: 3885 Observations in All Markets)' returned NAN.\n",
      "compute_gradient of micro moment 'E[age_i | mi_j]: +7.830000E-01 (E[{x12 =1}  * {a1=1}] on transactions: 3885 Observations in All Markets; {a1=1}] on transactions: 3885 Observations in All Markets)' returned +INF for part 'E[{x12 =1}  * {a1=1}] on transactions: 3885 Observations in All Markets'.\n",
      "compute_gradient of micro moment 'E[age_i | mi_j]: +7.830000E-01 (E[{x12 =1}  * {a1=1}] on transactions: 3885 Observations in All Markets; {a1=1}] on transactions: 3885 Observations in All Markets)' returned NAN for part '{a1=1}] on transactions: 3885 Observations in All Markets'.\n",
      "compute_value of micro moment 'E[age_i | mi_j]: +7.830000E-01 (E[{x12 =1}  * {a1=1}] on transactions: 3885 Observations in All Markets; {a1=1}] on transactions: 3885 Observations in All Markets)' returned NAN.\n",
      "compute_gradient of micro moment 'E[age_i | mi_j]: +7.830000E-01 (E[{x12 =1}  * {a1=1}] on transactions: 3885 Observations in All Markets; {a1=1}] on transactions: 3885 Observations in All Markets)' returned +INF for part 'E[{x12 =1}  * {a1=1}] on transactions: 3885 Observations in All Markets'.\n",
      "compute_gradient of micro moment 'E[age_i | mi_j]: +7.830000E-01 (E[{x12 =1}  * {a1=1}] on transactions: 3885 Observations in All Markets; {a1=1}] on transactions: 3885 Observations in All Markets)' returned NAN for part '{a1=1}] on transactions: 3885 Observations in All Markets'.\n",
      "compute_value of micro moment 'E[age_i | mi_j]: +7.830000E-01 (E[{x12 =1}  * {a1=1}] on transactions: 3885 Observations in All Markets; {a1=1}] on transactions: 3885 Observations in All Markets)' returned NAN.\n",
      "compute_gradient of micro moment 'E[age_i | mi_j]: +7.830000E-01 (E[{x12 =1}  * {a1=1}] on transactions: 3885 Observations in All Markets; {a1=1}] on transactions: 3885 Observations in All Markets)' returned +INF for part 'E[{x12 =1}  * {a1=1}] on transactions: 3885 Observations in All Markets'.\n",
      "compute_gradient of micro moment 'E[age_i | mi_j]: +7.830000E-01 (E[{x12 =1}  * {a1=1}] on transactions: 3885 Observations in All Markets; {a1=1}] on transactions: 3885 Observations in All Markets)' returned NAN for part '{a1=1}] on transactions: 3885 Observations in All Markets'.\n",
      "compute_value of micro moment 'E[age_i | mi_j]: +7.830000E-01 (E[{x12 =1}  * {a1=1}] on transactions: 3885 Observations in All Markets; {a1=1}] on transactions: 3885 Observations in All Markets)' returned NAN.\n",
      "compute_gradient of micro moment 'E[age_i | mi_j]: +7.830000E-01 (E[{x12 =1}  * {a1=1}] on transactions: 3885 Observations in All Markets; {a1=1}] on transactions: 3885 Observations in All Markets)' returned +INF for part 'E[{x12 =1}  * {a1=1}] on transactions: 3885 Observations in All Markets'.\n",
      "compute_gradient of micro moment 'E[age_i | mi_j]: +7.830000E-01 (E[{x12 =1}  * {a1=1}] on transactions: 3885 Observations in All Markets; {a1=1}] on transactions: 3885 Observations in All Markets)' returned NAN for part '{a1=1}] on transactions: 3885 Observations in All Markets'.\n",
      "compute_value of micro moment 'E[age_i | mi_j]: +7.830000E-01 (E[{x12 =1}  * {a1=1}] on transactions: 3885 Observations in All Markets; {a1=1}] on transactions: 3885 Observations in All Markets)' returned NAN.\n",
      "compute_gradient of micro moment 'E[age_i | mi_j]: +7.830000E-01 (E[{x12 =1}  * {a1=1}] on transactions: 3885 Observations in All Markets; {a1=1}] on transactions: 3885 Observations in All Markets)' returned +INF for part 'E[{x12 =1}  * {a1=1}] on transactions: 3885 Observations in All Markets'.\n",
      "compute_gradient of micro moment 'E[age_i | mi_j]: +7.830000E-01 (E[{x12 =1}  * {a1=1}] on transactions: 3885 Observations in All Markets; {a1=1}] on transactions: 3885 Observations in All Markets)' returned NAN for part '{a1=1}] on transactions: 3885 Observations in All Markets'.\n",
      "compute_value of micro moment 'E[age_i | mi_j]: +7.830000E-01 (E[{x12 =1}  * {a1=1}] on transactions: 3885 Observations in All Markets; {a1=1}] on transactions: 3885 Observations in All Markets)' returned NAN.\n",
      "compute_gradient of micro moment 'E[age_i | mi_j]: +7.830000E-01 (E[{x12 =1}  * {a1=1}] on transactions: 3885 Observations in All Markets; {a1=1}] on transactions: 3885 Observations in All Markets)' returned +INF for part 'E[{x12 =1}  * {a1=1}] on transactions: 3885 Observations in All Markets'.\n",
      "compute_gradient of micro moment 'E[age_i | mi_j]: +7.830000E-01 (E[{x12 =1}  * {a1=1}] on transactions: 3885 Observations in All Markets; {a1=1}] on transactions: 3885 Observations in All Markets)' returned NAN for part '{a1=1}] on transactions: 3885 Observations in All Markets'.\n",
      "compute_value of micro moment 'E[age_i | mi_j]: +7.830000E-01 (E[{x12 =1}  * {a1=1}] on transactions: 3885 Observations in All Markets; {a1=1}] on transactions: 3885 Observations in All Markets)' returned NAN.\n",
      "compute_gradient of micro moment 'E[age_i | mi_j]: +7.830000E-01 (E[{x12 =1}  * {a1=1}] on transactions: 3885 Observations in All Markets; {a1=1}] on transactions: 3885 Observations in All Markets)' returned +INF for part 'E[{x12 =1}  * {a1=1}] on transactions: 3885 Observations in All Markets'.\n",
      "compute_gradient of micro moment 'E[age_i | mi_j]: +7.830000E-01 (E[{x12 =1}  * {a1=1}] on transactions: 3885 Observations in All Markets; {a1=1}] on transactions: 3885 Observations in All Markets)' returned NAN for part '{a1=1}] on transactions: 3885 Observations in All Markets'.\n",
      "compute_value of micro moment 'E[age_i | mi_j]: +7.830000E-01 (E[{x12 =1}  * {a1=1}] on transactions: 3885 Observations in All Markets; {a1=1}] on transactions: 3885 Observations in All Markets)' returned NAN.\n",
      "compute_gradient of micro moment 'E[age_i | mi_j]: +7.830000E-01 (E[{x12 =1}  * {a1=1}] on transactions: 3885 Observations in All Markets; {a1=1}] on transactions: 3885 Observations in All Markets)' returned +INF for part 'E[{x12 =1}  * {a1=1}] on transactions: 3885 Observations in All Markets'.\n",
      "compute_gradient of micro moment 'E[age_i | mi_j]: +7.830000E-01 (E[{x12 =1}  * {a1=1}] on transactions: 3885 Observations in All Markets; {a1=1}] on transactions: 3885 Observations in All Markets)' returned NAN for part '{a1=1}] on transactions: 3885 Observations in All Markets'.\n",
      "compute_value of micro moment 'E[age_i | mi_j]: +7.830000E-01 (E[{x12 =1}  * {a1=1}] on transactions: 3885 Observations in All Markets; {a1=1}] on transactions: 3885 Observations in All Markets)' returned NAN.\n",
      "compute_gradient of micro moment 'E[age_i | mi_j]: +7.830000E-01 (E[{x12 =1}  * {a1=1}] on transactions: 3885 Observations in All Markets; {a1=1}] on transactions: 3885 Observations in All Markets)' returned +INF for part 'E[{x12 =1}  * {a1=1}] on transactions: 3885 Observations in All Markets'.\n",
      "compute_gradient of micro moment 'E[age_i | mi_j]: +7.830000E-01 (E[{x12 =1}  * {a1=1}] on transactions: 3885 Observations in All Markets; {a1=1}] on transactions: 3885 Observations in All Markets)' returned NAN for part '{a1=1}] on transactions: 3885 Observations in All Markets'.\n",
      "compute_value of micro moment 'E[age_i | mi_j]: +7.830000E-01 (E[{x12 =1}  * {a1=1}] on transactions: 3885 Observations in All Markets; {a1=1}] on transactions: 3885 Observations in All Markets)' returned NAN.\n",
      "compute_gradient of micro moment 'E[age_i | mi_j]: +7.830000E-01 (E[{x12 =1}  * {a1=1}] on transactions: 3885 Observations in All Markets; {a1=1}] on transactions: 3885 Observations in All Markets)' returned +INF for part 'E[{x12 =1}  * {a1=1}] on transactions: 3885 Observations in All Markets'.\n",
      "compute_gradient of micro moment 'E[age_i | mi_j]: +7.830000E-01 (E[{x12 =1}  * {a1=1}] on transactions: 3885 Observations in All Markets; {a1=1}] on transactions: 3885 Observations in All Markets)' returned NAN for part '{a1=1}] on transactions: 3885 Observations in All Markets'.\n",
      "compute_value of micro moment 'E[age_i | mi_j]: +7.830000E-01 (E[{x12 =1}  * {a1=1}] on transactions: 3885 Observations in All Markets; {a1=1}] on transactions: 3885 Observations in All Markets)' returned NAN.\n",
      "compute_gradient of micro moment 'E[age_i | mi_j]: +7.830000E-01 (E[{x12 =1}  * {a1=1}] on transactions: 3885 Observations in All Markets; {a1=1}] on transactions: 3885 Observations in All Markets)' returned +INF for part 'E[{x12 =1}  * {a1=1}] on transactions: 3885 Observations in All Markets'.\n",
      "compute_gradient of micro moment 'E[age_i | mi_j]: +7.830000E-01 (E[{x12 =1}  * {a1=1}] on transactions: 3885 Observations in All Markets; {a1=1}] on transactions: 3885 Observations in All Markets)' returned NAN for part '{a1=1}] on transactions: 3885 Observations in All Markets'.\n",
      "compute_value of micro moment 'E[age_i | mi_j]: +7.830000E-01 (E[{x12 =1}  * {a1=1}] on transactions: 3885 Observations in All Markets; {a1=1}] on transactions: 3885 Observations in All Markets)' returned NAN.\n",
      "compute_gradient of micro moment 'E[age_i | mi_j]: +7.830000E-01 (E[{x12 =1}  * {a1=1}] on transactions: 3885 Observations in All Markets; {a1=1}] on transactions: 3885 Observations in All Markets)' returned +INF for part 'E[{x12 =1}  * {a1=1}] on transactions: 3885 Observations in All Markets'.\n",
      "compute_gradient of micro moment 'E[age_i | mi_j]: +7.830000E-01 (E[{x12 =1}  * {a1=1}] on transactions: 3885 Observations in All Markets; {a1=1}] on transactions: 3885 Observations in All Markets)' returned NAN for part '{a1=1}] on transactions: 3885 Observations in All Markets'.\n",
      "compute_value of micro moment 'E[age_i | mi_j]: +7.830000E-01 (E[{x12 =1}  * {a1=1}] on transactions: 3885 Observations in All Markets; {a1=1}] on transactions: 3885 Observations in All Markets)' returned NAN.\n",
      "compute_gradient of micro moment 'E[age_i | mi_j]: +7.830000E-01 (E[{x12 =1}  * {a1=1}] on transactions: 3885 Observations in All Markets; {a1=1}] on transactions: 3885 Observations in All Markets)' returned +INF for part 'E[{x12 =1}  * {a1=1}] on transactions: 3885 Observations in All Markets'.\n",
      "compute_gradient of micro moment 'E[age_i | mi_j]: +7.830000E-01 (E[{x12 =1}  * {a1=1}] on transactions: 3885 Observations in All Markets; {a1=1}] on transactions: 3885 Observations in All Markets)' returned NAN for part '{a1=1}] on transactions: 3885 Observations in All Markets'.\n",
      "compute_value of micro moment 'E[age_i | mi_j]: +7.830000E-01 (E[{x12 =1}  * {a1=1}] on transactions: 3885 Observations in All Markets; {a1=1}] on transactions: 3885 Observations in All Markets)' returned NAN.\n",
      "compute_gradient of micro moment 'E[age_i | mi_j]: +7.830000E-01 (E[{x12 =1}  * {a1=1}] on transactions: 3885 Observations in All Markets; {a1=1}] on transactions: 3885 Observations in All Markets)' returned +INF for part 'E[{x12 =1}  * {a1=1}] on transactions: 3885 Observations in All Markets'.\n",
      "compute_gradient of micro moment 'E[age_i | mi_j]: +7.830000E-01 (E[{x12 =1}  * {a1=1}] on transactions: 3885 Observations in All Markets; {a1=1}] on transactions: 3885 Observations in All Markets)' returned NAN for part '{a1=1}] on transactions: 3885 Observations in All Markets'.\n",
      "compute_value of micro moment 'E[age_i | mi_j]: +7.830000E-01 (E[{x12 =1}  * {a1=1}] on transactions: 3885 Observations in All Markets; {a1=1}] on transactions: 3885 Observations in All Markets)' returned NAN.\n",
      "compute_gradient of micro moment 'E[age_i | mi_j]: +7.830000E-01 (E[{x12 =1}  * {a1=1}] on transactions: 3885 Observations in All Markets; {a1=1}] on transactions: 3885 Observations in All Markets)' returned +INF for part 'E[{x12 =1}  * {a1=1}] on transactions: 3885 Observations in All Markets'.\n",
      "compute_gradient of micro moment 'E[age_i | mi_j]: +7.830000E-01 (E[{x12 =1}  * {a1=1}] on transactions: 3885 Observations in All Markets; {a1=1}] on transactions: 3885 Observations in All Markets)' returned NAN for part '{a1=1}] on transactions: 3885 Observations in All Markets'.\n",
      "compute_value of micro moment 'E[age_i | mi_j]: +7.830000E-01 (E[{x12 =1}  * {a1=1}] on transactions: 3885 Observations in All Markets; {a1=1}] on transactions: 3885 Observations in All Markets)' returned NAN.\n",
      "compute_gradient of micro moment 'E[age_i | mi_j]: +7.830000E-01 (E[{x12 =1}  * {a1=1}] on transactions: 3885 Observations in All Markets; {a1=1}] on transactions: 3885 Observations in All Markets)' returned +INF for part 'E[{x12 =1}  * {a1=1}] on transactions: 3885 Observations in All Markets'.\n",
      "compute_gradient of micro moment 'E[age_i | mi_j]: +7.830000E-01 (E[{x12 =1}  * {a1=1}] on transactions: 3885 Observations in All Markets; {a1=1}] on transactions: 3885 Observations in All Markets)' returned NAN for part '{a1=1}] on transactions: 3885 Observations in All Markets'.\n",
      "compute_value of micro moment 'E[age_i | mi_j]: +7.830000E-01 (E[{x12 =1}  * {a1=1}] on transactions: 3885 Observations in All Markets; {a1=1}] on transactions: 3885 Observations in All Markets)' returned NAN.\n",
      "compute_gradient of micro moment 'E[age_i | mi_j]: +7.830000E-01 (E[{x12 =1}  * {a1=1}] on transactions: 3885 Observations in All Markets; {a1=1}] on transactions: 3885 Observations in All Markets)' returned +INF for part 'E[{x12 =1}  * {a1=1}] on transactions: 3885 Observations in All Markets'.\n",
      "compute_gradient of micro moment 'E[age_i | mi_j]: +7.830000E-01 (E[{x12 =1}  * {a1=1}] on transactions: 3885 Observations in All Markets; {a1=1}] on transactions: 3885 Observations in All Markets)' returned NAN for part '{a1=1}] on transactions: 3885 Observations in All Markets'.\n",
      "compute_value of micro moment 'E[age_i | mi_j]: +7.830000E-01 (E[{x12 =1}  * {a1=1}] on transactions: 3885 Observations in All Markets; {a1=1}] on transactions: 3885 Observations in All Markets)' returned NAN.\n",
      "compute_gradient of micro moment 'E[age_i | mi_j]: +7.830000E-01 (E[{x12 =1}  * {a1=1}] on transactions: 3885 Observations in All Markets; {a1=1}] on transactions: 3885 Observations in All Markets)' returned +INF for part 'E[{x12 =1}  * {a1=1}] on transactions: 3885 Observations in All Markets'.\n",
      "compute_gradient of micro moment 'E[age_i | mi_j]: +7.830000E-01 (E[{x12 =1}  * {a1=1}] on transactions: 3885 Observations in All Markets; {a1=1}] on transactions: 3885 Observations in All Markets)' returned NAN for part '{a1=1}] on transactions: 3885 Observations in All Markets'.\n",
      "compute_value of micro moment 'E[age_i | mi_j]: +7.830000E-01 (E[{x12 =1}  * {a1=1}] on transactions: 3885 Observations in All Markets; {a1=1}] on transactions: 3885 Observations in All Markets)' returned NAN.\n",
      "compute_gradient of micro moment 'E[age_i | mi_j]: +7.830000E-01 (E[{x12 =1}  * {a1=1}] on transactions: 3885 Observations in All Markets; {a1=1}] on transactions: 3885 Observations in All Markets)' returned +INF for part 'E[{x12 =1}  * {a1=1}] on transactions: 3885 Observations in All Markets'.\n",
      "compute_gradient of micro moment 'E[age_i | mi_j]: +7.830000E-01 (E[{x12 =1}  * {a1=1}] on transactions: 3885 Observations in All Markets; {a1=1}] on transactions: 3885 Observations in All Markets)' returned NAN for part '{a1=1}] on transactions: 3885 Observations in All Markets'.\n",
      "compute_value of micro moment 'E[age_i | mi_j]: +7.830000E-01 (E[{x12 =1}  * {a1=1}] on transactions: 3885 Observations in All Markets; {a1=1}] on transactions: 3885 Observations in All Markets)' returned NAN.\n",
      "compute_gradient of micro moment 'E[age_i | mi_j]: +7.830000E-01 (E[{x12 =1}  * {a1=1}] on transactions: 3885 Observations in All Markets; {a1=1}] on transactions: 3885 Observations in All Markets)' returned +INF for part 'E[{x12 =1}  * {a1=1}] on transactions: 3885 Observations in All Markets'.\n",
      "compute_gradient of micro moment 'E[age_i | mi_j]: +7.830000E-01 (E[{x12 =1}  * {a1=1}] on transactions: 3885 Observations in All Markets; {a1=1}] on transactions: 3885 Observations in All Markets)' returned NAN for part '{a1=1}] on transactions: 3885 Observations in All Markets'.\n",
      "compute_value of micro moment 'E[age_i | mi_j]: +7.830000E-01 (E[{x12 =1}  * {a1=1}] on transactions: 3885 Observations in All Markets; {a1=1}] on transactions: 3885 Observations in All Markets)' returned NAN.\n",
      "compute_gradient of micro moment 'E[age_i | mi_j]: +7.830000E-01 (E[{x12 =1}  * {a1=1}] on transactions: 3885 Observations in All Markets; {a1=1}] on transactions: 3885 Observations in All Markets)' returned +INF for part 'E[{x12 =1}  * {a1=1}] on transactions: 3885 Observations in All Markets'.\n",
      "compute_gradient of micro moment 'E[age_i | mi_j]: +7.830000E-01 (E[{x12 =1}  * {a1=1}] on transactions: 3885 Observations in All Markets; {a1=1}] on transactions: 3885 Observations in All Markets)' returned NAN for part '{a1=1}] on transactions: 3885 Observations in All Markets'.\n",
      "compute_value of micro moment 'E[age_i | mi_j]: +7.830000E-01 (E[{x12 =1}  * {a1=1}] on transactions: 3885 Observations in All Markets; {a1=1}] on transactions: 3885 Observations in All Markets)' returned NAN.\n",
      "compute_gradient of micro moment 'E[age_i | mi_j]: +7.830000E-01 (E[{x12 =1}  * {a1=1}] on transactions: 3885 Observations in All Markets; {a1=1}] on transactions: 3885 Observations in All Markets)' returned +INF for part 'E[{x12 =1}  * {a1=1}] on transactions: 3885 Observations in All Markets'.\n",
      "compute_gradient of micro moment 'E[age_i | mi_j]: +7.830000E-01 (E[{x12 =1}  * {a1=1}] on transactions: 3885 Observations in All Markets; {a1=1}] on transactions: 3885 Observations in All Markets)' returned NAN for part '{a1=1}] on transactions: 3885 Observations in All Markets'.\n",
      "compute_value of micro moment 'E[age_i | mi_j]: +7.830000E-01 (E[{x12 =1}  * {a1=1}] on transactions: 3885 Observations in All Markets; {a1=1}] on transactions: 3885 Observations in All Markets)' returned NAN.\n",
      "compute_gradient of micro moment 'E[age_i | mi_j]: +7.830000E-01 (E[{x12 =1}  * {a1=1}] on transactions: 3885 Observations in All Markets; {a1=1}] on transactions: 3885 Observations in All Markets)' returned +INF for part 'E[{x12 =1}  * {a1=1}] on transactions: 3885 Observations in All Markets'.\n",
      "compute_gradient of micro moment 'E[age_i | mi_j]: +7.830000E-01 (E[{x12 =1}  * {a1=1}] on transactions: 3885 Observations in All Markets; {a1=1}] on transactions: 3885 Observations in All Markets)' returned NAN for part '{a1=1}] on transactions: 3885 Observations in All Markets'.\n",
      "compute_value of micro moment 'E[age_i | mi_j]: +7.830000E-01 (E[{x12 =1}  * {a1=1}] on transactions: 3885 Observations in All Markets; {a1=1}] on transactions: 3885 Observations in All Markets)' returned NAN.\n",
      "compute_gradient of micro moment 'E[age_i | mi_j]: +7.830000E-01 (E[{x12 =1}  * {a1=1}] on transactions: 3885 Observations in All Markets; {a1=1}] on transactions: 3885 Observations in All Markets)' returned +INF for part 'E[{x12 =1}  * {a1=1}] on transactions: 3885 Observations in All Markets'.\n",
      "compute_gradient of micro moment 'E[age_i | mi_j]: +7.830000E-01 (E[{x12 =1}  * {a1=1}] on transactions: 3885 Observations in All Markets; {a1=1}] on transactions: 3885 Observations in All Markets)' returned NAN for part '{a1=1}] on transactions: 3885 Observations in All Markets'.\n",
      "compute_value of micro moment 'E[age_i | mi_j]: +7.830000E-01 (E[{x12 =1}  * {a1=1}] on transactions: 3885 Observations in All Markets; {a1=1}] on transactions: 3885 Observations in All Markets)' returned NAN.\n",
      "compute_gradient of micro moment 'E[age_i | mi_j]: +7.830000E-01 (E[{x12 =1}  * {a1=1}] on transactions: 3885 Observations in All Markets; {a1=1}] on transactions: 3885 Observations in All Markets)' returned +INF for part 'E[{x12 =1}  * {a1=1}] on transactions: 3885 Observations in All Markets'.\n",
      "compute_gradient of micro moment 'E[age_i | mi_j]: +7.830000E-01 (E[{x12 =1}  * {a1=1}] on transactions: 3885 Observations in All Markets; {a1=1}] on transactions: 3885 Observations in All Markets)' returned NAN for part '{a1=1}] on transactions: 3885 Observations in All Markets'.\n",
      "compute_value of micro moment 'E[age_i | mi_j]: +7.830000E-01 (E[{x12 =1}  * {a1=1}] on transactions: 3885 Observations in All Markets; {a1=1}] on transactions: 3885 Observations in All Markets)' returned NAN.\n",
      "compute_gradient of micro moment 'E[age_i | mi_j]: +7.830000E-01 (E[{x12 =1}  * {a1=1}] on transactions: 3885 Observations in All Markets; {a1=1}] on transactions: 3885 Observations in All Markets)' returned +INF for part 'E[{x12 =1}  * {a1=1}] on transactions: 3885 Observations in All Markets'.\n",
      "compute_gradient of micro moment 'E[age_i | mi_j]: +7.830000E-01 (E[{x12 =1}  * {a1=1}] on transactions: 3885 Observations in All Markets; {a1=1}] on transactions: 3885 Observations in All Markets)' returned NAN for part '{a1=1}] on transactions: 3885 Observations in All Markets'.\n",
      "compute_value of micro moment 'E[age_i | mi_j]: +7.830000E-01 (E[{x12 =1}  * {a1=1}] on transactions: 3885 Observations in All Markets; {a1=1}] on transactions: 3885 Observations in All Markets)' returned NAN.\n",
      "compute_gradient of micro moment 'E[age_i | mi_j]: +7.830000E-01 (E[{x12 =1}  * {a1=1}] on transactions: 3885 Observations in All Markets; {a1=1}] on transactions: 3885 Observations in All Markets)' returned +INF for part 'E[{x12 =1}  * {a1=1}] on transactions: 3885 Observations in All Markets'.\n",
      "compute_gradient of micro moment 'E[age_i | mi_j]: +7.830000E-01 (E[{x12 =1}  * {a1=1}] on transactions: 3885 Observations in All Markets; {a1=1}] on transactions: 3885 Observations in All Markets)' returned NAN for part '{a1=1}] on transactions: 3885 Observations in All Markets'.\n",
      "compute_value of micro moment 'E[age_i | mi_j]: +7.830000E-01 (E[{x12 =1}  * {a1=1}] on transactions: 3885 Observations in All Markets; {a1=1}] on transactions: 3885 Observations in All Markets)' returned NAN.\n",
      "compute_gradient of micro moment 'E[age_i | mi_j]: +7.830000E-01 (E[{x12 =1}  * {a1=1}] on transactions: 3885 Observations in All Markets; {a1=1}] on transactions: 3885 Observations in All Markets)' returned +INF for part 'E[{x12 =1}  * {a1=1}] on transactions: 3885 Observations in All Markets'.\n",
      "compute_gradient of micro moment 'E[age_i | mi_j]: +7.830000E-01 (E[{x12 =1}  * {a1=1}] on transactions: 3885 Observations in All Markets; {a1=1}] on transactions: 3885 Observations in All Markets)' returned NAN for part '{a1=1}] on transactions: 3885 Observations in All Markets'.\n",
      "compute_value of micro moment 'E[age_i | mi_j]: +7.830000E-01 (E[{x12 =1}  * {a1=1}] on transactions: 3885 Observations in All Markets; {a1=1}] on transactions: 3885 Observations in All Markets)' returned NAN.\n",
      "compute_gradient of micro moment 'E[age_i | mi_j]: +7.830000E-01 (E[{x12 =1}  * {a1=1}] on transactions: 3885 Observations in All Markets; {a1=1}] on transactions: 3885 Observations in All Markets)' returned +INF for part 'E[{x12 =1}  * {a1=1}] on transactions: 3885 Observations in All Markets'.\n",
      "compute_gradient of micro moment 'E[age_i | mi_j]: +7.830000E-01 (E[{x12 =1}  * {a1=1}] on transactions: 3885 Observations in All Markets; {a1=1}] on transactions: 3885 Observations in All Markets)' returned NAN for part '{a1=1}] on transactions: 3885 Observations in All Markets'.\n",
      "compute_value of micro moment 'E[age_i | mi_j]: +7.830000E-01 (E[{x12 =1}  * {a1=1}] on transactions: 3885 Observations in All Markets; {a1=1}] on transactions: 3885 Observations in All Markets)' returned NAN.\n",
      "compute_gradient of micro moment 'E[age_i | mi_j]: +7.830000E-01 (E[{x12 =1}  * {a1=1}] on transactions: 3885 Observations in All Markets; {a1=1}] on transactions: 3885 Observations in All Markets)' returned +INF for part 'E[{x12 =1}  * {a1=1}] on transactions: 3885 Observations in All Markets'.\n",
      "compute_gradient of micro moment 'E[age_i | mi_j]: +7.830000E-01 (E[{x12 =1}  * {a1=1}] on transactions: 3885 Observations in All Markets; {a1=1}] on transactions: 3885 Observations in All Markets)' returned NAN for part '{a1=1}] on transactions: 3885 Observations in All Markets'.\n",
      "compute_value of micro moment 'E[age_i | mi_j]: +7.830000E-01 (E[{x12 =1}  * {a1=1}] on transactions: 3885 Observations in All Markets; {a1=1}] on transactions: 3885 Observations in All Markets)' returned NAN.\n",
      "compute_gradient of micro moment 'E[age_i | mi_j]: +7.830000E-01 (E[{x12 =1}  * {a1=1}] on transactions: 3885 Observations in All Markets; {a1=1}] on transactions: 3885 Observations in All Markets)' returned +INF for part 'E[{x12 =1}  * {a1=1}] on transactions: 3885 Observations in All Markets'.\n",
      "compute_gradient of micro moment 'E[age_i | mi_j]: +7.830000E-01 (E[{x12 =1}  * {a1=1}] on transactions: 3885 Observations in All Markets; {a1=1}] on transactions: 3885 Observations in All Markets)' returned NAN for part '{a1=1}] on transactions: 3885 Observations in All Markets'.\n",
      "compute_value of micro moment 'E[age_i | mi_j]: +7.830000E-01 (E[{x12 =1}  * {a1=1}] on transactions: 3885 Observations in All Markets; {a1=1}] on transactions: 3885 Observations in All Markets)' returned NAN.\n",
      "compute_gradient of micro moment 'E[age_i | mi_j]: +7.830000E-01 (E[{x12 =1}  * {a1=1}] on transactions: 3885 Observations in All Markets; {a1=1}] on transactions: 3885 Observations in All Markets)' returned +INF for part 'E[{x12 =1}  * {a1=1}] on transactions: 3885 Observations in All Markets'.\n",
      "compute_gradient of micro moment 'E[age_i | mi_j]: +7.830000E-01 (E[{x12 =1}  * {a1=1}] on transactions: 3885 Observations in All Markets; {a1=1}] on transactions: 3885 Observations in All Markets)' returned NAN for part '{a1=1}] on transactions: 3885 Observations in All Markets'.\n",
      "compute_value of micro moment 'E[age_i | mi_j]: +7.830000E-01 (E[{x12 =1}  * {a1=1}] on transactions: 3885 Observations in All Markets; {a1=1}] on transactions: 3885 Observations in All Markets)' returned NAN.\n",
      "compute_gradient of micro moment 'E[age_i | mi_j]: +7.830000E-01 (E[{x12 =1}  * {a1=1}] on transactions: 3885 Observations in All Markets; {a1=1}] on transactions: 3885 Observations in All Markets)' returned +INF for part 'E[{x12 =1}  * {a1=1}] on transactions: 3885 Observations in All Markets'.\n",
      "compute_gradient of micro moment 'E[age_i | mi_j]: +7.830000E-01 (E[{x12 =1}  * {a1=1}] on transactions: 3885 Observations in All Markets; {a1=1}] on transactions: 3885 Observations in All Markets)' returned NAN for part '{a1=1}] on transactions: 3885 Observations in All Markets'.\n",
      "compute_value of micro moment 'E[age_i | mi_j]: +7.830000E-01 (E[{x12 =1}  * {a1=1}] on transactions: 3885 Observations in All Markets; {a1=1}] on transactions: 3885 Observations in All Markets)' returned NAN.\n",
      "compute_gradient of micro moment 'E[age_i | mi_j]: +7.830000E-01 (E[{x12 =1}  * {a1=1}] on transactions: 3885 Observations in All Markets; {a1=1}] on transactions: 3885 Observations in All Markets)' returned +INF for part 'E[{x12 =1}  * {a1=1}] on transactions: 3885 Observations in All Markets'.\n",
      "compute_gradient of micro moment 'E[age_i | mi_j]: +7.830000E-01 (E[{x12 =1}  * {a1=1}] on transactions: 3885 Observations in All Markets; {a1=1}] on transactions: 3885 Observations in All Markets)' returned NAN for part '{a1=1}] on transactions: 3885 Observations in All Markets'.\n",
      "compute_value of micro moment 'E[age_i | mi_j]: +7.830000E-01 (E[{x12 =1}  * {a1=1}] on transactions: 3885 Observations in All Markets; {a1=1}] on transactions: 3885 Observations in All Markets)' returned NAN.\n",
      "compute_gradient of micro moment 'E[age_i | mi_j]: +7.830000E-01 (E[{x12 =1}  * {a1=1}] on transactions: 3885 Observations in All Markets; {a1=1}] on transactions: 3885 Observations in All Markets)' returned +INF for part 'E[{x12 =1}  * {a1=1}] on transactions: 3885 Observations in All Markets'.\n",
      "compute_gradient of micro moment 'E[age_i | mi_j]: +7.830000E-01 (E[{x12 =1}  * {a1=1}] on transactions: 3885 Observations in All Markets; {a1=1}] on transactions: 3885 Observations in All Markets)' returned NAN for part '{a1=1}] on transactions: 3885 Observations in All Markets'.\n",
      "compute_value of micro moment 'E[age_i | mi_j]: +7.830000E-01 (E[{x12 =1}  * {a1=1}] on transactions: 3885 Observations in All Markets; {a1=1}] on transactions: 3885 Observations in All Markets)' returned NAN.\n",
      "compute_gradient of micro moment 'E[age_i | mi_j]: +7.830000E-01 (E[{x12 =1}  * {a1=1}] on transactions: 3885 Observations in All Markets; {a1=1}] on transactions: 3885 Observations in All Markets)' returned +INF for part 'E[{x12 =1}  * {a1=1}] on transactions: 3885 Observations in All Markets'.\n",
      "compute_gradient of micro moment 'E[age_i | mi_j]: +7.830000E-01 (E[{x12 =1}  * {a1=1}] on transactions: 3885 Observations in All Markets; {a1=1}] on transactions: 3885 Observations in All Markets)' returned NAN for part '{a1=1}] on transactions: 3885 Observations in All Markets'.\n",
      "compute_value of micro moment 'E[age_i | mi_j]: +7.830000E-01 (E[{x12 =1}  * {a1=1}] on transactions: 3885 Observations in All Markets; {a1=1}] on transactions: 3885 Observations in All Markets)' returned NAN.\n",
      "compute_gradient of micro moment 'E[age_i | mi_j]: +7.830000E-01 (E[{x12 =1}  * {a1=1}] on transactions: 3885 Observations in All Markets; {a1=1}] on transactions: 3885 Observations in All Markets)' returned +INF for part 'E[{x12 =1}  * {a1=1}] on transactions: 3885 Observations in All Markets'.\n",
      "compute_gradient of micro moment 'E[age_i | mi_j]: +7.830000E-01 (E[{x12 =1}  * {a1=1}] on transactions: 3885 Observations in All Markets; {a1=1}] on transactions: 3885 Observations in All Markets)' returned NAN for part '{a1=1}] on transactions: 3885 Observations in All Markets'.\n",
      "compute_value of micro moment 'E[age_i | mi_j]: +7.830000E-01 (E[{x12 =1}  * {a1=1}] on transactions: 3885 Observations in All Markets; {a1=1}] on transactions: 3885 Observations in All Markets)' returned NAN.\n",
      "compute_gradient of micro moment 'E[age_i | mi_j]: +7.830000E-01 (E[{x12 =1}  * {a1=1}] on transactions: 3885 Observations in All Markets; {a1=1}] on transactions: 3885 Observations in All Markets)' returned +INF for part 'E[{x12 =1}  * {a1=1}] on transactions: 3885 Observations in All Markets'.\n",
      "compute_gradient of micro moment 'E[age_i | mi_j]: +7.830000E-01 (E[{x12 =1}  * {a1=1}] on transactions: 3885 Observations in All Markets; {a1=1}] on transactions: 3885 Observations in All Markets)' returned NAN for part '{a1=1}] on transactions: 3885 Observations in All Markets'.\n",
      "compute_value of micro moment 'E[age_i | mi_j]: +7.830000E-01 (E[{x12 =1}  * {a1=1}] on transactions: 3885 Observations in All Markets; {a1=1}] on transactions: 3885 Observations in All Markets)' returned NAN.\n",
      "compute_gradient of micro moment 'E[age_i | mi_j]: +7.830000E-01 (E[{x12 =1}  * {a1=1}] on transactions: 3885 Observations in All Markets; {a1=1}] on transactions: 3885 Observations in All Markets)' returned +INF for part 'E[{x12 =1}  * {a1=1}] on transactions: 3885 Observations in All Markets'.\n",
      "compute_gradient of micro moment 'E[age_i | mi_j]: +7.830000E-01 (E[{x12 =1}  * {a1=1}] on transactions: 3885 Observations in All Markets; {a1=1}] on transactions: 3885 Observations in All Markets)' returned NAN for part '{a1=1}] on transactions: 3885 Observations in All Markets'.\n",
      "compute_value of micro moment 'E[age_i | mi_j]: +7.830000E-01 (E[{x12 =1}  * {a1=1}] on transactions: 3885 Observations in All Markets; {a1=1}] on transactions: 3885 Observations in All Markets)' returned NAN.\n",
      "compute_gradient of micro moment 'E[age_i | mi_j]: +7.830000E-01 (E[{x12 =1}  * {a1=1}] on transactions: 3885 Observations in All Markets; {a1=1}] on transactions: 3885 Observations in All Markets)' returned +INF for part 'E[{x12 =1}  * {a1=1}] on transactions: 3885 Observations in All Markets'.\n",
      "compute_gradient of micro moment 'E[age_i | mi_j]: +7.830000E-01 (E[{x12 =1}  * {a1=1}] on transactions: 3885 Observations in All Markets; {a1=1}] on transactions: 3885 Observations in All Markets)' returned NAN for part '{a1=1}] on transactions: 3885 Observations in All Markets'.\n",
      "compute_value of micro moment 'E[age_i | mi_j]: +7.830000E-01 (E[{x12 =1}  * {a1=1}] on transactions: 3885 Observations in All Markets; {a1=1}] on transactions: 3885 Observations in All Markets)' returned NAN.\n",
      "compute_gradient of micro moment 'E[age_i | mi_j]: +7.830000E-01 (E[{x12 =1}  * {a1=1}] on transactions: 3885 Observations in All Markets; {a1=1}] on transactions: 3885 Observations in All Markets)' returned +INF for part 'E[{x12 =1}  * {a1=1}] on transactions: 3885 Observations in All Markets'.\n",
      "compute_gradient of micro moment 'E[age_i | mi_j]: +7.830000E-01 (E[{x12 =1}  * {a1=1}] on transactions: 3885 Observations in All Markets; {a1=1}] on transactions: 3885 Observations in All Markets)' returned NAN for part '{a1=1}] on transactions: 3885 Observations in All Markets'.\n",
      "compute_value of micro moment 'E[age_i | mi_j]: +7.830000E-01 (E[{x12 =1}  * {a1=1}] on transactions: 3885 Observations in All Markets; {a1=1}] on transactions: 3885 Observations in All Markets)' returned NAN.\n",
      "compute_gradient of micro moment 'E[age_i | mi_j]: +7.830000E-01 (E[{x12 =1}  * {a1=1}] on transactions: 3885 Observations in All Markets; {a1=1}] on transactions: 3885 Observations in All Markets)' returned +INF for part 'E[{x12 =1}  * {a1=1}] on transactions: 3885 Observations in All Markets'.\n",
      "compute_gradient of micro moment 'E[age_i | mi_j]: +7.830000E-01 (E[{x12 =1}  * {a1=1}] on transactions: 3885 Observations in All Markets; {a1=1}] on transactions: 3885 Observations in All Markets)' returned NAN for part '{a1=1}] on transactions: 3885 Observations in All Markets'.\n",
      "compute_value of micro moment 'E[age_i | mi_j]: +7.830000E-01 (E[{x12 =1}  * {a1=1}] on transactions: 3885 Observations in All Markets; {a1=1}] on transactions: 3885 Observations in All Markets)' returned NAN.\n",
      "compute_gradient of micro moment 'E[age_i | mi_j]: +7.830000E-01 (E[{x12 =1}  * {a1=1}] on transactions: 3885 Observations in All Markets; {a1=1}] on transactions: 3885 Observations in All Markets)' returned +INF for part 'E[{x12 =1}  * {a1=1}] on transactions: 3885 Observations in All Markets'.\n",
      "compute_gradient of micro moment 'E[age_i | mi_j]: +7.830000E-01 (E[{x12 =1}  * {a1=1}] on transactions: 3885 Observations in All Markets; {a1=1}] on transactions: 3885 Observations in All Markets)' returned NAN for part '{a1=1}] on transactions: 3885 Observations in All Markets'.\n",
      "compute_value of micro moment 'E[age_i | mi_j]: +7.830000E-01 (E[{x12 =1}  * {a1=1}] on transactions: 3885 Observations in All Markets; {a1=1}] on transactions: 3885 Observations in All Markets)' returned NAN.\n",
      "compute_gradient of micro moment 'E[age_i | mi_j]: +7.830000E-01 (E[{x12 =1}  * {a1=1}] on transactions: 3885 Observations in All Markets; {a1=1}] on transactions: 3885 Observations in All Markets)' returned +INF for part 'E[{x12 =1}  * {a1=1}] on transactions: 3885 Observations in All Markets'.\n",
      "compute_gradient of micro moment 'E[age_i | mi_j]: +7.830000E-01 (E[{x12 =1}  * {a1=1}] on transactions: 3885 Observations in All Markets; {a1=1}] on transactions: 3885 Observations in All Markets)' returned NAN for part '{a1=1}] on transactions: 3885 Observations in All Markets'.\n",
      "compute_value of micro moment 'E[age_i | mi_j]: +7.830000E-01 (E[{x12 =1}  * {a1=1}] on transactions: 3885 Observations in All Markets; {a1=1}] on transactions: 3885 Observations in All Markets)' returned NAN.\n",
      "compute_gradient of micro moment 'E[age_i | mi_j]: +7.830000E-01 (E[{x12 =1}  * {a1=1}] on transactions: 3885 Observations in All Markets; {a1=1}] on transactions: 3885 Observations in All Markets)' returned +INF for part 'E[{x12 =1}  * {a1=1}] on transactions: 3885 Observations in All Markets'.\n",
      "compute_gradient of micro moment 'E[age_i | mi_j]: +7.830000E-01 (E[{x12 =1}  * {a1=1}] on transactions: 3885 Observations in All Markets; {a1=1}] on transactions: 3885 Observations in All Markets)' returned NAN for part '{a1=1}] on transactions: 3885 Observations in All Markets'.\n",
      "compute_value of micro moment 'E[age_i | mi_j]: +7.830000E-01 (E[{x12 =1}  * {a1=1}] on transactions: 3885 Observations in All Markets; {a1=1}] on transactions: 3885 Observations in All Markets)' returned NAN.\n",
      "compute_gradient of micro moment 'E[age_i | mi_j]: +7.830000E-01 (E[{x12 =1}  * {a1=1}] on transactions: 3885 Observations in All Markets; {a1=1}] on transactions: 3885 Observations in All Markets)' returned +INF for part 'E[{x12 =1}  * {a1=1}] on transactions: 3885 Observations in All Markets'.\n",
      "compute_gradient of micro moment 'E[age_i | mi_j]: +7.830000E-01 (E[{x12 =1}  * {a1=1}] on transactions: 3885 Observations in All Markets; {a1=1}] on transactions: 3885 Observations in All Markets)' returned NAN for part '{a1=1}] on transactions: 3885 Observations in All Markets'.\n",
      "compute_value of micro moment 'E[age_i | mi_j]: +7.830000E-01 (E[{x12 =1}  * {a1=1}] on transactions: 3885 Observations in All Markets; {a1=1}] on transactions: 3885 Observations in All Markets)' returned NAN.\n",
      "compute_gradient of micro moment 'E[age_i | mi_j]: +7.830000E-01 (E[{x12 =1}  * {a1=1}] on transactions: 3885 Observations in All Markets; {a1=1}] on transactions: 3885 Observations in All Markets)' returned +INF for part 'E[{x12 =1}  * {a1=1}] on transactions: 3885 Observations in All Markets'.\n",
      "compute_gradient of micro moment 'E[age_i | mi_j]: +7.830000E-01 (E[{x12 =1}  * {a1=1}] on transactions: 3885 Observations in All Markets; {a1=1}] on transactions: 3885 Observations in All Markets)' returned NAN for part '{a1=1}] on transactions: 3885 Observations in All Markets'.\n",
      "compute_value of micro moment 'E[age_i | mi_j]: +7.830000E-01 (E[{x12 =1}  * {a1=1}] on transactions: 3885 Observations in All Markets; {a1=1}] on transactions: 3885 Observations in All Markets)' returned NAN.\n",
      "compute_gradient of micro moment 'E[age_i | mi_j]: +7.830000E-01 (E[{x12 =1}  * {a1=1}] on transactions: 3885 Observations in All Markets; {a1=1}] on transactions: 3885 Observations in All Markets)' returned +INF for part 'E[{x12 =1}  * {a1=1}] on transactions: 3885 Observations in All Markets'.\n",
      "compute_gradient of micro moment 'E[age_i | mi_j]: +7.830000E-01 (E[{x12 =1}  * {a1=1}] on transactions: 3885 Observations in All Markets; {a1=1}] on transactions: 3885 Observations in All Markets)' returned NAN for part '{a1=1}] on transactions: 3885 Observations in All Markets'.\n",
      "compute_value of micro moment 'E[age_i | mi_j]: +7.830000E-01 (E[{x12 =1}  * {a1=1}] on transactions: 3885 Observations in All Markets; {a1=1}] on transactions: 3885 Observations in All Markets)' returned NAN.\n",
      "compute_gradient of micro moment 'E[age_i | mi_j]: +7.830000E-01 (E[{x12 =1}  * {a1=1}] on transactions: 3885 Observations in All Markets; {a1=1}] on transactions: 3885 Observations in All Markets)' returned +INF for part 'E[{x12 =1}  * {a1=1}] on transactions: 3885 Observations in All Markets'.\n",
      "compute_gradient of micro moment 'E[age_i | mi_j]: +7.830000E-01 (E[{x12 =1}  * {a1=1}] on transactions: 3885 Observations in All Markets; {a1=1}] on transactions: 3885 Observations in All Markets)' returned NAN for part '{a1=1}] on transactions: 3885 Observations in All Markets'.\n",
      "compute_value of micro moment 'E[age_i | mi_j]: +7.830000E-01 (E[{x12 =1}  * {a1=1}] on transactions: 3885 Observations in All Markets; {a1=1}] on transactions: 3885 Observations in All Markets)' returned NAN.\n",
      "compute_gradient of micro moment 'E[age_i | mi_j]: +7.830000E-01 (E[{x12 =1}  * {a1=1}] on transactions: 3885 Observations in All Markets; {a1=1}] on transactions: 3885 Observations in All Markets)' returned +INF for part 'E[{x12 =1}  * {a1=1}] on transactions: 3885 Observations in All Markets'.\n",
      "compute_gradient of micro moment 'E[age_i | mi_j]: +7.830000E-01 (E[{x12 =1}  * {a1=1}] on transactions: 3885 Observations in All Markets; {a1=1}] on transactions: 3885 Observations in All Markets)' returned NAN for part '{a1=1}] on transactions: 3885 Observations in All Markets'.\n",
      "compute_value of micro moment 'E[age_i | mi_j]: +7.830000E-01 (E[{x12 =1}  * {a1=1}] on transactions: 3885 Observations in All Markets; {a1=1}] on transactions: 3885 Observations in All Markets)' returned NAN.\n",
      "compute_gradient of micro moment 'E[age_i | mi_j]: +7.830000E-01 (E[{x12 =1}  * {a1=1}] on transactions: 3885 Observations in All Markets; {a1=1}] on transactions: 3885 Observations in All Markets)' returned +INF for part 'E[{x12 =1}  * {a1=1}] on transactions: 3885 Observations in All Markets'.\n",
      "compute_gradient of micro moment 'E[age_i | mi_j]: +7.830000E-01 (E[{x12 =1}  * {a1=1}] on transactions: 3885 Observations in All Markets; {a1=1}] on transactions: 3885 Observations in All Markets)' returned NAN for part '{a1=1}] on transactions: 3885 Observations in All Markets'.\n",
      "compute_value of micro moment 'E[age_i | mi_j]: +7.830000E-01 (E[{x12 =1}  * {a1=1}] on transactions: 3885 Observations in All Markets; {a1=1}] on transactions: 3885 Observations in All Markets)' returned NAN.\n",
      "compute_gradient of micro moment 'E[age_i | mi_j]: +7.830000E-01 (E[{x12 =1}  * {a1=1}] on transactions: 3885 Observations in All Markets; {a1=1}] on transactions: 3885 Observations in All Markets)' returned +INF for part 'E[{x12 =1}  * {a1=1}] on transactions: 3885 Observations in All Markets'.\n",
      "compute_gradient of micro moment 'E[age_i | mi_j]: +7.830000E-01 (E[{x12 =1}  * {a1=1}] on transactions: 3885 Observations in All Markets; {a1=1}] on transactions: 3885 Observations in All Markets)' returned NAN for part '{a1=1}] on transactions: 3885 Observations in All Markets'.\n",
      "compute_value of micro moment 'E[age_i | mi_j]: +7.830000E-01 (E[{x12 =1}  * {a1=1}] on transactions: 3885 Observations in All Markets; {a1=1}] on transactions: 3885 Observations in All Markets)' returned NAN.\n",
      "compute_gradient of micro moment 'E[age_i | mi_j]: +7.830000E-01 (E[{x12 =1}  * {a1=1}] on transactions: 3885 Observations in All Markets; {a1=1}] on transactions: 3885 Observations in All Markets)' returned +INF for part 'E[{x12 =1}  * {a1=1}] on transactions: 3885 Observations in All Markets'.\n",
      "compute_gradient of micro moment 'E[age_i | mi_j]: +7.830000E-01 (E[{x12 =1}  * {a1=1}] on transactions: 3885 Observations in All Markets; {a1=1}] on transactions: 3885 Observations in All Markets)' returned NAN for part '{a1=1}] on transactions: 3885 Observations in All Markets'.\n",
      "compute_value of micro moment 'E[age_i | mi_j]: +7.830000E-01 (E[{x12 =1}  * {a1=1}] on transactions: 3885 Observations in All Markets; {a1=1}] on transactions: 3885 Observations in All Markets)' returned NAN.\n",
      "compute_gradient of micro moment 'E[age_i | mi_j]: +7.830000E-01 (E[{x12 =1}  * {a1=1}] on transactions: 3885 Observations in All Markets; {a1=1}] on transactions: 3885 Observations in All Markets)' returned +INF for part 'E[{x12 =1}  * {a1=1}] on transactions: 3885 Observations in All Markets'.\n",
      "compute_gradient of micro moment 'E[age_i | mi_j]: +7.830000E-01 (E[{x12 =1}  * {a1=1}] on transactions: 3885 Observations in All Markets; {a1=1}] on transactions: 3885 Observations in All Markets)' returned NAN for part '{a1=1}] on transactions: 3885 Observations in All Markets'.\n",
      "compute_value of micro moment 'E[age_i | mi_j]: +7.830000E-01 (E[{x12 =1}  * {a1=1}] on transactions: 3885 Observations in All Markets; {a1=1}] on transactions: 3885 Observations in All Markets)' returned NAN.\n",
      "compute_gradient of micro moment 'E[age_i | mi_j]: +7.830000E-01 (E[{x12 =1}  * {a1=1}] on transactions: 3885 Observations in All Markets; {a1=1}] on transactions: 3885 Observations in All Markets)' returned +INF for part 'E[{x12 =1}  * {a1=1}] on transactions: 3885 Observations in All Markets'.\n",
      "compute_gradient of micro moment 'E[age_i | mi_j]: +7.830000E-01 (E[{x12 =1}  * {a1=1}] on transactions: 3885 Observations in All Markets; {a1=1}] on transactions: 3885 Observations in All Markets)' returned NAN for part '{a1=1}] on transactions: 3885 Observations in All Markets'.\n",
      "compute_value of micro moment 'E[age_i | mi_j]: +7.830000E-01 (E[{x12 =1}  * {a1=1}] on transactions: 3885 Observations in All Markets; {a1=1}] on transactions: 3885 Observations in All Markets)' returned NAN.\n",
      "compute_gradient of micro moment 'E[age_i | mi_j]: +7.830000E-01 (E[{x12 =1}  * {a1=1}] on transactions: 3885 Observations in All Markets; {a1=1}] on transactions: 3885 Observations in All Markets)' returned +INF for part 'E[{x12 =1}  * {a1=1}] on transactions: 3885 Observations in All Markets'.\n",
      "compute_gradient of micro moment 'E[age_i | mi_j]: +7.830000E-01 (E[{x12 =1}  * {a1=1}] on transactions: 3885 Observations in All Markets; {a1=1}] on transactions: 3885 Observations in All Markets)' returned NAN for part '{a1=1}] on transactions: 3885 Observations in All Markets'.\n",
      "Failed to compute the condition number of the estimated covariance matrix of aggregate GMM moments while checking for singularity. To disable singularity checks, set options.singular_tol = numpy.inf.\n"
     ]
    },
    {
     "name": "stdout",
     "output_type": "stream",
     "text": [
      "\n",
      "Reverted problematic micro moments. Number of reverted elements: 1 out of 1.\n",
      "Reverted problematic elements in the Jacobian of micro moments with respect to theta. Number of reverted elements: 42 out of 42.\n",
      "Reverted a problematic GMM objective value.\n",
      "Reverted problematic elements in the GMM objective gradient. Number of reverted elements: 42 out of 42.\n",
      "Failed to invert an estimated covariance matrix of GMM moments. One or more data matrices may be highly collinear. Condition number: NAN. The inverse was replaced with null values.\n",
      "Failed to compute a weighting matrix because of invalid estimated covariances of GMM moments.\n",
      "\n",
      "Computed results after 00:01:30.\n",
      "\n",
      "Problem Results Summary:\n",
      "=============================================================================================\n",
      "GMM     Objective      Gradient         Hessian         Hessian     Clipped  Weighting Matrix\n",
      "Step      Value          Norm       Min Eigenvalue  Max Eigenvalue  Shares   Condition Number\n",
      "----  -------------  -------------  --------------  --------------  -------  ----------------\n",
      " 1    +1.000000E+10  +0.000000E+00  +0.000000E+00   +0.000000E+00     442          NAN       \n",
      "=============================================================================================\n",
      "\n",
      "\n",
      "Failed to invert an estimated covariance matrix of linear parameters. One or more data matrices may be highly collinear. Condition number: NAN. The inverse was replaced with null values.\n",
      "\n",
      "Starting optimization ...\n",
      "\n"
     ]
    },
    {
     "name": "stderr",
     "output_type": "stream",
     "text": [
      "compute_value of micro moment 'E[age_i | mi_j]: +7.830000E-01 (E[{x12 =1}  * {a1=1}] on transactions: 3885 Observations in All Markets; {a1=1}] on transactions: 3885 Observations in All Markets)' returned NAN.\n",
      "compute_gradient of micro moment 'E[age_i | mi_j]: +7.830000E-01 (E[{x12 =1}  * {a1=1}] on transactions: 3885 Observations in All Markets; {a1=1}] on transactions: 3885 Observations in All Markets)' returned +INF for part 'E[{x12 =1}  * {a1=1}] on transactions: 3885 Observations in All Markets'.\n",
      "compute_gradient of micro moment 'E[age_i | mi_j]: +7.830000E-01 (E[{x12 =1}  * {a1=1}] on transactions: 3885 Observations in All Markets; {a1=1}] on transactions: 3885 Observations in All Markets)' returned NAN for part '{a1=1}] on transactions: 3885 Observations in All Markets'.\n"
     ]
    },
    {
     "name": "stdout",
     "output_type": "stream",
     "text": [
      "\n",
      "At least one error was encountered. As long as the optimization routine does not get stuck at values of theta that give rise to errors, this is not necessarily a problem. If the errors persist or seem to be impacting the optimization results, consider setting an error punishment or following any of the other suggestions below:\n",
      "Reverted problematic micro moments. Number of reverted elements: 1 out of 1.\n",
      "Reverted problematic elements in the Jacobian of micro moments with respect to theta. Number of reverted elements: 42 out of 42.\n",
      "Reverted a problematic GMM objective value.\n",
      "Reverted problematic elements in the GMM objective gradient. Number of reverted elements: 42 out of 42.\n",
      "\n",
      "GMM   Computation  Optimization   Objective   Fixed Point  Contraction  Clipped    Objective      Objective      Gradient                                                                                                                                                                                                                                                                                                                                                                                                                                                                                                                                                                                                                                                         \n",
      "Step     Time       Iterations   Evaluations  Iterations   Evaluations  Shares       Value       Improvement       Norm                                                                                                                                                                                                                                                                                                                              Theta                                                                                                                                                                                                                                                                                                                        \n",
      "----  -----------  ------------  -----------  -----------  -----------  -------  -------------  -------------  -------------  ----------------------------------------------------------------------------------------------------------------------------------------------------------------------------------------------------------------------------------------------------------------------------------------------------------------------------------------------------------------------------------------------------------------------------------------------------------------------------------------------------------------------------------------------------------------------------------------------------------------------------------------------------\n",
      " 2     00:00:01         0             1            0           74         442    +1.000000E+10                 +0.000000E+00  +1.000000E+00, +1.000000E+00, +1.000000E+00, +1.000000E+00, +1.000000E+00, +1.000000E+00, +1.000000E+00, +1.000000E+00, +1.000000E+00, +1.000000E+00, +1.000000E+00, +1.000000E+00, +1.000000E+00, +1.000000E+00, +1.000000E+00, +1.000000E+00, +1.000000E+00, +1.000000E+00, +1.000000E+00, +1.000000E+00, +1.000000E+00, +1.000000E+00, +1.000000E+00, +1.000000E+00, +1.000000E+00, +1.000000E+00, +1.000000E+00, +1.000000E+00, +1.000000E+00, +1.000000E+00, +1.000000E+00, +1.000000E+00, +1.000000E+00, +1.000000E+00, +1.000000E+00, +1.000000E+00, +1.000000E+00, +1.000000E+00, +1.000000E+00, +1.000000E+00, +1.000000E+00, +1.000000E+00\n",
      "\n",
      "Optimization completed after 00:00:01.\n",
      "Computing the Hessian and estimating standard errors ...\n"
     ]
    },
    {
     "name": "stderr",
     "output_type": "stream",
     "text": [
      "compute_value of micro moment 'E[age_i | mi_j]: +7.830000E-01 (E[{x12 =1}  * {a1=1}] on transactions: 3885 Observations in All Markets; {a1=1}] on transactions: 3885 Observations in All Markets)' returned NAN.\n",
      "compute_gradient of micro moment 'E[age_i | mi_j]: +7.830000E-01 (E[{x12 =1}  * {a1=1}] on transactions: 3885 Observations in All Markets; {a1=1}] on transactions: 3885 Observations in All Markets)' returned +INF for part 'E[{x12 =1}  * {a1=1}] on transactions: 3885 Observations in All Markets'.\n",
      "compute_gradient of micro moment 'E[age_i | mi_j]: +7.830000E-01 (E[{x12 =1}  * {a1=1}] on transactions: 3885 Observations in All Markets; {a1=1}] on transactions: 3885 Observations in All Markets)' returned NAN for part '{a1=1}] on transactions: 3885 Observations in All Markets'.\n",
      "Failed to compute the condition number of the estimated covariance matrix of micro moments while checking for singularity. To disable singularity checks, set options.singular_tol = numpy.inf.\n",
      "compute_value of micro moment 'E[age_i | mi_j]: +7.830000E-01 (E[{x12 =1}  * {a1=1}] on transactions: 3885 Observations in All Markets; {a1=1}] on transactions: 3885 Observations in All Markets)' returned NAN.\n",
      "compute_gradient of micro moment 'E[age_i | mi_j]: +7.830000E-01 (E[{x12 =1}  * {a1=1}] on transactions: 3885 Observations in All Markets; {a1=1}] on transactions: 3885 Observations in All Markets)' returned +INF for part 'E[{x12 =1}  * {a1=1}] on transactions: 3885 Observations in All Markets'.\n",
      "compute_gradient of micro moment 'E[age_i | mi_j]: +7.830000E-01 (E[{x12 =1}  * {a1=1}] on transactions: 3885 Observations in All Markets; {a1=1}] on transactions: 3885 Observations in All Markets)' returned NAN for part '{a1=1}] on transactions: 3885 Observations in All Markets'.\n",
      "compute_value of micro moment 'E[age_i | mi_j]: +7.830000E-01 (E[{x12 =1}  * {a1=1}] on transactions: 3885 Observations in All Markets; {a1=1}] on transactions: 3885 Observations in All Markets)' returned NAN.\n",
      "compute_gradient of micro moment 'E[age_i | mi_j]: +7.830000E-01 (E[{x12 =1}  * {a1=1}] on transactions: 3885 Observations in All Markets; {a1=1}] on transactions: 3885 Observations in All Markets)' returned +INF for part 'E[{x12 =1}  * {a1=1}] on transactions: 3885 Observations in All Markets'.\n",
      "compute_gradient of micro moment 'E[age_i | mi_j]: +7.830000E-01 (E[{x12 =1}  * {a1=1}] on transactions: 3885 Observations in All Markets; {a1=1}] on transactions: 3885 Observations in All Markets)' returned NAN for part '{a1=1}] on transactions: 3885 Observations in All Markets'.\n",
      "compute_value of micro moment 'E[age_i | mi_j]: +7.830000E-01 (E[{x12 =1}  * {a1=1}] on transactions: 3885 Observations in All Markets; {a1=1}] on transactions: 3885 Observations in All Markets)' returned NAN.\n",
      "compute_gradient of micro moment 'E[age_i | mi_j]: +7.830000E-01 (E[{x12 =1}  * {a1=1}] on transactions: 3885 Observations in All Markets; {a1=1}] on transactions: 3885 Observations in All Markets)' returned +INF for part 'E[{x12 =1}  * {a1=1}] on transactions: 3885 Observations in All Markets'.\n",
      "compute_gradient of micro moment 'E[age_i | mi_j]: +7.830000E-01 (E[{x12 =1}  * {a1=1}] on transactions: 3885 Observations in All Markets; {a1=1}] on transactions: 3885 Observations in All Markets)' returned NAN for part '{a1=1}] on transactions: 3885 Observations in All Markets'.\n",
      "compute_value of micro moment 'E[age_i | mi_j]: +7.830000E-01 (E[{x12 =1}  * {a1=1}] on transactions: 3885 Observations in All Markets; {a1=1}] on transactions: 3885 Observations in All Markets)' returned NAN.\n",
      "compute_gradient of micro moment 'E[age_i | mi_j]: +7.830000E-01 (E[{x12 =1}  * {a1=1}] on transactions: 3885 Observations in All Markets; {a1=1}] on transactions: 3885 Observations in All Markets)' returned +INF for part 'E[{x12 =1}  * {a1=1}] on transactions: 3885 Observations in All Markets'.\n",
      "compute_gradient of micro moment 'E[age_i | mi_j]: +7.830000E-01 (E[{x12 =1}  * {a1=1}] on transactions: 3885 Observations in All Markets; {a1=1}] on transactions: 3885 Observations in All Markets)' returned NAN for part '{a1=1}] on transactions: 3885 Observations in All Markets'.\n",
      "compute_value of micro moment 'E[age_i | mi_j]: +7.830000E-01 (E[{x12 =1}  * {a1=1}] on transactions: 3885 Observations in All Markets; {a1=1}] on transactions: 3885 Observations in All Markets)' returned NAN.\n",
      "compute_gradient of micro moment 'E[age_i | mi_j]: +7.830000E-01 (E[{x12 =1}  * {a1=1}] on transactions: 3885 Observations in All Markets; {a1=1}] on transactions: 3885 Observations in All Markets)' returned +INF for part 'E[{x12 =1}  * {a1=1}] on transactions: 3885 Observations in All Markets'.\n",
      "compute_gradient of micro moment 'E[age_i | mi_j]: +7.830000E-01 (E[{x12 =1}  * {a1=1}] on transactions: 3885 Observations in All Markets; {a1=1}] on transactions: 3885 Observations in All Markets)' returned NAN for part '{a1=1}] on transactions: 3885 Observations in All Markets'.\n",
      "compute_value of micro moment 'E[age_i | mi_j]: +7.830000E-01 (E[{x12 =1}  * {a1=1}] on transactions: 3885 Observations in All Markets; {a1=1}] on transactions: 3885 Observations in All Markets)' returned NAN.\n",
      "compute_gradient of micro moment 'E[age_i | mi_j]: +7.830000E-01 (E[{x12 =1}  * {a1=1}] on transactions: 3885 Observations in All Markets; {a1=1}] on transactions: 3885 Observations in All Markets)' returned +INF for part 'E[{x12 =1}  * {a1=1}] on transactions: 3885 Observations in All Markets'.\n",
      "compute_gradient of micro moment 'E[age_i | mi_j]: +7.830000E-01 (E[{x12 =1}  * {a1=1}] on transactions: 3885 Observations in All Markets; {a1=1}] on transactions: 3885 Observations in All Markets)' returned NAN for part '{a1=1}] on transactions: 3885 Observations in All Markets'.\n",
      "compute_value of micro moment 'E[age_i | mi_j]: +7.830000E-01 (E[{x12 =1}  * {a1=1}] on transactions: 3885 Observations in All Markets; {a1=1}] on transactions: 3885 Observations in All Markets)' returned NAN.\n",
      "compute_gradient of micro moment 'E[age_i | mi_j]: +7.830000E-01 (E[{x12 =1}  * {a1=1}] on transactions: 3885 Observations in All Markets; {a1=1}] on transactions: 3885 Observations in All Markets)' returned +INF for part 'E[{x12 =1}  * {a1=1}] on transactions: 3885 Observations in All Markets'.\n",
      "compute_gradient of micro moment 'E[age_i | mi_j]: +7.830000E-01 (E[{x12 =1}  * {a1=1}] on transactions: 3885 Observations in All Markets; {a1=1}] on transactions: 3885 Observations in All Markets)' returned NAN for part '{a1=1}] on transactions: 3885 Observations in All Markets'.\n",
      "compute_value of micro moment 'E[age_i | mi_j]: +7.830000E-01 (E[{x12 =1}  * {a1=1}] on transactions: 3885 Observations in All Markets; {a1=1}] on transactions: 3885 Observations in All Markets)' returned NAN.\n",
      "compute_gradient of micro moment 'E[age_i | mi_j]: +7.830000E-01 (E[{x12 =1}  * {a1=1}] on transactions: 3885 Observations in All Markets; {a1=1}] on transactions: 3885 Observations in All Markets)' returned +INF for part 'E[{x12 =1}  * {a1=1}] on transactions: 3885 Observations in All Markets'.\n",
      "compute_gradient of micro moment 'E[age_i | mi_j]: +7.830000E-01 (E[{x12 =1}  * {a1=1}] on transactions: 3885 Observations in All Markets; {a1=1}] on transactions: 3885 Observations in All Markets)' returned NAN for part '{a1=1}] on transactions: 3885 Observations in All Markets'.\n",
      "compute_value of micro moment 'E[age_i | mi_j]: +7.830000E-01 (E[{x12 =1}  * {a1=1}] on transactions: 3885 Observations in All Markets; {a1=1}] on transactions: 3885 Observations in All Markets)' returned NAN.\n",
      "compute_gradient of micro moment 'E[age_i | mi_j]: +7.830000E-01 (E[{x12 =1}  * {a1=1}] on transactions: 3885 Observations in All Markets; {a1=1}] on transactions: 3885 Observations in All Markets)' returned +INF for part 'E[{x12 =1}  * {a1=1}] on transactions: 3885 Observations in All Markets'.\n",
      "compute_gradient of micro moment 'E[age_i | mi_j]: +7.830000E-01 (E[{x12 =1}  * {a1=1}] on transactions: 3885 Observations in All Markets; {a1=1}] on transactions: 3885 Observations in All Markets)' returned NAN for part '{a1=1}] on transactions: 3885 Observations in All Markets'.\n",
      "compute_value of micro moment 'E[age_i | mi_j]: +7.830000E-01 (E[{x12 =1}  * {a1=1}] on transactions: 3885 Observations in All Markets; {a1=1}] on transactions: 3885 Observations in All Markets)' returned NAN.\n",
      "compute_gradient of micro moment 'E[age_i | mi_j]: +7.830000E-01 (E[{x12 =1}  * {a1=1}] on transactions: 3885 Observations in All Markets; {a1=1}] on transactions: 3885 Observations in All Markets)' returned +INF for part 'E[{x12 =1}  * {a1=1}] on transactions: 3885 Observations in All Markets'.\n",
      "compute_gradient of micro moment 'E[age_i | mi_j]: +7.830000E-01 (E[{x12 =1}  * {a1=1}] on transactions: 3885 Observations in All Markets; {a1=1}] on transactions: 3885 Observations in All Markets)' returned NAN for part '{a1=1}] on transactions: 3885 Observations in All Markets'.\n",
      "compute_value of micro moment 'E[age_i | mi_j]: +7.830000E-01 (E[{x12 =1}  * {a1=1}] on transactions: 3885 Observations in All Markets; {a1=1}] on transactions: 3885 Observations in All Markets)' returned NAN.\n",
      "compute_gradient of micro moment 'E[age_i | mi_j]: +7.830000E-01 (E[{x12 =1}  * {a1=1}] on transactions: 3885 Observations in All Markets; {a1=1}] on transactions: 3885 Observations in All Markets)' returned +INF for part 'E[{x12 =1}  * {a1=1}] on transactions: 3885 Observations in All Markets'.\n",
      "compute_gradient of micro moment 'E[age_i | mi_j]: +7.830000E-01 (E[{x12 =1}  * {a1=1}] on transactions: 3885 Observations in All Markets; {a1=1}] on transactions: 3885 Observations in All Markets)' returned NAN for part '{a1=1}] on transactions: 3885 Observations in All Markets'.\n",
      "compute_value of micro moment 'E[age_i | mi_j]: +7.830000E-01 (E[{x12 =1}  * {a1=1}] on transactions: 3885 Observations in All Markets; {a1=1}] on transactions: 3885 Observations in All Markets)' returned NAN.\n",
      "compute_gradient of micro moment 'E[age_i | mi_j]: +7.830000E-01 (E[{x12 =1}  * {a1=1}] on transactions: 3885 Observations in All Markets; {a1=1}] on transactions: 3885 Observations in All Markets)' returned +INF for part 'E[{x12 =1}  * {a1=1}] on transactions: 3885 Observations in All Markets'.\n",
      "compute_gradient of micro moment 'E[age_i | mi_j]: +7.830000E-01 (E[{x12 =1}  * {a1=1}] on transactions: 3885 Observations in All Markets; {a1=1}] on transactions: 3885 Observations in All Markets)' returned NAN for part '{a1=1}] on transactions: 3885 Observations in All Markets'.\n",
      "compute_value of micro moment 'E[age_i | mi_j]: +7.830000E-01 (E[{x12 =1}  * {a1=1}] on transactions: 3885 Observations in All Markets; {a1=1}] on transactions: 3885 Observations in All Markets)' returned NAN.\n",
      "compute_gradient of micro moment 'E[age_i | mi_j]: +7.830000E-01 (E[{x12 =1}  * {a1=1}] on transactions: 3885 Observations in All Markets; {a1=1}] on transactions: 3885 Observations in All Markets)' returned +INF for part 'E[{x12 =1}  * {a1=1}] on transactions: 3885 Observations in All Markets'.\n",
      "compute_gradient of micro moment 'E[age_i | mi_j]: +7.830000E-01 (E[{x12 =1}  * {a1=1}] on transactions: 3885 Observations in All Markets; {a1=1}] on transactions: 3885 Observations in All Markets)' returned NAN for part '{a1=1}] on transactions: 3885 Observations in All Markets'.\n",
      "compute_value of micro moment 'E[age_i | mi_j]: +7.830000E-01 (E[{x12 =1}  * {a1=1}] on transactions: 3885 Observations in All Markets; {a1=1}] on transactions: 3885 Observations in All Markets)' returned NAN.\n",
      "compute_gradient of micro moment 'E[age_i | mi_j]: +7.830000E-01 (E[{x12 =1}  * {a1=1}] on transactions: 3885 Observations in All Markets; {a1=1}] on transactions: 3885 Observations in All Markets)' returned +INF for part 'E[{x12 =1}  * {a1=1}] on transactions: 3885 Observations in All Markets'.\n",
      "compute_gradient of micro moment 'E[age_i | mi_j]: +7.830000E-01 (E[{x12 =1}  * {a1=1}] on transactions: 3885 Observations in All Markets; {a1=1}] on transactions: 3885 Observations in All Markets)' returned NAN for part '{a1=1}] on transactions: 3885 Observations in All Markets'.\n",
      "compute_value of micro moment 'E[age_i | mi_j]: +7.830000E-01 (E[{x12 =1}  * {a1=1}] on transactions: 3885 Observations in All Markets; {a1=1}] on transactions: 3885 Observations in All Markets)' returned NAN.\n",
      "compute_gradient of micro moment 'E[age_i | mi_j]: +7.830000E-01 (E[{x12 =1}  * {a1=1}] on transactions: 3885 Observations in All Markets; {a1=1}] on transactions: 3885 Observations in All Markets)' returned +INF for part 'E[{x12 =1}  * {a1=1}] on transactions: 3885 Observations in All Markets'.\n",
      "compute_gradient of micro moment 'E[age_i | mi_j]: +7.830000E-01 (E[{x12 =1}  * {a1=1}] on transactions: 3885 Observations in All Markets; {a1=1}] on transactions: 3885 Observations in All Markets)' returned NAN for part '{a1=1}] on transactions: 3885 Observations in All Markets'.\n",
      "compute_value of micro moment 'E[age_i | mi_j]: +7.830000E-01 (E[{x12 =1}  * {a1=1}] on transactions: 3885 Observations in All Markets; {a1=1}] on transactions: 3885 Observations in All Markets)' returned NAN.\n",
      "compute_gradient of micro moment 'E[age_i | mi_j]: +7.830000E-01 (E[{x12 =1}  * {a1=1}] on transactions: 3885 Observations in All Markets; {a1=1}] on transactions: 3885 Observations in All Markets)' returned +INF for part 'E[{x12 =1}  * {a1=1}] on transactions: 3885 Observations in All Markets'.\n",
      "compute_gradient of micro moment 'E[age_i | mi_j]: +7.830000E-01 (E[{x12 =1}  * {a1=1}] on transactions: 3885 Observations in All Markets; {a1=1}] on transactions: 3885 Observations in All Markets)' returned NAN for part '{a1=1}] on transactions: 3885 Observations in All Markets'.\n",
      "compute_value of micro moment 'E[age_i | mi_j]: +7.830000E-01 (E[{x12 =1}  * {a1=1}] on transactions: 3885 Observations in All Markets; {a1=1}] on transactions: 3885 Observations in All Markets)' returned NAN.\n",
      "compute_gradient of micro moment 'E[age_i | mi_j]: +7.830000E-01 (E[{x12 =1}  * {a1=1}] on transactions: 3885 Observations in All Markets; {a1=1}] on transactions: 3885 Observations in All Markets)' returned +INF for part 'E[{x12 =1}  * {a1=1}] on transactions: 3885 Observations in All Markets'.\n",
      "compute_gradient of micro moment 'E[age_i | mi_j]: +7.830000E-01 (E[{x12 =1}  * {a1=1}] on transactions: 3885 Observations in All Markets; {a1=1}] on transactions: 3885 Observations in All Markets)' returned NAN for part '{a1=1}] on transactions: 3885 Observations in All Markets'.\n",
      "compute_value of micro moment 'E[age_i | mi_j]: +7.830000E-01 (E[{x12 =1}  * {a1=1}] on transactions: 3885 Observations in All Markets; {a1=1}] on transactions: 3885 Observations in All Markets)' returned NAN.\n",
      "compute_gradient of micro moment 'E[age_i | mi_j]: +7.830000E-01 (E[{x12 =1}  * {a1=1}] on transactions: 3885 Observations in All Markets; {a1=1}] on transactions: 3885 Observations in All Markets)' returned +INF for part 'E[{x12 =1}  * {a1=1}] on transactions: 3885 Observations in All Markets'.\n",
      "compute_gradient of micro moment 'E[age_i | mi_j]: +7.830000E-01 (E[{x12 =1}  * {a1=1}] on transactions: 3885 Observations in All Markets; {a1=1}] on transactions: 3885 Observations in All Markets)' returned NAN for part '{a1=1}] on transactions: 3885 Observations in All Markets'.\n",
      "compute_value of micro moment 'E[age_i | mi_j]: +7.830000E-01 (E[{x12 =1}  * {a1=1}] on transactions: 3885 Observations in All Markets; {a1=1}] on transactions: 3885 Observations in All Markets)' returned NAN.\n",
      "compute_gradient of micro moment 'E[age_i | mi_j]: +7.830000E-01 (E[{x12 =1}  * {a1=1}] on transactions: 3885 Observations in All Markets; {a1=1}] on transactions: 3885 Observations in All Markets)' returned +INF for part 'E[{x12 =1}  * {a1=1}] on transactions: 3885 Observations in All Markets'.\n",
      "compute_gradient of micro moment 'E[age_i | mi_j]: +7.830000E-01 (E[{x12 =1}  * {a1=1}] on transactions: 3885 Observations in All Markets; {a1=1}] on transactions: 3885 Observations in All Markets)' returned NAN for part '{a1=1}] on transactions: 3885 Observations in All Markets'.\n",
      "compute_value of micro moment 'E[age_i | mi_j]: +7.830000E-01 (E[{x12 =1}  * {a1=1}] on transactions: 3885 Observations in All Markets; {a1=1}] on transactions: 3885 Observations in All Markets)' returned NAN.\n",
      "compute_gradient of micro moment 'E[age_i | mi_j]: +7.830000E-01 (E[{x12 =1}  * {a1=1}] on transactions: 3885 Observations in All Markets; {a1=1}] on transactions: 3885 Observations in All Markets)' returned +INF for part 'E[{x12 =1}  * {a1=1}] on transactions: 3885 Observations in All Markets'.\n",
      "compute_gradient of micro moment 'E[age_i | mi_j]: +7.830000E-01 (E[{x12 =1}  * {a1=1}] on transactions: 3885 Observations in All Markets; {a1=1}] on transactions: 3885 Observations in All Markets)' returned NAN for part '{a1=1}] on transactions: 3885 Observations in All Markets'.\n",
      "compute_value of micro moment 'E[age_i | mi_j]: +7.830000E-01 (E[{x12 =1}  * {a1=1}] on transactions: 3885 Observations in All Markets; {a1=1}] on transactions: 3885 Observations in All Markets)' returned NAN.\n",
      "compute_gradient of micro moment 'E[age_i | mi_j]: +7.830000E-01 (E[{x12 =1}  * {a1=1}] on transactions: 3885 Observations in All Markets; {a1=1}] on transactions: 3885 Observations in All Markets)' returned +INF for part 'E[{x12 =1}  * {a1=1}] on transactions: 3885 Observations in All Markets'.\n",
      "compute_gradient of micro moment 'E[age_i | mi_j]: +7.830000E-01 (E[{x12 =1}  * {a1=1}] on transactions: 3885 Observations in All Markets; {a1=1}] on transactions: 3885 Observations in All Markets)' returned NAN for part '{a1=1}] on transactions: 3885 Observations in All Markets'.\n",
      "compute_value of micro moment 'E[age_i | mi_j]: +7.830000E-01 (E[{x12 =1}  * {a1=1}] on transactions: 3885 Observations in All Markets; {a1=1}] on transactions: 3885 Observations in All Markets)' returned NAN.\n",
      "compute_gradient of micro moment 'E[age_i | mi_j]: +7.830000E-01 (E[{x12 =1}  * {a1=1}] on transactions: 3885 Observations in All Markets; {a1=1}] on transactions: 3885 Observations in All Markets)' returned +INF for part 'E[{x12 =1}  * {a1=1}] on transactions: 3885 Observations in All Markets'.\n",
      "compute_gradient of micro moment 'E[age_i | mi_j]: +7.830000E-01 (E[{x12 =1}  * {a1=1}] on transactions: 3885 Observations in All Markets; {a1=1}] on transactions: 3885 Observations in All Markets)' returned NAN for part '{a1=1}] on transactions: 3885 Observations in All Markets'.\n",
      "compute_value of micro moment 'E[age_i | mi_j]: +7.830000E-01 (E[{x12 =1}  * {a1=1}] on transactions: 3885 Observations in All Markets; {a1=1}] on transactions: 3885 Observations in All Markets)' returned NAN.\n",
      "compute_gradient of micro moment 'E[age_i | mi_j]: +7.830000E-01 (E[{x12 =1}  * {a1=1}] on transactions: 3885 Observations in All Markets; {a1=1}] on transactions: 3885 Observations in All Markets)' returned +INF for part 'E[{x12 =1}  * {a1=1}] on transactions: 3885 Observations in All Markets'.\n",
      "compute_gradient of micro moment 'E[age_i | mi_j]: +7.830000E-01 (E[{x12 =1}  * {a1=1}] on transactions: 3885 Observations in All Markets; {a1=1}] on transactions: 3885 Observations in All Markets)' returned NAN for part '{a1=1}] on transactions: 3885 Observations in All Markets'.\n",
      "compute_value of micro moment 'E[age_i | mi_j]: +7.830000E-01 (E[{x12 =1}  * {a1=1}] on transactions: 3885 Observations in All Markets; {a1=1}] on transactions: 3885 Observations in All Markets)' returned NAN.\n",
      "compute_gradient of micro moment 'E[age_i | mi_j]: +7.830000E-01 (E[{x12 =1}  * {a1=1}] on transactions: 3885 Observations in All Markets; {a1=1}] on transactions: 3885 Observations in All Markets)' returned +INF for part 'E[{x12 =1}  * {a1=1}] on transactions: 3885 Observations in All Markets'.\n",
      "compute_gradient of micro moment 'E[age_i | mi_j]: +7.830000E-01 (E[{x12 =1}  * {a1=1}] on transactions: 3885 Observations in All Markets; {a1=1}] on transactions: 3885 Observations in All Markets)' returned NAN for part '{a1=1}] on transactions: 3885 Observations in All Markets'.\n",
      "compute_value of micro moment 'E[age_i | mi_j]: +7.830000E-01 (E[{x12 =1}  * {a1=1}] on transactions: 3885 Observations in All Markets; {a1=1}] on transactions: 3885 Observations in All Markets)' returned NAN.\n",
      "compute_gradient of micro moment 'E[age_i | mi_j]: +7.830000E-01 (E[{x12 =1}  * {a1=1}] on transactions: 3885 Observations in All Markets; {a1=1}] on transactions: 3885 Observations in All Markets)' returned +INF for part 'E[{x12 =1}  * {a1=1}] on transactions: 3885 Observations in All Markets'.\n",
      "compute_gradient of micro moment 'E[age_i | mi_j]: +7.830000E-01 (E[{x12 =1}  * {a1=1}] on transactions: 3885 Observations in All Markets; {a1=1}] on transactions: 3885 Observations in All Markets)' returned NAN for part '{a1=1}] on transactions: 3885 Observations in All Markets'.\n",
      "compute_value of micro moment 'E[age_i | mi_j]: +7.830000E-01 (E[{x12 =1}  * {a1=1}] on transactions: 3885 Observations in All Markets; {a1=1}] on transactions: 3885 Observations in All Markets)' returned NAN.\n",
      "compute_gradient of micro moment 'E[age_i | mi_j]: +7.830000E-01 (E[{x12 =1}  * {a1=1}] on transactions: 3885 Observations in All Markets; {a1=1}] on transactions: 3885 Observations in All Markets)' returned +INF for part 'E[{x12 =1}  * {a1=1}] on transactions: 3885 Observations in All Markets'.\n",
      "compute_gradient of micro moment 'E[age_i | mi_j]: +7.830000E-01 (E[{x12 =1}  * {a1=1}] on transactions: 3885 Observations in All Markets; {a1=1}] on transactions: 3885 Observations in All Markets)' returned NAN for part '{a1=1}] on transactions: 3885 Observations in All Markets'.\n",
      "compute_value of micro moment 'E[age_i | mi_j]: +7.830000E-01 (E[{x12 =1}  * {a1=1}] on transactions: 3885 Observations in All Markets; {a1=1}] on transactions: 3885 Observations in All Markets)' returned NAN.\n",
      "compute_gradient of micro moment 'E[age_i | mi_j]: +7.830000E-01 (E[{x12 =1}  * {a1=1}] on transactions: 3885 Observations in All Markets; {a1=1}] on transactions: 3885 Observations in All Markets)' returned +INF for part 'E[{x12 =1}  * {a1=1}] on transactions: 3885 Observations in All Markets'.\n",
      "compute_gradient of micro moment 'E[age_i | mi_j]: +7.830000E-01 (E[{x12 =1}  * {a1=1}] on transactions: 3885 Observations in All Markets; {a1=1}] on transactions: 3885 Observations in All Markets)' returned NAN for part '{a1=1}] on transactions: 3885 Observations in All Markets'.\n",
      "compute_value of micro moment 'E[age_i | mi_j]: +7.830000E-01 (E[{x12 =1}  * {a1=1}] on transactions: 3885 Observations in All Markets; {a1=1}] on transactions: 3885 Observations in All Markets)' returned NAN.\n",
      "compute_gradient of micro moment 'E[age_i | mi_j]: +7.830000E-01 (E[{x12 =1}  * {a1=1}] on transactions: 3885 Observations in All Markets; {a1=1}] on transactions: 3885 Observations in All Markets)' returned +INF for part 'E[{x12 =1}  * {a1=1}] on transactions: 3885 Observations in All Markets'.\n",
      "compute_gradient of micro moment 'E[age_i | mi_j]: +7.830000E-01 (E[{x12 =1}  * {a1=1}] on transactions: 3885 Observations in All Markets; {a1=1}] on transactions: 3885 Observations in All Markets)' returned NAN for part '{a1=1}] on transactions: 3885 Observations in All Markets'.\n",
      "compute_value of micro moment 'E[age_i | mi_j]: +7.830000E-01 (E[{x12 =1}  * {a1=1}] on transactions: 3885 Observations in All Markets; {a1=1}] on transactions: 3885 Observations in All Markets)' returned NAN.\n",
      "compute_gradient of micro moment 'E[age_i | mi_j]: +7.830000E-01 (E[{x12 =1}  * {a1=1}] on transactions: 3885 Observations in All Markets; {a1=1}] on transactions: 3885 Observations in All Markets)' returned +INF for part 'E[{x12 =1}  * {a1=1}] on transactions: 3885 Observations in All Markets'.\n",
      "compute_gradient of micro moment 'E[age_i | mi_j]: +7.830000E-01 (E[{x12 =1}  * {a1=1}] on transactions: 3885 Observations in All Markets; {a1=1}] on transactions: 3885 Observations in All Markets)' returned NAN for part '{a1=1}] on transactions: 3885 Observations in All Markets'.\n",
      "compute_value of micro moment 'E[age_i | mi_j]: +7.830000E-01 (E[{x12 =1}  * {a1=1}] on transactions: 3885 Observations in All Markets; {a1=1}] on transactions: 3885 Observations in All Markets)' returned NAN.\n",
      "compute_gradient of micro moment 'E[age_i | mi_j]: +7.830000E-01 (E[{x12 =1}  * {a1=1}] on transactions: 3885 Observations in All Markets; {a1=1}] on transactions: 3885 Observations in All Markets)' returned +INF for part 'E[{x12 =1}  * {a1=1}] on transactions: 3885 Observations in All Markets'.\n",
      "compute_gradient of micro moment 'E[age_i | mi_j]: +7.830000E-01 (E[{x12 =1}  * {a1=1}] on transactions: 3885 Observations in All Markets; {a1=1}] on transactions: 3885 Observations in All Markets)' returned NAN for part '{a1=1}] on transactions: 3885 Observations in All Markets'.\n",
      "compute_value of micro moment 'E[age_i | mi_j]: +7.830000E-01 (E[{x12 =1}  * {a1=1}] on transactions: 3885 Observations in All Markets; {a1=1}] on transactions: 3885 Observations in All Markets)' returned NAN.\n",
      "compute_gradient of micro moment 'E[age_i | mi_j]: +7.830000E-01 (E[{x12 =1}  * {a1=1}] on transactions: 3885 Observations in All Markets; {a1=1}] on transactions: 3885 Observations in All Markets)' returned +INF for part 'E[{x12 =1}  * {a1=1}] on transactions: 3885 Observations in All Markets'.\n",
      "compute_gradient of micro moment 'E[age_i | mi_j]: +7.830000E-01 (E[{x12 =1}  * {a1=1}] on transactions: 3885 Observations in All Markets; {a1=1}] on transactions: 3885 Observations in All Markets)' returned NAN for part '{a1=1}] on transactions: 3885 Observations in All Markets'.\n",
      "compute_value of micro moment 'E[age_i | mi_j]: +7.830000E-01 (E[{x12 =1}  * {a1=1}] on transactions: 3885 Observations in All Markets; {a1=1}] on transactions: 3885 Observations in All Markets)' returned NAN.\n",
      "compute_gradient of micro moment 'E[age_i | mi_j]: +7.830000E-01 (E[{x12 =1}  * {a1=1}] on transactions: 3885 Observations in All Markets; {a1=1}] on transactions: 3885 Observations in All Markets)' returned +INF for part 'E[{x12 =1}  * {a1=1}] on transactions: 3885 Observations in All Markets'.\n",
      "compute_gradient of micro moment 'E[age_i | mi_j]: +7.830000E-01 (E[{x12 =1}  * {a1=1}] on transactions: 3885 Observations in All Markets; {a1=1}] on transactions: 3885 Observations in All Markets)' returned NAN for part '{a1=1}] on transactions: 3885 Observations in All Markets'.\n",
      "compute_value of micro moment 'E[age_i | mi_j]: +7.830000E-01 (E[{x12 =1}  * {a1=1}] on transactions: 3885 Observations in All Markets; {a1=1}] on transactions: 3885 Observations in All Markets)' returned NAN.\n",
      "compute_gradient of micro moment 'E[age_i | mi_j]: +7.830000E-01 (E[{x12 =1}  * {a1=1}] on transactions: 3885 Observations in All Markets; {a1=1}] on transactions: 3885 Observations in All Markets)' returned +INF for part 'E[{x12 =1}  * {a1=1}] on transactions: 3885 Observations in All Markets'.\n",
      "compute_gradient of micro moment 'E[age_i | mi_j]: +7.830000E-01 (E[{x12 =1}  * {a1=1}] on transactions: 3885 Observations in All Markets; {a1=1}] on transactions: 3885 Observations in All Markets)' returned NAN for part '{a1=1}] on transactions: 3885 Observations in All Markets'.\n",
      "compute_value of micro moment 'E[age_i | mi_j]: +7.830000E-01 (E[{x12 =1}  * {a1=1}] on transactions: 3885 Observations in All Markets; {a1=1}] on transactions: 3885 Observations in All Markets)' returned NAN.\n",
      "compute_gradient of micro moment 'E[age_i | mi_j]: +7.830000E-01 (E[{x12 =1}  * {a1=1}] on transactions: 3885 Observations in All Markets; {a1=1}] on transactions: 3885 Observations in All Markets)' returned +INF for part 'E[{x12 =1}  * {a1=1}] on transactions: 3885 Observations in All Markets'.\n",
      "compute_gradient of micro moment 'E[age_i | mi_j]: +7.830000E-01 (E[{x12 =1}  * {a1=1}] on transactions: 3885 Observations in All Markets; {a1=1}] on transactions: 3885 Observations in All Markets)' returned NAN for part '{a1=1}] on transactions: 3885 Observations in All Markets'.\n",
      "compute_value of micro moment 'E[age_i | mi_j]: +7.830000E-01 (E[{x12 =1}  * {a1=1}] on transactions: 3885 Observations in All Markets; {a1=1}] on transactions: 3885 Observations in All Markets)' returned NAN.\n",
      "compute_gradient of micro moment 'E[age_i | mi_j]: +7.830000E-01 (E[{x12 =1}  * {a1=1}] on transactions: 3885 Observations in All Markets; {a1=1}] on transactions: 3885 Observations in All Markets)' returned +INF for part 'E[{x12 =1}  * {a1=1}] on transactions: 3885 Observations in All Markets'.\n",
      "compute_gradient of micro moment 'E[age_i | mi_j]: +7.830000E-01 (E[{x12 =1}  * {a1=1}] on transactions: 3885 Observations in All Markets; {a1=1}] on transactions: 3885 Observations in All Markets)' returned NAN for part '{a1=1}] on transactions: 3885 Observations in All Markets'.\n",
      "compute_value of micro moment 'E[age_i | mi_j]: +7.830000E-01 (E[{x12 =1}  * {a1=1}] on transactions: 3885 Observations in All Markets; {a1=1}] on transactions: 3885 Observations in All Markets)' returned NAN.\n",
      "compute_gradient of micro moment 'E[age_i | mi_j]: +7.830000E-01 (E[{x12 =1}  * {a1=1}] on transactions: 3885 Observations in All Markets; {a1=1}] on transactions: 3885 Observations in All Markets)' returned +INF for part 'E[{x12 =1}  * {a1=1}] on transactions: 3885 Observations in All Markets'.\n",
      "compute_gradient of micro moment 'E[age_i | mi_j]: +7.830000E-01 (E[{x12 =1}  * {a1=1}] on transactions: 3885 Observations in All Markets; {a1=1}] on transactions: 3885 Observations in All Markets)' returned NAN for part '{a1=1}] on transactions: 3885 Observations in All Markets'.\n",
      "compute_value of micro moment 'E[age_i | mi_j]: +7.830000E-01 (E[{x12 =1}  * {a1=1}] on transactions: 3885 Observations in All Markets; {a1=1}] on transactions: 3885 Observations in All Markets)' returned NAN.\n",
      "compute_gradient of micro moment 'E[age_i | mi_j]: +7.830000E-01 (E[{x12 =1}  * {a1=1}] on transactions: 3885 Observations in All Markets; {a1=1}] on transactions: 3885 Observations in All Markets)' returned +INF for part 'E[{x12 =1}  * {a1=1}] on transactions: 3885 Observations in All Markets'.\n",
      "compute_gradient of micro moment 'E[age_i | mi_j]: +7.830000E-01 (E[{x12 =1}  * {a1=1}] on transactions: 3885 Observations in All Markets; {a1=1}] on transactions: 3885 Observations in All Markets)' returned NAN for part '{a1=1}] on transactions: 3885 Observations in All Markets'.\n",
      "compute_value of micro moment 'E[age_i | mi_j]: +7.830000E-01 (E[{x12 =1}  * {a1=1}] on transactions: 3885 Observations in All Markets; {a1=1}] on transactions: 3885 Observations in All Markets)' returned NAN.\n",
      "compute_gradient of micro moment 'E[age_i | mi_j]: +7.830000E-01 (E[{x12 =1}  * {a1=1}] on transactions: 3885 Observations in All Markets; {a1=1}] on transactions: 3885 Observations in All Markets)' returned +INF for part 'E[{x12 =1}  * {a1=1}] on transactions: 3885 Observations in All Markets'.\n",
      "compute_gradient of micro moment 'E[age_i | mi_j]: +7.830000E-01 (E[{x12 =1}  * {a1=1}] on transactions: 3885 Observations in All Markets; {a1=1}] on transactions: 3885 Observations in All Markets)' returned NAN for part '{a1=1}] on transactions: 3885 Observations in All Markets'.\n",
      "compute_value of micro moment 'E[age_i | mi_j]: +7.830000E-01 (E[{x12 =1}  * {a1=1}] on transactions: 3885 Observations in All Markets; {a1=1}] on transactions: 3885 Observations in All Markets)' returned NAN.\n",
      "compute_gradient of micro moment 'E[age_i | mi_j]: +7.830000E-01 (E[{x12 =1}  * {a1=1}] on transactions: 3885 Observations in All Markets; {a1=1}] on transactions: 3885 Observations in All Markets)' returned +INF for part 'E[{x12 =1}  * {a1=1}] on transactions: 3885 Observations in All Markets'.\n",
      "compute_gradient of micro moment 'E[age_i | mi_j]: +7.830000E-01 (E[{x12 =1}  * {a1=1}] on transactions: 3885 Observations in All Markets; {a1=1}] on transactions: 3885 Observations in All Markets)' returned NAN for part '{a1=1}] on transactions: 3885 Observations in All Markets'.\n",
      "compute_value of micro moment 'E[age_i | mi_j]: +7.830000E-01 (E[{x12 =1}  * {a1=1}] on transactions: 3885 Observations in All Markets; {a1=1}] on transactions: 3885 Observations in All Markets)' returned NAN.\n",
      "compute_gradient of micro moment 'E[age_i | mi_j]: +7.830000E-01 (E[{x12 =1}  * {a1=1}] on transactions: 3885 Observations in All Markets; {a1=1}] on transactions: 3885 Observations in All Markets)' returned +INF for part 'E[{x12 =1}  * {a1=1}] on transactions: 3885 Observations in All Markets'.\n",
      "compute_gradient of micro moment 'E[age_i | mi_j]: +7.830000E-01 (E[{x12 =1}  * {a1=1}] on transactions: 3885 Observations in All Markets; {a1=1}] on transactions: 3885 Observations in All Markets)' returned NAN for part '{a1=1}] on transactions: 3885 Observations in All Markets'.\n",
      "compute_value of micro moment 'E[age_i | mi_j]: +7.830000E-01 (E[{x12 =1}  * {a1=1}] on transactions: 3885 Observations in All Markets; {a1=1}] on transactions: 3885 Observations in All Markets)' returned NAN.\n",
      "compute_gradient of micro moment 'E[age_i | mi_j]: +7.830000E-01 (E[{x12 =1}  * {a1=1}] on transactions: 3885 Observations in All Markets; {a1=1}] on transactions: 3885 Observations in All Markets)' returned +INF for part 'E[{x12 =1}  * {a1=1}] on transactions: 3885 Observations in All Markets'.\n",
      "compute_gradient of micro moment 'E[age_i | mi_j]: +7.830000E-01 (E[{x12 =1}  * {a1=1}] on transactions: 3885 Observations in All Markets; {a1=1}] on transactions: 3885 Observations in All Markets)' returned NAN for part '{a1=1}] on transactions: 3885 Observations in All Markets'.\n",
      "compute_value of micro moment 'E[age_i | mi_j]: +7.830000E-01 (E[{x12 =1}  * {a1=1}] on transactions: 3885 Observations in All Markets; {a1=1}] on transactions: 3885 Observations in All Markets)' returned NAN.\n",
      "compute_gradient of micro moment 'E[age_i | mi_j]: +7.830000E-01 (E[{x12 =1}  * {a1=1}] on transactions: 3885 Observations in All Markets; {a1=1}] on transactions: 3885 Observations in All Markets)' returned +INF for part 'E[{x12 =1}  * {a1=1}] on transactions: 3885 Observations in All Markets'.\n",
      "compute_gradient of micro moment 'E[age_i | mi_j]: +7.830000E-01 (E[{x12 =1}  * {a1=1}] on transactions: 3885 Observations in All Markets; {a1=1}] on transactions: 3885 Observations in All Markets)' returned NAN for part '{a1=1}] on transactions: 3885 Observations in All Markets'.\n",
      "compute_value of micro moment 'E[age_i | mi_j]: +7.830000E-01 (E[{x12 =1}  * {a1=1}] on transactions: 3885 Observations in All Markets; {a1=1}] on transactions: 3885 Observations in All Markets)' returned NAN.\n",
      "compute_gradient of micro moment 'E[age_i | mi_j]: +7.830000E-01 (E[{x12 =1}  * {a1=1}] on transactions: 3885 Observations in All Markets; {a1=1}] on transactions: 3885 Observations in All Markets)' returned +INF for part 'E[{x12 =1}  * {a1=1}] on transactions: 3885 Observations in All Markets'.\n",
      "compute_gradient of micro moment 'E[age_i | mi_j]: +7.830000E-01 (E[{x12 =1}  * {a1=1}] on transactions: 3885 Observations in All Markets; {a1=1}] on transactions: 3885 Observations in All Markets)' returned NAN for part '{a1=1}] on transactions: 3885 Observations in All Markets'.\n",
      "compute_value of micro moment 'E[age_i | mi_j]: +7.830000E-01 (E[{x12 =1}  * {a1=1}] on transactions: 3885 Observations in All Markets; {a1=1}] on transactions: 3885 Observations in All Markets)' returned NAN.\n",
      "compute_gradient of micro moment 'E[age_i | mi_j]: +7.830000E-01 (E[{x12 =1}  * {a1=1}] on transactions: 3885 Observations in All Markets; {a1=1}] on transactions: 3885 Observations in All Markets)' returned +INF for part 'E[{x12 =1}  * {a1=1}] on transactions: 3885 Observations in All Markets'.\n",
      "compute_gradient of micro moment 'E[age_i | mi_j]: +7.830000E-01 (E[{x12 =1}  * {a1=1}] on transactions: 3885 Observations in All Markets; {a1=1}] on transactions: 3885 Observations in All Markets)' returned NAN for part '{a1=1}] on transactions: 3885 Observations in All Markets'.\n",
      "compute_value of micro moment 'E[age_i | mi_j]: +7.830000E-01 (E[{x12 =1}  * {a1=1}] on transactions: 3885 Observations in All Markets; {a1=1}] on transactions: 3885 Observations in All Markets)' returned NAN.\n",
      "compute_gradient of micro moment 'E[age_i | mi_j]: +7.830000E-01 (E[{x12 =1}  * {a1=1}] on transactions: 3885 Observations in All Markets; {a1=1}] on transactions: 3885 Observations in All Markets)' returned +INF for part 'E[{x12 =1}  * {a1=1}] on transactions: 3885 Observations in All Markets'.\n",
      "compute_gradient of micro moment 'E[age_i | mi_j]: +7.830000E-01 (E[{x12 =1}  * {a1=1}] on transactions: 3885 Observations in All Markets; {a1=1}] on transactions: 3885 Observations in All Markets)' returned NAN for part '{a1=1}] on transactions: 3885 Observations in All Markets'.\n",
      "compute_value of micro moment 'E[age_i | mi_j]: +7.830000E-01 (E[{x12 =1}  * {a1=1}] on transactions: 3885 Observations in All Markets; {a1=1}] on transactions: 3885 Observations in All Markets)' returned NAN.\n",
      "compute_gradient of micro moment 'E[age_i | mi_j]: +7.830000E-01 (E[{x12 =1}  * {a1=1}] on transactions: 3885 Observations in All Markets; {a1=1}] on transactions: 3885 Observations in All Markets)' returned +INF for part 'E[{x12 =1}  * {a1=1}] on transactions: 3885 Observations in All Markets'.\n",
      "compute_gradient of micro moment 'E[age_i | mi_j]: +7.830000E-01 (E[{x12 =1}  * {a1=1}] on transactions: 3885 Observations in All Markets; {a1=1}] on transactions: 3885 Observations in All Markets)' returned NAN for part '{a1=1}] on transactions: 3885 Observations in All Markets'.\n",
      "compute_value of micro moment 'E[age_i | mi_j]: +7.830000E-01 (E[{x12 =1}  * {a1=1}] on transactions: 3885 Observations in All Markets; {a1=1}] on transactions: 3885 Observations in All Markets)' returned NAN.\n",
      "compute_gradient of micro moment 'E[age_i | mi_j]: +7.830000E-01 (E[{x12 =1}  * {a1=1}] on transactions: 3885 Observations in All Markets; {a1=1}] on transactions: 3885 Observations in All Markets)' returned +INF for part 'E[{x12 =1}  * {a1=1}] on transactions: 3885 Observations in All Markets'.\n",
      "compute_gradient of micro moment 'E[age_i | mi_j]: +7.830000E-01 (E[{x12 =1}  * {a1=1}] on transactions: 3885 Observations in All Markets; {a1=1}] on transactions: 3885 Observations in All Markets)' returned NAN for part '{a1=1}] on transactions: 3885 Observations in All Markets'.\n",
      "compute_value of micro moment 'E[age_i | mi_j]: +7.830000E-01 (E[{x12 =1}  * {a1=1}] on transactions: 3885 Observations in All Markets; {a1=1}] on transactions: 3885 Observations in All Markets)' returned NAN.\n",
      "compute_gradient of micro moment 'E[age_i | mi_j]: +7.830000E-01 (E[{x12 =1}  * {a1=1}] on transactions: 3885 Observations in All Markets; {a1=1}] on transactions: 3885 Observations in All Markets)' returned +INF for part 'E[{x12 =1}  * {a1=1}] on transactions: 3885 Observations in All Markets'.\n",
      "compute_gradient of micro moment 'E[age_i | mi_j]: +7.830000E-01 (E[{x12 =1}  * {a1=1}] on transactions: 3885 Observations in All Markets; {a1=1}] on transactions: 3885 Observations in All Markets)' returned NAN for part '{a1=1}] on transactions: 3885 Observations in All Markets'.\n",
      "compute_value of micro moment 'E[age_i | mi_j]: +7.830000E-01 (E[{x12 =1}  * {a1=1}] on transactions: 3885 Observations in All Markets; {a1=1}] on transactions: 3885 Observations in All Markets)' returned NAN.\n",
      "compute_gradient of micro moment 'E[age_i | mi_j]: +7.830000E-01 (E[{x12 =1}  * {a1=1}] on transactions: 3885 Observations in All Markets; {a1=1}] on transactions: 3885 Observations in All Markets)' returned +INF for part 'E[{x12 =1}  * {a1=1}] on transactions: 3885 Observations in All Markets'.\n",
      "compute_gradient of micro moment 'E[age_i | mi_j]: +7.830000E-01 (E[{x12 =1}  * {a1=1}] on transactions: 3885 Observations in All Markets; {a1=1}] on transactions: 3885 Observations in All Markets)' returned NAN for part '{a1=1}] on transactions: 3885 Observations in All Markets'.\n",
      "compute_value of micro moment 'E[age_i | mi_j]: +7.830000E-01 (E[{x12 =1}  * {a1=1}] on transactions: 3885 Observations in All Markets; {a1=1}] on transactions: 3885 Observations in All Markets)' returned NAN.\n",
      "compute_gradient of micro moment 'E[age_i | mi_j]: +7.830000E-01 (E[{x12 =1}  * {a1=1}] on transactions: 3885 Observations in All Markets; {a1=1}] on transactions: 3885 Observations in All Markets)' returned +INF for part 'E[{x12 =1}  * {a1=1}] on transactions: 3885 Observations in All Markets'.\n",
      "compute_gradient of micro moment 'E[age_i | mi_j]: +7.830000E-01 (E[{x12 =1}  * {a1=1}] on transactions: 3885 Observations in All Markets; {a1=1}] on transactions: 3885 Observations in All Markets)' returned NAN for part '{a1=1}] on transactions: 3885 Observations in All Markets'.\n",
      "compute_value of micro moment 'E[age_i | mi_j]: +7.830000E-01 (E[{x12 =1}  * {a1=1}] on transactions: 3885 Observations in All Markets; {a1=1}] on transactions: 3885 Observations in All Markets)' returned NAN.\n",
      "compute_gradient of micro moment 'E[age_i | mi_j]: +7.830000E-01 (E[{x12 =1}  * {a1=1}] on transactions: 3885 Observations in All Markets; {a1=1}] on transactions: 3885 Observations in All Markets)' returned +INF for part 'E[{x12 =1}  * {a1=1}] on transactions: 3885 Observations in All Markets'.\n",
      "compute_gradient of micro moment 'E[age_i | mi_j]: +7.830000E-01 (E[{x12 =1}  * {a1=1}] on transactions: 3885 Observations in All Markets; {a1=1}] on transactions: 3885 Observations in All Markets)' returned NAN for part '{a1=1}] on transactions: 3885 Observations in All Markets'.\n",
      "compute_value of micro moment 'E[age_i | mi_j]: +7.830000E-01 (E[{x12 =1}  * {a1=1}] on transactions: 3885 Observations in All Markets; {a1=1}] on transactions: 3885 Observations in All Markets)' returned NAN.\n",
      "compute_gradient of micro moment 'E[age_i | mi_j]: +7.830000E-01 (E[{x12 =1}  * {a1=1}] on transactions: 3885 Observations in All Markets; {a1=1}] on transactions: 3885 Observations in All Markets)' returned +INF for part 'E[{x12 =1}  * {a1=1}] on transactions: 3885 Observations in All Markets'.\n",
      "compute_gradient of micro moment 'E[age_i | mi_j]: +7.830000E-01 (E[{x12 =1}  * {a1=1}] on transactions: 3885 Observations in All Markets; {a1=1}] on transactions: 3885 Observations in All Markets)' returned NAN for part '{a1=1}] on transactions: 3885 Observations in All Markets'.\n",
      "compute_value of micro moment 'E[age_i | mi_j]: +7.830000E-01 (E[{x12 =1}  * {a1=1}] on transactions: 3885 Observations in All Markets; {a1=1}] on transactions: 3885 Observations in All Markets)' returned NAN.\n",
      "compute_gradient of micro moment 'E[age_i | mi_j]: +7.830000E-01 (E[{x12 =1}  * {a1=1}] on transactions: 3885 Observations in All Markets; {a1=1}] on transactions: 3885 Observations in All Markets)' returned +INF for part 'E[{x12 =1}  * {a1=1}] on transactions: 3885 Observations in All Markets'.\n",
      "compute_gradient of micro moment 'E[age_i | mi_j]: +7.830000E-01 (E[{x12 =1}  * {a1=1}] on transactions: 3885 Observations in All Markets; {a1=1}] on transactions: 3885 Observations in All Markets)' returned NAN for part '{a1=1}] on transactions: 3885 Observations in All Markets'.\n",
      "compute_value of micro moment 'E[age_i | mi_j]: +7.830000E-01 (E[{x12 =1}  * {a1=1}] on transactions: 3885 Observations in All Markets; {a1=1}] on transactions: 3885 Observations in All Markets)' returned NAN.\n",
      "compute_gradient of micro moment 'E[age_i | mi_j]: +7.830000E-01 (E[{x12 =1}  * {a1=1}] on transactions: 3885 Observations in All Markets; {a1=1}] on transactions: 3885 Observations in All Markets)' returned +INF for part 'E[{x12 =1}  * {a1=1}] on transactions: 3885 Observations in All Markets'.\n",
      "compute_gradient of micro moment 'E[age_i | mi_j]: +7.830000E-01 (E[{x12 =1}  * {a1=1}] on transactions: 3885 Observations in All Markets; {a1=1}] on transactions: 3885 Observations in All Markets)' returned NAN for part '{a1=1}] on transactions: 3885 Observations in All Markets'.\n",
      "compute_value of micro moment 'E[age_i | mi_j]: +7.830000E-01 (E[{x12 =1}  * {a1=1}] on transactions: 3885 Observations in All Markets; {a1=1}] on transactions: 3885 Observations in All Markets)' returned NAN.\n",
      "compute_gradient of micro moment 'E[age_i | mi_j]: +7.830000E-01 (E[{x12 =1}  * {a1=1}] on transactions: 3885 Observations in All Markets; {a1=1}] on transactions: 3885 Observations in All Markets)' returned +INF for part 'E[{x12 =1}  * {a1=1}] on transactions: 3885 Observations in All Markets'.\n",
      "compute_gradient of micro moment 'E[age_i | mi_j]: +7.830000E-01 (E[{x12 =1}  * {a1=1}] on transactions: 3885 Observations in All Markets; {a1=1}] on transactions: 3885 Observations in All Markets)' returned NAN for part '{a1=1}] on transactions: 3885 Observations in All Markets'.\n",
      "compute_value of micro moment 'E[age_i | mi_j]: +7.830000E-01 (E[{x12 =1}  * {a1=1}] on transactions: 3885 Observations in All Markets; {a1=1}] on transactions: 3885 Observations in All Markets)' returned NAN.\n",
      "compute_gradient of micro moment 'E[age_i | mi_j]: +7.830000E-01 (E[{x12 =1}  * {a1=1}] on transactions: 3885 Observations in All Markets; {a1=1}] on transactions: 3885 Observations in All Markets)' returned +INF for part 'E[{x12 =1}  * {a1=1}] on transactions: 3885 Observations in All Markets'.\n",
      "compute_gradient of micro moment 'E[age_i | mi_j]: +7.830000E-01 (E[{x12 =1}  * {a1=1}] on transactions: 3885 Observations in All Markets; {a1=1}] on transactions: 3885 Observations in All Markets)' returned NAN for part '{a1=1}] on transactions: 3885 Observations in All Markets'.\n",
      "compute_value of micro moment 'E[age_i | mi_j]: +7.830000E-01 (E[{x12 =1}  * {a1=1}] on transactions: 3885 Observations in All Markets; {a1=1}] on transactions: 3885 Observations in All Markets)' returned NAN.\n",
      "compute_gradient of micro moment 'E[age_i | mi_j]: +7.830000E-01 (E[{x12 =1}  * {a1=1}] on transactions: 3885 Observations in All Markets; {a1=1}] on transactions: 3885 Observations in All Markets)' returned +INF for part 'E[{x12 =1}  * {a1=1}] on transactions: 3885 Observations in All Markets'.\n",
      "compute_gradient of micro moment 'E[age_i | mi_j]: +7.830000E-01 (E[{x12 =1}  * {a1=1}] on transactions: 3885 Observations in All Markets; {a1=1}] on transactions: 3885 Observations in All Markets)' returned NAN for part '{a1=1}] on transactions: 3885 Observations in All Markets'.\n",
      "compute_value of micro moment 'E[age_i | mi_j]: +7.830000E-01 (E[{x12 =1}  * {a1=1}] on transactions: 3885 Observations in All Markets; {a1=1}] on transactions: 3885 Observations in All Markets)' returned NAN.\n",
      "compute_gradient of micro moment 'E[age_i | mi_j]: +7.830000E-01 (E[{x12 =1}  * {a1=1}] on transactions: 3885 Observations in All Markets; {a1=1}] on transactions: 3885 Observations in All Markets)' returned +INF for part 'E[{x12 =1}  * {a1=1}] on transactions: 3885 Observations in All Markets'.\n",
      "compute_gradient of micro moment 'E[age_i | mi_j]: +7.830000E-01 (E[{x12 =1}  * {a1=1}] on transactions: 3885 Observations in All Markets; {a1=1}] on transactions: 3885 Observations in All Markets)' returned NAN for part '{a1=1}] on transactions: 3885 Observations in All Markets'.\n",
      "compute_value of micro moment 'E[age_i | mi_j]: +7.830000E-01 (E[{x12 =1}  * {a1=1}] on transactions: 3885 Observations in All Markets; {a1=1}] on transactions: 3885 Observations in All Markets)' returned NAN.\n",
      "compute_gradient of micro moment 'E[age_i | mi_j]: +7.830000E-01 (E[{x12 =1}  * {a1=1}] on transactions: 3885 Observations in All Markets; {a1=1}] on transactions: 3885 Observations in All Markets)' returned +INF for part 'E[{x12 =1}  * {a1=1}] on transactions: 3885 Observations in All Markets'.\n",
      "compute_gradient of micro moment 'E[age_i | mi_j]: +7.830000E-01 (E[{x12 =1}  * {a1=1}] on transactions: 3885 Observations in All Markets; {a1=1}] on transactions: 3885 Observations in All Markets)' returned NAN for part '{a1=1}] on transactions: 3885 Observations in All Markets'.\n",
      "compute_value of micro moment 'E[age_i | mi_j]: +7.830000E-01 (E[{x12 =1}  * {a1=1}] on transactions: 3885 Observations in All Markets; {a1=1}] on transactions: 3885 Observations in All Markets)' returned NAN.\n",
      "compute_gradient of micro moment 'E[age_i | mi_j]: +7.830000E-01 (E[{x12 =1}  * {a1=1}] on transactions: 3885 Observations in All Markets; {a1=1}] on transactions: 3885 Observations in All Markets)' returned +INF for part 'E[{x12 =1}  * {a1=1}] on transactions: 3885 Observations in All Markets'.\n",
      "compute_gradient of micro moment 'E[age_i | mi_j]: +7.830000E-01 (E[{x12 =1}  * {a1=1}] on transactions: 3885 Observations in All Markets; {a1=1}] on transactions: 3885 Observations in All Markets)' returned NAN for part '{a1=1}] on transactions: 3885 Observations in All Markets'.\n",
      "compute_value of micro moment 'E[age_i | mi_j]: +7.830000E-01 (E[{x12 =1}  * {a1=1}] on transactions: 3885 Observations in All Markets; {a1=1}] on transactions: 3885 Observations in All Markets)' returned NAN.\n",
      "compute_gradient of micro moment 'E[age_i | mi_j]: +7.830000E-01 (E[{x12 =1}  * {a1=1}] on transactions: 3885 Observations in All Markets; {a1=1}] on transactions: 3885 Observations in All Markets)' returned +INF for part 'E[{x12 =1}  * {a1=1}] on transactions: 3885 Observations in All Markets'.\n",
      "compute_gradient of micro moment 'E[age_i | mi_j]: +7.830000E-01 (E[{x12 =1}  * {a1=1}] on transactions: 3885 Observations in All Markets; {a1=1}] on transactions: 3885 Observations in All Markets)' returned NAN for part '{a1=1}] on transactions: 3885 Observations in All Markets'.\n",
      "compute_value of micro moment 'E[age_i | mi_j]: +7.830000E-01 (E[{x12 =1}  * {a1=1}] on transactions: 3885 Observations in All Markets; {a1=1}] on transactions: 3885 Observations in All Markets)' returned NAN.\n",
      "compute_gradient of micro moment 'E[age_i | mi_j]: +7.830000E-01 (E[{x12 =1}  * {a1=1}] on transactions: 3885 Observations in All Markets; {a1=1}] on transactions: 3885 Observations in All Markets)' returned +INF for part 'E[{x12 =1}  * {a1=1}] on transactions: 3885 Observations in All Markets'.\n",
      "compute_gradient of micro moment 'E[age_i | mi_j]: +7.830000E-01 (E[{x12 =1}  * {a1=1}] on transactions: 3885 Observations in All Markets; {a1=1}] on transactions: 3885 Observations in All Markets)' returned NAN for part '{a1=1}] on transactions: 3885 Observations in All Markets'.\n",
      "compute_value of micro moment 'E[age_i | mi_j]: +7.830000E-01 (E[{x12 =1}  * {a1=1}] on transactions: 3885 Observations in All Markets; {a1=1}] on transactions: 3885 Observations in All Markets)' returned NAN.\n",
      "compute_gradient of micro moment 'E[age_i | mi_j]: +7.830000E-01 (E[{x12 =1}  * {a1=1}] on transactions: 3885 Observations in All Markets; {a1=1}] on transactions: 3885 Observations in All Markets)' returned +INF for part 'E[{x12 =1}  * {a1=1}] on transactions: 3885 Observations in All Markets'.\n",
      "compute_gradient of micro moment 'E[age_i | mi_j]: +7.830000E-01 (E[{x12 =1}  * {a1=1}] on transactions: 3885 Observations in All Markets; {a1=1}] on transactions: 3885 Observations in All Markets)' returned NAN for part '{a1=1}] on transactions: 3885 Observations in All Markets'.\n",
      "compute_value of micro moment 'E[age_i | mi_j]: +7.830000E-01 (E[{x12 =1}  * {a1=1}] on transactions: 3885 Observations in All Markets; {a1=1}] on transactions: 3885 Observations in All Markets)' returned NAN.\n",
      "compute_gradient of micro moment 'E[age_i | mi_j]: +7.830000E-01 (E[{x12 =1}  * {a1=1}] on transactions: 3885 Observations in All Markets; {a1=1}] on transactions: 3885 Observations in All Markets)' returned +INF for part 'E[{x12 =1}  * {a1=1}] on transactions: 3885 Observations in All Markets'.\n",
      "compute_gradient of micro moment 'E[age_i | mi_j]: +7.830000E-01 (E[{x12 =1}  * {a1=1}] on transactions: 3885 Observations in All Markets; {a1=1}] on transactions: 3885 Observations in All Markets)' returned NAN for part '{a1=1}] on transactions: 3885 Observations in All Markets'.\n",
      "compute_value of micro moment 'E[age_i | mi_j]: +7.830000E-01 (E[{x12 =1}  * {a1=1}] on transactions: 3885 Observations in All Markets; {a1=1}] on transactions: 3885 Observations in All Markets)' returned NAN.\n",
      "compute_gradient of micro moment 'E[age_i | mi_j]: +7.830000E-01 (E[{x12 =1}  * {a1=1}] on transactions: 3885 Observations in All Markets; {a1=1}] on transactions: 3885 Observations in All Markets)' returned +INF for part 'E[{x12 =1}  * {a1=1}] on transactions: 3885 Observations in All Markets'.\n",
      "compute_gradient of micro moment 'E[age_i | mi_j]: +7.830000E-01 (E[{x12 =1}  * {a1=1}] on transactions: 3885 Observations in All Markets; {a1=1}] on transactions: 3885 Observations in All Markets)' returned NAN for part '{a1=1}] on transactions: 3885 Observations in All Markets'.\n",
      "compute_value of micro moment 'E[age_i | mi_j]: +7.830000E-01 (E[{x12 =1}  * {a1=1}] on transactions: 3885 Observations in All Markets; {a1=1}] on transactions: 3885 Observations in All Markets)' returned NAN.\n",
      "compute_gradient of micro moment 'E[age_i | mi_j]: +7.830000E-01 (E[{x12 =1}  * {a1=1}] on transactions: 3885 Observations in All Markets; {a1=1}] on transactions: 3885 Observations in All Markets)' returned +INF for part 'E[{x12 =1}  * {a1=1}] on transactions: 3885 Observations in All Markets'.\n",
      "compute_gradient of micro moment 'E[age_i | mi_j]: +7.830000E-01 (E[{x12 =1}  * {a1=1}] on transactions: 3885 Observations in All Markets; {a1=1}] on transactions: 3885 Observations in All Markets)' returned NAN for part '{a1=1}] on transactions: 3885 Observations in All Markets'.\n",
      "compute_value of micro moment 'E[age_i | mi_j]: +7.830000E-01 (E[{x12 =1}  * {a1=1}] on transactions: 3885 Observations in All Markets; {a1=1}] on transactions: 3885 Observations in All Markets)' returned NAN.\n",
      "compute_gradient of micro moment 'E[age_i | mi_j]: +7.830000E-01 (E[{x12 =1}  * {a1=1}] on transactions: 3885 Observations in All Markets; {a1=1}] on transactions: 3885 Observations in All Markets)' returned +INF for part 'E[{x12 =1}  * {a1=1}] on transactions: 3885 Observations in All Markets'.\n",
      "compute_gradient of micro moment 'E[age_i | mi_j]: +7.830000E-01 (E[{x12 =1}  * {a1=1}] on transactions: 3885 Observations in All Markets; {a1=1}] on transactions: 3885 Observations in All Markets)' returned NAN for part '{a1=1}] on transactions: 3885 Observations in All Markets'.\n",
      "compute_value of micro moment 'E[age_i | mi_j]: +7.830000E-01 (E[{x12 =1}  * {a1=1}] on transactions: 3885 Observations in All Markets; {a1=1}] on transactions: 3885 Observations in All Markets)' returned NAN.\n",
      "compute_gradient of micro moment 'E[age_i | mi_j]: +7.830000E-01 (E[{x12 =1}  * {a1=1}] on transactions: 3885 Observations in All Markets; {a1=1}] on transactions: 3885 Observations in All Markets)' returned +INF for part 'E[{x12 =1}  * {a1=1}] on transactions: 3885 Observations in All Markets'.\n",
      "compute_gradient of micro moment 'E[age_i | mi_j]: +7.830000E-01 (E[{x12 =1}  * {a1=1}] on transactions: 3885 Observations in All Markets; {a1=1}] on transactions: 3885 Observations in All Markets)' returned NAN for part '{a1=1}] on transactions: 3885 Observations in All Markets'.\n",
      "compute_value of micro moment 'E[age_i | mi_j]: +7.830000E-01 (E[{x12 =1}  * {a1=1}] on transactions: 3885 Observations in All Markets; {a1=1}] on transactions: 3885 Observations in All Markets)' returned NAN.\n",
      "compute_gradient of micro moment 'E[age_i | mi_j]: +7.830000E-01 (E[{x12 =1}  * {a1=1}] on transactions: 3885 Observations in All Markets; {a1=1}] on transactions: 3885 Observations in All Markets)' returned +INF for part 'E[{x12 =1}  * {a1=1}] on transactions: 3885 Observations in All Markets'.\n",
      "compute_gradient of micro moment 'E[age_i | mi_j]: +7.830000E-01 (E[{x12 =1}  * {a1=1}] on transactions: 3885 Observations in All Markets; {a1=1}] on transactions: 3885 Observations in All Markets)' returned NAN for part '{a1=1}] on transactions: 3885 Observations in All Markets'.\n",
      "compute_value of micro moment 'E[age_i | mi_j]: +7.830000E-01 (E[{x12 =1}  * {a1=1}] on transactions: 3885 Observations in All Markets; {a1=1}] on transactions: 3885 Observations in All Markets)' returned NAN.\n",
      "compute_gradient of micro moment 'E[age_i | mi_j]: +7.830000E-01 (E[{x12 =1}  * {a1=1}] on transactions: 3885 Observations in All Markets; {a1=1}] on transactions: 3885 Observations in All Markets)' returned +INF for part 'E[{x12 =1}  * {a1=1}] on transactions: 3885 Observations in All Markets'.\n",
      "compute_gradient of micro moment 'E[age_i | mi_j]: +7.830000E-01 (E[{x12 =1}  * {a1=1}] on transactions: 3885 Observations in All Markets; {a1=1}] on transactions: 3885 Observations in All Markets)' returned NAN for part '{a1=1}] on transactions: 3885 Observations in All Markets'.\n",
      "compute_value of micro moment 'E[age_i | mi_j]: +7.830000E-01 (E[{x12 =1}  * {a1=1}] on transactions: 3885 Observations in All Markets; {a1=1}] on transactions: 3885 Observations in All Markets)' returned NAN.\n",
      "compute_gradient of micro moment 'E[age_i | mi_j]: +7.830000E-01 (E[{x12 =1}  * {a1=1}] on transactions: 3885 Observations in All Markets; {a1=1}] on transactions: 3885 Observations in All Markets)' returned +INF for part 'E[{x12 =1}  * {a1=1}] on transactions: 3885 Observations in All Markets'.\n",
      "compute_gradient of micro moment 'E[age_i | mi_j]: +7.830000E-01 (E[{x12 =1}  * {a1=1}] on transactions: 3885 Observations in All Markets; {a1=1}] on transactions: 3885 Observations in All Markets)' returned NAN for part '{a1=1}] on transactions: 3885 Observations in All Markets'.\n",
      "compute_value of micro moment 'E[age_i | mi_j]: +7.830000E-01 (E[{x12 =1}  * {a1=1}] on transactions: 3885 Observations in All Markets; {a1=1}] on transactions: 3885 Observations in All Markets)' returned NAN.\n",
      "compute_gradient of micro moment 'E[age_i | mi_j]: +7.830000E-01 (E[{x12 =1}  * {a1=1}] on transactions: 3885 Observations in All Markets; {a1=1}] on transactions: 3885 Observations in All Markets)' returned +INF for part 'E[{x12 =1}  * {a1=1}] on transactions: 3885 Observations in All Markets'.\n",
      "compute_gradient of micro moment 'E[age_i | mi_j]: +7.830000E-01 (E[{x12 =1}  * {a1=1}] on transactions: 3885 Observations in All Markets; {a1=1}] on transactions: 3885 Observations in All Markets)' returned NAN for part '{a1=1}] on transactions: 3885 Observations in All Markets'.\n",
      "compute_value of micro moment 'E[age_i | mi_j]: +7.830000E-01 (E[{x12 =1}  * {a1=1}] on transactions: 3885 Observations in All Markets; {a1=1}] on transactions: 3885 Observations in All Markets)' returned NAN.\n",
      "compute_gradient of micro moment 'E[age_i | mi_j]: +7.830000E-01 (E[{x12 =1}  * {a1=1}] on transactions: 3885 Observations in All Markets; {a1=1}] on transactions: 3885 Observations in All Markets)' returned +INF for part 'E[{x12 =1}  * {a1=1}] on transactions: 3885 Observations in All Markets'.\n",
      "compute_gradient of micro moment 'E[age_i | mi_j]: +7.830000E-01 (E[{x12 =1}  * {a1=1}] on transactions: 3885 Observations in All Markets; {a1=1}] on transactions: 3885 Observations in All Markets)' returned NAN for part '{a1=1}] on transactions: 3885 Observations in All Markets'.\n",
      "compute_value of micro moment 'E[age_i | mi_j]: +7.830000E-01 (E[{x12 =1}  * {a1=1}] on transactions: 3885 Observations in All Markets; {a1=1}] on transactions: 3885 Observations in All Markets)' returned NAN.\n",
      "compute_gradient of micro moment 'E[age_i | mi_j]: +7.830000E-01 (E[{x12 =1}  * {a1=1}] on transactions: 3885 Observations in All Markets; {a1=1}] on transactions: 3885 Observations in All Markets)' returned +INF for part 'E[{x12 =1}  * {a1=1}] on transactions: 3885 Observations in All Markets'.\n",
      "compute_gradient of micro moment 'E[age_i | mi_j]: +7.830000E-01 (E[{x12 =1}  * {a1=1}] on transactions: 3885 Observations in All Markets; {a1=1}] on transactions: 3885 Observations in All Markets)' returned NAN for part '{a1=1}] on transactions: 3885 Observations in All Markets'.\n",
      "compute_value of micro moment 'E[age_i | mi_j]: +7.830000E-01 (E[{x12 =1}  * {a1=1}] on transactions: 3885 Observations in All Markets; {a1=1}] on transactions: 3885 Observations in All Markets)' returned NAN.\n",
      "compute_gradient of micro moment 'E[age_i | mi_j]: +7.830000E-01 (E[{x12 =1}  * {a1=1}] on transactions: 3885 Observations in All Markets; {a1=1}] on transactions: 3885 Observations in All Markets)' returned +INF for part 'E[{x12 =1}  * {a1=1}] on transactions: 3885 Observations in All Markets'.\n",
      "compute_gradient of micro moment 'E[age_i | mi_j]: +7.830000E-01 (E[{x12 =1}  * {a1=1}] on transactions: 3885 Observations in All Markets; {a1=1}] on transactions: 3885 Observations in All Markets)' returned NAN for part '{a1=1}] on transactions: 3885 Observations in All Markets'.\n",
      "compute_value of micro moment 'E[age_i | mi_j]: +7.830000E-01 (E[{x12 =1}  * {a1=1}] on transactions: 3885 Observations in All Markets; {a1=1}] on transactions: 3885 Observations in All Markets)' returned NAN.\n",
      "compute_gradient of micro moment 'E[age_i | mi_j]: +7.830000E-01 (E[{x12 =1}  * {a1=1}] on transactions: 3885 Observations in All Markets; {a1=1}] on transactions: 3885 Observations in All Markets)' returned +INF for part 'E[{x12 =1}  * {a1=1}] on transactions: 3885 Observations in All Markets'.\n",
      "compute_gradient of micro moment 'E[age_i | mi_j]: +7.830000E-01 (E[{x12 =1}  * {a1=1}] on transactions: 3885 Observations in All Markets; {a1=1}] on transactions: 3885 Observations in All Markets)' returned NAN for part '{a1=1}] on transactions: 3885 Observations in All Markets'.\n",
      "compute_value of micro moment 'E[age_i | mi_j]: +7.830000E-01 (E[{x12 =1}  * {a1=1}] on transactions: 3885 Observations in All Markets; {a1=1}] on transactions: 3885 Observations in All Markets)' returned NAN.\n",
      "compute_gradient of micro moment 'E[age_i | mi_j]: +7.830000E-01 (E[{x12 =1}  * {a1=1}] on transactions: 3885 Observations in All Markets; {a1=1}] on transactions: 3885 Observations in All Markets)' returned +INF for part 'E[{x12 =1}  * {a1=1}] on transactions: 3885 Observations in All Markets'.\n",
      "compute_gradient of micro moment 'E[age_i | mi_j]: +7.830000E-01 (E[{x12 =1}  * {a1=1}] on transactions: 3885 Observations in All Markets; {a1=1}] on transactions: 3885 Observations in All Markets)' returned NAN for part '{a1=1}] on transactions: 3885 Observations in All Markets'.\n",
      "compute_value of micro moment 'E[age_i | mi_j]: +7.830000E-01 (E[{x12 =1}  * {a1=1}] on transactions: 3885 Observations in All Markets; {a1=1}] on transactions: 3885 Observations in All Markets)' returned NAN.\n",
      "compute_gradient of micro moment 'E[age_i | mi_j]: +7.830000E-01 (E[{x12 =1}  * {a1=1}] on transactions: 3885 Observations in All Markets; {a1=1}] on transactions: 3885 Observations in All Markets)' returned +INF for part 'E[{x12 =1}  * {a1=1}] on transactions: 3885 Observations in All Markets'.\n",
      "compute_gradient of micro moment 'E[age_i | mi_j]: +7.830000E-01 (E[{x12 =1}  * {a1=1}] on transactions: 3885 Observations in All Markets; {a1=1}] on transactions: 3885 Observations in All Markets)' returned NAN for part '{a1=1}] on transactions: 3885 Observations in All Markets'.\n",
      "compute_value of micro moment 'E[age_i | mi_j]: +7.830000E-01 (E[{x12 =1}  * {a1=1}] on transactions: 3885 Observations in All Markets; {a1=1}] on transactions: 3885 Observations in All Markets)' returned NAN.\n",
      "compute_gradient of micro moment 'E[age_i | mi_j]: +7.830000E-01 (E[{x12 =1}  * {a1=1}] on transactions: 3885 Observations in All Markets; {a1=1}] on transactions: 3885 Observations in All Markets)' returned +INF for part 'E[{x12 =1}  * {a1=1}] on transactions: 3885 Observations in All Markets'.\n",
      "compute_gradient of micro moment 'E[age_i | mi_j]: +7.830000E-01 (E[{x12 =1}  * {a1=1}] on transactions: 3885 Observations in All Markets; {a1=1}] on transactions: 3885 Observations in All Markets)' returned NAN for part '{a1=1}] on transactions: 3885 Observations in All Markets'.\n",
      "compute_value of micro moment 'E[age_i | mi_j]: +7.830000E-01 (E[{x12 =1}  * {a1=1}] on transactions: 3885 Observations in All Markets; {a1=1}] on transactions: 3885 Observations in All Markets)' returned NAN.\n",
      "compute_gradient of micro moment 'E[age_i | mi_j]: +7.830000E-01 (E[{x12 =1}  * {a1=1}] on transactions: 3885 Observations in All Markets; {a1=1}] on transactions: 3885 Observations in All Markets)' returned +INF for part 'E[{x12 =1}  * {a1=1}] on transactions: 3885 Observations in All Markets'.\n",
      "compute_gradient of micro moment 'E[age_i | mi_j]: +7.830000E-01 (E[{x12 =1}  * {a1=1}] on transactions: 3885 Observations in All Markets; {a1=1}] on transactions: 3885 Observations in All Markets)' returned NAN for part '{a1=1}] on transactions: 3885 Observations in All Markets'.\n",
      "compute_value of micro moment 'E[age_i | mi_j]: +7.830000E-01 (E[{x12 =1}  * {a1=1}] on transactions: 3885 Observations in All Markets; {a1=1}] on transactions: 3885 Observations in All Markets)' returned NAN.\n",
      "compute_gradient of micro moment 'E[age_i | mi_j]: +7.830000E-01 (E[{x12 =1}  * {a1=1}] on transactions: 3885 Observations in All Markets; {a1=1}] on transactions: 3885 Observations in All Markets)' returned +INF for part 'E[{x12 =1}  * {a1=1}] on transactions: 3885 Observations in All Markets'.\n",
      "compute_gradient of micro moment 'E[age_i | mi_j]: +7.830000E-01 (E[{x12 =1}  * {a1=1}] on transactions: 3885 Observations in All Markets; {a1=1}] on transactions: 3885 Observations in All Markets)' returned NAN for part '{a1=1}] on transactions: 3885 Observations in All Markets'.\n",
      "compute_value of micro moment 'E[age_i | mi_j]: +7.830000E-01 (E[{x12 =1}  * {a1=1}] on transactions: 3885 Observations in All Markets; {a1=1}] on transactions: 3885 Observations in All Markets)' returned NAN.\n",
      "compute_gradient of micro moment 'E[age_i | mi_j]: +7.830000E-01 (E[{x12 =1}  * {a1=1}] on transactions: 3885 Observations in All Markets; {a1=1}] on transactions: 3885 Observations in All Markets)' returned +INF for part 'E[{x12 =1}  * {a1=1}] on transactions: 3885 Observations in All Markets'.\n",
      "compute_gradient of micro moment 'E[age_i | mi_j]: +7.830000E-01 (E[{x12 =1}  * {a1=1}] on transactions: 3885 Observations in All Markets; {a1=1}] on transactions: 3885 Observations in All Markets)' returned NAN for part '{a1=1}] on transactions: 3885 Observations in All Markets'.\n",
      "compute_value of micro moment 'E[age_i | mi_j]: +7.830000E-01 (E[{x12 =1}  * {a1=1}] on transactions: 3885 Observations in All Markets; {a1=1}] on transactions: 3885 Observations in All Markets)' returned NAN.\n",
      "compute_gradient of micro moment 'E[age_i | mi_j]: +7.830000E-01 (E[{x12 =1}  * {a1=1}] on transactions: 3885 Observations in All Markets; {a1=1}] on transactions: 3885 Observations in All Markets)' returned +INF for part 'E[{x12 =1}  * {a1=1}] on transactions: 3885 Observations in All Markets'.\n",
      "compute_gradient of micro moment 'E[age_i | mi_j]: +7.830000E-01 (E[{x12 =1}  * {a1=1}] on transactions: 3885 Observations in All Markets; {a1=1}] on transactions: 3885 Observations in All Markets)' returned NAN for part '{a1=1}] on transactions: 3885 Observations in All Markets'.\n"
     ]
    },
    {
     "name": "stdout",
     "output_type": "stream",
     "text": [
      "\n",
      "Reverted problematic micro moments. Number of reverted elements: 1 out of 1.\n",
      "Reverted problematic elements in the Jacobian of micro moments with respect to theta. Number of reverted elements: 42 out of 42.\n",
      "Reverted a problematic GMM objective value.\n",
      "Reverted problematic elements in the GMM objective gradient. Number of reverted elements: 42 out of 42.\n",
      "Failed to invert an estimated covariance matrix of GMM moments. One or more data matrices may be highly collinear. Condition number: NAN. The inverse was replaced with null values.\n",
      "Failed to compute a weighting matrix because of invalid estimated covariances of GMM moments.\n",
      "Failed to invert an estimated covariance matrix of GMM parameters. One or more data matrices may be highly collinear. Condition number: NAN. The inverse was replaced with null values.\n",
      "Failed to compute standard errors because of invalid estimated covariances of GMM parameters.\n",
      "\n",
      "Computed results after 00:01:48.\n",
      "\n",
      "Problem Results Summary:\n",
      "=============================================================================================\n",
      "GMM     Objective      Gradient         Hessian         Hessian     Clipped  Weighting Matrix\n",
      "Step      Value          Norm       Min Eigenvalue  Max Eigenvalue  Shares   Condition Number\n",
      "----  -------------  -------------  --------------  --------------  -------  ----------------\n",
      " 2    +1.000000E+10  +0.000000E+00  +0.000000E+00   +0.000000E+00     442          NAN       \n",
      "=============================================================================================\n",
      "\n",
      "Cumulative Statistics:\n",
      "===========================================================================\n",
      "Computation  Optimizer  Optimization   Objective   Fixed Point  Contraction\n",
      "   Time      Converged   Iterations   Evaluations  Iterations   Evaluations\n",
      "-----------  ---------  ------------  -----------  -----------  -----------\n",
      " 00:03:24       Yes          0             5          2146         6734    \n",
      "===========================================================================\n",
      "\n",
      "Nonlinear Coefficient Estimates (Robust SEs in Parentheses):\n",
      "=======================================================================================================================================================================================================================================================================================================================================================================================================\n",
      "Sigma:         1             prices       |   Pi:           1               a1               a2               a3               a4               a5               a6               a7               a8               a9               a10              a11              a12              a13              a14              a15              a16              a17              a18              a19      \n",
      "------  ---------------  ---------------  |  ------  ---------------  ---------------  ---------------  ---------------  ---------------  ---------------  ---------------  ---------------  ---------------  ---------------  ---------------  ---------------  ---------------  ---------------  ---------------  ---------------  ---------------  ---------------  ---------------  ---------------\n",
      "  1      +1.000000E+00                    |    1      +1.000000E+00    +1.000000E+00    +1.000000E+00    +1.000000E+00    +1.000000E+00    +1.000000E+00    +1.000000E+00    +1.000000E+00    +1.000000E+00    +1.000000E+00    +1.000000E+00    +1.000000E+00    +1.000000E+00    +1.000000E+00    +1.000000E+00    +1.000000E+00    +1.000000E+00    +1.000000E+00    +1.000000E+00    +1.000000E+00 \n",
      "             (NAN)                        |               (NAN)            (NAN)            (NAN)            (NAN)            (NAN)            (NAN)            (NAN)            (NAN)            (NAN)            (NAN)            (NAN)            (NAN)            (NAN)            (NAN)            (NAN)            (NAN)            (NAN)            (NAN)            (NAN)            (NAN)     \n",
      "                                          |                                                                                                                                                                                                                                                                                                                                                            \n",
      "prices   +0.000000E+00    +1.000000E+00   |  prices   +1.000000E+00    +1.000000E+00    +1.000000E+00    +1.000000E+00    +1.000000E+00    +1.000000E+00    +1.000000E+00    +1.000000E+00    +1.000000E+00    +1.000000E+00    +1.000000E+00    +1.000000E+00    +1.000000E+00    +1.000000E+00    +1.000000E+00    +1.000000E+00    +1.000000E+00    +1.000000E+00    +1.000000E+00    +1.000000E+00 \n",
      "                              (NAN)       |               (NAN)            (NAN)            (NAN)            (NAN)            (NAN)            (NAN)            (NAN)            (NAN)            (NAN)            (NAN)            (NAN)            (NAN)            (NAN)            (NAN)            (NAN)            (NAN)            (NAN)            (NAN)            (NAN)            (NAN)     \n",
      "=======================================================================================================================================================================================================================================================================================================================================================================================================\n",
      "\n",
      "Beta Estimates (Robust SEs in Parentheses):\n",
      "==================================================================================================================================================================================================================================================================================================================================================================================================================================================================================================================================================================================================================================================================================================================================================================================================================================================================================================================================================================\n",
      "       1               x1               x2               x3         x4['delantero - delantera']  x4['delantero - integral']  x4['delantero - trasera']  x5['climatizador']  x5['climatizador bizona']  x5['climatizador bizona, climatizador trizona']  x5['climatizador trizona']   x5['manual']      x6['cuero']    x6['gamuza y cuero']  x6['sÃ\\x83Â\\xadmil cuero']  x6['sÃ\\x83Â\\xadmil cuero y tela']    x6['tela']     x7['centralizado']  x7['centralizado con comando a distancia']   x7['manual']    x8['elÃ\\x83Â©ctricos - elÃ\\x83Â©ctricos']  x8['elÃ\\x83Â©ctricos - manuales']  x8['elÃ\\x83Â©ctricos - no tiene']  x8['manuales - manuales']  x9['delanteros']  x9['delanteros y traseros']  x9['no tiene']   x9['traseros']   x10['elÃ\\x83Â©ctrica']  x10['elÃ\\x83Â©ctrica, hidrÃ\\x83Â¡ulica progresiva']  x10['hidrÃ\\x83Â¡ulica']   x11['acero']    x11['acero con tapas']  x11['aleaciÃ\\x83Â³n']  x12['CAMIONETA']    x12['SUV']         prices     \n",
      "---------------  ---------------  ---------------  ---------------  ---------------------------  --------------------------  -------------------------  ------------------  -------------------------  -----------------------------------------------  --------------------------  ---------------  ---------------  --------------------  --------------------------  ---------------------------------  ---------------  ------------------  ------------------------------------------  ---------------  -----------------------------------------  ---------------------------------  ---------------------------------  -------------------------  ----------------  ---------------------------  ---------------  ---------------  ----------------------  ---------------------------------------------------  -----------------------  ---------------  ----------------------  ---------------------  ----------------  ---------------  ---------------\n",
      "      NAN              NAN              NAN              NAN                    NAN                         NAN                         NAN                    NAN                     NAN                                   NAN                                   NAN                    NAN              NAN                NAN                      NAN                             NAN                       NAN               NAN                             NAN                            NAN                           NAN                                    NAN                                NAN                            NAN                   NAN                     NAN                    NAN              NAN                 NAN                                    NAN                                    NAN                  NAN                 NAN                     NAN                 NAN               NAN              NAN      \n",
      "     (NAN)            (NAN)            (NAN)            (NAN)                  (NAN)                       (NAN)                       (NAN)                  (NAN)                   (NAN)                                 (NAN)                                 (NAN)                  (NAN)            (NAN)              (NAN)                    (NAN)                           (NAN)                     (NAN)             (NAN)                           (NAN)                          (NAN)                         (NAN)                                  (NAN)                              (NAN)                          (NAN)                 (NAN)                   (NAN)                  (NAN)            (NAN)               (NAN)                                  (NAN)                                  (NAN)                (NAN)               (NAN)                   (NAN)               (NAN)             (NAN)            (NAN)     \n",
      "==================================================================================================================================================================================================================================================================================================================================================================================================================================================================================================================================================================================================================================================================================================================================================================================================================================================================================================================================================================\n",
      "\n",
      "Estimated Micro Moments:\n",
      "========================================================================================================================\n",
      "  Observed       Estimated     Difference        Moment               Part             Dataset     Observations  Markets\n",
      "-------------  -------------  -------------  ---------------  ---------------------  ------------  ------------  -------\n",
      "+7.830000E-01       NAN            NAN       E[age_i | mi_j]  E[{x12 =1}  * {a1=1}]  transactions      3885        All  \n",
      "                                                                     {a1=1}]         transactions      3885        All  \n",
      "========================================================================================================================\n"
     ]
    },
    {
     "name": "stderr",
     "output_type": "stream",
     "text": [
      "compute_value of micro moment 'E[age_i | mi_j]: +7.830000E-01 (E[{x12 =1}  * {a1=1}] on transactions: 3885 Observations in All Markets; {a1=1}] on transactions: 3885 Observations in All Markets)' returned NAN.\n",
      "compute_gradient of micro moment 'E[age_i | mi_j]: +7.830000E-01 (E[{x12 =1}  * {a1=1}] on transactions: 3885 Observations in All Markets; {a1=1}] on transactions: 3885 Observations in All Markets)' returned +INF for part 'E[{x12 =1}  * {a1=1}] on transactions: 3885 Observations in All Markets'.\n",
      "compute_gradient of micro moment 'E[age_i | mi_j]: +7.830000E-01 (E[{x12 =1}  * {a1=1}] on transactions: 3885 Observations in All Markets; {a1=1}] on transactions: 3885 Observations in All Markets)' returned NAN for part '{a1=1}] on transactions: 3885 Observations in All Markets'.\n",
      "Failed to compute the condition number of the estimated covariance matrix of aggregate GMM moments while checking for singularity. To disable singularity checks, set options.singular_tol = numpy.inf.\n",
      "Failed to compute the condition number of the estimated covariance matrix of aggregate GMM moments while checking for singularity. To disable singularity checks, set options.singular_tol = numpy.inf.\n"
     ]
    },
    {
     "data": {
      "text/plain": [
       "Problem Results Summary:\n",
       "=============================================================================================\n",
       "GMM     Objective      Gradient         Hessian         Hessian     Clipped  Weighting Matrix\n",
       "Step      Value          Norm       Min Eigenvalue  Max Eigenvalue  Shares   Condition Number\n",
       "----  -------------  -------------  --------------  --------------  -------  ----------------\n",
       " 2    +1.000000E+10  +0.000000E+00  +0.000000E+00   +0.000000E+00     442          NAN       \n",
       "=============================================================================================\n",
       "\n",
       "Cumulative Statistics:\n",
       "===========================================================================\n",
       "Computation  Optimizer  Optimization   Objective   Fixed Point  Contraction\n",
       "   Time      Converged   Iterations   Evaluations  Iterations   Evaluations\n",
       "-----------  ---------  ------------  -----------  -----------  -----------\n",
       " 00:03:24       Yes          0             5          2146         6734    \n",
       "===========================================================================\n",
       "\n",
       "Nonlinear Coefficient Estimates (Robust SEs in Parentheses):\n",
       "=======================================================================================================================================================================================================================================================================================================================================================================================================\n",
       "Sigma:         1             prices       |   Pi:           1               a1               a2               a3               a4               a5               a6               a7               a8               a9               a10              a11              a12              a13              a14              a15              a16              a17              a18              a19      \n",
       "------  ---------------  ---------------  |  ------  ---------------  ---------------  ---------------  ---------------  ---------------  ---------------  ---------------  ---------------  ---------------  ---------------  ---------------  ---------------  ---------------  ---------------  ---------------  ---------------  ---------------  ---------------  ---------------  ---------------\n",
       "  1      +1.000000E+00                    |    1      +1.000000E+00    +1.000000E+00    +1.000000E+00    +1.000000E+00    +1.000000E+00    +1.000000E+00    +1.000000E+00    +1.000000E+00    +1.000000E+00    +1.000000E+00    +1.000000E+00    +1.000000E+00    +1.000000E+00    +1.000000E+00    +1.000000E+00    +1.000000E+00    +1.000000E+00    +1.000000E+00    +1.000000E+00    +1.000000E+00 \n",
       "             (NAN)                        |               (NAN)            (NAN)            (NAN)            (NAN)            (NAN)            (NAN)            (NAN)            (NAN)            (NAN)            (NAN)            (NAN)            (NAN)            (NAN)            (NAN)            (NAN)            (NAN)            (NAN)            (NAN)            (NAN)            (NAN)     \n",
       "                                          |                                                                                                                                                                                                                                                                                                                                                            \n",
       "prices   +0.000000E+00    +1.000000E+00   |  prices   +1.000000E+00    +1.000000E+00    +1.000000E+00    +1.000000E+00    +1.000000E+00    +1.000000E+00    +1.000000E+00    +1.000000E+00    +1.000000E+00    +1.000000E+00    +1.000000E+00    +1.000000E+00    +1.000000E+00    +1.000000E+00    +1.000000E+00    +1.000000E+00    +1.000000E+00    +1.000000E+00    +1.000000E+00    +1.000000E+00 \n",
       "                              (NAN)       |               (NAN)            (NAN)            (NAN)            (NAN)            (NAN)            (NAN)            (NAN)            (NAN)            (NAN)            (NAN)            (NAN)            (NAN)            (NAN)            (NAN)            (NAN)            (NAN)            (NAN)            (NAN)            (NAN)            (NAN)     \n",
       "=======================================================================================================================================================================================================================================================================================================================================================================================================\n",
       "\n",
       "Beta Estimates (Robust SEs in Parentheses):\n",
       "==================================================================================================================================================================================================================================================================================================================================================================================================================================================================================================================================================================================================================================================================================================================================================================================================================================================================================================================================================================\n",
       "       1               x1               x2               x3         x4['delantero - delantera']  x4['delantero - integral']  x4['delantero - trasera']  x5['climatizador']  x5['climatizador bizona']  x5['climatizador bizona, climatizador trizona']  x5['climatizador trizona']   x5['manual']      x6['cuero']    x6['gamuza y cuero']  x6['sÃ\\x83Â\\xadmil cuero']  x6['sÃ\\x83Â\\xadmil cuero y tela']    x6['tela']     x7['centralizado']  x7['centralizado con comando a distancia']   x7['manual']    x8['elÃ\\x83Â©ctricos - elÃ\\x83Â©ctricos']  x8['elÃ\\x83Â©ctricos - manuales']  x8['elÃ\\x83Â©ctricos - no tiene']  x8['manuales - manuales']  x9['delanteros']  x9['delanteros y traseros']  x9['no tiene']   x9['traseros']   x10['elÃ\\x83Â©ctrica']  x10['elÃ\\x83Â©ctrica, hidrÃ\\x83Â¡ulica progresiva']  x10['hidrÃ\\x83Â¡ulica']   x11['acero']    x11['acero con tapas']  x11['aleaciÃ\\x83Â³n']  x12['CAMIONETA']    x12['SUV']         prices     \n",
       "---------------  ---------------  ---------------  ---------------  ---------------------------  --------------------------  -------------------------  ------------------  -------------------------  -----------------------------------------------  --------------------------  ---------------  ---------------  --------------------  --------------------------  ---------------------------------  ---------------  ------------------  ------------------------------------------  ---------------  -----------------------------------------  ---------------------------------  ---------------------------------  -------------------------  ----------------  ---------------------------  ---------------  ---------------  ----------------------  ---------------------------------------------------  -----------------------  ---------------  ----------------------  ---------------------  ----------------  ---------------  ---------------\n",
       "      NAN              NAN              NAN              NAN                    NAN                         NAN                         NAN                    NAN                     NAN                                   NAN                                   NAN                    NAN              NAN                NAN                      NAN                             NAN                       NAN               NAN                             NAN                            NAN                           NAN                                    NAN                                NAN                            NAN                   NAN                     NAN                    NAN              NAN                 NAN                                    NAN                                    NAN                  NAN                 NAN                     NAN                 NAN               NAN              NAN      \n",
       "     (NAN)            (NAN)            (NAN)            (NAN)                  (NAN)                       (NAN)                       (NAN)                  (NAN)                   (NAN)                                 (NAN)                                 (NAN)                  (NAN)            (NAN)              (NAN)                    (NAN)                           (NAN)                     (NAN)             (NAN)                           (NAN)                          (NAN)                         (NAN)                                  (NAN)                              (NAN)                          (NAN)                 (NAN)                   (NAN)                  (NAN)            (NAN)               (NAN)                                  (NAN)                                  (NAN)                (NAN)               (NAN)                   (NAN)               (NAN)             (NAN)            (NAN)     \n",
       "==================================================================================================================================================================================================================================================================================================================================================================================================================================================================================================================================================================================================================================================================================================================================================================================================================================================================================================================================================================\n",
       "\n",
       "Estimated Micro Moments:\n",
       "========================================================================================================================\n",
       "  Observed       Estimated     Difference        Moment               Part             Dataset     Observations  Markets\n",
       "-------------  -------------  -------------  ---------------  ---------------------  ------------  ------------  -------\n",
       "+7.830000E-01       NAN            NAN       E[age_i | mi_j]  E[{x12 =1}  * {a1=1}]  transactions      3885        All  \n",
       "                                                                     {a1=1}]         transactions      3885        All  \n",
       "========================================================================================================================"
      ]
     },
     "execution_count": 674,
     "metadata": {},
     "output_type": "execute_result"
    }
   ],
   "source": [
    "results = problem.solve(\n",
    "    sigma=initial_sigma,\n",
    "    pi=initial_pi,\n",
    "    optimization=pyblp.Optimization('bfgs', {'gtol': 1e-4}),\n",
    "    iteration=pyblp.Iteration('squarem', {'atol': 1e-13}),\n",
    "    #se_type='clustered',\n",
    "    #W_type='clustered',\n",
    "    micro_moments=micro_moments,\n",
    ")\n",
    "results"
   ]
  },
  {
   "cell_type": "code",
   "execution_count": 632,
   "metadata": {},
   "outputs": [
    {
     "name": "stderr",
     "output_type": "stream",
     "text": [
      "PandasGUI INFO — pandasgui.gui — Opening PandasGUI\n",
      "PandasGUI WARNING — pandasgui.gui — PandasGUI Unsupported type: <class 'pyblp.micro.MicroDataset'>\n"
     ]
    },
    {
     "data": {
      "text/plain": [
       "<pandasgui.gui.PandasGui at 0x14fbc1b37f0>"
      ]
     },
     "execution_count": 632,
     "metadata": {},
     "output_type": "execute_result"
    }
   ],
   "source": [
    "show(micro_dataset)"
   ]
  },
  {
   "cell_type": "code",
   "execution_count": 666,
   "metadata": {},
   "outputs": [
    {
     "name": "stderr",
     "output_type": "stream",
     "text": [
      "PandasGUI INFO — pandasgui.gui — Opening PandasGUI\n"
     ]
    },
    {
     "data": {
      "text/plain": [
       "<pandasgui.gui.PandasGui at 0x15098bbe320>"
      ]
     },
     "execution_count": 666,
     "metadata": {},
     "output_type": "execute_result"
    }
   ],
   "source": [
    "show(product_data)"
   ]
  },
  {
   "cell_type": "code",
   "execution_count": 634,
   "metadata": {},
   "outputs": [
    {
     "name": "stderr",
     "output_type": "stream",
     "text": [
      "PandasGUI INFO — pandasgui.gui — Opening PandasGUI\n"
     ]
    },
    {
     "data": {
      "text/plain": [
       "<pandasgui.gui.PandasGui at 0x15093c95990>"
      ]
     },
     "execution_count": 634,
     "metadata": {},
     "output_type": "execute_result"
    }
   ],
   "source": [
    "show(micro_statistics)"
   ]
  },
  {
   "cell_type": "markdown",
   "metadata": {},
   "source": [
    "# display"
   ]
  },
  {
   "cell_type": "code",
   "execution_count": null,
   "metadata": {},
   "outputs": [],
   "source": [
    "print(car_df.columns)\n",
    "show(car_df2)"
   ]
  },
  {
   "cell_type": "code",
   "execution_count": 575,
   "metadata": {},
   "outputs": [
    {
     "name": "stderr",
     "output_type": "stream",
     "text": [
      "PandasGUI INFO — pandasgui.gui — Opening PandasGUI\n"
     ]
    },
    {
     "data": {
      "text/plain": [
       "<pandasgui.gui.PandasGui at 0x150410476d0>"
      ]
     },
     "execution_count": 575,
     "metadata": {},
     "output_type": "execute_result"
    }
   ],
   "source": [
    "show(micro_statistics)"
   ]
  },
  {
   "cell_type": "code",
   "execution_count": null,
   "metadata": {},
   "outputs": [],
   "source": [
    "show(car_df[['Rut Unidad de Compra','market_ids', 'product_ids', 'k'] ])"
   ]
  }
 ],
 "metadata": {
  "kernelspec": {
   "display_name": "Python 3",
   "language": "python",
   "name": "python3"
  },
  "language_info": {
   "codemirror_mode": {
    "name": "ipython",
    "version": 3
   },
   "file_extension": ".py",
   "mimetype": "text/x-python",
   "name": "python",
   "nbconvert_exporter": "python",
   "pygments_lexer": "ipython3",
   "version": "3.11.9"
  }
 },
 "nbformat": 4,
 "nbformat_minor": 2
}
